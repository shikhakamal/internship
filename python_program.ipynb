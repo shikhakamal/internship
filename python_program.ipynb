{
 "cells": [
  {
   "cell_type": "markdown",
   "id": "39901ed0",
   "metadata": {},
   "source": [
    "# 11. Write a python program to find the factorial of a number.\n"
   ]
  },
  {
   "cell_type": "markdown",
   "id": "b28cd6f2",
   "metadata": {},
   "source": [
    "factorial of 0 is always 1\n",
    "\n",
    "There is no factorial for negative numbers"
   ]
  },
  {
   "cell_type": "code",
   "execution_count": 6,
   "id": "afcde6b7",
   "metadata": {},
   "outputs": [
    {
     "name": "stdout",
     "output_type": "stream",
     "text": [
      "Enter a number 5\n",
      "factorial of  5 is  120\n"
     ]
    }
   ],
   "source": [
    "n=int(input(\"Enter a number \"))\n",
    "fact=1\n",
    "\n",
    "if n<0:\n",
    "    print(\"factorial of negative does not exist\")\n",
    "    \n",
    "elif n==0:\n",
    "    print(\"factorial of 0 is always 1\")\n",
    "    \n",
    "else:\n",
    "    for i in range(1,n+1):\n",
    "        fact=fact*i\n",
    "    print(\"factorial of \", n, \"is \",fact)    "
   ]
  },
  {
   "cell_type": "markdown",
   "id": "9cbc6f5b",
   "metadata": {},
   "source": [
    "# 12. Write a python program to find whether a number is prime or composite."
   ]
  },
  {
   "cell_type": "code",
   "execution_count": 15,
   "id": "74ec3e41",
   "metadata": {},
   "outputs": [
    {
     "name": "stdout",
     "output_type": "stream",
     "text": [
      "Enter a number4\n",
      "number is composite\n"
     ]
    }
   ],
   "source": [
    "n=int(input(\"Enter a number\"))\n",
    "\n",
    "if (n==0 or n==1):\n",
    "    print(\"number is neither prime nor composite\")\n",
    "    \n",
    "elif n>1:\n",
    "    for i in range(2,n):\n",
    "        if(n%i==0):\n",
    "            print(\"number is composite\")\n",
    "            break\n",
    "    else:\n",
    "        print(\"number is prime\")\n",
    "            \n",
    "else:\n",
    "    print(\"please try to enter positive number\")"
   ]
  },
  {
   "cell_type": "markdown",
   "id": "6d6d0ffa",
   "metadata": {},
   "source": [
    "# 13. Write a python program to check whether a given string is palindrome or not."
   ]
  },
  {
   "cell_type": "markdown",
   "id": "fc5c2133",
   "metadata": {},
   "source": [
    "palindrome is the same number/word if we try to read in reverse order then it gives the same number/word"
   ]
  },
  {
   "cell_type": "code",
   "execution_count": 21,
   "id": "841815e7",
   "metadata": {},
   "outputs": [
    {
     "name": "stdout",
     "output_type": "stream",
     "text": [
      "Enter any string liril\n",
      "string is palindrome\n"
     ]
    }
   ],
   "source": [
    "string=input(\"Enter any string \")\n",
    "\n",
    "if(string==string[: :-1]):\n",
    "    print(\"string is palindrome\")\n",
    "    \n",
    "else:\n",
    "    print(\"string is not palindrome\")"
   ]
  },
  {
   "cell_type": "markdown",
   "id": "ff877413",
   "metadata": {},
   "source": [
    "# 14. Write a Python program to get the third side of right-angled triangle from two given sides.\n"
   ]
  },
  {
   "cell_type": "code",
   "execution_count": 25,
   "id": "add746f0",
   "metadata": {},
   "outputs": [
    {
     "name": "stdout",
     "output_type": "stream",
     "text": [
      "enter side 1 of a right angled traingle: 3\n",
      "enter side 2 of a right angled triangle: 4\n",
      "the length of hypotaneous is:  5.0\n"
     ]
    }
   ],
   "source": [
    "from math import sqrt\n",
    "a=float(input(\"enter side 1 of a right angled traingle: \"))\n",
    "b=float(input(\"enter side 2 of a right angled triangle: \"))\n",
    "c=sqrt(a**2 + b**2)\n",
    "print(\"the length of hypotaneous is: \", c)"
   ]
  },
  {
   "cell_type": "markdown",
   "id": "4041b41c",
   "metadata": {},
   "source": [
    "# 15. Write a python program to print the frequency of each of the characters present in a given string."
   ]
  },
  {
   "cell_type": "code",
   "execution_count": 24,
   "id": "9054777f",
   "metadata": {},
   "outputs": [
    {
     "name": "stdout",
     "output_type": "stream",
     "text": [
      "enter any string caterpillar\n",
      "frquency of each letter in string  caterpillar is \n",
      " {'c': 1, 'a': 2, 't': 1, 'e': 1, 'r': 2, 'p': 1, 'i': 1, 'l': 2}\n"
     ]
    }
   ],
   "source": [
    "string=input(\"enter any string \")\n",
    "freq=dict()\n",
    "\n",
    "for i in string:\n",
    "    if i in freq:\n",
    "        freq[i]=freq[i]+1\n",
    "        \n",
    "    else:\n",
    "        freq[i]=1\n",
    "        \n",
    "print(\"frquency of each letter in string \", string, \"is \\n\", freq)        "
   ]
  },
  {
   "cell_type": "code",
   "execution_count": null,
   "id": "b471d97c",
   "metadata": {},
   "outputs": [],
   "source": []
  }
 ],
 "metadata": {
  "kernelspec": {
   "display_name": "Python 3 (ipykernel)",
   "language": "python",
   "name": "python3"
  },
  "language_info": {
   "codemirror_mode": {
    "name": "ipython",
    "version": 3
   },
   "file_extension": ".py",
   "mimetype": "text/x-python",
   "name": "python",
   "nbconvert_exporter": "python",
   "pygments_lexer": "ipython3",
   "version": "3.9.7"
  }
 },
 "nbformat": 4,
 "nbformat_minor": 5
}
