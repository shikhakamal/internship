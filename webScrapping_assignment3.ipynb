{
 "cells": [
  {
   "cell_type": "code",
   "execution_count": 1,
   "id": "7c902775",
   "metadata": {},
   "outputs": [],
   "source": [
    "import selenium\n",
    "from selenium import webdriver\n",
    "from selenium.webdriver.common.by import By\n",
    "from selenium.common.exceptions import NoSuchElementException\n",
    "import time\n",
    "\n",
    "import pandas as pd\n",
    "\n",
    "import warnings\n",
    "warnings.filterwarnings('ignore')\n",
    "\n",
    "from selenium.webdriver.support.ui import WebDriverWait\n",
    "from selenium.webdriver.support import expected_conditions as EC\n"
   ]
  },
  {
   "cell_type": "code",
   "execution_count": 2,
   "id": "f62baded",
   "metadata": {},
   "outputs": [],
   "source": [
    "driver=webdriver.Chrome(r\"C:\\Users\\Hp\\Desktop\\data trained\\chromedriver_win32\\chromedriver.exe\")"
   ]
  },
  {
   "cell_type": "markdown",
   "id": "33aaa266",
   "metadata": {},
   "source": [
    "# 1. Write a python program which searches all the product under a particular product from www.amazon.in. The product to be searched will be taken as input from user. For e.g. If user input is ‘guitar’. Then search for guitars."
   ]
  },
  {
   "cell_type": "code",
   "execution_count": 3,
   "id": "01e311b6",
   "metadata": {},
   "outputs": [],
   "source": [
    "driver.get('https://www.amazon.in/')"
   ]
  },
  {
   "cell_type": "code",
   "execution_count": 4,
   "id": "db045dc4",
   "metadata": {},
   "outputs": [
    {
     "name": "stdout",
     "output_type": "stream",
     "text": [
      "Enter product name you want to search:\n",
      "Noneguitar\n"
     ]
    }
   ],
   "source": [
    "\n",
    "product=driver.find_element(By.XPATH,'//div[@class=\"nav-search-field \"]/input')\n",
    "prod_name=input(print(r\"Enter product name you want to search:\"))\n",
    "product.send_keys(prod_name)\n",
    "\n"
   ]
  },
  {
   "cell_type": "code",
   "execution_count": 5,
   "id": "fae50e7e",
   "metadata": {},
   "outputs": [],
   "source": [
    "try:\n",
    "    time.sleep(2)\n",
    "    search=driver.find_element(By.XPATH,'/html/body/div[1]/header/div/div[1]/div[2]/div/form/div[3]/div/span/input')\n",
    "    search.click()\n",
    "    c=driver.current_url\n",
    "    \n",
    "except:\n",
    "    print('Some Error or issue occur')\n",
    "    \n",
    "   "
   ]
  },
  {
   "cell_type": "markdown",
   "id": "78acadf1",
   "metadata": {},
   "source": [
    "# 2. In the above question, now scrape the following details of each product listed in first 3 pages of your search results and save it in a data frame and csv. In case if any product has less than 3 pages in search results then scrape all the products available under that product name. Details to be scraped are: \"Brand Name\", \"Name of the Product\", \"Price\", \"Return/Exchange\", \"Expected Delivery\", \"Availability\" and “Product URL”. In case, if any of the details are missing for any of the product then replace it by “-“."
   ]
  },
  {
   "cell_type": "code",
   "execution_count": 8,
   "id": "e194b61b",
   "metadata": {},
   "outputs": [
    {
     "name": "stdout",
     "output_type": "stream",
     "text": [
      "['Kadence Frontier Series, Acoustic Guitar With/Wihtout EQ Die Cast Keys Combo (Bag,strap,strings and 3 picks) (Blue, Acoustic)', 'Kadence Slowhand Premium Jumbo Semi Acoustic Guitar with Heavy Padded Bag, guitar cable, Pro Capo (Black Spruce Wood)', 'Vault EA40 41 inch Premium Solid Spruce-Top Cutaway Acoustic Guitar', 'Kadence Guitar Acoustica Series, 41” Jumbo Size 6-strings Acoustic Guitar, Spruce body with Pick Guard A311 with bag', 'Juârez Acoustic Guitar, 38 Inch Cutaway, 038C with Bag, Strings, Pick and Strap, Black', 'Belear I-280 38 Inch Blue Spruce Cutaway Acoustic Guitar with Dual Action Truss Rod', 'Intern INT-38C Acoustic Guitar Kit, With Bag, Strings, Pick And Strap, Black', 'Kadence Frontier Series, Acoustic Guitar With/Wihtout EQ Die Cast Keys Combo (Bag,strap,strings and 3 picks) (Blue, Acoustic)', 'Kadence Slowhand Premium Jumbo Semi Acoustic Guitar with Heavy Padded Bag, guitar cable, Pro Capo (Black Spruce Wood)', 'yamaha acoustic guitar F310, 6-Strings Acoustic Guitar, Natural with Sponge Bag, Belt, Plectrums, Combo Pack', '', '', 'Intern 38C Ebony Wood Cutaway Design Acoustic Guitar with Picks And Carry Bag (Black)', 'Juarez Acoustic Guitar, 38 Inch Curved Body Cutaway, 38CUR with Bag, Strings, Pick and Strap, Black', 'Intern INT-38C Acoustic Guitar Kit, With Bag, Strings, Pick And Strap, Blue', 'Medellin 38\" Acoustic Guitar Blue Burst Carbon Fiber body+(Free Online Learning Course) - Durable Matt finish with handrest, strings, strap, bag, 3 Picks, capo, stand.', 'Intern Int-38c Sunburst Linden Wood Acoustic Guitar Kit with Carry Bag and Picks', 'Hovner 215 Black F-Cut Rosewood Fretboard Acoustic Guitar With Bag,Strap,1 Set of Extra Strings and 2 Picks By K-Retail', 'Medellin 38\" Acoustic Guitar Black Carbon Fiber body+(Free Online Learning Course) - Durable Matt finish with handrest, strings, strap, bag, 3 Picks, capo, stand. (Black)', 'Juarez JRZ-ST01 6-String Electric Guitar, Right Handed, Full Black, with Case/Bag and Picks', 'Intern INT-38C Acoustic Guitar Kit (Sunburst) with Carry bag, Picks, Strings set and Guitar Strap, Small', 'Juarez Acoustic Guitar Kit, 38 Inch Cutaway, 38C with Bag, Strings, Pick and Strap, TBS Transparent Blue Sunburst', 'JUAREZ JRZ38C Right Handed Acoustic Guitar with Bag, Strings, Pick and Strap (Natural, 6 Strings)', 'YAMAHA Meranti Wood Classical Guitar C40//02', 'Intern 38C Wooden Acoustic Steel-String Guitar Premium White Cutaway Design With Carry Bag, Strings, Guitar Strap And Plectrums (Int-38C-Wh)', 'AK Empire Kids Set Wooden 4-String Acoustic Guitar Toy Musical Instrument Guitar Toy for Beginners (Brown_18)', \"LUCHILA 4 String Decor Guitar Children's Musical Instrument Educational Toy Small Guitar for Beginners Kids Child\", \"Toy House™ Classical Guitar Children's Musical Instrument Educational Toy Guitar for Beginners Kids Childs (Color May Vary)\", 'GUITAR BRO - COMBO (Black Acoustic Guitar for Beginner, Guitar Learning Kit, Song Book, Video Lectures, Accessories like Pick, Bag)', 'Juarez Acoustic Guitar Kit, 38 Inch Cutaway, 38C with Bag, Strings, Pick and Strap, 3TS Sunburst', 'Medellin 38\" Acoustic Guitar Carbon Fiber body+(Free Online Learning Course) - Durable Matt finish with handrest, strings, strap, bag, 3 Picks, capo, stand.', 'Yamaha FS100C Acoustic Guitar, Black', 'YAMAHA FS80C NATURAL CONCERT CUTAWAY GUITAR', 'Photron Full Wood Acoustic Guitar, 38 inches Cutaway, PH38C/BK with Picks Only, Black (Without Bag, Strap and Extra Strings)', 'Revel 38 Inches Cutaway Design Acoustic Guitar with Carry bag and Plectrums. Great tone and Beginner/Learners standard size configuration for all age groups (Black)', 'JUAREZ JRZ38CTR/BK 38 Inch Acoustic Guitar with Dual Action Truss Rod, Bag, Picks, Allen Key, Extra String Set, Black', 'Juarez Acoustic Guitar, 38 Inch Cutaway with Pick Guard, 38CPG with Bag, Strings, Pick and Strap, Black', 'Juarez Acoustic Guitar, [ LEFT HANDED] 38 Inch Cutaway, 38CL/BK with Bag, Strings, Pick and Strap, Black', 'INTERN 40 inches Acoustic Guitar with Pick-up & truss rod, carry bag, strings pack, strap & picks. Premium Wooden durable built, tonal stability with professional sound amplificaiton. (Black).', 'JUAREZ Arpéggio 104.14 cm (41 Inch) Semi-Acoustic Guitar Kit, Thin Line Body, Spruce Top, with 4 Band EQ, Natural', 'Kadence Astro Man Electric Guitar', 'Yamaha Acoustic Guitar F280 Dreadnought With Mexa Sponge Bag Belt,Plectrums, String Set & Guitar Stand (Natural)', 'Revel 38 Inches Cutaway Design Acoustic Guitar with Carry bag and Plectrums. Great tone and Beginner/Learners standard size configuration for all age groups (White)', 'Medellin 38\" Acoustic Guitar Brown Carbon Fiber Body with FREE Online LEARNING COURSE Durable Matt finish Body for beginners with handrest, set of Strings, Strap, Bag, 3 Picks, Capo, Guitar Wall Hanging Stand and Free GUITAR LEARNING COURSE (Special Learning Combo with Guitar)', 'Belear I-280 38 Inch Blue Spruce Cutaway Acoustic Guitar with Dual Action Truss Rod, Bag, and Picks', 'JUAREZ Acoustic Guitar 3xE 1st String & 2 Pick Set JRGSE32', 'Revel 38 Inches Cutaway Design Acoustic Guitar with Carry bag and Plectrums. Great tone and Beginner/Learners standard size configuration for all age groups (Natural)', 'Yamaha FSX80C Semi Acoustic Cutaway Guitar with Bag (Black)', 'Kordz Luana Natural Wooden 41 Inch Rosewood Fretboard Acoustic Guitar With Bag,Strap,1 Set of Extra Strings and 2 Picks', 'Yamaha F280 Acoustic Guitar, Tobacco Brown Sunburst', 'Ibanez GSA60 Electric Guitar - Black', 'Kadence AstroMan Electric Guitar, 21 FRETS, ROSEWOOD FRETBOARD, H - S - S PICK UPS Sunburst combo with Bag, Guitar strap,guitar cable and Picks', 'Kadence Frontier guitar with Online Guitar learning course, Wine Red Acoustic Guitar with Die Cast Keys, Set of Strings, Strap, Picks and Bag (Wine Red, Acoustic)', 'YAMAHA PACIFICA012 Electric Guitar, Red Metallic', 'INTERN 41 inches Cutaway Shape Acoustic Guitar with truss rod. Includes plectrums. Premium Wooden durable built, Best tonal stability and bend resistance (Electric Blue).', 'Yamaha F310 Acoustic Guitar, Tobacco Brown Sunburst', 'Medellin 38\" Carbon Fiber Acoustic Guitar with free specailized learning course- MDCF38BK Durable Carbon Fiber Matt Pink finish Body for beginners with handrest, set of Strings, Strap, Bag, 3 Picks, Capo, Guitar Wall Hanging Stand and Free GUITAR LEARNING COURSE (Special Learning Combo with Guitar)', 'Juarez Acoustic Guitar, [LEFT HANDED] 96.52 cm (38 Inch) Cutaway, 38CL/3TS with Bag, Strings, Pick and Strap, 3TS Sunburst', 'Givson Venus Special Cutaway Rosewood 41 Inch Acoustic Guitar Kit With Cover/Bag, String Set, Strap and 5 Plectrums (BLACK)', 'Yamaha FX280 Semi acoustic Dreadnought Guitar with Bag (Natural)', 'Henrix 38C 38 inch Cutaway Acoustic Guitar with Dual Action Truss Rod, Gigbag, Picks, String Set, Strap, Cloth & Ebook - Natural', 'yamaha acoustic guitar F310, 6-Strings Acoustic Guitar, Natural with Sponge Bag, Belt, Plectrums, Combo Pack', 'Cort AD810 Dreadnought Acoustic Guitar with Gig Bag,Tuner,Picks and Strap (Natural Bundle)', 'DEVICE OF URBAN INFOTECH 360 degree Rotational Electronic Highly Accurate Clip-on Digital Tuner Easy to Use for Acoustic and Electric Guitar Bass Violin Ukulele with Picks(Design May Vary)', 'Pack of 2 Universal Guitar Stand by Hola! Music Fits Acoustic Classical Electric Bass Guitars Mandolins Banjos Ukuleles and Other Stringed Instruments']\n",
      "65\n"
     ]
    }
   ],
   "source": [
    "name=[]\n",
    "\n",
    "\n",
    "name_tags=driver.find_elements(By.XPATH,'//h2[@class=\"a-size-mini a-spacing-none a-color-base s-line-clamp-4\"]')\n",
    "for i in name_tags:\n",
    "    name.append(i.text)\n",
    "next_button=driver.find_element(By.XPATH,'/html/body/div[1]/div[2]/div[1]/div[1]/div/span[3]/div[2]/div[67]/div/div/span/a[3]')\n",
    "next_button.click()\n",
    "time.sleep(2)\n",
    "\n",
    "\n",
    "print(name)\n",
    "print(len(name))\n",
    "    "
   ]
  },
  {
   "cell_type": "code",
   "execution_count": 9,
   "id": "99b52e26",
   "metadata": {},
   "outputs": [
    {
     "name": "stdout",
     "output_type": "stream",
     "text": [
      "['4,999', '749', '6,499', '2,479', '9,990', '9,990', '2,090', '2,499', '2,639', '14,990', '2,350', '8,290', '2,635', '6,298', '5,499', '8,980', '3,415', '4,750', '8,630', '2,795', '3,999', '7,250', '3,233', '2,444', '2,399', '14,999', '5,999', '14,395', '12,499', '5,199', '2,639', '10,790', '9,499', '5,581', '12,489', '999', '2,210', '14,499', '9,190', '6,129', '12,580', '6,649', '899', '5,299', '3,590', '5,199', '2,635', '6,249', '6,935', '3,317']\n",
      "50\n"
     ]
    }
   ],
   "source": [
    "price=[]\n",
    "price_tags=driver.find_elements(By.XPATH,'//span[@class=\"a-price-whole\"]')\n",
    "for i in price_tags:\n",
    "    price.append(i.text)\n",
    "    \n",
    "print(price)\n",
    "print(len(price))"
   ]
  },
  {
   "cell_type": "code",
   "execution_count": 10,
   "id": "7f3928b6",
   "metadata": {},
   "outputs": [
    {
     "name": "stdout",
     "output_type": "stream",
     "text": [
      "['Saturday, September 3', 'Wednesday, September 7', 'Saturday, September 3', 'Wednesday, September 7', 'Tuesday, September 6', 'tomorrow, September 2', 'Tuesday, September 6', 'Tuesday, September 6', 'Tuesday, September 6', 'Sunday, September 11', 'Sunday, September 4', 'tomorrow, September 2', 'Sunday, September 4', 'tomorrow, September 2', 'Tuesday, September 6', 'Saturday, September 3', 'Tuesday, September 6', 'Monday, September 5', 'Monday, September 5', 'tomorrow, September 2', 'Sunday, September 4', 'Tuesday, September 6', 'Tuesday, September 13', 'tomorrow, September 2', 'tomorrow, September 2', 'Saturday, September 3', 'Tuesday, September 6', 'Sunday, September 4', 'Sunday, September 4', 'Tuesday, September 6', 'Tuesday, September 6', 'Tuesday, September 6', 'Tuesday, September 6', 'Tuesday, September 6', 'tomorrow, September 2', 'Tuesday, September 6', 'Tuesday, September 6', 'Tuesday, September 6', 'Tuesday, September 6', 'tomorrow, September 2', 'Tuesday, September 6', 'Tuesday, September 6', 'tomorrow, September 2', 'Monday, September 5', 'Saturday, September 3', 'Monday, September 5', 'Monday, September 5', 'Tuesday, September 6', 'Monday, September 5', 'Saturday, September 3', 'tomorrow, September 2']\n",
      "51\n"
     ]
    }
   ],
   "source": [
    "delivery=[]\n",
    "delivery_tags=driver.find_elements(By.XPATH,'//span[@class=\"a-color-base a-text-bold\"]')\n",
    "for i in delivery_tags:\n",
    "    delivery.append(i.text)\n",
    "    \n",
    "print(delivery)\n",
    "print(len(delivery))"
   ]
  },
  {
   "cell_type": "code",
   "execution_count": 11,
   "id": "645afd9b",
   "metadata": {},
   "outputs": [
    {
     "name": "stdout",
     "output_type": "stream",
     "text": [
      "['Only 2 left in stock.', 'Only 1 left in stock.', 'Only 1 left in stock.', 'Only 1 left in stock.', 'Only 1 left in stock.']\n",
      "5\n"
     ]
    }
   ],
   "source": [
    "avail=[]\n",
    "avail_tags=driver.find_elements(By.XPATH,'//span[@class=\"a-size-base a-color-price\"]')\n",
    "for i in avail_tags:\n",
    "    avail.append(i.text)\n",
    "    \n",
    "print(avail)\n",
    "print(len(avail))"
   ]
  },
  {
   "cell_type": "code",
   "execution_count": 12,
   "id": "fbd86d33",
   "metadata": {},
   "outputs": [
    {
     "name": "stdout",
     "output_type": "stream",
     "text": [
      "['https://www.amazon.in/gp/slredirect/picassoRedirect.html/ref=pa_sp_atf_next_aps_sr_pg2_1?ie=UTF8&adId=A061107531TUGN5RHMV0N&url=%2FKadence-Frontier-Acoustic-Guitar-Strings%2Fdp%2FB01GDZ46AA%2Fref%3Dsr_1_49_sspa%3Fcrid%3D1WINN1RZ89M91%26keywords%3Dguitar%26qid%3D1662036958%26smid%3DAM04Z7MH4HSDD%26sprefix%3Dguitar%252Caps%252C666%26sr%3D8-49-spons%26psc%3D1%26smid%3DAM04Z7MH4HSDD&qualifier=1662036958&id=8865780729491728&widgetName=sp_atf_next', 'https://www.amazon.in/gp/slredirect/picassoRedirect.html/ref=pa_sp_atf_next_aps_sr_pg2_1?ie=UTF8&adId=A038210017OTPW0PUWE34&url=%2FAdjustable-Exerciser-Trainer-Training-Arthritis%2Fdp%2FB0B3DN8STX%2Fref%3Dsr_1_50_sspa%3Fcrid%3D1WINN1RZ89M91%26keywords%3Dguitar%26qid%3D1662036958%26sprefix%3Dguitar%252Caps%252C666%26sr%3D8-50-spons%26psc%3D1&qualifier=1662036958&id=8865780729491728&widgetName=sp_atf_next', 'https://www.amazon.in/gp/slredirect/picassoRedirect.html/ref=pa_sp_atf_next_aps_sr_pg2_1?ie=UTF8&adId=A08791823J4GRMJMKDFMU&url=%2FGUITAR-BRO-Acoustic-Beginner-Accessories%2Fdp%2FB07TC7TWCR%2Fref%3Dsr_1_51_sspa%3Fcrid%3D1WINN1RZ89M91%26keywords%3Dguitar%26qid%3D1662036958%26sprefix%3Dguitar%252Caps%252C666%26sr%3D8-51-spons%26psc%3D1&qualifier=1662036958&id=8865780729491728&widgetName=sp_atf_next', 'https://www.amazon.in/Juarez-Acoustic-Guitar-Cutaway-JRZ38CT/dp/B01N3TTYJQ/ref=sr_1_52?crid=1WINN1RZ89M91&keywords=guitar&qid=1662036958&sprefix=guitar%2Caps%2C666&sr=8-52', 'https://www.amazon.in/Yamaha-FS100C-Acoustic-Guitars-Natural/dp/B00QKD79QE/ref=sr_1_53?crid=1WINN1RZ89M91&keywords=guitar&qid=1662036958&sprefix=guitar%2Caps%2C666&sr=8-53', 'https://www.amazon.in/Yamaha-F310-Acoustic-Guitar-Natural/dp/B08Z3C1GRM/ref=sr_1_54?crid=1WINN1RZ89M91&keywords=guitar&qid=1662036958&sprefix=guitar%2Caps%2C666&sr=8-54', 'https://www.amazon.in/Intern-INT-38C-Brown-Acoustic-Guitar/dp/B07X2HV158/ref=sr_1_55?crid=1WINN1RZ89M91&keywords=guitar&qid=1662036958&sprefix=guitar%2Caps%2C666&sr=8-55', 'https://www.amazon.in/Medellin-carbn-fiber-guitar-38inch/dp/B09MSGVCDV/ref=sr_1_56?crid=1WINN1RZ89M91&keywords=guitar&qid=1662036958&sprefix=guitar%2Caps%2C666&sr=8-56', 'https://www.amazon.in/Intern-INT-38C-Acoustic-Guitar-Kit/dp/B073B6TF31/ref=sr_1_57?crid=1WINN1RZ89M91&keywords=guitar&qid=1662036958&sprefix=guitar%2Caps%2C666&sr=8-57', 'https://www.amazon.in/Yamaha-PACIFICA012-Electric-Guitar-Metallic/dp/B00REF6CII/ref=sr_1_58?crid=1WINN1RZ89M91&keywords=guitar&qid=1662036958&sprefix=guitar%2Caps%2C666&sr=8-58', 'https://www.amazon.in/Intern-INT-38C-BK-G-Guitar-Kit-Black/dp/B07K9497RC/ref=sr_1_59?crid=1WINN1RZ89M91&keywords=guitar&qid=1662036958&sprefix=guitar%2Caps%2C666&sr=8-59', 'https://www.amazon.in/Medellin-Acoustic-specailized-learning-beginners/dp/B09MSGN39M/ref=sr_1_60?crid=1WINN1RZ89M91&keywords=guitar&qid=1662036958&sprefix=guitar%2Caps%2C666&sr=8-60', 'https://www.amazon.in/YAMAHA-WINNING-F280-Acoustic-Natural/dp/B0842J4VYL/ref=sr_1_61?crid=1WINN1RZ89M91&keywords=guitar&qid=1662036958&sprefix=guitar%2Caps%2C666&sr=8-61', 'https://www.amazon.in/Juarez-Acoustic-Guitar-Cutaway-Strings/dp/B084VRCCN7/ref=sr_1_62?crid=1WINN1RZ89M91&keywords=guitar&qid=1662036958&sprefix=guitar%2Caps%2C666&sr=8-62', 'https://www.amazon.in/Kadence-Inches-Electric-ROSEWOOD-FRETBOARD/dp/B07L5BYQ6Y/ref=sr_1_63?crid=1WINN1RZ89M91&keywords=guitar&qid=1662036958&sprefix=guitar%2Caps%2C666&sr=8-63', 'https://www.amazon.in/Kadence-Frontier-Acoustic-Guitar-Strings/dp/B078GTJP5Y/ref=sr_1_64?crid=1WINN1RZ89M91&keywords=guitar&qid=1662036958&smid=AM04Z7MH4HSDD&sprefix=guitar%2Caps%2C666&sr=8-64', 'https://www.amazon.in/Ibanez-Acoustic-Guitar-Handed-Cutaway/dp/B08FMW6WJM/ref=sr_1_65?crid=1WINN1RZ89M91&keywords=guitar&qid=1662036958&sprefix=guitar%2Caps%2C666&sr=8-65', 'https://www.amazon.in/JUAREZ-Arpeggio-Acoustic-Rosewood-Fretboard/dp/B08LBDDPGQ/ref=sr_1_66?crid=1WINN1RZ89M91&keywords=guitar&qid=1662036958&sprefix=guitar%2Caps%2C666&sr=8-66', 'https://www.amazon.in/Carlton-Rosewood-Fretboard-Acoustic-K-Retail/dp/B07KK8P9VB/ref=sr_1_67?crid=1WINN1RZ89M91&keywords=guitar&qid=1662036958&sprefix=guitar%2Caps%2C666&sr=8-67', 'https://www.amazon.in/RockJam-RJEG02-SK-BB-Electric-Guitar-Starter/dp/B0747TD557/ref=sr_1_68?crid=1WINN1RZ89M91&keywords=guitar&qid=1662036958&sprefix=guitar%2Caps%2C666&sr=8-68', 'https://www.amazon.in/Blueberry-B-D38-Acoustic-Inbuilt-Sunburst/dp/B08LNP8KGS/ref=sr_1_69?crid=1WINN1RZ89M91&keywords=guitar&qid=1662036958&sprefix=guitar%2Caps%2C666&sr=8-69', 'https://www.amazon.in/Junior-Acoustic-Guitar-Strings-Polishing/dp/B07RMJ88G2/ref=sr_1_70?crid=1WINN1RZ89M91&keywords=guitar&qid=1662036958&sprefix=guitar%2Caps%2C666&sr=8-70', 'https://www.amazon.in/Yamaha-C40MII-Acoustic-Concert-Guitar/dp/B005LG2JRK/ref=sr_1_71?crid=1WINN1RZ89M91&keywords=guitar&qid=1662036958&sprefix=guitar%2Caps%2C666&sr=8-71', 'https://www.amazon.in/Acoustic-plectrums-stability-age-groups-Refreshing/dp/B09YH89RVZ/ref=sr_1_72?crid=1WINN1RZ89M91&keywords=guitar&qid=1662036958&sprefix=guitar%2Caps%2C666&sr=8-72', 'https://www.amazon.in/Acoustic-plectrums-stability-age-groups-Sunburst/dp/B09YH77571/ref=sr_1_73?crid=1WINN1RZ89M91&keywords=guitar&qid=1662036958&sprefix=guitar%2Caps%2C666&sr=8-73', 'https://www.amazon.in/Medellin-MED-BLU-C-Linden-Acoustic-Guitar/dp/B07NBMWHJW/ref=sr_1_74?crid=1WINN1RZ89M91&keywords=guitar&qid=1662036958&sprefix=guitar%2Caps%2C666&sr=8-74', 'https://www.amazon.in/Cort-GA-MEDX-Electro-Acoustic-Guitar/dp/B09Y3FVX6Y/ref=sr_1_75?crid=1WINN1RZ89M91&keywords=guitar&qid=1662036958&sprefix=guitar%2Caps%2C666&sr=8-75', 'https://www.amazon.in/Blueberry-Beginner-Rosewood-Electric-Sunburst/dp/B0B8S48BG9/ref=sr_1_76?crid=1WINN1RZ89M91&keywords=guitar&qid=1662036958&sprefix=guitar%2Caps%2C666&sr=8-76', 'https://www.amazon.in/Tanglewood-Crossroads-TWCR-SFCE-Acoustic/dp/B01M7R9JOT/ref=sr_1_77?crid=1WINN1RZ89M91&keywords=guitar&qid=1662036958&sprefix=guitar%2Caps%2C666&sr=8-77', 'https://www.amazon.in/FX280-acoustic-Dreadnought-Tobacco-Sunburst/dp/B09HR7BXGW/ref=sr_1_78?crid=1WINN1RZ89M91&keywords=guitar&qid=1662036958&sprefix=guitar%2Caps%2C666&sr=8-78', 'https://www.amazon.in/Kadence-Frontier-Acoustic-Foldable-Strings/dp/B01CJJGEVS/ref=sr_1_79?crid=1WINN1RZ89M91&keywords=guitar&qid=1662036958&sprefix=guitar%2Caps%2C666&sr=8-79', 'https://www.amazon.in/Intern-INT-38C-Acoustic-Guitar-Natural/dp/B073B4D22T/ref=sr_1_80?crid=1WINN1RZ89M91&keywords=guitar&qid=1662036958&sprefix=guitar%2Caps%2C666&sr=8-80', 'https://www.amazon.in/Yamaha-F310-6-Strings-Acoustic-Blueberry/dp/B07R5X88QJ/ref=sr_1_81?crid=1WINN1RZ89M91&keywords=guitar&qid=1662036958&sprefix=guitar%2Caps%2C666&sr=8-81', 'https://www.amazon.in/Yamaha-Classic-Guitar-C40-Plectrums/dp/B08P7QBTCJ/ref=sr_1_82?crid=1WINN1RZ89M91&keywords=guitar&qid=1662036958&sprefix=guitar%2Caps%2C666&sr=8-82', 'https://www.amazon.in/Pluto-HW39C-201-Medium-Cutaway-Acoustic/dp/B014R94EE2/ref=sr_1_83?crid=1WINN1RZ89M91&keywords=guitar&qid=1662036958&sprefix=guitar%2Caps%2C666&sr=8-83', 'https://www.amazon.in/Electric-Acoustic-FX280-Dreadnought-Plectrums-Natural/dp/B09HSDVQDT/ref=sr_1_84?crid=1WINN1RZ89M91&keywords=guitar&qid=1662036958&sprefix=guitar%2Caps%2C666&sr=8-84', 'https://www.amazon.in/4-string-acoustic-guitar-learning-18-Multi/dp/B09BX2Y9P1/ref=sr_1_85?crid=1WINN1RZ89M91&keywords=guitar&qid=1662036958&sprefix=guitar%2Caps%2C666&sr=8-85', 'https://www.amazon.in/Revel-RVL-38C-LGP-BLS-Linden-Acoustic-Guitar/dp/B085HWKDCY/ref=sr_1_86?crid=1WINN1RZ89M91&keywords=guitar&qid=1662036958&sprefix=guitar%2Caps%2C666&sr=8-86', 'https://www.amazon.in/Fender-Stratocaster-Right-Handed-0370005506-Plectrums/dp/B09NMMP5KN/ref=sr_1_87?crid=1WINN1RZ89M91&keywords=guitar&qid=1662036958&sprefix=guitar%2Caps%2C666&sr=8-87', 'https://www.amazon.in/Yamaha-FS100C-Acoustic-Guitar-Natural/dp/B08Z3DVN8N/ref=sr_1_88?crid=1WINN1RZ89M91&keywords=guitar&qid=1662036958&sprefix=guitar%2Caps%2C666&sr=8-88', 'https://www.amazon.in/Martin-Smith-W-101-N-PK-Acoustic-Natural/dp/B00UOUK4IE/ref=sr_1_89?crid=1WINN1RZ89M91&keywords=guitar&qid=1662036958&sprefix=guitar%2Caps%2C666&sr=8-89', 'https://www.amazon.in/Yamaha-Acoustic-Guitar-Dreadnought-Plectrums/dp/B094H8NGBM/ref=sr_1_90?crid=1WINN1RZ89M91&keywords=guitar&qid=1662036958&sprefix=guitar%2Caps%2C666&sr=8-90', 'https://www.amazon.in/Juarez-Arp%C3%A9ggio-Semi-Acoustic-Guitar-Spruce/dp/B08KHR4BJZ/ref=sr_1_91?crid=1WINN1RZ89M91&keywords=guitar&qid=1662036958&sprefix=guitar%2Caps%2C666&sr=8-91', 'https://www.amazon.in/MUSICALS%C2%AE-Guitar-Including-Strings-remover/dp/B082Q6C28F/ref=sr_1_92?crid=1WINN1RZ89M91&keywords=guitar&qid=1662036958&sprefix=guitar%2Caps%2C666&sr=8-92', 'https://www.amazon.in/Kadence-Frontier-Acoustic-Guitar-Strings/dp/B01CJJG328/ref=sr_1_93?crid=1WINN1RZ89M91&keywords=guitar&qid=1662036958&sprefix=guitar%2Caps%2C666&sr=8-93', 'https://www.amazon.in/Acoustio-venus-acoustic-guitar-2plectums/dp/B096YGTYB7/ref=sr_1_94?crid=1WINN1RZ89M91&keywords=guitar&qid=1662036958&sprefix=guitar%2Caps%2C666&sr=8-94', 'https://www.amazon.in/Signature-Acoustic-Guitar-Inbuilt-Strings/dp/B094VD7K54/ref=sr_1_95?crid=1WINN1RZ89M91&keywords=guitar&qid=1662036958&sprefix=guitar%2Caps%2C666&sr=8-95', 'https://www.amazon.in/Acoustic-Cutaway-RDS-Strings-Sunburst/dp/B076QGY91P/ref=sr_1_96?crid=1WINN1RZ89M91&keywords=guitar&qid=1662036958&sprefix=guitar%2Caps%2C666&sr=8-96', 'https://www.amazon.in/Martin-Smith-W-101-BK-PK-Acoustic-Guitar/dp/B019MY0YE6/ref=sr_1_97?crid=1WINN1RZ89M91&keywords=guitar&qid=1662036958&sprefix=guitar%2Caps%2C666&sr=8-97', 'https://www.amazon.in/Granada-Acoustic-Dreadnought-PRLD-14C-F-Natural/dp/B09JBW86VH/ref=sr_1_98?crid=1WINN1RZ89M91&keywords=guitar&qid=1662036958&sprefix=guitar%2Caps%2C666&sr=8-98', 'https://www.amazon.in/Acoustic-strings-plectrums-stability-age-groups/dp/B09YHC3LX6/ref=sr_1_99?crid=1WINN1RZ89M91&keywords=guitar&qid=1662036958&sprefix=guitar%2Caps%2C666&sr=8-99']\n",
      "51\n"
     ]
    }
   ],
   "source": [
    "url=[]\n",
    "url_tags=driver.find_elements(By.XPATH,'//a[@class=\"a-link-normal s-underline-text s-underline-link-text s-link-style a-text-normal\"]')\n",
    "for i in url_tags:\n",
    "    url.append(i.get_attribute('href'))\n",
    "    \n",
    "print(url)\n",
    "print(len(url))"
   ]
  },
  {
   "cell_type": "code",
   "execution_count": null,
   "id": "395a4a8c",
   "metadata": {},
   "outputs": [],
   "source": []
  },
  {
   "cell_type": "markdown",
   "id": "30e17794",
   "metadata": {},
   "source": [
    "# 3. Write a python program to access the search bar and search button on images.google.com and scrape 10 images each for keywords ‘fruits’, ‘cars’ and ‘Machine Learning’, ‘Guitar’, ‘Cakes’."
   ]
  },
  {
   "cell_type": "code",
   "execution_count": 40,
   "id": "30f3bf96",
   "metadata": {},
   "outputs": [],
   "source": [
    "driver.get('https://www.google.com/')"
   ]
  },
  {
   "cell_type": "code",
   "execution_count": 41,
   "id": "eba6760c",
   "metadata": {},
   "outputs": [],
   "source": [
    "image_option=driver.find_element(By.XPATH,'/html/body/div[1]/div[1]/div/div/div/div[1]/div/div[2]/a')\n",
    "image_option.click()"
   ]
  },
  {
   "cell_type": "code",
   "execution_count": 42,
   "id": "8d0771ea",
   "metadata": {},
   "outputs": [],
   "source": [
    "search1=driver.find_element(By.XPATH,'/html/body/div[1]/div[3]/form/div[1]/div[1]/div[1]/div/div[2]/input')\n",
    "search1.send_keys('fruits')\n",
    "time.sleep(2)"
   ]
  },
  {
   "cell_type": "code",
   "execution_count": 43,
   "id": "cfde2975",
   "metadata": {},
   "outputs": [],
   "source": [
    "time.sleep(5)\n",
    "search1_click=driver.find_element(By.XPATH,'/html/body/div[1]/div[3]/form/div[1]/div[1]/div[1]/button/div/span')\n",
    "search1_click.click()\n"
   ]
  },
  {
   "cell_type": "code",
   "execution_count": 44,
   "id": "c625777a",
   "metadata": {},
   "outputs": [],
   "source": [
    "imgResults=driver.find_elements(By.XPATH,'//img[@class=\"rg_i Q4LuWd\"]')\n"
   ]
  },
  {
   "cell_type": "code",
   "execution_count": 45,
   "id": "e2bb69ea",
   "metadata": {},
   "outputs": [
    {
     "name": "stdout",
     "output_type": "stream",
     "text": [
      "{'https://i.pinimg.com/originals/c2/2e/32/c22e324ceb7a7f5b1fc69152dd68d85b.jpg', 'https://www.vocabulary.cl/pictures/fruit-in-english.jpg', 'https://engdic.org/wp-content/uploads/2022/03/5-Fruits-Names-with-Pictures.png', 'https://hips.hearstapps.com/hmg-prod.s3.amazonaws.com/images/assortment-of-colorful-ripe-tropical-fruits-top-royalty-free-image-995518546-1564092355.jpg', 'https://www.eatthis.com/wp-content/uploads/sites/4/2022/07/fruit-salad.jpg?quality=82&strip=1', 'https://www.unlockfood.ca/EatRightOntario/media/Website-images-resized/How-to-store-fruit-to-keep-it-fresh-resized.jpg', 'https://www.healthyeating.org/images/default-source/home-0.0/nutrition-topics-2.0/general-nutrition-wellness/2-2-2-3foodgroups_fruits_detailfeature.jpg?sfvrsn=64942d53_4', 'https://media.cntraveler.com/photos/546976f2cbbd2620680d9f2f/master/pass/rare-fruits-tout.jpg', 'https://i.pinimg.com/736x/8a/6b/44/8a6b4439916eb8c3d52cbc2de66150d7.jpg', 'https://i0.wp.com/onlymyenglish.com/wp-content/uploads/2020/11/Flowers-Name-1-min.png?fit=707%2C1000&ssl=1', 'https://img.freepik.com/free-vector/set-fruits-berries-with-banana-grapes-apple-others-drawing-isolated-white-background-flat-vector-illustration_1150-65592.jpg?w=2000'}\n",
      "11\n"
     ]
    }
   ],
   "source": [
    "img_urls1=set()\n",
    "for i in range(0,11):\n",
    "    try:\n",
    "        imgResults[i].click()\n",
    "        time.sleep(2)\n",
    "        url=driver.find_elements(By.XPATH,'//img[@class=\"n3VNCb KAlRDb\"]')\n",
    "        for image in url:\n",
    "            if image.get_attribute('src') and 'https' in image.get_attribute('src'):\n",
    "                img_urls1.add(image.get_attribute('src'))\n",
    "\n",
    "    except:\n",
    "        print(\"Error Raised\")\n",
    "print(img_urls1)        \n",
    "print(len(img_urls1))            "
   ]
  },
  {
   "cell_type": "markdown",
   "id": "98268a7a",
   "metadata": {},
   "source": [
    "CARS"
   ]
  },
  {
   "cell_type": "code",
   "execution_count": 28,
   "id": "c4aa70fa",
   "metadata": {},
   "outputs": [],
   "source": [
    "driver.get('https://www.google.com/')"
   ]
  },
  {
   "cell_type": "code",
   "execution_count": 29,
   "id": "91487b5e",
   "metadata": {},
   "outputs": [],
   "source": [
    "image_option=driver.find_element(By.XPATH,'/html/body/div[1]/div[1]/div/div/div/div[1]/div/div[2]/a')\n",
    "image_option.click()"
   ]
  },
  {
   "cell_type": "code",
   "execution_count": 30,
   "id": "82e891b3",
   "metadata": {},
   "outputs": [],
   "source": [
    "search2=driver.find_element(By.XPATH,'/html/body/div[1]/div[3]/form/div[1]/div[1]/div[1]/div/div[2]/input')\n",
    "search2.send_keys('cars')"
   ]
  },
  {
   "cell_type": "code",
   "execution_count": 31,
   "id": "e53e0d19",
   "metadata": {},
   "outputs": [],
   "source": [
    "search2_click=driver.find_element(By.XPATH,'/html/body/div[1]/div[3]/form/div[1]/div[1]/div[1]/button/div/span')\n",
    "search2_click.click()"
   ]
  },
  {
   "cell_type": "code",
   "execution_count": 32,
   "id": "a9c2b2d3",
   "metadata": {},
   "outputs": [],
   "source": [
    "imgResults=driver.find_elements(By.XPATH,'//img[@jsname=\"Q4LuWd\"]')"
   ]
  },
  {
   "cell_type": "code",
   "execution_count": 33,
   "id": "3fd9aa88",
   "metadata": {},
   "outputs": [
    {
     "name": "stdout",
     "output_type": "stream",
     "text": [
      "{'https://imageio.forbes.com/specials-images/imageserve/5f962df3991e5636a2f68758/0x0.jpg?format=jpg&crop=812,457,x89,y103,safe&width=1200', 'https://i.ytimg.com/vi/tArC9-RHmU4/maxresdefault.jpg', 'https://m.media-amazon.com/images/M/MV5BMTg5NzY0MzA2MV5BMl5BanBnXkFtZTYwNDc3NTc2._V1_FMjpg_UX1000_.jpg', 'https://stimg.cardekho.com/images/carexteriorimages/630x420/MG/Hector/8259/1632911780671/front-left-side-47.jpg?impolicy=resize&imwidth=480', 'https://hips.hearstapps.com/hmg-prod.s3.amazonaws.com/images/new-ghost-white-fr-3-4-1-1598911711.jpg', 'https://images.squarespace-cdn.com/content/v1/51cdafc4e4b09eb676a64e68/1618602532707-3OAII3QVHYKCW3KJ1HJU/cars_boast.jpg', 'https://imageio.forbes.com/specials-images/imageserve/5d35eacaf1176b0008974b54/2020-Chevrolet-Corvette-Stingray/0x0.jpg?format=jpg&crop=4560,2565,x790,y784,safe&width=960', 'https://cdn.motor1.com/images/mgl/6ZZp9r/s1/most-expensive-cars-in-the-world-2022.jpg', 'https://hips.hearstapps.com/hmg-prod.s3.amazonaws.com/images/2022-chevrolet-corvette-z06-1607016574.jpg?crop=0.737xw:0.738xh;0.181xw,0.218xh&resize=640:*', 'https://cdn.motor1.com/images/mgl/mrz1e/s3/coolest-cars-feature.jpg', 'https://media.wired.com/photos/5d09594a62bcb0c9752779d9/1:1/w_1500,h_1500,c_limit/Transpo_G70_TA-518126.jpg'} \n",
      "\n",
      "11\n"
     ]
    }
   ],
   "source": [
    "img_urls2=set()\n",
    "for i in range(0,11):\n",
    "    try:\n",
    "        imgResults[i].click()\n",
    "        time.sleep(2)\n",
    "        url=driver.find_elements(By.XPATH,'//img[@class=\"n3VNCb KAlRDb\"]')\n",
    "        for image in url:\n",
    "            if image.get_attribute('src') and 'https' in image.get_attribute('src'):\n",
    "                img_urls2.add(image.get_attribute('src'))\n",
    "\n",
    "    except:\n",
    "        print(\"Error Raised\")\n",
    "print(img_urls2,'\\n')        \n",
    "print(len(img_urls2))            "
   ]
  },
  {
   "cell_type": "markdown",
   "id": "9bb8ce4b",
   "metadata": {},
   "source": [
    "Machine Learning"
   ]
  },
  {
   "cell_type": "code",
   "execution_count": 34,
   "id": "82cfda51",
   "metadata": {},
   "outputs": [],
   "source": [
    "driver.get('https://www.google.com/')"
   ]
  },
  {
   "cell_type": "code",
   "execution_count": 35,
   "id": "db391099",
   "metadata": {},
   "outputs": [],
   "source": [
    "image_option=driver.find_element(By.XPATH,'/html/body/div[1]/div[1]/div/div/div/div[1]/div/div[2]/a')\n",
    "image_option.click()"
   ]
  },
  {
   "cell_type": "code",
   "execution_count": 36,
   "id": "1af3059b",
   "metadata": {},
   "outputs": [],
   "source": [
    "search3=driver.find_element(By.XPATH,'/html/body/div[1]/div[3]/form/div[1]/div[1]/div[1]/div/div[2]/input')\n",
    "search3.send_keys('Machine Learning')"
   ]
  },
  {
   "cell_type": "code",
   "execution_count": 37,
   "id": "642fb15c",
   "metadata": {},
   "outputs": [],
   "source": [
    "search3_click=driver.find_element(By.XPATH,'/html/body/div[1]/div[3]/form/div[1]/div[1]/div[1]/button/div/span')\n",
    "search3_click.click()"
   ]
  },
  {
   "cell_type": "code",
   "execution_count": 38,
   "id": "24797a86",
   "metadata": {},
   "outputs": [],
   "source": [
    "imgResults=driver.find_elements(By.XPATH,'//img[@jsname=\"Q4LuWd\"]')"
   ]
  },
  {
   "cell_type": "code",
   "execution_count": 39,
   "id": "1b1f81a7",
   "metadata": {},
   "outputs": [
    {
     "name": "stdout",
     "output_type": "stream",
     "text": [
      "{'https://www.eurixgroup.com/wp-content/uploads/2021/01/ml-e1610553826718.jpg', 'https://cdn.britannica.com/40/216540-138-14385CFE/How-machine-learning-is-predicting-synthetic-products.jpg?w=800&h=450&c=crop', 'https://miro.medium.com/max/1400/1*c_fiB-YgbnMl6nntYGBMHQ.jpeg', 'https://imageio.forbes.com/specials-images/dam/imageserve/966248982/960x0.jpg?format=jpg&width=960', 'https://www.atriainnovation.com/wp-content/uploads/2021/02/portada.jpg', 'https://www.einfochips.com/blog/wp-content/uploads/2018/11/how-to-develop-machine-learning-applications-for-business-featured.jpg', 'https://www.simplilearn.com/ice9/free_resources_article_thumb/Deep-Learning-vs-Machine-Learning.jpg', 'https://miro.medium.com/max/1400/0*QYxNNYh6W9jO1b_-.png', 'https://imageio.forbes.com/specials-images/dam/imageserve/1129869424/0x0.jpg?format=jpg&width=1200', 'https://d1rytvr7gmk1sx.cloudfront.net/wp-content/uploads/2018/10/istock-1135819437-740x450-1.jpg?x27457'} \n",
      "\n",
      "10\n"
     ]
    }
   ],
   "source": [
    "img_urls3=set()\n",
    "for i in range(0,11):\n",
    "    try:\n",
    "        imgResults[i].click()\n",
    "        time.sleep(2)\n",
    "        url=driver.find_elements(By.XPATH,'//img[@class=\"n3VNCb KAlRDb\"]')\n",
    "        for image in url:\n",
    "            if image.get_attribute('src') and 'https' in image.get_attribute('src'):\n",
    "                img_urls3.add(image.get_attribute('src'))\n",
    "\n",
    "    except:\n",
    "        print(\"Error Raised\")\n",
    "print(img_urls3,'\\n')        \n",
    "print(len(img_urls3))    "
   ]
  },
  {
   "cell_type": "markdown",
   "id": "392942a7",
   "metadata": {},
   "source": [
    "Guitar"
   ]
  },
  {
   "cell_type": "code",
   "execution_count": 46,
   "id": "81ced9b1",
   "metadata": {},
   "outputs": [],
   "source": [
    "driver.get('https://www.google.com/')"
   ]
  },
  {
   "cell_type": "code",
   "execution_count": 47,
   "id": "936535d3",
   "metadata": {},
   "outputs": [],
   "source": [
    "image_option=driver.find_element(By.XPATH,'/html/body/div[1]/div[1]/div/div/div/div[1]/div/div[2]/a')\n",
    "image_option.click()"
   ]
  },
  {
   "cell_type": "code",
   "execution_count": 48,
   "id": "32e74b17",
   "metadata": {},
   "outputs": [],
   "source": [
    "search4=driver.find_element(By.XPATH,'/html/body/div[1]/div[3]/form/div[1]/div[1]/div[1]/div/div[2]/input')\n",
    "search4.send_keys('Guitar')"
   ]
  },
  {
   "cell_type": "code",
   "execution_count": 49,
   "id": "9479b41f",
   "metadata": {},
   "outputs": [],
   "source": [
    "search4_click=driver.find_element(By.XPATH,'/html/body/div[1]/div[3]/form/div[1]/div[1]/div[1]/button/div/span')\n",
    "search4_click.click()"
   ]
  },
  {
   "cell_type": "code",
   "execution_count": 50,
   "id": "21c22d89",
   "metadata": {},
   "outputs": [],
   "source": [
    "imgResults=driver.find_elements(By.XPATH,'//img[@class=\"rg_i Q4LuWd\"]')"
   ]
  },
  {
   "cell_type": "code",
   "execution_count": 51,
   "id": "2894a710",
   "metadata": {},
   "outputs": [
    {
     "name": "stdout",
     "output_type": "stream",
     "text": [
      "{'https://rukminim1.flixcart.com/image/416/416/k6l2vm80/acoustic-guitar/d/k/4/38c-red-sunburst-38-flipkart-smartbuy-original-imafpyhtuvhc9bux.jpeg?q=70', 'https://upload.wikimedia.org/wikipedia/commons/4/45/GuitareClassique5.png', 'https://yamaha.ndcdn.in/media/catalog/product/cache/9e0f31af0cdc06df956748b13dabad87/f/2/f280_natural-_1__1.jpg', 'https://m.media-amazon.com/images/I/71nzdkpUcWL._SY879_.jpg', 'https://www.superprof.co.in/blog/wp-content/uploads/2019/12/guitar.jpg', 'https://m.media-amazon.com/images/I/71cTeubzQOL._SY606_.jpg', 'https://www.devmusicalindia.in/assets_c/1581492074166-Belear%20BL38C%20Blue%20Burst%20Couturier%20Series%20Acoustic%20Guitar.jpg', 'https://m.media-amazon.com/images/I/61+fz+3k-ZL._SL1280_.jpg', 'https://www.yamaha.com/en/musical_instrument_guide/common/images/electric_guitar/parts_viewer01.jpg', 'https://img.freepik.com/premium-vector/black-white-guitars-acoustic-strings-music-instruments-electric-rock-guitar-silhouette-stencil-guitars_102902-2185.jpg?w=2000'} \n",
      "\n",
      "10\n"
     ]
    }
   ],
   "source": [
    "img_urls4=set()\n",
    "for i in range(0,11):\n",
    "    try:\n",
    "        imgResults[i].click()\n",
    "        time.sleep(2)\n",
    "        url=driver.find_elements(By.XPATH,'//img[@class=\"n3VNCb KAlRDb\"]')\n",
    "        for image in url:\n",
    "            if image.get_attribute('src') and 'https' in image.get_attribute('src'):\n",
    "                img_urls4.add(image.get_attribute('src'))\n",
    "\n",
    "    except:\n",
    "        print(\"Error Raised\")\n",
    "print(img_urls4,'\\n')        \n",
    "print(len(img_urls4))"
   ]
  },
  {
   "cell_type": "markdown",
   "id": "c28e6925",
   "metadata": {},
   "source": [
    "Cakes"
   ]
  },
  {
   "cell_type": "code",
   "execution_count": 52,
   "id": "dfa946fe",
   "metadata": {},
   "outputs": [],
   "source": [
    "driver.get('https://www.google.com/')"
   ]
  },
  {
   "cell_type": "code",
   "execution_count": 53,
   "id": "a6437fac",
   "metadata": {},
   "outputs": [],
   "source": [
    "image_option=driver.find_element(By.XPATH,'/html/body/div[1]/div[1]/div/div/div/div[1]/div/div[2]/a')\n",
    "image_option.click()"
   ]
  },
  {
   "cell_type": "code",
   "execution_count": 54,
   "id": "23b766cb",
   "metadata": {},
   "outputs": [],
   "source": [
    "search5=driver.find_element(By.XPATH,'/html/body/div[1]/div[3]/form/div[1]/div[1]/div[1]/div/div[2]/input')\n",
    "search5.send_keys('Cakes')"
   ]
  },
  {
   "cell_type": "code",
   "execution_count": 55,
   "id": "c8970904",
   "metadata": {},
   "outputs": [],
   "source": [
    "search5_click=driver.find_element(By.XPATH,'/html/body/div[1]/div[3]/form/div[1]/div[1]/div[1]/button/div/span')\n",
    "search5_click.click()"
   ]
  },
  {
   "cell_type": "code",
   "execution_count": 56,
   "id": "63a4e348",
   "metadata": {},
   "outputs": [],
   "source": [
    "imgResults=driver.find_elements(By.XPATH,'//img[@jsname=\"Q4LuWd\"]')"
   ]
  },
  {
   "cell_type": "code",
   "execution_count": 57,
   "id": "4cafb248",
   "metadata": {},
   "outputs": [
    {
     "name": "stdout",
     "output_type": "stream",
     "text": [
      "{'https://storcpdkenticomedia.blob.core.windows.net/media/recipemanagementsystem/media/recipe-media-files/recipes/retail/x17/rainbow-cake760x580.jpg?ext=.jpg', 'https://hips.hearstapps.com/hmg-prod.s3.amazonaws.com/images/wdy050121lifeoftheparty-003-1621611282.jpg', 'https://images.unsplash.com/photo-1627834377411-8da5f4f09de8?ixlib=rb-1.2.1&ixid=MnwxMjA3fDB8MHxzZWFyY2h8MXx8Y2FrZXN8ZW58MHx8MHx8&w=1000&q=80', 'https://sugargeekshow.com/wp-content/uploads/2020/03/rainbow-cake-featured-scaled.jpg', 'https://cakewhiz.com/wp-content/uploads/2020/02/Kids-Chocolate-Birthday-Cake-Recipe.jpg', 'https://cdn.shopify.com/s/files/1/0362/1653/articles/Birthday_Cake_Square_5_1600x.jpg?v=1566642810', 'https://www.fnp.com/assets/images/custom/cake-micro-2022/Cakes-By-Flavour/chocolate-cake.jpg', 'https://5.imimg.com/data5/NI/IH/QU/ANDROID-90366522/img-20190619-153251-jpg-500x500.jpg', 'https://upload.wikimedia.org/wikipedia/commons/thumb/a/a0/Wedding_cake_with_pillar_supports%2C_2009.jpg/1200px-Wedding_cake_with_pillar_supports%2C_2009.jpg', 'https://images.immediate.co.uk/production/volatile/sites/30/2021/03/Unicorn-cake-32e0971.jpg', 'https://storcpdkenticomedia.blob.core.windows.net/media/recipemanagementsystem/media/recipe-media-files/recipes/retail/x17/16714-birthday-cake-600x600.jpg?ext=.jpg'} \n",
      "\n",
      "11\n"
     ]
    }
   ],
   "source": [
    "img_urls5=set()\n",
    "for i in range(0,11):\n",
    "    try:\n",
    "        imgResults[i].click()\n",
    "        time.sleep(2)\n",
    "        url=driver.find_elements(By.XPATH,'//img[@class=\"n3VNCb KAlRDb\"]')\n",
    "        for image in url:\n",
    "            if image.get_attribute('src') and 'https' in image.get_attribute('src'):\n",
    "                img_urls5.add(image.get_attribute('src'))\n",
    "\n",
    "    except:\n",
    "        print(\"Error Raised\")\n",
    "print(img_urls5,'\\n')        \n",
    "print(len(img_urls5))"
   ]
  },
  {
   "cell_type": "markdown",
   "id": "8c16c179",
   "metadata": {},
   "source": [
    "# 4. Write a python program to search for a smartphone(e.g.: Oneplus Nord, pixel 4A, etc.) on\n",
    "www.flipkart.com and scrape following details for all the search results displayed on 1st page. Details to be\n",
    "scraped: “Brand Name”, “Smartphone name”, “Colour”, “RAM”, “Storage(ROM)”, “Primary Camera”,\n",
    "“Secondary Camera”, “Display Size”, “Battery Capacity”, “Price”, “Product URL”. Incase if any of the\n",
    "details is missing then replace it by “- “. Save your results in a dataframe and CSV."
   ]
  },
  {
   "cell_type": "code",
   "execution_count": 59,
   "id": "38391b49",
   "metadata": {},
   "outputs": [],
   "source": [
    "driver.get('https://www.flipkart.com/')"
   ]
  },
  {
   "cell_type": "code",
   "execution_count": 60,
   "id": "1a554ec9",
   "metadata": {},
   "outputs": [],
   "source": [
    "try:\n",
    "    search=driver.find_element(By.XPATH,'//input[@class=\"_3704LK\"]')\n",
    "    search.send_keys('smartphone')\n",
    "    enter=driver.find_element(By.XPATH,'/html/body/div/div/div[1]/div[1]/div[2]/div[2]/form/div/button')\n",
    "    enter.click()\n",
    "    \n",
    "except:\n",
    "    print('Error Raised, not such element found')\n",
    "    driver.get('https://www.flipkart.com/')\n",
    "    search_anotherway=driver.find_element(By.XPATH,'/html/body/div/div/div[2]/div/div/div[3]/a/div[1]/div')\n",
    "    search_anotherway.click()\n",
    "    delay=5\n",
    "    WebDriverWait(driver, delay).until(EC.presence_of_element_located((By.CLASS_NAME, '_3704LK')))\n",
    "    search=driver.find_element(By.XPATH,'//input[@class=\"_3704LK\"]')\n",
    "    print(search)"
   ]
  },
  {
   "cell_type": "code",
   "execution_count": 61,
   "id": "f86d7bcc",
   "metadata": {},
   "outputs": [
    {
     "name": "stdout",
     "output_type": "stream",
     "text": [
      "['APPLE', 'realme', 'realme', 'I', 'realme', 'realme', 'realme', 'I', 'realme', 'realme', 'APPLE', 'I', 'realme', 'APPLE', 'realme', 'I', 'Infinix', 'realme', 'Infinix', 'I', 'realme', 'realme', 'realme', 'I']\n",
      "24\n"
     ]
    }
   ],
   "source": [
    "brand=[]\n",
    "brand_tags=driver.find_elements(By.XPATH,'//div[@class=\"_4rR01T\"]')\n",
    "for i in brand_tags:\n",
    "    brand.append(i.text.split(' ')[0])\n",
    "    \n",
    "print(brand)\n",
    "print(len(brand))"
   ]
  },
  {
   "cell_type": "code",
   "execution_count": 62,
   "id": "4a601071",
   "metadata": {},
   "outputs": [
    {
     "name": "stdout",
     "output_type": "stream",
     "text": [
      "['APPLE iPhone 11 ', 'realme C21Y ', 'realme C21Y ', 'I Kall K401 ', 'realme C21Y ', 'realme C11 2021 ', 'realme C11 2021 ', 'I Kall K450 ', 'realme C11 2021 ', 'realme 8i ', 'APPLE iPhone 11 ', 'I Kall Z2 Green ', 'realme C11 2021 ', 'APPLE iPhone 11 ', 'realme C21Y ', 'I Kall Z2 PRO ', 'Infinix HOT 12 Play ', 'realme 8i ', 'Infinix HOT 12 Play ', 'I Kall Z12 ', 'realme C31 ', 'realme C31 ', 'realme C31 ', 'I Kall K470 ']\n",
      "24\n"
     ]
    }
   ],
   "source": [
    "smartphone=[]\n",
    "phone_tags=driver.find_elements(By.XPATH,'//div[@class=\"_4rR01T\"]')\n",
    "for i in phone_tags:\n",
    "    smartphone.append(i.text.split('(')[0])\n",
    "    \n",
    "print(smartphone)\n",
    "print(len(smartphone))"
   ]
  },
  {
   "cell_type": "code",
   "execution_count": 63,
   "id": "4b330977",
   "metadata": {},
   "outputs": [
    {
     "name": "stdout",
     "output_type": "stream",
     "text": [
      "['White  )', 'Cross Black  )', 'Cross Blue  )', 'Dark Blue  )', 'Cross Black  )', 'Cool Blue  )', 'Cool Grey  )', 'Dark Blue  )', 'Cool Grey  )', 'Space Purple  )', 'Black  )', 'Green 16 )', 'Cool Blue  )', 'White  )', 'Cross Blue  )', 'Dark Blue 16 )', 'Champagne Gold  )', 'Space Purple  )', 'Horizon Blue  )', 'SKY BLUE  )', 'Light Silver  )', 'Dark Green  )', 'Dark Green  )', 'Dark Blue  )']\n",
      "24\n"
     ]
    }
   ],
   "source": [
    "colour=[]\n",
    "colour_tags=driver.find_elements(By.XPATH,'//div[@class=\"_4rR01T\"]')\n",
    "for i in colour_tags:\n",
    "    colour.append(i.text.split('(')[1].replace('GB','').replace('128','').replace('64','').replace('32','').replace(',',''))\n",
    "    \n",
    "print(colour)\n",
    "print(len(colour))"
   ]
  },
  {
   "cell_type": "code",
   "execution_count": 64,
   "id": "fc8ea8a8",
   "metadata": {},
   "outputs": [
    {
     "name": "stdout",
     "output_type": "stream",
     "text": [
      "['128 GB ROM\\n15.49 cm (6.1 inch) Liquid Retina HD Display\\n12MP + 12MP | 12MP Front Camera\\nA13 Bionic Chip Processor\\nBrand Warranty of 1 Year', '4 GB RAM | 64 GB ROM | Expandable Upto 256 GB\\n16.51 cm (6.5 inch) HD+ Display\\n13MP + 2MP + 2MP | 5MP Front Camera\\n5000 mAh Battery\\nUnisoc T610 Processor\\n1 Year Warranty for Mobile and 6 Months for Accessories', '3 GB RAM | 32 GB ROM | Expandable Upto 256 GB\\n16.51 cm (6.5 inch) HD+ Display\\n13MP + 2MP + 2MP | 5MP Front Camera\\n5000 mAh Battery\\nUnisoc T610 Processor\\n1 Year Warranty for Mobile and 6 Months for Accessories', '4 GB RAM | 64 GB ROM | Expandable Upto 64 GB\\n15.9 cm (6.26 inch) Display\\n16MP Rear Camera | 13MP Front Camera\\n4000 mAh Battery\\n1 year manufacturing warranty for mobile and 6 months for box accessories', '3 GB RAM | 32 GB ROM | Expandable Upto 256 GB\\n16.51 cm (6.5 inch) HD+ Display\\n13MP + 2MP + 2MP | 5MP Front Camera\\n5000 mAh Battery\\nUnisoc T610 Processor\\n1 Year Warranty for Mobile and 6 Months for Accessories', '2 GB RAM | 32 GB ROM | Expandable Upto 256 GB\\n16.51 cm (6.5 inch) HD+ Display\\n8MP Rear Camera | 5MP Front Camera\\n5000 mAh Battery\\nOcta-core Processor\\n1 Year Warranty for Mobile and 6 Months for Accessories', '2 GB RAM | 32 GB ROM | Expandable Upto 256 GB\\n16.51 cm (6.5 inch) HD+ Display\\n8MP Rear Camera | 5MP Front Camera\\n5000 mAh Battery\\nOcta-core Processor\\n1 Year Warranty for Mobile and 6 Months for Accessories', '4 GB RAM | 32 GB ROM | Expandable Upto 64 GB\\n15.9 cm (6.26 inch) Display\\n16MP Rear Camera | 13MP Front Camera\\n4000 mAh Battery\\n1 year manufacturing warranty for mobile and 6 months for box accessories', '4 GB RAM | 64 GB ROM | Expandable Upto 256 GB\\n16.51 cm (6.5 inch) HD+ Display\\n8MP Rear Camera | 5MP Front Camera\\n5000 mAh Battery\\nOcta-core Processor\\n1 Year Warranty for Mobile and 6 Months for Accessories', '4 GB RAM | 64 GB ROM | Expandable Upto 256 GB\\n16.76 cm (6.6 inch) Full HD+ Display\\n50MP + 2MP + 2MP | 16MP Front Camera\\n5000 mAh Battery\\nMediaTek Helio G96 Processor\\n1 Year Warranty for Mobile and 6 Months for Accessories', '128 GB ROM\\n15.49 cm (6.1 inch) Liquid Retina HD Display\\n12MP + 12MP | 12MP Front Camera\\nA13 Bionic Chip Processor\\nBrand Warranty of 1 Year', '3 GB RAM | 16 GB ROM | Expandable Upto 64 GB\\n15.21 cm (5.99 inch) Display\\n8MP Rear Camera | 5MP Front Camera\\n4000 mAh Battery\\n1 year manufacturing warranty for mobile and 6 months for box accessories', '4 GB RAM | 64 GB ROM | Expandable Upto 256 GB\\n16.51 cm (6.5 inch) HD+ Display\\n8MP Rear Camera | 5MP Front Camera\\n5000 mAh Battery\\nOcta-core Processor\\n1 Year Warranty for Mobile and 6 Months for Accessories', '64 GB ROM\\n15.49 cm (6.1 inch) Liquid Retina HD Display\\n12MP + 12MP | 12MP Front Camera\\nA13 Bionic Chip Processor\\nBrand Warranty of 1 Year', '4 GB RAM | 64 GB ROM | Expandable Upto 256 GB\\n16.51 cm (6.5 inch) HD+ Display\\n13MP + 2MP + 2MP | 5MP Front Camera\\n5000 mAh Battery\\nUnisoc T610 Processor\\n1 Year Warranty for Mobile and 6 Months for Accessories', '3 GB RAM | 16 GB ROM | Expandable Upto 64 GB\\n15.21 cm (5.99 inch) Display\\n8MP Rear Camera | 5MP Front Camera\\n4000 mAh Battery\\n1 year manufacturing warranty for mobile and 6 months for box accessories', '4 GB RAM | 64 GB ROM | Expandable Upto 256 GB\\n17.32 cm (6.82 inch) HD+ Display\\n13MP + Depth Lens | 8MP Front Camera\\n6000 mAh Li-ion Polymer Battery\\nUnisoc T610 Processor\\n1 Year on Handset And 6 Months on Accessories', '6 GB RAM | 128 GB ROM | Expandable Upto 256 GB\\n16.76 cm (6.6 inch) Full HD+ Display\\n50MP + 2MP + 2MP | 16MP Front Camera\\n5000 mAh Battery\\nMediaTek Helio G96 Processor\\n1 Year Warranty for Mobile and 6 Months for Accessories', '4 GB RAM | 64 GB ROM | Expandable Upto 256 GB\\n17.32 cm (6.82 inch) HD+ Display\\n13MP + Depth Lens | 8MP Front Camera\\n6000 mAh Li-ion Polymer Battery\\nUnisoc T610 Processor\\n1 Year on Handset And 6 Months on Accessories', '4 GB RAM | 64 GB ROM | Expandable Upto 64 GB\\n16.59 cm (6.53 inch) Display\\n20MP Rear Camera | 13MP Front Camera\\n5000 mAh Battery\\n1 year manufacturing warranty for mobile and 6 months for box accessories', '3 GB RAM | 32 GB ROM | Expandable Upto 1 TB\\n16.56 cm (6.52 inch) HD Display\\n13MP + 2MP + 0.3MP | 5MP Front Camera\\n5000 mAh Battery\\nUnisoc T612 Processor\\n1 Year Warranty for Phone and 6 Months Warranty for In-Box Accessories', '4 GB RAM | 64 GB ROM | Expandable Upto 1 TB\\n16.56 cm (6.52 inch) HD Display\\n13MP + 2MP + 0.3MP | 5MP Front Camera\\n5000 mAh Battery\\nUnisoc T612 Processor\\n1 Year Warranty for Phone and 6 Months Warranty for In-Box Accessories', '3 GB RAM | 32 GB ROM | Expandable Upto 1 TB\\n16.56 cm (6.52 inch) HD Display\\n13MP + 2MP + 0.3MP | 5MP Front Camera\\n5000 mAh Battery\\nUnisoc T612 Processor\\n1 Year Warranty for Phone and 6 Months Warranty for In-Box Accessories', '4 GB RAM | 32 GB ROM | Expandable Upto 64 GB\\n15.9 cm (6.26 inch) Display\\n16MP Rear Camera | 13MP Front Camera\\n4000 mAh Battery\\nOcta Core Processor\\n1 year manufacturing warranty for mobile and 6 months for box accessories']\n",
      "24\n"
     ]
    }
   ],
   "source": [
    "ram=[]\n",
    "ram_tags=driver.find_elements(By.XPATH,'//ul[@class=\"_1xgFaf\"]')\n",
    "for i in ram_tags:\n",
    "    ram.append(i.text)\n",
    "    \n",
    "print(ram)\n",
    "print(len(ram))"
   ]
  },
  {
   "cell_type": "code",
   "execution_count": 65,
   "id": "abb33dc7",
   "metadata": {},
   "outputs": [
    {
     "name": "stdout",
     "output_type": "stream",
     "text": [
      "['₹54,900', '₹10,599', '₹9,499', '₹6,999', '₹9,499', '₹7,499', '₹7,499', '₹6,699', '₹8,999', '₹14,049', '₹54,900', '₹4,999', '₹8,999', '₹39,999', '₹10,599', '₹4,999', '₹8,999', '₹16,009', '₹8,999', '₹7,299', '₹9,299', '₹10,079', '₹9,299', '₹6,799']\n",
      "24\n"
     ]
    }
   ],
   "source": [
    "price=[]\n",
    "price_tags=driver.find_elements(By.XPATH,'//div[@class=\"_30jeq3 _1_WHN1\"]')\n",
    "for i in price_tags:\n",
    "    price.append(i.text)\n",
    "    \n",
    "print(price)\n",
    "print(len(price))"
   ]
  },
  {
   "cell_type": "code",
   "execution_count": 66,
   "id": "767408d0",
   "metadata": {},
   "outputs": [
    {
     "name": "stdout",
     "output_type": "stream",
     "text": [
      "['https://www.flipkart.com/apple-iphone-11-white-128-gb/p/itme32df47ea6742?pid=MOBFWQ6B7KKRXDDS&lid=LSTMOBFWQ6B7KKRXDDSUPVRTR&marketplace=FLIPKART&q=smartphone&store=tyy%2F4io&srno=s_1_1&otracker=search&otracker1=search&fm=organic&iid=f39c8410-dfb7-4bf8-8f8e-2e415bc9aaa8.MOBFWQ6B7KKRXDDS.SEARCH&ppt=hp&ppn=homepage&ssid=mkukrifwg00000001662037891237&qH=1036ba3c4ed2c021', 'https://www.flipkart.com/realme-c21y-cross-black-64-gb/p/itm2a2e4f7554a21?pid=MOBG5ZGKQVSRBYGJ&lid=LSTMOBG5ZGKQVSRBYGJZFAT5X&marketplace=FLIPKART&q=smartphone&store=tyy%2F4io&srno=s_1_2&otracker=search&otracker1=search&fm=organic&iid=f39c8410-dfb7-4bf8-8f8e-2e415bc9aaa8.MOBG5ZGKQVSRBYGJ.SEARCH&ppt=hp&ppn=homepage&ssid=mkukrifwg00000001662037891237&qH=1036ba3c4ed2c021', 'https://www.flipkart.com/realme-c21y-cross-blue-32-gb/p/itm2a2e4f7554a21?pid=MOBG5ZGKXCGFB9HP&lid=LSTMOBG5ZGKXCGFB9HPV9WVWE&marketplace=FLIPKART&q=smartphone&store=tyy%2F4io&srno=s_1_3&otracker=search&otracker1=search&fm=organic&iid=f39c8410-dfb7-4bf8-8f8e-2e415bc9aaa8.MOBG5ZGKXCGFB9HP.SEARCH&ppt=hp&ppn=homepage&ssid=mkukrifwg00000001662037891237&qH=1036ba3c4ed2c021', 'https://www.flipkart.com/kall-k401-dark-blue-64-gb/p/itm7a188dfe902be?pid=MOBGGZ4FSR9PEQWS&lid=LSTMOBGGZ4FSR9PEQWSYLMYFF&marketplace=FLIPKART&q=smartphone&store=tyy%2F4io&srno=s_1_4&otracker=search&otracker1=search&fm=organic&iid=en_cX8wQdJBsr2W6uvUxemTRBhtf3idA9FaeEKL8Lv3xDN4J2hyydJW5jnLOeOcCbGE8fTxiiIiEvRdzVeVtYa7zQ%3D%3D&ppt=hp&ppn=homepage&ssid=mkukrifwg00000001662037891237&qH=1036ba3c4ed2c021', 'https://www.flipkart.com/realme-c21y-cross-black-32-gb/p/itm2a2e4f7554a21?pid=MOBG5ZGKG2HRSQB8&lid=LSTMOBG5ZGKG2HRSQB8EYRWYC&marketplace=FLIPKART&q=smartphone&store=tyy%2F4io&srno=s_1_5&otracker=search&otracker1=search&fm=organic&iid=f39c8410-dfb7-4bf8-8f8e-2e415bc9aaa8.MOBG5ZGKG2HRSQB8.SEARCH&ppt=hp&ppn=homepage&ssid=mkukrifwg00000001662037891237&qH=1036ba3c4ed2c021', 'https://www.flipkart.com/realme-c11-2021-cool-blue-32-gb/p/itmbd856acb97c38?pid=MOBG4BEG3HG78BDG&lid=LSTMOBG4BEG3HG78BDGXS0TYG&marketplace=FLIPKART&q=smartphone&store=tyy%2F4io&srno=s_1_6&otracker=search&otracker1=search&fm=organic&iid=f39c8410-dfb7-4bf8-8f8e-2e415bc9aaa8.MOBG4BEG3HG78BDG.SEARCH&ppt=hp&ppn=homepage&ssid=mkukrifwg00000001662037891237&qH=1036ba3c4ed2c021', 'https://www.flipkart.com/realme-c11-2021-cool-grey-32-gb/p/itmbd856acb97c38?pid=MOBG4BEGX8QYNKGZ&lid=LSTMOBG4BEGX8QYNKGZ8JGQTA&marketplace=FLIPKART&q=smartphone&store=tyy%2F4io&srno=s_1_7&otracker=search&otracker1=search&fm=organic&iid=f39c8410-dfb7-4bf8-8f8e-2e415bc9aaa8.MOBG4BEGX8QYNKGZ.SEARCH&ppt=hp&ppn=homepage&ssid=mkukrifwg00000001662037891237&qH=1036ba3c4ed2c021', 'https://www.flipkart.com/kall-k450-dark-blue-32-gb/p/itm58c67a0e59052?pid=MOBGGWQ2CGVTZVQR&lid=LSTMOBGGWQ2CGVTZVQRLFQQXC&marketplace=FLIPKART&q=smartphone&store=tyy%2F4io&srno=s_1_8&otracker=search&otracker1=search&fm=organic&iid=en_cX8wQdJBsr2W6uvUxemTRBhtf3idA9FaeEKL8Lv3xDO3orFDVLKnySLhRtI6Kk%2BYcMfNrl8cehw764I%2Ff%2F0mcQ%3D%3D&ppt=hp&ppn=homepage&ssid=mkukrifwg00000001662037891237&qH=1036ba3c4ed2c021', 'https://www.flipkart.com/realme-c11-2021-cool-grey-64-gb/p/itmbd856acb97c38?pid=MOBG5BCDJ68N57TH&lid=LSTMOBG5BCDJ68N57THWJHNPW&marketplace=FLIPKART&q=smartphone&store=tyy%2F4io&srno=s_1_9&otracker=search&otracker1=search&fm=organic&iid=f39c8410-dfb7-4bf8-8f8e-2e415bc9aaa8.MOBG5BCDJ68N57TH.SEARCH&ppt=hp&ppn=homepage&ssid=mkukrifwg00000001662037891237&qH=1036ba3c4ed2c021', 'https://www.flipkart.com/realme-8i-space-purple-64-gb/p/itm7ab6edcb3b2a4?pid=MOBG63YX5KJ6VFDH&lid=LSTMOBG63YX5KJ6VFDH2KWIYU&marketplace=FLIPKART&q=smartphone&store=tyy%2F4io&srno=s_1_10&otracker=search&otracker1=search&fm=organic&iid=f39c8410-dfb7-4bf8-8f8e-2e415bc9aaa8.MOBG63YX5KJ6VFDH.SEARCH&ppt=hp&ppn=homepage&ssid=mkukrifwg00000001662037891237&qH=1036ba3c4ed2c021', 'https://www.flipkart.com/apple-iphone-11-black-128-gb/p/itm8244e8d955aba?pid=MOBFWQ6BKRYBP5X8&lid=LSTMOBFWQ6BKRYBP5X8HS0EXP&marketplace=FLIPKART&q=smartphone&store=tyy%2F4io&srno=s_1_11&otracker=search&otracker1=search&fm=organic&iid=f39c8410-dfb7-4bf8-8f8e-2e415bc9aaa8.MOBFWQ6BKRYBP5X8.SEARCH&ppt=hp&ppn=homepage&ssid=mkukrifwg00000001662037891237&qH=1036ba3c4ed2c021', 'https://www.flipkart.com/kall-z2-green-green-16-gb/p/itmebe7865efc538?pid=MOBGG9KV3A3ZGWR3&lid=LSTMOBGG9KV3A3ZGWR3N6HJVH&marketplace=FLIPKART&q=smartphone&store=tyy%2F4io&srno=s_1_12&otracker=search&otracker1=search&fm=organic&iid=en_cX8wQdJBsr2W6uvUxemTRBhtf3idA9FaeEKL8Lv3xDNpVskaP6nNF3H94Y5ve1kJqlmM30vKqb49JlJfJYF5zQ%3D%3D&ppt=hp&ppn=homepage&ssid=mkukrifwg00000001662037891237&qH=1036ba3c4ed2c021', 'https://www.flipkart.com/realme-c11-2021-cool-blue-64-gb/p/itmbd856acb97c38?pid=MOBG5BCDBHPYMT5B&lid=LSTMOBG5BCDBHPYMT5B9SEYIT&marketplace=FLIPKART&q=smartphone&store=tyy%2F4io&srno=s_1_13&otracker=search&otracker1=search&fm=organic&iid=f39c8410-dfb7-4bf8-8f8e-2e415bc9aaa8.MOBG5BCDBHPYMT5B.SEARCH&ppt=hp&ppn=homepage&ssid=mkukrifwg00000001662037891237&qH=1036ba3c4ed2c021', 'https://www.flipkart.com/apple-iphone-11-white-64-gb/p/itmfc6a7091eb20b?pid=MOBFWQ6BVWVEH3XE&lid=LSTMOBFWQ6BVWVEH3XEMXQMLO&marketplace=FLIPKART&q=smartphone&store=tyy%2F4io&srno=s_1_14&otracker=search&otracker1=search&fm=organic&iid=f39c8410-dfb7-4bf8-8f8e-2e415bc9aaa8.MOBFWQ6BVWVEH3XE.SEARCH&ppt=hp&ppn=homepage&ssid=mkukrifwg00000001662037891237&qH=1036ba3c4ed2c021', 'https://www.flipkart.com/realme-c21y-cross-blue-64-gb/p/itm2a2e4f7554a21?pid=MOBG5ZGKRUBBZFBR&lid=LSTMOBG5ZGKRUBBZFBRXORTMH&marketplace=FLIPKART&q=smartphone&store=tyy%2F4io&srno=s_1_15&otracker=search&otracker1=search&fm=organic&iid=f39c8410-dfb7-4bf8-8f8e-2e415bc9aaa8.MOBG5ZGKRUBBZFBR.SEARCH&ppt=hp&ppn=homepage&ssid=mkukrifwg00000001662037891237&qH=1036ba3c4ed2c021', 'https://www.flipkart.com/kall-z2-pro-dark-blue-16-gb/p/itma3bac3b1559ed?pid=MOBGG9KMK9NHQE5V&lid=LSTMOBGG9KMK9NHQE5V9IJTPI&marketplace=FLIPKART&q=smartphone&store=tyy%2F4io&srno=s_1_16&otracker=search&otracker1=search&fm=organic&iid=en_cX8wQdJBsr2W6uvUxemTRBhtf3idA9FaeEKL8Lv3xDMzOjNgB1r5aUf1jSKQB3ywA%2BWdexxFmrpTgkVKg34oPA%3D%3D&ppt=hp&ppn=homepage&ssid=mkukrifwg00000001662037891237&qH=1036ba3c4ed2c021', 'https://www.flipkart.com/infinix-hot-12-play-champagne-gold-64-gb/p/itmd9c1091d0a662?pid=MOBGE2KYE4DA7ZPF&lid=LSTMOBGE2KYE4DA7ZPFIXECD0&marketplace=FLIPKART&q=smartphone&store=tyy%2F4io&srno=s_1_17&otracker=search&otracker1=search&fm=organic&iid=f39c8410-dfb7-4bf8-8f8e-2e415bc9aaa8.MOBGE2KYE4DA7ZPF.SEARCH&ppt=hp&ppn=homepage&ssid=mkukrifwg00000001662037891237&qH=1036ba3c4ed2c021', 'https://www.flipkart.com/realme-8i-space-purple-128-gb/p/itm7ab6edcb3b2a4?pid=MOBG63YXFYCU2RZZ&lid=LSTMOBG63YXFYCU2RZZSCRPAO&marketplace=FLIPKART&q=smartphone&store=tyy%2F4io&srno=s_1_18&otracker=search&otracker1=search&fm=organic&iid=f39c8410-dfb7-4bf8-8f8e-2e415bc9aaa8.MOBG63YXFYCU2RZZ.SEARCH&ppt=hp&ppn=homepage&ssid=mkukrifwg00000001662037891237&qH=1036ba3c4ed2c021', 'https://www.flipkart.com/infinix-hot-12-play-horizon-blue-64-gb/p/itmd9c1091d0a662?pid=MOBGE2KYCFZA7BRB&lid=LSTMOBGE2KYCFZA7BRBUNTJVL&marketplace=FLIPKART&q=smartphone&store=tyy%2F4io&srno=s_1_19&otracker=search&otracker1=search&fm=organic&iid=f39c8410-dfb7-4bf8-8f8e-2e415bc9aaa8.MOBGE2KYCFZA7BRB.SEARCH&ppt=hp&ppn=homepage&ssid=mkukrifwg00000001662037891237&qH=1036ba3c4ed2c021', 'https://www.flipkart.com/kall-z12-sky-blue-64-gb/p/itm8ace850a17bef?pid=MOBGGUPQCKYHZGJG&lid=LSTMOBGGUPQCKYHZGJGEPZH0F&marketplace=FLIPKART&q=smartphone&store=tyy%2F4io&srno=s_1_20&otracker=search&otracker1=search&fm=organic&iid=en_cX8wQdJBsr2W6uvUxemTRBhtf3idA9FaeEKL8Lv3xDPnrSfaB04uTwuV%2FgnlDKuKqDNm1%2BRRZ31L2%2BmfpnMNQQ%3D%3D&ppt=hp&ppn=homepage&ssid=mkukrifwg00000001662037891237&qH=1036ba3c4ed2c021', 'https://www.flipkart.com/realme-c31-light-silver-32-gb/p/itme0f2960da9bbb?pid=MOBGCGVA3DANQNQH&lid=LSTMOBGCGVA3DANQNQHTX9MYD&marketplace=FLIPKART&q=smartphone&store=tyy%2F4io&srno=s_1_21&otracker=search&otracker1=search&fm=organic&iid=f39c8410-dfb7-4bf8-8f8e-2e415bc9aaa8.MOBGCGVA3DANQNQH.SEARCH&ppt=hp&ppn=homepage&ssid=mkukrifwg00000001662037891237&qH=1036ba3c4ed2c021', 'https://www.flipkart.com/realme-c31-dark-green-64-gb/p/itme0f2960da9bbb?pid=MOBGCGVAZXRCZJNE&lid=LSTMOBGCGVAZXRCZJNEAEVV0M&marketplace=FLIPKART&q=smartphone&store=tyy%2F4io&srno=s_1_22&otracker=search&otracker1=search&fm=organic&iid=f39c8410-dfb7-4bf8-8f8e-2e415bc9aaa8.MOBGCGVAZXRCZJNE.SEARCH&ppt=hp&ppn=homepage&ssid=mkukrifwg00000001662037891237&qH=1036ba3c4ed2c021', 'https://www.flipkart.com/realme-c31-dark-green-32-gb/p/itme0f2960da9bbb?pid=MOBGCGVAXYT3EGYR&lid=LSTMOBGCGVAXYT3EGYRW8CSTQ&marketplace=FLIPKART&q=smartphone&store=tyy%2F4io&srno=s_1_23&otracker=search&otracker1=search&fm=organic&iid=f39c8410-dfb7-4bf8-8f8e-2e415bc9aaa8.MOBGCGVAXYT3EGYR.SEARCH&ppt=hp&ppn=homepage&ssid=mkukrifwg00000001662037891237&qH=1036ba3c4ed2c021', 'https://www.flipkart.com/kall-k470-dark-blue-32-gb/p/itmab797d0aeb0eb?pid=MOBGGVXKWXJTSAP7&lid=LSTMOBGGVXKWXJTSAP7A2TTN9&marketplace=FLIPKART&q=smartphone&store=tyy%2F4io&srno=s_1_24&otracker=search&otracker1=search&fm=organic&iid=en_cX8wQdJBsr2W6uvUxemTRBhtf3idA9FaeEKL8Lv3xDPviM2XlynRA9CTOh5rBW%2B0QAFxrX5IWVDE96%2FXRHiKrw%3D%3D&ppt=hp&ppn=homepage&ssid=mkukrifwg00000001662037891237&qH=1036ba3c4ed2c021']\n",
      "24\n"
     ]
    }
   ],
   "source": [
    "url=[]\n",
    "url_tags=driver.find_elements(By.XPATH,'//a[@class=\"_1fQZEK\"]')\n",
    "for i in url_tags:\n",
    "    url.append(i.get_attribute('href'))\n",
    "    \n",
    "print(url) \n",
    "print(len(url))"
   ]
  },
  {
   "cell_type": "code",
   "execution_count": 67,
   "id": "6eac98ca",
   "metadata": {},
   "outputs": [
    {
     "data": {
      "text/html": [
       "<div>\n",
       "<style scoped>\n",
       "    .dataframe tbody tr th:only-of-type {\n",
       "        vertical-align: middle;\n",
       "    }\n",
       "\n",
       "    .dataframe tbody tr th {\n",
       "        vertical-align: top;\n",
       "    }\n",
       "\n",
       "    .dataframe thead th {\n",
       "        text-align: right;\n",
       "    }\n",
       "</style>\n",
       "<table border=\"1\" class=\"dataframe\">\n",
       "  <thead>\n",
       "    <tr style=\"text-align: right;\">\n",
       "      <th></th>\n",
       "      <th>Brand Name</th>\n",
       "      <th>Smartphone Name</th>\n",
       "      <th>Colour</th>\n",
       "      <th>RAM/ROM/ CAMERA/DISPLAY/BATTERY cAPACITY</th>\n",
       "      <th>Price</th>\n",
       "      <th>url link</th>\n",
       "    </tr>\n",
       "  </thead>\n",
       "  <tbody>\n",
       "    <tr>\n",
       "      <th>0</th>\n",
       "      <td>APPLE</td>\n",
       "      <td>APPLE iPhone 11</td>\n",
       "      <td>White  )</td>\n",
       "      <td>128 GB ROM\\n15.49 cm (6.1 inch) Liquid Retina ...</td>\n",
       "      <td>₹54,900</td>\n",
       "      <td>https://www.flipkart.com/apple-iphone-11-white...</td>\n",
       "    </tr>\n",
       "    <tr>\n",
       "      <th>1</th>\n",
       "      <td>realme</td>\n",
       "      <td>realme C21Y</td>\n",
       "      <td>Cross Black  )</td>\n",
       "      <td>4 GB RAM | 64 GB ROM | Expandable Upto 256 GB\\...</td>\n",
       "      <td>₹10,599</td>\n",
       "      <td>https://www.flipkart.com/realme-c21y-cross-bla...</td>\n",
       "    </tr>\n",
       "    <tr>\n",
       "      <th>2</th>\n",
       "      <td>realme</td>\n",
       "      <td>realme C21Y</td>\n",
       "      <td>Cross Blue  )</td>\n",
       "      <td>3 GB RAM | 32 GB ROM | Expandable Upto 256 GB\\...</td>\n",
       "      <td>₹9,499</td>\n",
       "      <td>https://www.flipkart.com/realme-c21y-cross-blu...</td>\n",
       "    </tr>\n",
       "    <tr>\n",
       "      <th>3</th>\n",
       "      <td>I</td>\n",
       "      <td>I Kall K401</td>\n",
       "      <td>Dark Blue  )</td>\n",
       "      <td>4 GB RAM | 64 GB ROM | Expandable Upto 64 GB\\n...</td>\n",
       "      <td>₹6,999</td>\n",
       "      <td>https://www.flipkart.com/kall-k401-dark-blue-6...</td>\n",
       "    </tr>\n",
       "    <tr>\n",
       "      <th>4</th>\n",
       "      <td>realme</td>\n",
       "      <td>realme C21Y</td>\n",
       "      <td>Cross Black  )</td>\n",
       "      <td>3 GB RAM | 32 GB ROM | Expandable Upto 256 GB\\...</td>\n",
       "      <td>₹9,499</td>\n",
       "      <td>https://www.flipkart.com/realme-c21y-cross-bla...</td>\n",
       "    </tr>\n",
       "    <tr>\n",
       "      <th>5</th>\n",
       "      <td>realme</td>\n",
       "      <td>realme C11 2021</td>\n",
       "      <td>Cool Blue  )</td>\n",
       "      <td>2 GB RAM | 32 GB ROM | Expandable Upto 256 GB\\...</td>\n",
       "      <td>₹7,499</td>\n",
       "      <td>https://www.flipkart.com/realme-c11-2021-cool-...</td>\n",
       "    </tr>\n",
       "    <tr>\n",
       "      <th>6</th>\n",
       "      <td>realme</td>\n",
       "      <td>realme C11 2021</td>\n",
       "      <td>Cool Grey  )</td>\n",
       "      <td>2 GB RAM | 32 GB ROM | Expandable Upto 256 GB\\...</td>\n",
       "      <td>₹7,499</td>\n",
       "      <td>https://www.flipkart.com/realme-c11-2021-cool-...</td>\n",
       "    </tr>\n",
       "    <tr>\n",
       "      <th>7</th>\n",
       "      <td>I</td>\n",
       "      <td>I Kall K450</td>\n",
       "      <td>Dark Blue  )</td>\n",
       "      <td>4 GB RAM | 32 GB ROM | Expandable Upto 64 GB\\n...</td>\n",
       "      <td>₹6,699</td>\n",
       "      <td>https://www.flipkart.com/kall-k450-dark-blue-3...</td>\n",
       "    </tr>\n",
       "    <tr>\n",
       "      <th>8</th>\n",
       "      <td>realme</td>\n",
       "      <td>realme C11 2021</td>\n",
       "      <td>Cool Grey  )</td>\n",
       "      <td>4 GB RAM | 64 GB ROM | Expandable Upto 256 GB\\...</td>\n",
       "      <td>₹8,999</td>\n",
       "      <td>https://www.flipkart.com/realme-c11-2021-cool-...</td>\n",
       "    </tr>\n",
       "    <tr>\n",
       "      <th>9</th>\n",
       "      <td>realme</td>\n",
       "      <td>realme 8i</td>\n",
       "      <td>Space Purple  )</td>\n",
       "      <td>4 GB RAM | 64 GB ROM | Expandable Upto 256 GB\\...</td>\n",
       "      <td>₹14,049</td>\n",
       "      <td>https://www.flipkart.com/realme-8i-space-purpl...</td>\n",
       "    </tr>\n",
       "    <tr>\n",
       "      <th>10</th>\n",
       "      <td>APPLE</td>\n",
       "      <td>APPLE iPhone 11</td>\n",
       "      <td>Black  )</td>\n",
       "      <td>128 GB ROM\\n15.49 cm (6.1 inch) Liquid Retina ...</td>\n",
       "      <td>₹54,900</td>\n",
       "      <td>https://www.flipkart.com/apple-iphone-11-black...</td>\n",
       "    </tr>\n",
       "    <tr>\n",
       "      <th>11</th>\n",
       "      <td>I</td>\n",
       "      <td>I Kall Z2 Green</td>\n",
       "      <td>Green 16 )</td>\n",
       "      <td>3 GB RAM | 16 GB ROM | Expandable Upto 64 GB\\n...</td>\n",
       "      <td>₹4,999</td>\n",
       "      <td>https://www.flipkart.com/kall-z2-green-green-1...</td>\n",
       "    </tr>\n",
       "    <tr>\n",
       "      <th>12</th>\n",
       "      <td>realme</td>\n",
       "      <td>realme C11 2021</td>\n",
       "      <td>Cool Blue  )</td>\n",
       "      <td>4 GB RAM | 64 GB ROM | Expandable Upto 256 GB\\...</td>\n",
       "      <td>₹8,999</td>\n",
       "      <td>https://www.flipkart.com/realme-c11-2021-cool-...</td>\n",
       "    </tr>\n",
       "    <tr>\n",
       "      <th>13</th>\n",
       "      <td>APPLE</td>\n",
       "      <td>APPLE iPhone 11</td>\n",
       "      <td>White  )</td>\n",
       "      <td>64 GB ROM\\n15.49 cm (6.1 inch) Liquid Retina H...</td>\n",
       "      <td>₹39,999</td>\n",
       "      <td>https://www.flipkart.com/apple-iphone-11-white...</td>\n",
       "    </tr>\n",
       "    <tr>\n",
       "      <th>14</th>\n",
       "      <td>realme</td>\n",
       "      <td>realme C21Y</td>\n",
       "      <td>Cross Blue  )</td>\n",
       "      <td>4 GB RAM | 64 GB ROM | Expandable Upto 256 GB\\...</td>\n",
       "      <td>₹10,599</td>\n",
       "      <td>https://www.flipkart.com/realme-c21y-cross-blu...</td>\n",
       "    </tr>\n",
       "    <tr>\n",
       "      <th>15</th>\n",
       "      <td>I</td>\n",
       "      <td>I Kall Z2 PRO</td>\n",
       "      <td>Dark Blue 16 )</td>\n",
       "      <td>3 GB RAM | 16 GB ROM | Expandable Upto 64 GB\\n...</td>\n",
       "      <td>₹4,999</td>\n",
       "      <td>https://www.flipkart.com/kall-z2-pro-dark-blue...</td>\n",
       "    </tr>\n",
       "    <tr>\n",
       "      <th>16</th>\n",
       "      <td>Infinix</td>\n",
       "      <td>Infinix HOT 12 Play</td>\n",
       "      <td>Champagne Gold  )</td>\n",
       "      <td>4 GB RAM | 64 GB ROM | Expandable Upto 256 GB\\...</td>\n",
       "      <td>₹8,999</td>\n",
       "      <td>https://www.flipkart.com/infinix-hot-12-play-c...</td>\n",
       "    </tr>\n",
       "    <tr>\n",
       "      <th>17</th>\n",
       "      <td>realme</td>\n",
       "      <td>realme 8i</td>\n",
       "      <td>Space Purple  )</td>\n",
       "      <td>6 GB RAM | 128 GB ROM | Expandable Upto 256 GB...</td>\n",
       "      <td>₹16,009</td>\n",
       "      <td>https://www.flipkart.com/realme-8i-space-purpl...</td>\n",
       "    </tr>\n",
       "    <tr>\n",
       "      <th>18</th>\n",
       "      <td>Infinix</td>\n",
       "      <td>Infinix HOT 12 Play</td>\n",
       "      <td>Horizon Blue  )</td>\n",
       "      <td>4 GB RAM | 64 GB ROM | Expandable Upto 256 GB\\...</td>\n",
       "      <td>₹8,999</td>\n",
       "      <td>https://www.flipkart.com/infinix-hot-12-play-h...</td>\n",
       "    </tr>\n",
       "    <tr>\n",
       "      <th>19</th>\n",
       "      <td>I</td>\n",
       "      <td>I Kall Z12</td>\n",
       "      <td>SKY BLUE  )</td>\n",
       "      <td>4 GB RAM | 64 GB ROM | Expandable Upto 64 GB\\n...</td>\n",
       "      <td>₹7,299</td>\n",
       "      <td>https://www.flipkart.com/kall-z12-sky-blue-64-...</td>\n",
       "    </tr>\n",
       "    <tr>\n",
       "      <th>20</th>\n",
       "      <td>realme</td>\n",
       "      <td>realme C31</td>\n",
       "      <td>Light Silver  )</td>\n",
       "      <td>3 GB RAM | 32 GB ROM | Expandable Upto 1 TB\\n1...</td>\n",
       "      <td>₹9,299</td>\n",
       "      <td>https://www.flipkart.com/realme-c31-light-silv...</td>\n",
       "    </tr>\n",
       "    <tr>\n",
       "      <th>21</th>\n",
       "      <td>realme</td>\n",
       "      <td>realme C31</td>\n",
       "      <td>Dark Green  )</td>\n",
       "      <td>4 GB RAM | 64 GB ROM | Expandable Upto 1 TB\\n1...</td>\n",
       "      <td>₹10,079</td>\n",
       "      <td>https://www.flipkart.com/realme-c31-dark-green...</td>\n",
       "    </tr>\n",
       "    <tr>\n",
       "      <th>22</th>\n",
       "      <td>realme</td>\n",
       "      <td>realme C31</td>\n",
       "      <td>Dark Green  )</td>\n",
       "      <td>3 GB RAM | 32 GB ROM | Expandable Upto 1 TB\\n1...</td>\n",
       "      <td>₹9,299</td>\n",
       "      <td>https://www.flipkart.com/realme-c31-dark-green...</td>\n",
       "    </tr>\n",
       "    <tr>\n",
       "      <th>23</th>\n",
       "      <td>I</td>\n",
       "      <td>I Kall K470</td>\n",
       "      <td>Dark Blue  )</td>\n",
       "      <td>4 GB RAM | 32 GB ROM | Expandable Upto 64 GB\\n...</td>\n",
       "      <td>₹6,799</td>\n",
       "      <td>https://www.flipkart.com/kall-k470-dark-blue-3...</td>\n",
       "    </tr>\n",
       "  </tbody>\n",
       "</table>\n",
       "</div>"
      ],
      "text/plain": [
       "   Brand Name       Smartphone Name             Colour  \\\n",
       "0       APPLE      APPLE iPhone 11            White  )   \n",
       "1      realme          realme C21Y      Cross Black  )   \n",
       "2      realme          realme C21Y       Cross Blue  )   \n",
       "3           I          I Kall K401        Dark Blue  )   \n",
       "4      realme          realme C21Y      Cross Black  )   \n",
       "5      realme      realme C11 2021        Cool Blue  )   \n",
       "6      realme      realme C11 2021        Cool Grey  )   \n",
       "7           I          I Kall K450        Dark Blue  )   \n",
       "8      realme      realme C11 2021        Cool Grey  )   \n",
       "9      realme            realme 8i     Space Purple  )   \n",
       "10      APPLE      APPLE iPhone 11            Black  )   \n",
       "11          I      I Kall Z2 Green          Green 16 )   \n",
       "12     realme      realme C11 2021        Cool Blue  )   \n",
       "13      APPLE      APPLE iPhone 11            White  )   \n",
       "14     realme          realme C21Y       Cross Blue  )   \n",
       "15          I        I Kall Z2 PRO      Dark Blue 16 )   \n",
       "16    Infinix  Infinix HOT 12 Play   Champagne Gold  )   \n",
       "17     realme            realme 8i     Space Purple  )   \n",
       "18    Infinix  Infinix HOT 12 Play     Horizon Blue  )   \n",
       "19          I           I Kall Z12         SKY BLUE  )   \n",
       "20     realme           realme C31     Light Silver  )   \n",
       "21     realme           realme C31       Dark Green  )   \n",
       "22     realme           realme C31       Dark Green  )   \n",
       "23          I          I Kall K470        Dark Blue  )   \n",
       "\n",
       "             RAM/ROM/ CAMERA/DISPLAY/BATTERY cAPACITY    Price  \\\n",
       "0   128 GB ROM\\n15.49 cm (6.1 inch) Liquid Retina ...  ₹54,900   \n",
       "1   4 GB RAM | 64 GB ROM | Expandable Upto 256 GB\\...  ₹10,599   \n",
       "2   3 GB RAM | 32 GB ROM | Expandable Upto 256 GB\\...   ₹9,499   \n",
       "3   4 GB RAM | 64 GB ROM | Expandable Upto 64 GB\\n...   ₹6,999   \n",
       "4   3 GB RAM | 32 GB ROM | Expandable Upto 256 GB\\...   ₹9,499   \n",
       "5   2 GB RAM | 32 GB ROM | Expandable Upto 256 GB\\...   ₹7,499   \n",
       "6   2 GB RAM | 32 GB ROM | Expandable Upto 256 GB\\...   ₹7,499   \n",
       "7   4 GB RAM | 32 GB ROM | Expandable Upto 64 GB\\n...   ₹6,699   \n",
       "8   4 GB RAM | 64 GB ROM | Expandable Upto 256 GB\\...   ₹8,999   \n",
       "9   4 GB RAM | 64 GB ROM | Expandable Upto 256 GB\\...  ₹14,049   \n",
       "10  128 GB ROM\\n15.49 cm (6.1 inch) Liquid Retina ...  ₹54,900   \n",
       "11  3 GB RAM | 16 GB ROM | Expandable Upto 64 GB\\n...   ₹4,999   \n",
       "12  4 GB RAM | 64 GB ROM | Expandable Upto 256 GB\\...   ₹8,999   \n",
       "13  64 GB ROM\\n15.49 cm (6.1 inch) Liquid Retina H...  ₹39,999   \n",
       "14  4 GB RAM | 64 GB ROM | Expandable Upto 256 GB\\...  ₹10,599   \n",
       "15  3 GB RAM | 16 GB ROM | Expandable Upto 64 GB\\n...   ₹4,999   \n",
       "16  4 GB RAM | 64 GB ROM | Expandable Upto 256 GB\\...   ₹8,999   \n",
       "17  6 GB RAM | 128 GB ROM | Expandable Upto 256 GB...  ₹16,009   \n",
       "18  4 GB RAM | 64 GB ROM | Expandable Upto 256 GB\\...   ₹8,999   \n",
       "19  4 GB RAM | 64 GB ROM | Expandable Upto 64 GB\\n...   ₹7,299   \n",
       "20  3 GB RAM | 32 GB ROM | Expandable Upto 1 TB\\n1...   ₹9,299   \n",
       "21  4 GB RAM | 64 GB ROM | Expandable Upto 1 TB\\n1...  ₹10,079   \n",
       "22  3 GB RAM | 32 GB ROM | Expandable Upto 1 TB\\n1...   ₹9,299   \n",
       "23  4 GB RAM | 32 GB ROM | Expandable Upto 64 GB\\n...   ₹6,799   \n",
       "\n",
       "                                             url link  \n",
       "0   https://www.flipkart.com/apple-iphone-11-white...  \n",
       "1   https://www.flipkart.com/realme-c21y-cross-bla...  \n",
       "2   https://www.flipkart.com/realme-c21y-cross-blu...  \n",
       "3   https://www.flipkart.com/kall-k401-dark-blue-6...  \n",
       "4   https://www.flipkart.com/realme-c21y-cross-bla...  \n",
       "5   https://www.flipkart.com/realme-c11-2021-cool-...  \n",
       "6   https://www.flipkart.com/realme-c11-2021-cool-...  \n",
       "7   https://www.flipkart.com/kall-k450-dark-blue-3...  \n",
       "8   https://www.flipkart.com/realme-c11-2021-cool-...  \n",
       "9   https://www.flipkart.com/realme-8i-space-purpl...  \n",
       "10  https://www.flipkart.com/apple-iphone-11-black...  \n",
       "11  https://www.flipkart.com/kall-z2-green-green-1...  \n",
       "12  https://www.flipkart.com/realme-c11-2021-cool-...  \n",
       "13  https://www.flipkart.com/apple-iphone-11-white...  \n",
       "14  https://www.flipkart.com/realme-c21y-cross-blu...  \n",
       "15  https://www.flipkart.com/kall-z2-pro-dark-blue...  \n",
       "16  https://www.flipkart.com/infinix-hot-12-play-c...  \n",
       "17  https://www.flipkart.com/realme-8i-space-purpl...  \n",
       "18  https://www.flipkart.com/infinix-hot-12-play-h...  \n",
       "19  https://www.flipkart.com/kall-z12-sky-blue-64-...  \n",
       "20  https://www.flipkart.com/realme-c31-light-silv...  \n",
       "21  https://www.flipkart.com/realme-c31-dark-green...  \n",
       "22  https://www.flipkart.com/realme-c31-dark-green...  \n",
       "23  https://www.flipkart.com/kall-k470-dark-blue-3...  "
      ]
     },
     "execution_count": 67,
     "metadata": {},
     "output_type": "execute_result"
    }
   ],
   "source": [
    "df=pd.DataFrame({'Brand Name':brand, 'Smartphone Name':smartphone, 'Colour':colour, 'RAM/ROM/ CAMERA/DISPLAY/BATTERY cAPACITY':ram, 'Price':price, 'url link':url})\n",
    "df"
   ]
  },
  {
   "cell_type": "markdown",
   "id": "6e1ecda0",
   "metadata": {},
   "source": [
    "# 6. Write a program to scrap details of all the funding deals for second quarter (i.e Jan 21 – March 21) from trak.in."
   ]
  },
  {
   "cell_type": "code",
   "execution_count": 68,
   "id": "8987069a",
   "metadata": {},
   "outputs": [],
   "source": [
    "driver.get('https://trak.in/')"
   ]
  },
  {
   "cell_type": "code",
   "execution_count": 69,
   "id": "49a472a4",
   "metadata": {},
   "outputs": [],
   "source": [
    "search=driver.find_element(By.XPATH,'/html/body/div[1]/header/div[2]/div/div/div/div/nav/ul/li[9]')\n",
    "search.click()"
   ]
  },
  {
   "cell_type": "markdown",
   "id": "729eeee9",
   "metadata": {},
   "source": [
    "FOR JAN MONTH"
   ]
  },
  {
   "cell_type": "code",
   "execution_count": 70,
   "id": "2585e376",
   "metadata": {},
   "outputs": [
    {
     "name": "stdout",
     "output_type": "stream",
     "text": [
      "[\"Show102550100entriesSearch:Sr. No. Date (dd/mm/yyyy) Startup Name Industry / Vertical Sub-Vertical City / Location Investors' Name Investment Type Amount (In USD)1 15/01/2021 Digit Insurance Financial Services Insurance Services Bengaluru A91 Partners, Faering Capital, TVS Capital Funds Venture 1,80,00,0002 28/01/2021 Bombay Shaving Company Consumer Goods Company Shave care, beard care, and skincare products New Delhi Reckitt Benckiser Venture 6,172,258.503 19/01/2021 DeHaat AgriTech Startup online marketplace for farm products and services Patna Prosus Ventures Series C 30,000,0004 19/01/2021 Darwinbox SaaS HR Tech Mumbai Salesforce Ventures Seed 15,000,0005 18/01/2021 mfine Health Tech Startup AI-powered telemedicine mobile app Bengaluru Heritas Capital Management Venture Round 16,000,0006 18/01/2021 Udayy EdTech Online learning platform for kids in class 1-5 Gurgaon Sequoia Capital Seed Funding 15,000,0007 11/01/2021 True Elements Food Startup Whole Food plant based Nashta Pune SIDBI Venture Capital Series 100,000,0008 13/01/2021 Saveo B2B E-commerce Pharmacies Bengaluru Matrix Partners India, RTP Global, others Seed 4,000,000Showing 1 to 8 of 8 entriesPreviousNext\"]\n",
      "1\n"
     ]
    }
   ],
   "source": [
    "jan=[]\n",
    "jan_tags=driver.find_elements(By.XPATH,'//div[@id=\"tablepress-54_wrapper\"]')\n",
    "for i in jan_tags:\n",
    "    jan.append(i.text.replace('\\n',''))\n",
    "    \n",
    "print(jan)\n",
    "print(len(jan))"
   ]
  },
  {
   "cell_type": "code",
   "execution_count": 71,
   "id": "d6a1d86c",
   "metadata": {},
   "outputs": [
    {
     "name": "stdout",
     "output_type": "stream",
     "text": [
      "[\"Show102550100entriesSearch:Sr. No. Date (dd/mm/yyyy) Startup Name Industry / Vertical Sub-Vertical City / Location Investors' Name Investment Type Amount (In USD)1 11/02/2021 Doubtnut Edu Tech E-Learning Platform Gurgaon SIG Global, Sequoia Capital, WaterBridge Ventures and ON Mauritius Series B 2,500,0002 22/02/2021 Zomato Hospitality Online Food Delivery Platform Gurgaon Tiger Global, Kora Venture 250,000,0003 19/02/2021 Fingerlix Hospitality Semi-cooked food delivery app Mumbai Rhodium Trust, Accel Partners and Swiggy Series C 2,747,045.204 17/02/2021 Zolve FinTech Global Neobank Venture Mumbai Accel Partners and Lightspeed Venture Partners Seed 1,50,00,0005 15/02/2021 KreditBee Finance Digital lending platform Bengaluru Azim Premji’s PremjiInvest and South Korea’s Mirae Asset Venture Series C 75,000,0006 12/02/2021 Pepperfry E-commerce Multi-brand furniture brand Mumbai InnoVen Capital Debt Financing 4,773,9587 12/02/2021 Grofers E-Commerce Online supermarket Gurgaon SoftBank Vision Fund (SVF) Unspecified 55,000,0008 09/02/2021 Nothing Technology Consumer Technology Venture London GV Series A 15,000,0009 09/02/2021 SplashLearn EdTech Game-based learning programme Gurgaon Owl Ventures Series C 18,000,000Showing 1 to 9 of 9 entriesPreviousNext\"]\n",
      "1\n"
     ]
    }
   ],
   "source": [
    "feb=[]\n",
    "feb_tags=driver.find_elements(By.XPATH,'//div[@id=\"tablepress-55_wrapper\"]')\n",
    "for i in feb_tags:\n",
    "    feb.append(i.text.replace('\\n',''))\n",
    "    \n",
    "print(feb)\n",
    "print(len(feb))"
   ]
  },
  {
   "cell_type": "code",
   "execution_count": 72,
   "id": "8002db38",
   "metadata": {},
   "outputs": [
    {
     "name": "stdout",
     "output_type": "stream",
     "text": [
      "[\"Show102550100entriesSearch:Sr. No. Date (dd/mm/yyyy) Startup Name Industry / Vertical Sub-Vertical City / Location Investors' Name Investment Type Amount (In USD)1 04/03/2021 DealShare E-commerce Online shopping platform Jaipur, Rajasthan Innoven Capital Debt Financing 250,000,0002 31/03/2021 Uniphore Technology Conversational Service Automation (CSA) Palo Alto Sorenson Capital Partners Series D 140,000,0003 30/03/2021 Dunzo E-commerce Hyper-local delivery app Bengaluru Krishtal Advisors Pte Ltd Series E 8,000,0004 30/03/2021 BYJU’S Edu-tech Online tutoring Bengaluru MC Global Edtech, B Capital, Baron, others Series F 460,000,0005 23/03/2021 SkilloVilla Edu-tech Career and job-oriented upskilling. Bengaluru Titan Capital, others Seed 300,000,0006 25/03/2021 CityMall E-commerce Social ecommerce and online grocery platform Gurgaon Accel Partners Series A 11,000,0007 26/03/2021 DotPe FinTech Commerce and payments platform to offline enterprise businesses. Gurgaon PayU Series A 27,500,000Showing 1 to 7 of 7 entriesPreviousNext\"]\n",
      "1\n"
     ]
    }
   ],
   "source": [
    "mar=[]\n",
    "mar_tags=driver.find_elements(By.XPATH,'//div[@id=\"tablepress-56_wrapper\"]')\n",
    "for i in mar_tags:\n",
    "    mar.append(i.text.replace('\\n',''))\n",
    "    \n",
    "print(mar)\n",
    "print(len(mar))"
   ]
  },
  {
   "cell_type": "code",
   "execution_count": 73,
   "id": "60184504",
   "metadata": {},
   "outputs": [
    {
     "data": {
      "text/html": [
       "<div>\n",
       "<style scoped>\n",
       "    .dataframe tbody tr th:only-of-type {\n",
       "        vertical-align: middle;\n",
       "    }\n",
       "\n",
       "    .dataframe tbody tr th {\n",
       "        vertical-align: top;\n",
       "    }\n",
       "\n",
       "    .dataframe thead th {\n",
       "        text-align: right;\n",
       "    }\n",
       "</style>\n",
       "<table border=\"1\" class=\"dataframe\">\n",
       "  <thead>\n",
       "    <tr style=\"text-align: right;\">\n",
       "      <th></th>\n",
       "      <th>JAN MONTH</th>\n",
       "      <th>FEB MONTH</th>\n",
       "      <th>MARCH MONTH</th>\n",
       "    </tr>\n",
       "  </thead>\n",
       "  <tbody>\n",
       "    <tr>\n",
       "      <th>0</th>\n",
       "      <td>Show102550100entriesSearch:Sr. No. Date (dd/mm...</td>\n",
       "      <td>Show102550100entriesSearch:Sr. No. Date (dd/mm...</td>\n",
       "      <td>Show102550100entriesSearch:Sr. No. Date (dd/mm...</td>\n",
       "    </tr>\n",
       "  </tbody>\n",
       "</table>\n",
       "</div>"
      ],
      "text/plain": [
       "                                           JAN MONTH  \\\n",
       "0  Show102550100entriesSearch:Sr. No. Date (dd/mm...   \n",
       "\n",
       "                                           FEB MONTH  \\\n",
       "0  Show102550100entriesSearch:Sr. No. Date (dd/mm...   \n",
       "\n",
       "                                         MARCH MONTH  \n",
       "0  Show102550100entriesSearch:Sr. No. Date (dd/mm...  "
      ]
     },
     "execution_count": 73,
     "metadata": {},
     "output_type": "execute_result"
    }
   ],
   "source": [
    "df=pd.DataFrame({'JAN MONTH':jan, 'FEB MONTH':feb, 'MARCH MONTH':mar})\n",
    "df"
   ]
  },
  {
   "cell_type": "markdown",
   "id": "394df584",
   "metadata": {},
   "source": [
    "# 7. Write a program to scrap all the available details of best gaming laptops from digit.in."
   ]
  },
  {
   "cell_type": "code",
   "execution_count": 74,
   "id": "3d4de748",
   "metadata": {},
   "outputs": [],
   "source": [
    "driver.get('https://www.digit.in/')"
   ]
  },
  {
   "cell_type": "code",
   "execution_count": 75,
   "id": "245ec960",
   "metadata": {},
   "outputs": [
    {
     "data": {
      "text/plain": [
       "'Best Gaming Laptops in India'"
      ]
     },
     "execution_count": 75,
     "metadata": {},
     "output_type": "execute_result"
    }
   ],
   "source": [
    "link=driver.find_element(By.XPATH,'/html/body/div[3]/div/div[2]/div[2]/div[4]/ul/li[9]/a')\n",
    "link.text"
   ]
  },
  {
   "cell_type": "code",
   "execution_count": 76,
   "id": "e91ea99a",
   "metadata": {},
   "outputs": [],
   "source": [
    "link.click()"
   ]
  },
  {
   "cell_type": "code",
   "execution_count": 77,
   "id": "ab774d5d",
   "metadata": {},
   "outputs": [
    {
     "name": "stdout",
     "output_type": "stream",
     "text": [
      "[['', 'MSI Titan GT77-12UHS N/A N/A', 'Alienware x17 R2 Dell ₹ 389,990', 'Acer Predator Triton 500 SE PT516-52s N/A ₹ 300,000', 'Omen by HP (16-B1371TX) Amazon ₹ 194,000', 'Acer Predator Helios 300 AN515-45 (NH.QBRSI.0 N/A ₹ 172,999', 'MSI Delta 15 (A5EFK-083IN) N/A ₹ 188,990', 'Omen by HP (16-c0141AX) Amazon ₹ 129,899', 'Lenovo Legion 5i Pro (82RF00MGIN) N/A ₹ 230,890', 'Alienware m15 R5 Ryzen Edition icc-c780001win Dell ₹ 144,990', 'Lenovo Slim 7 Gen 6 (82K8002JIN) Croma ₹ 131,990']]\n",
      "1\n"
     ]
    }
   ],
   "source": [
    "table=[]\n",
    "table_tags=driver.find_elements(By.XPATH,'//table[@id=\"summtable\"]')\n",
    "\n",
    "for i in table_tags:\n",
    "    table.append(i.text.replace('PRODUCT NAME SELLER PRICE','').split('\\n'))\n",
    "    \n",
    "print(table)\n",
    "print(len(table))"
   ]
  },
  {
   "cell_type": "markdown",
   "id": "57730ef5",
   "metadata": {},
   "source": [
    "# 8. Write a python program to scrape the details for all billionaires from www.forbes.com. Details to be scrapped: “Rank”, “Name”, “Net worth”, “Age”, “Citizenship”, “Source”, “Industry”."
   ]
  },
  {
   "cell_type": "code",
   "execution_count": 88,
   "id": "ada6833f",
   "metadata": {},
   "outputs": [],
   "source": [
    "driver.get('https://www.forbes.com/')"
   ]
  },
  {
   "cell_type": "code",
   "execution_count": 89,
   "id": "6a2cccf5",
   "metadata": {},
   "outputs": [],
   "source": [
    "enter=driver.find_element(By.XPATH,'/html/body/div[1]/main/section[8]/div[1]/a')\n",
    "enter.click()"
   ]
  },
  {
   "cell_type": "code",
   "execution_count": 90,
   "id": "bdc8b342",
   "metadata": {},
   "outputs": [],
   "source": [
    "try:\n",
    "    list=driver.find_element(By.XPATH,'/html/body/div[1]/main/div/section/section[1]/div/div/div[1]/div/div[1]/div[1]/div[2]/a/h2')\n",
    "    list.click()\n",
    "    \n",
    "except:\n",
    "    print('Some error occured')\n",
    "    list=driver.find_element(By.XPATH,'/html/body/div[1]/main/div/section/section[1]/div/div/div[1]/div/div[1]/div[1]/div[2]/a')\n",
    "    list.click()"
   ]
  },
  {
   "cell_type": "code",
   "execution_count": 91,
   "id": "a2797797",
   "metadata": {},
   "outputs": [
    {
     "name": "stdout",
     "output_type": "stream",
     "text": [
      "['1.', '2.', '3.', '4.', '5.', '6.', '7.', '8.', '9.', '10.', '11.', '12.', '13.', '14.', '15.', '16.', '17.', '18.', '19.', '19.', '21.', '21.', '23.', '24.', '25.', '26.', '27.', '28.', '29.', '30.', '31.', '32.', '33.', '34.', '35.', '36.', '37.', '37.', '39.', '40.', '41.', '41.', '43.', '43.', '45.', '46.', '47.', '48.', '49.', '50.', '51.', '52.', '53.', '54.', '55.', '56.', '56.', '56.', '59.', '60.', '61.', '62.', '63.', '64.', '65.', '66.', '67.', '67.', '69.', '70.', '71.', '71.', '73.', '74.', '75.', '76.', '77.', '78.', '79.', '80.', '81.', '82.', '83.', '84.', '85.', '85.', '87.', '88.', '89.', '90.', '91.', '91.', '91.', '94.', '94.', '96.', '97.', '98.', '99.', '100.', '100.', '102.', '103.', '104.', '104.', '106.', '106.', '106.', '106.', '110.', '111.', '112.', '113.', '114.', '115.', '116.', '117.', '117.', '119.', '119.', '121.', '121.', '123.', '123.', '125.', '126.', '127.', '128.', '129.', '130.', '130.', '132.', '133.', '134.', '135.', '135.', '137.', '138.', '138.', '138.', '138.', '142.', '142.', '144.', '144.', '146.', '146.', '146.', '149.', '150.', '151.', '152.', '152.', '154.', '154.', '156.', '156.', '158.', '158.', '158.', '161.', '161.', '163.', '163.', '163.', '166.', '167.', '167.', '167.', '167.', '171.', '171.', '173.', '173.', '173.', '173.', '177.', '177.', '179.', '180.', '180.', '180.', '183.', '183.', '185.', '185.', '185.', '188.', '188.', '188.', '191.', '192.', '192.', '192.', '192.', '192.', '197.', '197.', '197.', '197.']\n",
      "200\n"
     ]
    }
   ],
   "source": [
    "rank=[]\n",
    "rank_tags=driver.find_elements(By.XPATH,'//div[@class=\"rank\"]')\n",
    "for i in rank_tags:\n",
    "    rank.append(i.text)\n",
    "print(rank)\n",
    "print(len(rank))"
   ]
  },
  {
   "cell_type": "code",
   "execution_count": 92,
   "id": "110856d8",
   "metadata": {},
   "outputs": [
    {
     "name": "stdout",
     "output_type": "stream",
     "text": [
      "['Elon Musk', 'Jeff Bezos', 'Bernard Arnault & family', 'Bill Gates', 'Warren Buffett', 'Larry Page', 'Sergey Brin', 'Larry Ellison', 'Steve Ballmer', 'Mukesh Ambani', 'Gautam Adani & family', 'Michael Bloomberg', 'Carlos Slim Helu & family', 'Francoise Bettencourt Meyers & family', 'Mark Zuckerberg', 'Jim Walton', 'Zhong Shanshan', 'Alice Walton', 'Rob Walton', 'Changpeng Zhao', 'Charles Koch', 'Julia Koch & family', 'Amancio Ortega', 'Michael Dell', 'Zhang Yiming', 'David Thomson & family', 'Phil Knight & family', 'Dieter Schwarz', 'Robin Zeng', 'MacKenzie Scott', 'Rodolphe Saadé & family', 'François Pinault & family', 'Klaus-Michael Kuehne', 'Ma Huateng', 'Beate Heister & Karl Albrecht Jr. & family', 'Giovanni Ferrero', 'Li Ka-shing', 'Stephen Schwarzman', 'Lee Shau Kee', 'Len Blavatnik', 'Jacqueline Mars', 'John Mars', 'Alain Wertheimer', 'Gerard Wertheimer', 'German Larrea Mota Velasco & family', 'Gina Rinehart', 'Shiv Nadar', 'Jim Simons', 'He Xiangjian', 'Miriam Adelson', 'Dietrich Mateschitz', 'Leonardo Del Vecchio & family', 'Ken Griffin', 'Tadashi Yanai & family', 'William Lei Ding', 'Susanne Klatten', 'Cyrus Poonawalla', 'Wang Wei', 'Qin Yinglin', 'Sam Bankman-Fried', 'Takemitsu Takizaki', 'Li Shufu', 'Emmanuel Besnier', 'R. Budi Hartono', 'Leonard Lauder', 'Guillaume Pousaz', 'Iris Fontbona & family', 'Jack Ma', 'Michael Hartono', 'Eric Schmidt', 'Ray Dalio', 'Daniel Gilbert', 'Thomas Frist, Jr. & family', 'Masayoshi Son', 'Abigail Johnson', 'Rupert Murdoch & family', 'Stefan Quandt', 'Jensen Huang', 'Huang Shilin', 'Thomas Peterffy', 'Radhakishan Damani', 'Pang Kang', 'Wang Chuanfu', 'Reinhold Wuerth & family', 'Theo Albrecht, Jr. & family', 'Yang Huiyan & family', 'Vladimir Lisin', 'Fan Hongwei & family', 'Lakshmi Mittal', 'Andrew Forrest', 'Jiang Rensheng & family', 'Savitri Jindal & family', 'Wang Wenyin', 'Li Xiting', 'Stefan Persson', 'Steve Cohen', 'Vladimir Potanin', 'Harold Hamm & family', 'Sun Piaoyang', 'Luo Liguo & family', 'Peter Woo', 'Gianluigi & Rafaela Aponte', 'David Tepper', 'Renata Kellnerova & family', 'John Menard, Jr.', 'Kumar Birla', 'Carl Icahn', 'Hank & Doug Meijer', 'Lukas Walton', 'Laurene Powell Jobs & family', 'James Ratcliffe', 'Donald Bren', 'Xu Hang', 'Lu Xiangyang', 'Dilip Shanghvi', 'Wei Jianjun & family', 'Jorge Paulo Lemann & family', 'Eyal Ofer', 'Mike Cannon-Brookes', 'Wu Yajun', 'Charlene de Carvalho-Heineken & family', 'Michael Platt', 'Pavel Durov', 'Scott Farquhar', 'Pallonji Mistry', 'Dang Yanbao', 'Robert Pera', 'Donald Newhouse', 'Uday Kotak', 'Aliko Dangote', 'Leonid Mikhelson', 'Sunil Mittal & family', 'Robert & Philip Ng', 'Liu Hanyuan', 'Joseph Lau', 'Anders Holch Povlsen', 'Dhanin Chearavanont', 'Gong Hongjia & family', 'Liu Yongxing', 'Alexey Mordashov', 'Wang Jianlin', 'David Duffield', 'Li Zhenguo & family', 'Harry Triguboff', 'Zhang Zhidong', 'Chen Bang', 'John Doerr', 'Hinduja brothers', 'Kwong Siu-hing', 'Pei Zhenhua', 'Ricardo Salinas Pliego & family', 'Jim Pattison', 'Charles Schwab', 'Goh Cheng Liang', 'Lin Jianhua & family', 'Charoen Sirivadhanabhakdi', 'Jeff Yass', 'John Fredriksen', 'Andreas Struengmann & family', 'Thomas Struengmann & family', 'Mikhail Fridman', 'Sarath Ratanavadi', 'Robert Kuok', 'Lei Jun', 'Zhang Congyuan', 'Lui Che Woo', 'Brian Chesky', 'Israel Englander', 'Dustin Moskovitz', 'Alisher Usmanov', 'Jay Chaudhry', 'Anthony Pratt', 'Colin Zheng Huang', 'Jin Baofang', 'Pierre Omidyar', 'Gennady Timchenko', 'Carl Cook', 'Andrey Melnichenko', 'Xing Wang', 'Philip Anschutz', 'David Cheriton', 'Alexander Otto', 'Diane Hendricks', 'Stanley Kroenke', 'Jerry Jones', 'Quek Leng Chan', 'Eduardo Saverin', 'Vagit Alekperov', 'Richard Liu', 'Idan Ofer', 'Melker Schorling & family', 'Chase Coleman, III.', 'Shuirong Li', 'Stefano Pessina', 'Mikhail Prokhorov', 'Marcel Herrmann Telles', 'Leon Black', 'Joe Gebbia', 'David Geffen', 'Yu Renrong']\n",
      "200\n"
     ]
    }
   ],
   "source": [
    "name=[]\n",
    "name_tags=driver.find_elements(By.XPATH,'//div[@class=\"personName\"]')\n",
    "for i in name_tags:\n",
    "    name.append(i.text)\n",
    "    \n",
    "print(name)\n",
    "print(len(name))"
   ]
  },
  {
   "cell_type": "code",
   "execution_count": 93,
   "id": "aab94fbb",
   "metadata": {},
   "outputs": [
    {
     "name": "stdout",
     "output_type": "stream",
     "text": [
      "['$219 B', '$171 B', '$158 B', '$129 B', '$118 B', '$111 B', '$107 B', '$106 B', '$91.4 B', '$90.7 B', '$90 B', '$82 B', '$81.2 B', '$74.8 B', '$67.3 B', '$66.2 B', '$65.7 B', '$65.3 B', '$65 B', '$65 B', '$60 B', '$60 B', '$59.6 B', '$55.1 B', '$50 B', '$49.2 B', '$47.3 B', '$47.1 B', '$44.8 B', '$43.6 B', '$41.4 B', '$40.4 B', '$37.3 B', '$37.2 B', '$36.8 B', '$36.2 B', '$34.8 B', '$34.8 B', '$32.6 B', '$32.5 B', '$31.7 B', '$31.7 B', '$31.2 B', '$31.2 B', '$30.8 B', '$30.2 B', '$28.7 B', '$28.6 B', '$28.3 B', '$27.5 B', '$27.4 B', '$27.3 B', '$27.2 B', '$26.1 B', '$25.2 B', '$24.3 B', '$24.3 B', '$24.3 B', '$24.1 B', '$24 B', '$23.9 B', '$23.7 B', '$23.5 B', '$23.2 B', '$23.1 B', '$23 B', '$22.8 B', '$22.8 B', '$22.3 B', '$22.1 B', '$22 B', '$22 B', '$21.8 B', '$21.3 B', '$21.2 B', '$20.8 B', '$20.7 B', '$20.6 B', '$20.3 B', '$20.1 B', '$20 B', '$19.6 B', '$19.5 B', '$19 B', '$18.7 B', '$18.7 B', '$18.4 B', '$18.2 B', '$17.9 B', '$17.8 B', '$17.7 B', '$17.7 B', '$17.7 B', '$17.6 B', '$17.6 B', '$17.4 B', '$17.3 B', '$17.2 B', '$17.1 B', '$17 B', '$17 B', '$16.8 B', '$16.7 B', '$16.6 B', '$16.6 B', '$16.5 B', '$16.5 B', '$16.5 B', '$16.5 B', '$16.4 B', '$16.3 B', '$16.2 B', '$16.1 B', '$15.7 B', '$15.6 B', '$15.5 B', '$15.4 B', '$15.4 B', '$15.3 B', '$15.3 B', '$15.2 B', '$15.2 B', '$15.1 B', '$15.1 B', '$15 B', '$14.8 B', '$14.6 B', '$14.4 B', '$14.3 B', '$14 B', '$14 B', '$13.9 B', '$13.7 B', '$13.65 B', '$13.6 B', '$13.6 B', '$13.5 B', '$13.2 B', '$13.2 B', '$13.2 B', '$13.2 B', '$12.9 B', '$12.9 B', '$12.8 B', '$12.8 B', '$12.7 B', '$12.7 B', '$12.7 B', '$12.6 B', '$12.5 B', '$12.4 B', '$12.2 B', '$12.2 B', '$12.1 B', '$12.1 B', '$12 B', '$12 B', '$11.9 B', '$11.9 B', '$11.9 B', '$11.8 B', '$11.8 B', '$11.7 B', '$11.7 B', '$11.7 B', '$11.6 B', '$11.5 B', '$11.5 B', '$11.5 B', '$11.5 B', '$11.4 B', '$11.4 B', '$11.3 B', '$11.3 B', '$11.3 B', '$11.3 B', '$11.1 B', '$11.1 B', '$11 B', '$10.9 B', '$10.9 B', '$10.9 B', '$10.7 B', '$10.7 B', '$10.6 B', '$10.6 B', '$10.6 B', '$10.5 B', '$10.5 B', '$10.5 B', '$10.4 B', '$10.3 B', '$10.3 B', '$10.3 B', '$10.3 B', '$10.3 B', '$10 B', '$10 B', '$10 B', '$10 B']\n",
      "200\n"
     ]
    }
   ],
   "source": [
    "net_worth=[]\n",
    "worth_tags=driver.find_elements(By.XPATH,'//div[@class=\"netWorth\"]')\n",
    "for i in worth_tags:\n",
    "    net_worth.append(i.text)\n",
    "    \n",
    "print(net_worth)\n",
    "print(len(net_worth))"
   ]
  },
  {
   "cell_type": "code",
   "execution_count": 97,
   "id": "708c32ee",
   "metadata": {},
   "outputs": [
    {
     "name": "stdout",
     "output_type": "stream",
     "text": [
      "['50', '58', '73', '66', '91', '49', '48', '77', '66', '64', '59', '80', '82', '68', '37', '73', '67', '72', '77', '44', '86', '59', '86', '57', '38', '64', '84', '82', '53', '51', '52', '85', '84', '50', 'N/A', '57', '93', '75', '94', '64', '82', '86', '73', '71', '68', '68', '76', '83', '79', '76', '77', '86', '53', '73', '50', '59', '80', '51', '56', '30', '76', '58', '51', '81', '89', '40', '79', '57', '82', '66', '72', '60', '83', '64', '60', '91', '55', '59', '55', '77', '67', '66', '56', '86', '71', '40', '65', '55', '71', '60', '68', '72', '54', '71', '74', '65', '61', '76', '63', '66', '75', '81', '64', '54', '82', '54', '86', 'N/A', '35', '58', '69', '89', '55', '59', '66', '58', '82', '71', '42', '58', '67', '54', '37', '42', '92', '49', '44', '92', '63', '64', '66', '64', 'N/A', '58', '70', '49', '82', '57', '73', '56', '67', '81', '54', '89', '50', '56', '70', 'N/A', '92', '63', '66', '93', '84', '94', '59', '77', '63', '77', '72', '72', '57', '56', '98', '52', '74', '93', '40', '73', '37', '68', '62', '61', '42', '69', '54', '69', '59', '50', '43', '82', '71', '54', '75', '74', '79', '80', '40', '71', '48', '66', '74', '46', '65', '80', '56', '72', '70', '40', '79', '56']\n",
      "200\n"
     ]
    }
   ],
   "source": [
    "age=[]\n",
    "age_tags=driver.find_elements(By.XPATH,'//div[@class=\"age\"]')\n",
    "for i in age_tags:\n",
    "    age.append(i.text)\n",
    "    \n",
    "print(age)\n",
    "print(len(age))"
   ]
  },
  {
   "cell_type": "code",
   "execution_count": 98,
   "id": "d2ca1399",
   "metadata": {},
   "outputs": [
    {
     "name": "stdout",
     "output_type": "stream",
     "text": [
      "['United States', 'United States', 'France', 'United States', 'United States', 'United States', 'United States', 'United States', 'United States', 'India', 'India', 'United States', 'Mexico', 'France', 'United States', 'United States', 'China', 'United States', 'United States', 'Canada', 'United States', 'United States', 'Spain', 'United States', 'China', 'Canada', 'United States', 'Germany', 'Hong Kong', 'United States', 'France', 'France', 'Germany', 'China', 'Germany', 'Italy', 'Hong Kong', 'United States', 'Hong Kong', 'United States', 'United States', 'United States', 'France', 'France', 'Mexico', 'Australia', 'India', 'United States', 'China', 'United States', 'Austria', 'Italy', 'United States', 'Japan', 'China', 'Germany', 'India', 'China', 'China', 'United States', 'Japan', 'China', 'France', 'Indonesia', 'United States', 'Switzerland', 'Chile', 'China', 'Indonesia', 'United States', 'United States', 'United States', 'United States', 'Japan', 'United States', 'United States', 'Germany', 'United States', 'China', 'United States', 'India', 'China', 'China', 'Germany', 'Germany', 'China', 'Russia', 'China', 'India', 'Australia', 'China', 'India', 'China', 'Singapore', 'Sweden', 'United States', 'Russia', 'United States', 'China', 'China', 'Hong Kong', 'Switzerland', 'United States', 'Czechia', 'United States', 'India', 'United States', 'United States', 'United States', 'United States', 'United Kingdom', 'United States', 'Hong Kong', 'China', 'India', 'China', 'Brazil', 'Israel', 'Australia', 'China', 'Netherlands', 'United Kingdom', 'United Arab Emirates', 'Australia', 'Ireland', 'China', 'United States', 'United States', 'India', 'Nigeria', 'Russia', 'India', 'Singapore', 'China', 'Hong Kong', 'Denmark', 'Thailand', 'Hong Kong', 'China', 'Russia', 'China', 'United States', 'China', 'Australia', 'China', 'China', 'United States', 'United Kingdom', 'Hong Kong', 'China', 'Mexico', 'Canada', 'United States', 'Singapore', 'China', 'Thailand', 'United States', 'Cyprus', 'Germany', 'Germany', 'Russia', 'Thailand', 'Malaysia', 'China', 'Taiwan', 'Hong Kong', 'United States', 'United States', 'United States', 'Russia', 'United States', 'Australia', 'China', 'China', 'United States', 'Russia', 'United States', 'Russia', 'China', 'United States', 'Canada', 'Germany', 'United States', 'United States', 'United States', 'Malaysia', 'Brazil', 'Russia', 'China', 'Israel', 'Sweden', 'United States', 'China', 'Monaco', 'Russia', 'Brazil', 'United States', 'United States', 'United States', 'China']\n",
      "200\n"
     ]
    }
   ],
   "source": [
    "citizen=[]\n",
    "citizen_tags=driver.find_elements(By.XPATH,'//div[@class=\"countryOfCitizenship\"]')\n",
    "for i in citizen_tags:\n",
    "    citizen.append(i.text)\n",
    "    \n",
    "print(citizen)\n",
    "print(len(citizen))"
   ]
  },
  {
   "cell_type": "code",
   "execution_count": 99,
   "id": "a958251b",
   "metadata": {},
   "outputs": [
    {
     "name": "stdout",
     "output_type": "stream",
     "text": [
      "['Tesla, SpaceX', 'Amazon', 'LVMH', 'Microsoft', 'Berkshire Hathaway', 'Google', 'Google', 'software', 'Microsoft', 'diversified', 'infrastructure, commodities', 'Bloomberg LP', 'telecom', \"L'Oréal\", 'Facebook', 'Walmart', 'beverages, pharmaceuticals', 'Walmart', 'Walmart', 'cryptocurrency exchange', 'Koch Industries', 'Koch Industries', 'Zara', 'Dell computers', 'TikTok', 'media', 'Nike', 'retail', 'batteries', 'Amazon', 'shipping', 'luxury goods', 'shipping', 'internet media', 'supermarkets', 'Nutella, chocolates', 'diversified', 'investments', 'real estate', 'music, chemicals', 'candy, pet food', 'candy, pet food', 'Chanel', 'Chanel', 'mining', 'mining', 'software services', 'hedge funds', 'home appliances', 'casinos', 'Red Bull', 'eyeglasses', 'hedge funds', 'fashion retail', 'online games', 'BMW, pharmaceuticals', 'vaccines', 'package delivery', 'pig breeding', 'cryptocurrency exchange', 'sensors', 'automobiles', 'cheese', 'banking, tobacco', 'Estee Lauder', 'fintech', 'mining', 'e-commerce', 'banking, tobacco', 'Google', 'hedge funds', 'Quicken Loans', 'hospitals', 'internet, telecom', 'money management', 'newspapers, TV network', 'BMW', 'semiconductors', 'batteries', 'discount brokerage', 'retail, investments', 'soy sauce', 'batteries, automobiles', 'fasteners', \"Aldi, Trader Joe's\", 'real estate', 'steel, transport', 'petrochemicals', 'steel', 'mining', 'vaccines', 'steel', 'mining, copper products', 'medical devices', 'H&M', 'hedge funds', 'metals', 'oil & gas', 'pharmaceuticals', 'chemicals', 'real estate', 'Shipping', 'hedge funds', 'finance, telecommunications', 'home improvement stores', 'commodities', 'investments', 'supermarkets', 'Walmart', 'Apple, Disney', 'chemicals', 'real estate', 'medical devices', 'automobiles, batteries', 'pharmaceuticals', 'automobiles', 'beer', 'real estate, shipping', 'software', 'real estate', 'Heineken', 'hedge funds', 'messaging app', 'software', 'construction', 'coal', 'wireless networking gear', 'media', 'banking', 'cement, sugar', 'gas, chemicals', 'telecom', 'real estate', 'agribusiness', 'real estate', 'fashion retail', 'diversified', 'video surveillance', 'diversified', 'steel, investments', 'real estate', 'business software', 'solar wafers and modules', 'real estate', 'internet media', 'hospitals', 'venture capital', 'diversified', 'real estate', 'batteries', 'retail, media', 'diversified', 'discount brokerage', 'paints', 'solar panel components', 'alcohol, real estate', 'trading, investments', 'shipping', 'pharmaceuticals', 'pharmaceuticals', 'oil, banking, telecom', 'energy', 'palm oil, shipping, property', 'smartphones', 'shoes', 'casinos/hotels', 'Airbnb', 'hedge funds', 'Facebook', 'steel, telecom, investments', 'security software', 'manufacturing', 'e-commerce', 'solar panels', 'eBay, PayPal', 'oil, gas', 'medical devices', 'coal, fertilizers', 'e-commerce', 'investments', 'Google', 'real estate', 'roofing', 'sports, real estate', 'Dallas Cowboys', 'banking, property', 'Facebook', 'oil', 'e-commerce', 'shipping', 'investments', 'investments', 'petrochemicals', 'drugstores', 'investments', 'beer', 'private equity', 'Airbnb', 'movies, record labels', 'semiconductors']\n",
      "200\n"
     ]
    }
   ],
   "source": [
    "source=[]\n",
    "source_tags=driver.find_elements(By.XPATH,'//span[@class=\"source-text\"]')\n",
    "for i in source_tags:\n",
    "    source.append(i.text)\n",
    "    \n",
    "print(source)\n",
    "print(len(source))"
   ]
  },
  {
   "cell_type": "code",
   "execution_count": 100,
   "id": "5d9c3d80",
   "metadata": {},
   "outputs": [
    {
     "name": "stdout",
     "output_type": "stream",
     "text": [
      "['Automotive', 'Technology', 'Fashion & Retail', 'Technology', 'Finance & Investments', 'Technology', 'Technology', 'Technology', 'Technology', 'Diversified', 'Diversified', 'Media & Entertainment', 'Telecom', 'Fashion & Retail', 'Technology', 'Fashion & Retail', 'Food & Beverage', 'Fashion & Retail', 'Fashion & Retail', 'Finance & Investments', 'Diversified', 'Diversified', 'Fashion & Retail', 'Technology', 'Media & Entertainment', 'Media & Entertainment', 'Fashion & Retail', 'Fashion & Retail', 'Automotive', 'Technology', 'Logistics', 'Fashion & Retail', 'Logistics', 'Technology', 'Fashion & Retail', 'Food & Beverage', 'Diversified', 'Finance & Investments', 'Real Estate', 'Diversified', 'Food & Beverage', 'Food & Beverage', 'Fashion & Retail', 'Fashion & Retail', 'Metals & Mining', 'Metals & Mining', 'Technology', 'Finance & Investments', 'Manufacturing', 'Gambling & Casinos', 'Food & Beverage', 'Fashion & Retail', 'Finance & Investments', 'Fashion & Retail', 'Technology', 'Automotive', 'Healthcare', 'Service', 'Food & Beverage', 'Finance & Investments', 'Manufacturing', 'Automotive', 'Food & Beverage', 'Finance & Investments', 'Fashion & Retail', 'Finance & Investments', 'Metals & Mining', 'Technology', 'Manufacturing', 'Technology', 'Finance & Investments', 'Finance & Investments', 'Healthcare', 'Telecom', 'Finance & Investments', 'Media & Entertainment', 'Automotive', 'Technology', 'Automotive', 'Finance & Investments', 'Fashion & Retail', 'Food & Beverage', 'Automotive', 'Manufacturing', 'Fashion & Retail', 'Real Estate', 'Metals & Mining', 'Energy', 'Metals & Mining', 'Metals & Mining', 'Healthcare', 'Metals & Mining', 'Metals & Mining', 'Healthcare', 'Fashion & Retail', 'Finance & Investments', 'Metals & Mining', 'Energy', 'Healthcare', 'Manufacturing', 'Real Estate', 'Logistics', 'Finance & Investments', 'Finance & Investments', 'Fashion & Retail', 'Diversified', 'Finance & Investments', 'Fashion & Retail', 'Fashion & Retail', 'Technology', 'Manufacturing', 'Real Estate', 'Healthcare', 'Automotive', 'Healthcare', 'Automotive', 'Food & Beverage', 'Diversified', 'Technology', 'Real Estate', 'Food & Beverage', 'Finance & Investments', 'Technology', 'Technology', 'Construction & Engineering', 'Metals & Mining', 'Technology', 'Media & Entertainment', 'Finance & Investments', 'Manufacturing', 'Energy', 'Telecom', 'Real Estate', 'Food & Beverage', 'Real Estate', 'Fashion & Retail', 'Diversified', 'Finance & Investments', 'Service', 'Metals & Mining', 'Real Estate', 'Technology', 'Manufacturing', 'Real Estate', 'Technology', 'Healthcare', 'Technology', 'Diversified', 'Real Estate', 'Energy', 'Fashion & Retail', 'Diversified', 'Finance & Investments', 'Manufacturing', 'Manufacturing', 'Food & Beverage', 'Finance & Investments', 'Logistics', 'Healthcare', 'Healthcare', 'Energy', 'Energy', 'Diversified', 'Technology', 'Fashion & Retail', 'Gambling & Casinos', 'Technology', 'Finance & Investments', 'Technology', 'Metals & Mining', 'Technology', 'Manufacturing', 'Technology', 'Energy', 'Technology', 'Energy', 'Healthcare', 'Metals & Mining', 'Technology', 'Finance & Investments', 'Technology', 'Real Estate', 'Construction & Engineering', 'Sports', 'Sports', 'Diversified', 'Media & Entertainment', 'Energy', 'Technology', 'Diversified', 'Finance & Investments', 'Finance & Investments', 'Manufacturing', 'Fashion & Retail', 'Finance & Investments', 'Food & Beverage', 'Finance & Investments', 'Technology', 'Media & Entertainment', 'Manufacturing']\n",
      "200\n"
     ]
    }
   ],
   "source": [
    "industry=[]\n",
    "industry_tags=driver.find_elements(By.XPATH,'//div[@class=\"category\"]')\n",
    "for i in industry_tags:\n",
    "    industry.append(i.text)\n",
    "    \n",
    "print(industry)\n",
    "print(len(industry))"
   ]
  },
  {
   "cell_type": "code",
   "execution_count": 101,
   "id": "a283cdc2",
   "metadata": {},
   "outputs": [
    {
     "data": {
      "text/html": [
       "<div>\n",
       "<style scoped>\n",
       "    .dataframe tbody tr th:only-of-type {\n",
       "        vertical-align: middle;\n",
       "    }\n",
       "\n",
       "    .dataframe tbody tr th {\n",
       "        vertical-align: top;\n",
       "    }\n",
       "\n",
       "    .dataframe thead th {\n",
       "        text-align: right;\n",
       "    }\n",
       "</style>\n",
       "<table border=\"1\" class=\"dataframe\">\n",
       "  <thead>\n",
       "    <tr style=\"text-align: right;\">\n",
       "      <th></th>\n",
       "      <th>Rank</th>\n",
       "      <th>Name</th>\n",
       "      <th>Net Worth</th>\n",
       "      <th>Age</th>\n",
       "      <th>Citizenship</th>\n",
       "      <th>Source</th>\n",
       "      <th>Industry</th>\n",
       "    </tr>\n",
       "  </thead>\n",
       "  <tbody>\n",
       "    <tr>\n",
       "      <th>0</th>\n",
       "      <td>1.</td>\n",
       "      <td>Elon Musk</td>\n",
       "      <td>$219 B</td>\n",
       "      <td>50</td>\n",
       "      <td>United States</td>\n",
       "      <td>Tesla, SpaceX</td>\n",
       "      <td>Automotive</td>\n",
       "    </tr>\n",
       "    <tr>\n",
       "      <th>1</th>\n",
       "      <td>2.</td>\n",
       "      <td>Jeff Bezos</td>\n",
       "      <td>$171 B</td>\n",
       "      <td>58</td>\n",
       "      <td>United States</td>\n",
       "      <td>Amazon</td>\n",
       "      <td>Technology</td>\n",
       "    </tr>\n",
       "    <tr>\n",
       "      <th>2</th>\n",
       "      <td>3.</td>\n",
       "      <td>Bernard Arnault &amp; family</td>\n",
       "      <td>$158 B</td>\n",
       "      <td>73</td>\n",
       "      <td>France</td>\n",
       "      <td>LVMH</td>\n",
       "      <td>Fashion &amp; Retail</td>\n",
       "    </tr>\n",
       "    <tr>\n",
       "      <th>3</th>\n",
       "      <td>4.</td>\n",
       "      <td>Bill Gates</td>\n",
       "      <td>$129 B</td>\n",
       "      <td>66</td>\n",
       "      <td>United States</td>\n",
       "      <td>Microsoft</td>\n",
       "      <td>Technology</td>\n",
       "    </tr>\n",
       "    <tr>\n",
       "      <th>4</th>\n",
       "      <td>5.</td>\n",
       "      <td>Warren Buffett</td>\n",
       "      <td>$118 B</td>\n",
       "      <td>91</td>\n",
       "      <td>United States</td>\n",
       "      <td>Berkshire Hathaway</td>\n",
       "      <td>Finance &amp; Investments</td>\n",
       "    </tr>\n",
       "    <tr>\n",
       "      <th>...</th>\n",
       "      <td>...</td>\n",
       "      <td>...</td>\n",
       "      <td>...</td>\n",
       "      <td>...</td>\n",
       "      <td>...</td>\n",
       "      <td>...</td>\n",
       "      <td>...</td>\n",
       "    </tr>\n",
       "    <tr>\n",
       "      <th>195</th>\n",
       "      <td>192.</td>\n",
       "      <td>Marcel Herrmann Telles</td>\n",
       "      <td>$10.3 B</td>\n",
       "      <td>72</td>\n",
       "      <td>Brazil</td>\n",
       "      <td>beer</td>\n",
       "      <td>Food &amp; Beverage</td>\n",
       "    </tr>\n",
       "    <tr>\n",
       "      <th>196</th>\n",
       "      <td>197.</td>\n",
       "      <td>Leon Black</td>\n",
       "      <td>$10 B</td>\n",
       "      <td>70</td>\n",
       "      <td>United States</td>\n",
       "      <td>private equity</td>\n",
       "      <td>Finance &amp; Investments</td>\n",
       "    </tr>\n",
       "    <tr>\n",
       "      <th>197</th>\n",
       "      <td>197.</td>\n",
       "      <td>Joe Gebbia</td>\n",
       "      <td>$10 B</td>\n",
       "      <td>40</td>\n",
       "      <td>United States</td>\n",
       "      <td>Airbnb</td>\n",
       "      <td>Technology</td>\n",
       "    </tr>\n",
       "    <tr>\n",
       "      <th>198</th>\n",
       "      <td>197.</td>\n",
       "      <td>David Geffen</td>\n",
       "      <td>$10 B</td>\n",
       "      <td>79</td>\n",
       "      <td>United States</td>\n",
       "      <td>movies, record labels</td>\n",
       "      <td>Media &amp; Entertainment</td>\n",
       "    </tr>\n",
       "    <tr>\n",
       "      <th>199</th>\n",
       "      <td>197.</td>\n",
       "      <td>Yu Renrong</td>\n",
       "      <td>$10 B</td>\n",
       "      <td>56</td>\n",
       "      <td>China</td>\n",
       "      <td>semiconductors</td>\n",
       "      <td>Manufacturing</td>\n",
       "    </tr>\n",
       "  </tbody>\n",
       "</table>\n",
       "<p>200 rows × 7 columns</p>\n",
       "</div>"
      ],
      "text/plain": [
       "     Rank                      Name Net Worth Age    Citizenship  \\\n",
       "0      1.                 Elon Musk    $219 B  50  United States   \n",
       "1      2.                Jeff Bezos    $171 B  58  United States   \n",
       "2      3.  Bernard Arnault & family    $158 B  73         France   \n",
       "3      4.                Bill Gates    $129 B  66  United States   \n",
       "4      5.            Warren Buffett    $118 B  91  United States   \n",
       "..    ...                       ...       ...  ..            ...   \n",
       "195  192.    Marcel Herrmann Telles   $10.3 B  72         Brazil   \n",
       "196  197.                Leon Black     $10 B  70  United States   \n",
       "197  197.                Joe Gebbia     $10 B  40  United States   \n",
       "198  197.              David Geffen     $10 B  79  United States   \n",
       "199  197.                Yu Renrong     $10 B  56          China   \n",
       "\n",
       "                    Source               Industry  \n",
       "0            Tesla, SpaceX             Automotive  \n",
       "1                   Amazon             Technology  \n",
       "2                     LVMH       Fashion & Retail  \n",
       "3                Microsoft             Technology  \n",
       "4       Berkshire Hathaway  Finance & Investments  \n",
       "..                     ...                    ...  \n",
       "195                   beer        Food & Beverage  \n",
       "196         private equity  Finance & Investments  \n",
       "197                 Airbnb             Technology  \n",
       "198  movies, record labels  Media & Entertainment  \n",
       "199         semiconductors          Manufacturing  \n",
       "\n",
       "[200 rows x 7 columns]"
      ]
     },
     "execution_count": 101,
     "metadata": {},
     "output_type": "execute_result"
    }
   ],
   "source": [
    "df=pd.DataFrame({'Rank':rank, 'Name':name, 'Net Worth':net_worth, 'Age':age, 'Citizenship':citizen, 'Source':source, 'Industry':industry})\n",
    "df"
   ]
  },
  {
   "cell_type": "markdown",
   "id": "ecb4e3c5",
   "metadata": {},
   "source": [
    "# 9. Write a program to extract at least 500 Comments, Comment upvote and time when comment was posted from any YouTube Video."
   ]
  },
  {
   "cell_type": "code",
   "execution_count": 102,
   "id": "2480295a",
   "metadata": {},
   "outputs": [],
   "source": [
    "driver.get('https://www.youtube.com/')"
   ]
  },
  {
   "cell_type": "code",
   "execution_count": 103,
   "id": "2395229a",
   "metadata": {},
   "outputs": [],
   "source": [
    "try:\n",
    "    search=driver.find_element(By.XPATH,'//input[@id=\"search\"]')\n",
    "    search.send_keys('news')\n",
    "\n",
    "except:\n",
    "    print('Some error occured')\n",
    "    print('Trying again')\n",
    "    search=driver.find_element(By.XPATH,'//input[@id=\"search\"]')\n",
    "    search.send_keys('news')\n"
   ]
  },
  {
   "cell_type": "code",
   "execution_count": 104,
   "id": "35f5f877",
   "metadata": {},
   "outputs": [],
   "source": [
    "enter=driver.find_element(By.XPATH,'/html/body/ytd-app/div[1]/div/ytd-masthead/div[3]/div[2]/ytd-searchbox/button/yt-icon')\n",
    "enter.click()"
   ]
  },
  {
   "cell_type": "code",
   "execution_count": 106,
   "id": "f913816d",
   "metadata": {},
   "outputs": [],
   "source": [
    "enter1=driver.find_element(By.XPATH,'/html/body/ytd-app/div[1]/ytd-page-manager/ytd-search/div[1]/ytd-two-column-search-results-renderer/div/ytd-section-list-renderer/div[2]/ytd-item-section-renderer/div[3]/ytd-video-renderer[5]/div[1]/div/div[1]/div/h3/a/yt-formatted-string')\n",
    "enter1.click()"
   ]
  },
  {
   "cell_type": "code",
   "execution_count": 110,
   "id": "18044c6a",
   "metadata": {},
   "outputs": [
    {
     "name": "stdout",
     "output_type": "stream",
     "text": [
      "['The employee thought he was the king……Make Attorneys Get Attorneys (again)', 'They want the special master to expose, punish and intimidate witnesses.', 'Is DJT keeping classified documents at his home anything like a serial killer keeping ‘mementos’ of his victims?', 'Just say it already, Does Putin \"HAVE\"  USA Highly Sensitive Classified Documents? Yes very \\nHighly, most faculty Yes!!!', 'You know you are in real trouble when your lawyers need lawyers.', 'Their argument is: \"We got caught...whaaaa....It\\'s not fair!!\"', 'If the Judge rules for a Special Master it will show us she cares nothing about the safety of the people affected by the mishandling of these documents.', 'In the many years I worked in the medical profession, I often took home some confidential patient files. I did so to review them prior to surgery. However, I never kept these files beyond a day or two, and never left them unlocked. Physicians and surgeons have lost their licences because they left patient confidential records unsecured outside the hospital or clinic. Why should a former president be held to a lower standard than a doctor?', \"Correction: Documents should not have been returned long ago. They should have never been there in the first place. That's the point.\", '\"Our cleaning lady told us that the documents were not classified and she knows about that stuff because she has watched every episode of Law & Order.\"', '\"We did it, but we can\\'t be prosecuted because you made a messy photo of the evidence!\"', '\"Let me show you how important I still am!!\".....opens the drawer and presents classified information to some drunk golf buddies.....or russians, or chinese or saudis.....what about Bedminster?? What about New York??\\nWhat about the story when a country-music star visited him in the white house and he presented him classified documents about china?? And ask the musician what he, the president should do about it?', \"So when are they gonna raid his other properties? I'd bet there are more docs at other locations, can't wait to see that!\", 'Eric Herschmann to Trump\\'s current lawyers-\"I\\'m going to give you the best free legal advice you\\'re ever getting in your life: Get a great f\\'ing criminal defense lawyer!\"', 'Wow, this his attorneys  argument!? Good grief!', \"I do enjoy watching Trump's attorney's and their ham-handed, bumbling, circular reasoning, legal gymnastics that fall flat every time. It's quite comical.\", '“What  Documents? I don’t even live there”  What’s  a Maralargo? I’m innocent!!', 'We are ready to see a headline that reads, \"TRUMP INDICTED!\"', 'Keeping love for all Americans, wherever they are, top of mind, is more my profession than his.', \"Okay, i'll explain it one more time - He had a standing order to declassify everything he touched - BUT - the standing order was classified, because if people found out he was declassifying everything, they might try to get copies of all the documents that shouldn't have been declassified - try to keep up people ....\", 'Bla-bla-bla-bla-bla-bla-bla PUT HIM IN PRISON!', \"It's the documents they know he had, that weren't found that should concern us all. If it were anyone else, they would be arrested by now.\", \"If this was found in someone's house then would long been thrown in jail before finishing the word monolog.the conman and his team are very lucky justice department is lenient.\", 'Remember this came from an ongoing criminal investigation from a grand jury. Now that I\\'ve seen the pic of the Top Secret Docs splaid out on a Mar-a-Lago closet floor, making it all much more real, I remembered Citizen Kane\\'s last scene at a warehouse holding crates of objects collected by Kane who never stopped collecting till he actually went broke. The image in Kane is from above, with people trying to figure out \"Rosebud\" is while being surrounded by these crates and boxes. We need Orson Welles now, to thank him again for his foresight.  Those boxes at Mar-A-Lago were all based on on that thing in Trump\\'s childhood he never got. So, accumulate. Fill the void. Always be number one. He could never let Biden have them. Then you have golf course bragging rights. \"Boy, do I have the goods on this French politician.\" Which may be where the leak came from. Former White House chief of staff, retired Marine Gen. John Kelly, said,  \"President Trump  is the most flawed person I\\'ve ever known. The depths of his dishonesty is just astounding to me. The dishonesty, the transactional nature of every relationship, though it\\'s more pathetic than anything else. He is the most flawed person I have ever met in my life,\"', 'His MO is to minimize the serious and catastrophize the irrelevant', 'More hilarity from Drumpf on Truth Social: They took them out of cartons and spread them around on the carpet, making it look like a big “find” for them. They dropped them, not me - Very deceiving', 'I know how he responded: with ridiculous gibberish, designed to confuse, obfuscate, and delay .... what did I miss?', \"Persons with NPD have a sense of entitlement and require constant, excessive admiration.\\nThis is his only defence and his best defence but his lawyers are probably too inept to use it.\\nUnless the DOJ can prove 1. He is aware he has this condition 2. Refused to seek help for this condition, I don't think they have much of a chance of putting him behind bars. He really should be locked up, in a mental institution.\", 'I just want to see him arrested like anyone else no warning drag him out of bed.', \"I’m losing count of how many Trumpanzee trolls are claiming that photo was faked, blissfully unaware that Trump's put up two 'tweets' on Truth Social admitting they're real  \", 'Why on earth do you guys give a president (current or former) so much reverence?  \\n\\nIf this was anyone else, would they still be negotiating 18 months later with DOJ, or be in jail?', 'Those brightly colored documents labeled top secret remind me of the Arthur meme where DW is like \"That sign can\\'t stop me because I can\\'t read!\" Except it\\'s Trump', \"He's such a criminal mastermind, when he thought, where could I hide these incriminating documents, somewhere they will never discovered. I know, in my desk. What a dummy. Person,  . \", 'Thank you again CNN for honestly giving a opposing views!!! Please add more, we need to hear this too!', 'No one is gonna buy that one lady!  He is guilty. Ok !', 'Throw him in jail !!!!', 'The crime is so grave and the guilt is so manifest that trump and all his accomplices should be arrested immediately and held without bail.', 'The next question: Who tipped off the FBI and DOJ? It was someone that knew he stole documents and used them for some sort of financial gain!', \"So what happens when a private citizen has top secret documents, lies to the FBI he doesn't have anymore, ,but then the FBI find more in his desk drawer?\", '“I like my generals loyal just like Hitler had” - Drumpf, leader of the GQP', 'Until trump faces consequences, every other thing is academics.', 'No one is excited that fpotus is going to be \"put away.\"  I think most people are depressed and embarrassed at the behavior, and violence-promoting rhetoric, from the fpotus, as well as from his lackeys.', 'He can argue all he wants in court \\nHe isn’t supposed to be trying to have his hearing before he is charged and arrested for his crimes \\nHe stole those documents ', \"Laura does such an excellent job in translating things in laymen's term.  I really appreciate her dissecting..\", 'Today children, we\\'re going to be learning about \"Attachment F\". Little Donnie, if this makes you uncomfortable - too bad.', 'This is getting more difficult to follow if you occupy the real world.  Let me see if I have this right :\\n\\n1.  Trump didn’t know what he had in those boxes but he knew he’d declassified everything in those ', 'and the only thin Gym Jordan sees is the time magazine photo frames....not surprising since he has always looked the other way when confronted with wrong doings.......', 'TRUMP: I took the documents to help me write my memoirs with the help of my ghost writer. Krushev Gregor Borishnikov. For the slow people KGB.', 'I wish we could have seen Scott Jennings have to answer some questions on this panel…and not deflect about student loans or whine about MAGA bros getting called “semi-fascists.” ', '\"Your honor, the former President and his team were in such a rush to leave the oval office that they accidentally boxed up CLEARLY MARKED documents saying what they were....\"\\n\\nJudge: \"Right......\"', 'Yes people make mistakes but when a person who has a history of lying then maybe he would have more people on his side', \"Isn't the idea just keep appealing and filing motions? Is it that easy to evade the law? That has worked for him. So why can't he just file a 3rd piece of paper in another court with a 3rd judge?\", 'How do you go from claiming the FBI may have planted the documents to then turn around and say yeah I had the documents but I was holding it for my Presidential Library.', 'Trump has the three stooges for a legal team, this won’t end well for him ', 'It’s awkward for the Trump defence team to build a case without lying. Something a defence lawyer is not allowed to do in support of his client. At this point maybe the best defence would be a plea of insanity!', \"OMG.  When they run all of those FINGERPRINTS that are undoubtedly all over those documents...  There's no telling who read those. smh\", \"Donald has never had RESPECT for anything sacred or otherwise in his pathetic 'I'm a genius' mind.\", '\"I gave all the documents up, but the FBI just kept planting more.', \"45's new defense is: I never really knew Donald Trump?!\", 'This is going to be such a great forum to come to in 60 short days. The tears will be so sweet.', 'C\\'mon now, Mr. Transactional was hiding NATIONAL Security documents at his international home base. The sensitive information in those documents was most valuable to our International adversaries. \"Nothing personal America: it\\'s just business.\"', 'Delay it just long enough for the next batch of pardons ', 'He still thinks the documents were declassified and are his property!', '‘We don’t trust you, Department of Justice,’  and everybody else is to trust inveterate liar tdfPotUSA45 and minions?', 'This little text is for Donald J. Trump, Steve Bannon, Kevin McCarthy, Rudy Giuliani, Don Jr. Trump, Eric Trump, Ivanka Trump, Stephen Miller, Roger Stone, Peter Navarro, Rick Scott’s, Mike Flynn, Lauren Boebert, Rick Scott, Allen Weisselberg, Jared Kushner, Mark Meadows, Christina Bobb, Alina Habba, L. Lin Wood, Mitch McConnell, Chuck Grassley, Alex Jones,  Ron DeSantis, Sidney Powell, Kash Patel, John Eastman’s, Jeffrey Clark, Neal Collins, Mike Lindell, Ron Johnson, Lindsey Graham, Paul Manafort, Matt Gaetz’s, Ted Cruz, Marco Rubio, Mike Pompeo, Josh Hawley, Rand Paul,  Marjorie Taylor Greene, Jim Jordan, Mick Mulvaney, William P. Barr, Tucker Carlson, Sean Hannity, Fox News, and even Mike Pence and all those CRIMINAL MINDED GOP/REPUBLICANS POLITICIANS including all their supporters in the USA WHO DONT UNDERSTAND THAT FASCISM IS THE CULT OF A LEADER….', 'So Trump\\'s defence line literally means that if I robbed a bank and the stolen money was found in my desk drawer, I could just yell \"I don\\'t trust you so you cannot prosecute me, I want to choose a special master!\" and it would all be over and no charges would be brought against me.  ', \"I'm confused. I thought the Trump's defence was that none of the docs were classified any more so he was entitled to have them, but now he admits they are classified but he can keep them anyway.\", 'Writing his memoirs. Sure.. Here\\'s how that is supposed to go. \\nI want to write my memories. Yes sir! No problem. Here is a website with access to everything you need. Copies of everything not found can be \"checked out should you not find what you are looking for. If it\\'s classified we have this paperwork for you to fill out to see if they will make it available to you. If not. Well. Remember your oath sir. We are here to help you with access and we have a team that can lend aid on building your Library from the funding you provide.. The system is all about HELPING you Trump. Instead. Well here we are....  ', 'The Main Question is now… do they now have all the classified documents from Trump? Aren‘t there still classified documents being hidden at Mar-A-Lago?', 'Chump’s autobiography: “My life as a Witch.”', \"The orange man overdid it when you move those boxes out of the White House you just don't do that\", '\"Lordy there are pics”: Legal experts say Trump lawyers may need their own lawyers after DOJ filing', 'All of Trumps legal team need to be investigated for malpractice.', \"I'd say if we knew what was in the doc it would answer all of the questions we have as I think Trump picked these doc especially for what was in them say the one we know about the French President only one reason for that one to have stuff Trump could use against him hardly to help him true. Its Scary to think what Trump wanted secret doc belonged to America for not to help America anyway.\", 'Anyone, including the  PRESIDENT! , should only be allowed to examine classified documents in a secure  room, not be in theWhite House at all.  If they are that important . If the president needed to study them to make a decision of some kind, go to the secure room .any paper work while he  or she is in power belong to the American people.  You give up your privacy when you run for president….. he may have been figuring out a way to make money.  Money seems to beat the top of his agenda, always.', 'If they’re so top secret then why did the post a picture online of the documents which you can read in full? \\nJesus Christ people…..', \"What was Donald Trump going to do with the classified documents?  (1) This is the first question  (2) Did he share these documents with any foreign entity?  (3) Did you sell any of these classified documents?  (4) Did Trump's Lawyer(s) have secret clearance?\", 'Laura is so right. WE SHOULD NOT BE HERE! And it was the \"LOVE LETTERS\" that opened up this can of worms.', 'The DOJ and FBI would never mistreat Donald Trump.', 'its laughable to make the non standing argument when there  is a 4th Amendment violation and the protections that come from such violation.', 'Fitting that librarians are going to take down a man who has never read a book in his life.', \"Somebody, (who could read) checked those documents out from the Archives, & never brought them back.\\nLet's see who that was.\", 'My guess is this was just another DJT epic blunder- yes, a crime, of course, but I\\'ll bet he stole the docs and refused to return them because there\\'s something special in those that he want\\'s for his \"Personal Museum\". Never underestimate the blatant ignorance of an extreme narcissist.', 'Thank you having no GOP point of view with their lies, which your channel is lately doing, to my dismay.  Meanwhile the ODNI is scrambling trying to ensure the safety of agents in the world.', 'Ordinary citizen: ok, this is what classified document looks like. I am seeing it for the first time and I get to see only a picture of cover page.\\nDump: me too, because I read only MAGA-mines, playboy, penthouse. However, my cronies did beyond cover pages and they signed them off too.', 'Since when do people under investigation for criminal activity get to dictate how the investigation should happen and who should be leading the investigation against them.', 'Waiting for the defence of, “He’s not a career politician. He was only president once. It’s my clients inexperience in these matter. We all make mistakes when we start a new job”', \"Just another day at the Capitol building tourist traveling all over he's doing the same thing right now he's doing the same thing right now\", 'I listen to Trump and all I can hear is a spoiled little child not getting his way like he has for most of his life. What a shock that must have been when the FBI came and took those classified documents from Trump.', 'This is like the library cop when Seinfeld forgot to return a library book. DOJ telling Trump. \"Well I\\'ve got a flash for you joy boy. Party time is over!\"', \"Trump's argument appears to be that his personal items buried in the boxes of classified documents are more important than national security.\", 'WHAT ON EARTH ARE YOU GUYS WAITING FOR? FOR THE WHOLE EARTH LAUGHING AT YOU? PUT HIM BEHIND BARS ALREADY !!', 'The vapors!  That’s a perfect phrase for some of their outbursts - look forward for the next opportunity to apply it to Lindsey.', 'How did he get them in the first place? He was hiding them \"in plain sight\"', \"Who's is doing more damage? DOJ doing their job or this guy having classified documents illegally\", \"I'm gonna help Trump out... I'm not an attorney, but I did stay at a Holiday Inn once. Surely, my legal prowess is on par with Trump's current legal representation.\", 'I love that only two \"Proud Boys\" sacrificed themselves for Trump so far. \\n\\n\\n\\nEx-Veteran Ricky Walter Shiffer, 42, (gunned down after 6 hour standoff with FBI on 8/14/22) and Richard Aaron York III, 29 (committed suicide when the cops arrived after crashing his car into the Capital barricades on 8/12/2022)', 'someone snitched! ', 'Submitting the request to a different judge - specifically a Trump-appointed judge - stinks. Any judge or Justice with an ounce of integrity would & should recuse from any case involving his behavior. \\nThere should be an immediate qualification review of ALL Trump -appointed justices, suspending their judgements until cleared.', 'If they weren’t stolen in the first place!', 'Why? Because he intended to sell them to the highest bidder', \"Pretty sure the CIA has MBS's prints on file somewhere (not to mention Putin and Lavrov's). Would not be surprised to see a match\", 'Guess they gave up on the \"FBI planting evidence\" since donnie is saying he wants HIS papers back or copies of them. \\nLOL', 'I’ve always said that Trump must have secrets on most or all the GOP in order for them to follow him blindly and condone his nonsense.', 'His only justifiable & believable defence would be to plead insanity.', \"There's no bottom for this guy.\", 'Right after midterms all hell is coming for trump and cronies you can take that to the bank watch !!!!!!! This is a slam dunk case !!!!', 'To be clear, blackmail is a crime, and having the kompromat material can only be viewed as an indicator that he was going to commit  that crime in the future. Do you guys follow? Aside from it being top secret, it can only be used to break the law. This material is also the only stuff basic enough for Donald Trump to actually know exactly what it is, then purposely take it (and brag about taking it so it cant be walked back). ', 'Actually his expectancy of privacy hinges on what he put into the staffers contracts in respect of expectation of privacy, since the only reason he is able to reside in MAL is, that he is listed as staffer living in staff quarters.', \"I'm sure that the goal is to end up in the Supreme Court, where a desicion has already been made.\", 'If only Trump had returned them when he was asked, the GOP have only one person to blame for the timing. Do many lies, so little time for the Straw man.', 'imagine watching this and being excited beliving they are going to put trump away before a single charge has been filed', \"Read the two docs. Stunning difference in quality. The trump team's effort is a lawyer's bundle of laughs. Download it, have a giggle. You don't have to have a law degree to see it's a joke.\", \"Eric's Dad is just trying to hide what Eric said he did all along.\", 'So they walked in and those docs were straight up just laying on the floor? Fr?', 'Everything Trump, his Attorneys, & supporters do seems to take a shovel and dig the whole a little deeper. However, this motion seems to have brought out a backhoe to dig!! All involved HAVE to be held accountable for ALL the wrong doing, or it could destroy our Country down the road!!!', 'Oh come on forget about it.', 'Bottom line orange boy should’ve never heard the documents at Mar-a-Lago in the first place', 'America needs a new constitution.', 'Shout out to George Floyd on 829 days of sobriety. It took some tough love but he did it. Say his name liberals!', '\"They\\'re not theirs, they\\'re mine!\"', \"Time Magazines! Those are Donnie's special spanking magazines!\", 'Cover sheets have to be attached to the documents that tell the highest level of security within the documents and attached to the front and back of the documents by STAPLES, paper clips  and anything else not permitted.  Looks totally fake.', '4th Amendment for Trump \" want to be secure in stolen items..\"', \"I think the remainder of this guy's properties need to be looked at. How many more classified documents are stored at other Trump properties? This is simply beyond the pale, puts people's lives in danger, and empowers enemies like Putin. After I heard Trump open his mouth in Tampa FL over 30 years ago, my immediate thought was I wouldn't buy a used car from this shyster. Sad for our country and the state of our education.\", \"I love Don Lemon - he kind of looks like he's aged 10 years since Chris left. Still beautiful of course, I just miss seeing them together - they had great energy.\", 'Y’all gotta know if nothing sticks to this man he is going to be the next president…AGAIN.', 'Just indict trump and let the court decide if these documents should be there in the first place.\\nThere should not be a hearing in the first place.', '\"LOCK HIM UP!\" ARREST TRUMP IMMEDIATELY!', 'How many t’s to be crossed or I’d to be dotted does it take before Trump can be indicted???', \"I can go online and get all the templates to your supposèd cover sheets and create the same photo all day long! Herding the sheep is so easy isn't it!!!\", 'Trump is doing a big beautiful book! It has coloring pages, find josh “waldo” Hawley puzzles, pick vacations spots for Teddy “Cancun “ Cruz also you cam learn history with mtg and bohbert! If you pre order today for the low, low price of your soul, you will get a coupon from mike the pillow guy and Rudy’s hair stylist for dyeing job! Still more great deals are coming with a singalong 8 track tape featuring Moscow Mitch, Gym Jordan and Matt “Eddie Munster “ Gaetz!', 'Hey, stable genius, can I borrow the TS/SCI documents you hid in your desk and take it home like you?', \"If Trump and his minions aren't held accountable, that will be the end of this country. As a veteran, I find this disgusting... \", 'So this is just a response to a response as if they are already arguing in court … who wants to watch exchange of responses omg', 'Why was trump keeping his passport with these documents? he owns 2 jets. Was it a golden parachute?', \"Crucifying the truth. The Cabal is desperate. Either a ruse, distraction, or one big screw up that turned into a possibly convenient situation. Let's hope not. Let's hope Trump gets this one out. You may not, but the truth does. Mankind is almost under control. Almost completely enslaved from all directions, mentally, physically and spiritually. But let's hope Man awakens.\", 'I really hate the weakness of Garland. Imagine what Trump would do. Everybody who mishandled the classified documents must go to jail. All of them.', 'If it was you or me ie: Joe Public who was found with these documents we would now be in jail awaiting trial...What makes Trump so special? A Crim is a Crim is a Crim, indict him now', \"A judge needs to put a gag order on trump for all legal procedures because he's doing his best to taint the jury pool.\", 'Declassification lie out the window and ON to the Next LIE\\n Oh what tangled web we weave when we practice to DECEIVE ', 'Lock him up.', 'This is an experience of “falling down the rabbit hole”.  We all are struggling to talk sanely and rationally about a dual reality. We struggle to understand something from a viewpoint that is alien and uncomfortable and make it fit our reality. It truly feels like a monumental good vs evil struggle our world is experiencing and each side sees themselves as the good guy. Makes a person send a prayer up! Good thing I have faith it will evolve into an eventual good thing for our country.', 'As if Trump would keep anything in his bedside nightstand with words besides a dusty, never opened KJ Bible and a worn out, signed copy of Mein Kampff.', 'Question One:  How does FBI/CIA go about tracing whether information has been shared.', \"As an Australian, I cannot understand why Donald Trump has not already been arrested and indicted. America it's time to harden your stance on Trump!\", '\"Why are people so mean?\"\\nWaaaaah!', 'Republicans are unsmart', 'I’m ok if Trump falls for these docs, but to be fair, I also want the FBI to investigate the Bidens too. What else are y’all corrupt politicians hiding?', 'The only real question left is when are they going to stop talking to Trump (lawyers), and prosecute these criminals.', 'A President has the right to declassify any documents… y’all got nothin on Trump… just admit your wrong already before you embarrass yourselves and lose any more credibility ', \"Trump probably could have gotten away with it if he wasn't such a narcissist\", 'Please put this con man away \\nJust drama boy ….', 'Trump could color in them. Trump by law could eat them. He could burn them & cook marshmallows bcuz they belong to Trump', 'How could Trump trust anyone, knowing HE is not a trustworthy person!!!  It takes one to know one.', 'The malignant narcissist is right  -  the rest of the world is wrong.  As a scientist, that doesn´t make sense to me in that seems to defy the law of parsimony.', 'Trust, trust! The compulsive lier! Trump can kiss my back side.', '“As He sat on the Mount of Olives, the disciples came to Him privately, saying, ‘Tell us, when will these things be, and what will be the sign of Your coming and of the end of the age?’ Jesus answered them, ‘Take heed that no one deceives you. For many will come in My name, saying, ‘I am the Christ,’ and will deceive many. You will hear of wars and rumors of wars. See that you are not troubled. For all these things must happen, but the end is not yet. For nation will rise against nation, and kingdom against kingdom. There will be famines, epidemics, and earthquakes in various places. All these are the beginning of sorrows. Then they will hand you over to be persecuted and will kill you. And you will be hated by all nations for My name’s sake. Then many will fall away, and betray one another, and hate one another. And many false prophets will rise and will deceive many. Because iniquity will abound, the love of many will grow cold. But he who endures to the end shall be saved. And this gospel of the kingdom will be preached throughout the world as a testimony to all nations, and then the end will come.’”', 'Don what are you doing.  \\n\\nWhy are you creating doubt or offering that documents could be shredded.  They cannot, that would be against the law.', 'Arrest him. I feel like this is propaganda. Why are they’re no charges.', 'So if a special master is appointed I’m assuming they don’t get the classified material, right?', 'Reportedly,  trump is going to have  doni jr and Eric take over his legal defense', 'This time has to be one of the worst times in American history. Damn we look bad around the world.   ', 'he had every right to keep those documents according to the US government and he was cooperating with the procedures to keep it locked up. It wasnt \"laying on the night stand dresser\" like the guest stated. He was 100% cooperating with the national archives. THIS is why so many people are so mad is because he WAS cooperating.. you guys are making it really hard to be a democrat.', 'I wouldn’t trust Trump with my Mc-chicken. Lol!', 'Nothing wrong with having an independent  3rd party reviewer. It should be welcomed and not challenged.', 'The very fact that the FBI released a photograph of those Top Secret documents cover sheets is a violation of national security!  So, who is the agent or agents that took that photograph?', 'It seems like in cases involving trump s%#t floats', 'Staging a photo session of documents in a cheap motel room with folders printed \"Top Secret\" from the nearest \"Staples\" is not only an insult to those who don\\'t have TDS but is kinda \"tacky\". It\\'s more like a college prank played on the media.', 'as expected, crickets from miss lindsay, mr mitch magoo, et al.', \"I'm sure Goober has more documents in his other properties.\", \"Donald is the king and actually has royal privilege. Garland says he's the king and not subject to any laws whatsoever.\", 'Mark my words, trump will NEVER face justice in this life. Only God will judge him.', 'FOR MY LAST & FINAL TRICK ---- Watch me defect to Mother Russia!', 'Right.  Weshould not be here. Someone should have prevented the “top secret” documents from leaving with Trump.  Who was standing over him monitoring the documents.  Same old BS.', 'How is it that this crook and his awful family, thieves and liars, haven\\'t been brought to justice? I thought you people were into the \"rule of law\". Money counts first, eh?', 'I assume a grand master would need a high clearance too. I wonder who would grant that clearance. Biden?', 'What? They don\\'t trust the \"packed\" court', '1 word. DECLASSIFIED says it all. OBOMA has 8 million declassified documents has anyone rated his house. Things that make you say Hmmmm', 'about trust … how do we know he wasn’t trying to make money with the information? I hope that have him trying to use the info…', 'Not that I want to shift the focus of the conversation but why haven’t they mentioned anything about the Nuclear documents that was initially mentioned??', '45 Orange is a stable genius just like Lauren Boebert and Herschel Walker. Oh, and the Earth is flat.', \"He's toast.\", \"ya mr garland woke up one morning an said , i'm gonna issue a warrent on chump today an visit the place\", 'Apart from this should n ot have happened\\nNo body can be neutral they have to have the highest clearances to be able to look at htese documents\\nIts  more than a mess its dangerous', \"Priceless ancient relics, treasures, objets d'arts, diamonds, nuclear documents, top secret files......all these are worth so much money, wirh ready buyers, all the time....\\n\\nHow about $600 millions in commercial loans, due next year....?\", 'If that judge does anything but throw this out, she needs to be tossed into a Florida swamp!\\nOh, and Tucker, stay out of Canada!', 'Hey CNN wtf happened to you? Is it your new CEO? Your off my list after watching you since the first Gulf War. Chow!', 'My Attorney Got Arrested lol', 'Trust the DOJ really has everyone forgotten what happened in 2020.', 'Why isn’t he and his accomplices locked up and with indictments!!! ', 'The thing that jumps out of the photo of the classified documents more than anything else is the horrendous carpet.', 'When before he left the White House, they knew these had Not been RETURNED.', 'The Pentagon has over 400 Biological Laboratories throughout the world', \"To be perfectly honest why I stopped watching Cnn is the same reason I don't eat from a toilet\", 'the key of this action  is that mr trump wanted to hold on this documents. That’s is braking the law. So that’s not only obstruction of justice and steeling', 'He wants this to play out in the court of public opinions.\\nMakes lots of demands, and is running the judicial system around in circles, and wasting time.\\nThis guy gets too many privileges….shut it down.\\n…Like who’s in charge?', 'NOTE:  With trump,, it’s ALL about “DEFIANCE “!! ALSO the opportunity 2-Establish an AUCTION PRICE 4-TOP SECRET Documents. Such as the SO-CALLED Golf tournament w/the “SAUDI’S”!! HELLOooooo Sheeeeesh. iiiiiidunno. ️', 'Eric Herschmann to Trump\\'s current lawyers-\"I\\'m going to give you the best free legal advice you\\'re ever getting in your life: Get a great f\\'ing criminal defense lawyer!\"', 'Another day, another detractor defenestrated\\nSept. 1, 2022 Moscow\\nRussian oil firm chief dies after hospital window fall\\n\\nRavil Maganov was chairman of one of the few major Russian companies to call for the end of fighting in Ukraine.', 'We still do not have the \"welcome\" letter that Obama wrote and left in the resolute desk, and we don\\'t have the \"Kim Jong Un love letters\" Trump touted in his public speeches.  Where are they, flushed down the toilet?', \"Those docs were already known to be there,,it's all media drama ,,\", 'did he just keep said documents, to show and brag to the mardelardo guests, around the buffet line???', 'why dont u tell ur audience the DOJ said they are not going to file charges? xD', \"Look at golfing buddy Lindsay Graham, he's yelling a little too much.\", 'Look look orange man good gray fall upsteps dog  jockey guy lost n looking for anything', \"He shouldn't get any of it back. Not even that framed Time magazine. That magazine might have something hidden behind it, they better brake that open.\", \"media how hard is it to say if Trump Declassified the documents we would know exactly what every document is and the fact that we don't means it's still classified I mean it's so simple but I have yet to see one person on any media platform mainstream or not connect those two simple dots\", \"I nominate Liz Cheney to be the Special Master for Trump's Mar-a-Lago fiasco.\", 'Biblical reference to Trump is: \"Prince of Peace\"', 'Adding more commentators seems like a lame attempt to become less like a tin foil hat effort at legitimacy.', 'Just quit talking about this and arrest him', \"So Trump took documents that didn’t belong to him, these documents were in a secure facility and weren’t supposed to be taken out. So Trump would have had to have gone and gotten them, he would have to have known exactly what he was looking for and what he was going to take. He must have had some idea what he was going to use them for. He was asked to give them back(after going through them himself and selecting what to give back and what not to give back) he gave back 15 boxes of documents but held these documents back (nuclear weapons systems, signals information, information on other heads of state select docs One post has said that one of the documents had a list of names for our CIA agents in Moscow) he was asked to give these documents back and he refused, so they subpoena them and he refused again so they went and got them and got 27 additional boxes. Sounds like Trump had a plan for these documents. If I were the CIA I'd be pissed. Also everything they said they were looking for they found there. Also now they’re saying some parts of the documents are missing, what did Trump do with those parts of the documents? Possibly sell them to someone?\", 'I was born and grew up in a communist country of USSR which thanks god was destroyed with a help of respected president Regan and we were able to come to USA for full freedom, but I would never expect or believe that there will be such aggression to eliminate or arrest political opponents in USA, I feel like I am back in USSR', 'Waste of time and energy', 'May be Trump can write his memoirs in the jail ', \"Orange... it's the new orange.\", 'Trump: Everything, everyone and each organization ever existed in the world cannot be trusted, except me and my team.', 'Demon democrats', 'they went to a trump appointed judge thinking they would get a better deal.', 'Let’s go Brandon', 'A shredder???? Ya…. Ya wrong about THAT. ', 'why is Mar-a-Lago not SHUT DOWN and sealed up like a crime scene? immediately..why?', 'He’s Guilty as Sin !! ', 'He’s not supposed to have these papers Hiding,,', 'NEVER SAY HUNTER BIDEN LAPTOP FROM HELL ON C-SPAN WASHINGTON SWAMP JOURNAL ', \"I'd be searching every other Trump golf club, home, office and digging up Ivana.\\nGOTTA think like a Warped Comic Book Villain, NOT a 'normal' (SANE) human\", 'Any updates on that horrific byu racial incident you once again covered as truth?', \"It's odd that CNN doesn't have 1 video in the past week about our CURRENT president.......\", \"Trump still thinks he's the POTUS...sad.\", 'Anybody notice the classified documents were laying *office carpet*, and not in the basement?', 'Is trying to make a mockery of justice a crime? One more.', 'Decodes?\\nGo BlueAnon!\\nTrust the plan!', 'With the power they have why don’t you guys fix the peoples problems? Y’all just talk abt the orange man', 'Can we send trump to Russia in exchange for Brittney Griner?!', 'United States of America vs. donald trump.\\n#Indictdonaldtrump\\n#LockHimUp\\n#Lockupdonaldtrump', \"Ok ?\\nThat's three seconds , I will never get   back !!\", 'I would be checking the guest list at Mar-a-Lago.', 'To summarize his defense:\\nIncoherent and deranged babbling.\\nYour welcome', \"Yes, that's right! We should not be here \", 'Wokeness comes from England.   Know who your enemy is.', 'since when did CNN become Fox News Lite?', \"'Sup with Don? He looks gloomy. Light his face better, change the glasses or tickle him between shots.\", 'How many copies did Dumpster make?  Where are they?  People have to consider all this info is out in the open!', 'We better start rushing the barricades these Democrats want to just talk about facts and the facts are we want to get emotional and throw ourselves on the barricades when the facts get too tough', 'I think it’s crazy how they holding Trump to the fire but ain’t said s*it about Biden ', \"Oh yeah those fake Time magazine's he hangs in his resorts so people think he's more important than he really is, what a f..king joke, Rj in Oz\", 'Trump Lawyer is going to take the fall for him....this is amazing ....', 'Witch hunt  ', 'Laura is right on....these other jerks....go read and get in touch', 'Trump should hire the Ninja Turtles that worked on the Arizona recount. Lol.', '...so, Assange is guilty but Trump is innocent?', 'How can anyone believe anything the DOJ has to say.', 'Just wake me  when I can vote for Trump again! ', 'CNN, could you please ask one of your experts to calculate the expense to the US taxpayers to do the two impeachments and all of the Trump investigations and cleanup/repair work? Thank you.', 'Commingling!', 'Seriously Indite the Traitor #Accountability #USA', \"He doesn't enough Husky Pencils to write a Memoir. Besides, he  barely knows himself.\", 'Another joke that won’t go anywhere…', \"I feel Trump trying,to get this judge so involved. That she will need to see the affidavit . Since she a Trump stooge, she then could leak into him. I think that what Trump wants, but I don't think  she  that dumb to do that\", 'They want a special master that is paid very well to see nothing wrong with Trump having these documents and sharing or selling to who ever may like to take a special trip to the mar a logo', 'I know that colonials like their papers but they really dont allow the ex presidents to keep a scrap of it?   These are papers of all kinds that have already been seen isnt that a little weird?', 'Expired passport? So the former guy traveled without a valid passport? Isn’t that a crime? The countries he visited need to open up an investigation.', \".. what's an archive achieve\\n'mind'..?️\\u200d\", \"Corcoran Bobb Habib's get your 5year bag ready because all the signs are you guys are heading for Rikers or some other place of detention whether it's before or after your boss I don't know of course there is a way out throw your boss under the bus before he does it to you\", \"But...   but ...   but ....   BUT WHAT ABOUT HILARY'S Emails?\", \"Why can't America get a Chumpy Bear  you've seen them A dorky bear with a turd on his noggin and sci document in his paw\", \"Why can't America get a Chumpy Bear  you've seen them A dorky bear with a turd on his noggin and sci document in his paw\", 'Jail.', '1 thumbs up,  1 thumbs down, next commentator...\\nGreat questions.  So far. Still watching.BUT!\\nI thought from the video \"cover\" I\\'d hear it from Trump himself. This is a hook and bait. why I HATE this fake news media. So why not have the debate directly between MSNBS/CBS/NBC /ABC...and Fox directly. In the elections we All know the media pucks the candidates. Look.', \"'Get Trump' failed attempt #4,873  \", \"The leniency afforded him is staggering. Why isn't he already under arrest? #lockhimup\", 'Based on what has already happened with this second judge deciding inappropriately to take this duplicate case, & then said she was ruling in DJT’s favor w/out even hearing the opposing argument, & the ruling is for something that makes no sense in this case at all since these docs are STOLEN so no matter how they’re sorted, DJT doesn’t have any right to any of them, & the DOJ still has every right to charge him for stealing govt docs from the White House, BASED ON ALL OF THESE THINGS, people need to stop giving this judge the benefit of the doubt while we wait for her rulings. We can’t be surprised when she rules that DJT has some ownership of those documents, & orders that some be returned to him.', 'What is CNN ? is it on Comedy Central?', 'Anyone heard from FOX NEWS?', 'CNN ', '️2022/2024\\nRoe\\nRoe\\nRoe your vote!', 'How could you people die like this forever...', 'its a different story, a different defense everyday.  its like a shit throwing fight eventually some may stick. its a comedy sketch but its not funny.', 'MAGA 2024', 'It’s finally here https://youtube.com/shorts/4aOG8NyMCyk?feature=share', '+ Mark of the beast (of \"the BEST\")  is about DanMARK. DanMARK is the most digitalized country. The queen of DanMARK is calling herself personally to be \"We\", as a beast with several heads. The queen of Danmark according the constitution  is the State herself personally,  word \"the state\" comes from word \"Satan\". Every dane is worshipping the danish State, and most of other countries worship Danmark as the State too.  Queen of Danmark and her son and her cousin norwegian king and their cousin primeminister Mette Frederiksen have all inherited the same genome failure in their right eye, just as Hitler had genome failure on his right eye on photo with mustash when he was younger. Since this danish/german queen took over the power in the 1970\\'ies, under her ruling there was legalized child pornography as the world center, pure Sodoma and Gomorah. Word \"sex\", in danish is pronounced  as \"6\" (666). Kingdom of Danmark (Saxe Coburg Gotha)  has world\\'s biggest sperm/ reproductive material  genome  bank (deep frozen= cold war) selling it to the rest of the word to populate other countries and continents. Since 1970\\'ies Denmark is guilty of crimes against humanity on its own population, the statistics prove it. Christ means the one whom was crucified,  antichrist means the one whom stays in power without beeing crucified/ without beeing punished, danish primeministers/ministers as  representatives of the danish queen had ALL( ALL, meaning: sweDEN/sve) never been punished but are by the journalists kept popular and re-elected and rewarded all their life so far.  Every crown house will be owned by danish crown, because danes married their bloodlineage into the other crowns, as well as they are planting their bloodlineage in republics to decide the politics and administration. On danish uniforms whom are protecting the queen there is a symbol of Sun because she is as Sun God. Word \"DANmark\" translated comes from the word : \"the day/light\", because the real Egypt  was somewhere around Denmark, as well as word Egypt comes from word \"Ego\"(as the top of the pyramide)  and it is visible in daylight. Danish BLOOD RED flag/coat of arms is a member of a global flag club : Samaritans/ Red Cross/ Military Order of Malta/ Johanittes Order/ Hospitalier Knights/ red-blue Savoy Crown  House/ etc, etc.    Norwegian flag and cousin Crown belongs to that club too... All journalists are on state subsidy in Kingdom of Denmark, and  are hiding the truth about Danmark  from the public... The Crown is guilty of crimes against humanity since 1970\\'ies, the citizen can not protect private property from the government, the citizen can not protect one\\'s own child from the government, too many danes in Denmark become ill BECAUSE OF torture by non existing legal safety and human right.. Administration and the local courts under the Crown, are themselves daily breaking every normal logic and danish laws as well - towards danish citizens. Citizens feel like a  minority in 1930\\'ies Germany while you all are worshipping Kingdom of Denmark, I can not understand where is the soul of all of you when you are in contact with danish KZ guards (always fake smiling : journalists, politicians, crown members, administrators)? ', 'I love propaganda  ', 'He still thinks he’s the president', \"What would CNN do if Trump didn't exist?\", 'A cleansing will be taking place.', \"Trump doesn't even know what a special master is.\", 'Plus I presume trump has cleaners+ they not security- passed? Is his wife security passed?', 'Unlock nose old tradition', \"I'm not a lawyer or anything but wasn't he president with presidential records? so if he is president shouldn't those belong to him?\", 'Mar-a-Lago is not a golf course.', 'MY FINANCIAL GOAL IS TO BE MAKING AT LEAST UP TO $1,000,000 EVERY YEAR BY INVESTING HEAVILY BOTH IN CRYPTO AND STOCK. I NEED GUIDIANCE. please comment below...', \"Wouldn't it be funny if this document scandal costs the Republicans the Presidential election in 2024?  Yes, it would be\", 'Our new God..  The Beast Nation has a new God, all come and worship the new God,  protect the new God with your lives,  the new God shall not be betrayed under pain of death.   BEHOLD the SECRETS!!!\\n\\nBow down before the secrets, .... whats that you say?   You have no idea what you are worshipping?  Infidel!  Take him away....  Now did I say that these are the biggest secrets in the WORLD!!?', \"Because of course Donald Trump said they were his no one else's their mine said the child\", 'Time magazine is top secret? Lol.. FBI messed up', \"Why didn't they take the documents back in May?\", \"Trump taking his toys home so other kids can't play with them.\", 'TRUMP FOR PRESIDENT!!!!\\n🇺🇸 🇺🇸 🇺🇸 2024 🇺🇸 🇺🇸 🇺🇸', 'MY FINANCIAL GOAL IS TO BE MAKING AT LEAST UP TO $1,000,000 EVERY YEAR BY INVESTING HEAVILY BOTH IN CRYPTO AND STOCK. I NEED GUIDIANCE. please comment below..', 'i one have securty tel scream', 'Jesus Christ called people everywhere to repent, therefore, if you confess with your lips the Lord Jesus and believe with all your heart that God raised him from the dead, you will be saved and inherit the Kingdom of Heaven and eternal life. told other people how good he is, how he saves, heals and liberates and gives eternal life 71', 'NO HUNTER CNN', 'CNN? Really guys!!? ️', 'T2024', 'আজ টাকা পাঠিয়ে দাও। আমার টাকা দরকার।', 'তোমাদের বৈশ্বয়িক নিরাপত্তা দিব।', 'Witch hunt season 6 continues.', 'Trump is done.\\nHe never put it out.', \"And he's still going to win in 2024\", 'Trump Trump 🇺🇸🇺🇸🇺🇸🇺🇸🇺🇸', 'Lol Exactly that is the stupidest argument Dude you’re not the president somebody get the white jackets remember the old white jackets', 'Just came in to get a few laughs from the people stupid enough to think men can get pregnant. I was not disappointed. LMFAO', \"Why don't you explain what Obama has done on this?  There is a process.\", '5th Nothing ', \"Laura has been wrong so many times it's a joke now.\", 'It’s an admission he lied when he said his lawyers already turned in all the documents that he can now claim of course he had them', \"Lemon you're a lemon.\", '@abc family death threats', 'Trump had to be doing something right cause the feds and media after him thats how you know someone is actually trying to make America better', 'Interesting discussion.', \"Where's Ashley Biden\", \"My god , everytime I'm skipping a CNN video it's always about Trump....obsessed much? No other way to get a few hits...\", 'If any of y’all think trump spends 1 second in jail is on the best fentanyl a person can buy.', 'What part of declassified do you not understand???', 'Need    a  road  map to follow all the  lies....', 'Those pesky Leakers', 'He doesn’t have a legal argument = CLASSIFIED documents are no different than a MISSILE or TANK', 'CNN model: Invite trump haters saying       groundless ', '- God bless America! God bless D Trump! God bless MAGA! No Democrats!', '\"I De-Classified these Documents the FBI Planted!!\" .', 'BONEZPURZ, BONEZPURZ whatcha gonna do?\\n\\nWhatcha gonna do when they come for you?\\n\\nBONEZPURZ, BONEZPURZ whatcha gonna do?\\n\\nWhatcha gonna do when they come for you?', \"I still can't believe how many of you people fall for this. Every week they come out with something new  None of it ever actually sticks and you guys get on every week and talk as if this is the thing that's going to get him. \"]\n",
      "333\n"
     ]
    }
   ],
   "source": [
    "comment=[]\n",
    "comment_tags=driver.find_elements(By.XPATH,'//yt-formatted-string[@id=\"content-text\"]')\n",
    "for i in comment_tags:\n",
    "    comment.append(i.text)\n",
    "    \n",
    "print(comment)\n",
    "print(len(comment))"
   ]
  },
  {
   "cell_type": "code",
   "execution_count": 111,
   "id": "a1467670",
   "metadata": {},
   "outputs": [
    {
     "data": {
      "text/html": [
       "<div>\n",
       "<style scoped>\n",
       "    .dataframe tbody tr th:only-of-type {\n",
       "        vertical-align: middle;\n",
       "    }\n",
       "\n",
       "    .dataframe tbody tr th {\n",
       "        vertical-align: top;\n",
       "    }\n",
       "\n",
       "    .dataframe thead th {\n",
       "        text-align: right;\n",
       "    }\n",
       "</style>\n",
       "<table border=\"1\" class=\"dataframe\">\n",
       "  <thead>\n",
       "    <tr style=\"text-align: right;\">\n",
       "      <th></th>\n",
       "      <th>Comments</th>\n",
       "    </tr>\n",
       "  </thead>\n",
       "  <tbody>\n",
       "    <tr>\n",
       "      <th>0</th>\n",
       "      <td>The employee thought he was the king……Make Att...</td>\n",
       "    </tr>\n",
       "    <tr>\n",
       "      <th>1</th>\n",
       "      <td>They want the special master to expose, punish...</td>\n",
       "    </tr>\n",
       "    <tr>\n",
       "      <th>2</th>\n",
       "      <td>Is DJT keeping classified documents at his hom...</td>\n",
       "    </tr>\n",
       "    <tr>\n",
       "      <th>3</th>\n",
       "      <td>Just say it already, Does Putin \"HAVE\"  USA Hi...</td>\n",
       "    </tr>\n",
       "    <tr>\n",
       "      <th>4</th>\n",
       "      <td>You know you are in real trouble when your law...</td>\n",
       "    </tr>\n",
       "    <tr>\n",
       "      <th>...</th>\n",
       "      <td>...</td>\n",
       "    </tr>\n",
       "    <tr>\n",
       "      <th>328</th>\n",
       "      <td>CNN model: Invite trump haters saying       gr...</td>\n",
       "    </tr>\n",
       "    <tr>\n",
       "      <th>329</th>\n",
       "      <td>- God bless America! God bless D Trump! God bl...</td>\n",
       "    </tr>\n",
       "    <tr>\n",
       "      <th>330</th>\n",
       "      <td>\"I De-Classified these Documents the FBI Plant...</td>\n",
       "    </tr>\n",
       "    <tr>\n",
       "      <th>331</th>\n",
       "      <td>BONEZPURZ, BONEZPURZ whatcha gonna do?\\n\\nWhat...</td>\n",
       "    </tr>\n",
       "    <tr>\n",
       "      <th>332</th>\n",
       "      <td>I still can't believe how many of you people f...</td>\n",
       "    </tr>\n",
       "  </tbody>\n",
       "</table>\n",
       "<p>333 rows × 1 columns</p>\n",
       "</div>"
      ],
      "text/plain": [
       "                                              Comments\n",
       "0    The employee thought he was the king……Make Att...\n",
       "1    They want the special master to expose, punish...\n",
       "2    Is DJT keeping classified documents at his hom...\n",
       "3    Just say it already, Does Putin \"HAVE\"  USA Hi...\n",
       "4    You know you are in real trouble when your law...\n",
       "..                                                 ...\n",
       "328  CNN model: Invite trump haters saying       gr...\n",
       "329  - God bless America! God bless D Trump! God bl...\n",
       "330  \"I De-Classified these Documents the FBI Plant...\n",
       "331  BONEZPURZ, BONEZPURZ whatcha gonna do?\\n\\nWhat...\n",
       "332  I still can't believe how many of you people f...\n",
       "\n",
       "[333 rows x 1 columns]"
      ]
     },
     "execution_count": 111,
     "metadata": {},
     "output_type": "execute_result"
    }
   ],
   "source": [
    "df=pd.DataFrame({'Comments':comment})\n",
    "df.head(500)"
   ]
  },
  {
   "cell_type": "markdown",
   "id": "ae0ba006",
   "metadata": {},
   "source": [
    "# 10. Write a python program to scrape a data for all available Hostels from https://www.hostelworld.com/ in “London” location. You have to scrape hostel name, distance from city centre, ratings, total reviews, overall reviews, privates from price, dorms from price, facilities and property description"
   ]
  },
  {
   "cell_type": "code",
   "execution_count": 112,
   "id": "d7a36a84",
   "metadata": {},
   "outputs": [],
   "source": [
    "driver.get('https://www.hostelworld.com/')"
   ]
  },
  {
   "cell_type": "code",
   "execution_count": 115,
   "id": "74601130",
   "metadata": {},
   "outputs": [],
   "source": [
    "search=driver.find_element(By.XPATH,'//input[@id=\"search-input-field\"]')\n",
    "search.send_keys('London')"
   ]
  },
  {
   "cell_type": "code",
   "execution_count": 116,
   "id": "bfbbc7a0",
   "metadata": {},
   "outputs": [],
   "source": [
    "enter=driver.find_element(By.XPATH,'/html/body/div[3]/div/div/div[2]/div[1]/div/div/div[4]/div/div[2]/div/div[1]/div/div/ul/li[2]/div')\n",
    "enter.click()"
   ]
  },
  {
   "cell_type": "code",
   "execution_count": 117,
   "id": "63159a31",
   "metadata": {},
   "outputs": [],
   "source": [
    "lets_go=driver.find_element(By.XPATH,'/html/body/div[3]/div/div/div[2]/div[1]/div/div/div[4]/div/div[2]/div/div[5]/button')\n",
    "lets_go.click()"
   ]
  },
  {
   "cell_type": "code",
   "execution_count": 119,
   "id": "e50ab845",
   "metadata": {},
   "outputs": [
    {
     "name": "stdout",
     "output_type": "stream",
     "text": [
      "[\"St Christopher's Village\", 'Selina Camden', \"Wombat's City Hostel London\", 'Generator London', 'Urbany Hostel London', 'Astor Hyde Park', 'Safestay London Elephant & Castle', 'Smart Camden Inn Hostel', 'No.8 Willesden Hostel London', 'Smart Russell Square Hostel', 'No.8 Seven Sisters', 'London Backpackers', 'Barmy Badger Backpackers', 'Safestay London Kensington Holland Park', 'Prime Backpackers Angel', 'Phoenix Hostel', 'Smart Hyde Park View Hostel', 'Queen Elizabeth Chelsea', 'Smart Hyde Park Inn Hostel', 'NX London Hostel', 'Hostel One Notting Hill', \"St Christopher's Hammersmith\", 'Strand Continental', \"St Christopher's Camden\", \"St Christopher's Oasis-Female Only\", 'London Waterloo Hostel', 'PubLove @ The White Ferry, Victoria', 'Clink261', \"St Christopher's Greenwich\", 'PubLove @ The Steam Engine, Waterloo']\n",
      "30\n"
     ]
    }
   ],
   "source": [
    "name=[]\n",
    "name_tags=driver.find_elements(By.XPATH,'//h2[@class=\"title title-6\"]')\n",
    "for i in name_tags:\n",
    "    name.append(i.text)\n",
    "    \n",
    "print(name)\n",
    "print(len(name))"
   ]
  },
  {
   "cell_type": "code",
   "execution_count": 120,
   "id": "d8d0b406",
   "metadata": {},
   "outputs": [
    {
     "name": "stdout",
     "output_type": "stream",
     "text": [
      "['Hostel - 1.8km from city centre', 'Hostel - 5.5km from city centre', 'Hostel - 3.6km from city centre', 'Hostel - 3km from city centre', 'Hostel - 5.4km from city centre', 'Hostel - 4.3km from city centre', 'Hostel - 1.7km from city centre', 'Hostel - 4.4km from city centre', 'Hostel - 10km from city centre', 'Hostel - 2.6km from city centre', 'Hostel - 9km from city centre', 'Hostel - 11.9km from city centre', 'Hostel - 5.5km from city centre', 'Hostel - 5.9km from city centre', 'Hostel - 3.6km from city centre', 'Hostel - 4.2km from city centre', 'Hostel - 5km from city centre', 'Hostel - 5.7km from city centre', 'Hostel - 5km from city centre', 'Hostel - 6.1km from city centre', 'Hostel - 5.5km from city centre', 'Hostel - 7.5km from city centre', 'Hostel - 1.3km from city centre', 'Hostel - 4.3km from city centre', 'Hostel - 1.8km from city centre', 'Hostel - 0.7km from city centre', 'Hostel - 2.4km from city centre', 'Hostel - 3.2km from city centre', 'Hostel - 7.6km from city centre', 'Hostel - 0.5km from city centre']\n",
      "30\n"
     ]
    }
   ],
   "source": [
    "distance=[]\n",
    "distance_tags=driver.find_elements(By.XPATH,'//span[@class=\"description\"]')\n",
    "for i in distance_tags:\n",
    "    distance.append(i.text)\n",
    "    \n",
    "print(distance)\n",
    "print(len(distance))"
   ]
  },
  {
   "cell_type": "code",
   "execution_count": 130,
   "id": "3671127e",
   "metadata": {},
   "outputs": [
    {
     "name": "stdout",
     "output_type": "stream",
     "text": [
      "['8.2', '8.6', '9.0', '7.8', '9.3', '8.5', '7.0', '8.4', '6.7', '7.1', '8.2', '9.0', '6.5', '8.3', '7.4', '8.1', '6.6', '7.0', '7.4', '9.3', '7.8', '6.9', '8.3', '8.2', '6.2', '8.0', '7.7', '6.9', '8.4']\n",
      "29\n"
     ]
    }
   ],
   "source": [
    "rating=[]\n",
    "rating_tags=driver.find_elements(By.XPATH,'//div[@class=\"score orange big\"]')\n",
    "for i in rating_tags:\n",
    "    rating.append(i.text)\n",
    "    \n",
    "print(rating)    \n",
    "print(len(rating))"
   ]
  },
  {
   "cell_type": "code",
   "execution_count": 122,
   "id": "5e7bfec0",
   "metadata": {},
   "outputs": [
    {
     "name": "stdout",
     "output_type": "stream",
     "text": [
      "['11475 Total Reviews', '36 Total Reviews', '14008 Total Reviews', '7137 Total Reviews', '453 Total Reviews', '11665 Total Reviews', '4473 Total Reviews', '2919 Total Reviews', '4828 Total Reviews', '9747 Total Reviews', '3847 Total Reviews', '4320 Total Reviews', '1813 Total Reviews', '1303 Total Reviews', '639 Total Reviews', '3739 Total Reviews', '4594 Total Reviews', '3318 Total Reviews', '6351 Total Reviews', '1218 Total Reviews', '1483 Total Reviews', '4106 Total Reviews', '893 Total Reviews', '3832 Total Reviews', '682 Total Reviews', '2510 Total Reviews', '285 Total Reviews', '128 Total Reviews', '3237 Total Reviews', '305 Total Reviews']\n",
      "30\n"
     ]
    }
   ],
   "source": [
    "tot_review=[]\n",
    "tot_tags=driver.find_elements(By.XPATH,'//div[@class=\"reviews\"]')\n",
    "for i in tot_tags:\n",
    "    tot_review.append(i.text)\n",
    "    \n",
    "print(tot_review)\n",
    "print(len(tot_review))"
   ]
  },
  {
   "cell_type": "code",
   "execution_count": 123,
   "id": "8a00e88b",
   "metadata": {},
   "outputs": [
    {
     "name": "stdout",
     "output_type": "stream",
     "text": [
      "['From Rs1552', 'From Rs6456', 'Privates FromRs11618.6 Rs10457', 'Privates FromRs26676', 'Privates FromRs10441', 'Privates FromRs9987', 'Privates FromRs13938', 'No Privates Available', 'Privates FromRs7781', 'No Privates Available', 'Privates FromRs2959', 'Privates FromRs15391', 'No Privates Available', 'No Privates Available', 'Privates FromRs8815No ', 'No Privates Available', 'No Privates Available', 'No Privates Available', 'Privates FromRs11198', 'No Privates Available', 'Privates FromRs13918.44 Rs12527', 'Privates FromRs8753.06 Rs7002', 'Privates FromRs11899', 'No Privates Available', 'No Privates Available', 'No Privates Available', 'Privates FromRs12817.92 Rs11536No ', 'Privates FromRs12171', 'No Privates Available', 'No Privates Available', 'No Privates Available', 'No Privates Available']\n",
      "32\n"
     ]
    }
   ],
   "source": [
    "private_price=[]\n",
    "private_tags=driver.find_elements(By.XPATH,'//a[@class=\"prices\"]')\n",
    "for i in private_tags:\n",
    "    private_price.append(i.text.replace('\\n','').replace('From Rs7731','').replace('From Rs2100','').replace('From Rs1393','').split('Dorms')[0])\n",
    "    \n",
    "print(private_price)\n",
    "print(len(private_price))"
   ]
  },
  {
   "cell_type": "code",
   "execution_count": 124,
   "id": "af4ce384",
   "metadata": {},
   "outputs": [
    {
     "name": "stdout",
     "output_type": "stream",
     "text": [
      "['Rs11618.6 Rs10457', 'Rs1724.2 Rs1552', 'Rs26676', 'Rs7595.25 Rs6456', 'Rs10441', 'Rs4299.44 Rs3225', 'Rs9987', 'Rs2820', 'Rs13938', 'Rs3252', 'Rs2130', 'Rs7781', 'Rs1528', 'Rs2718', 'Rs2959', 'Rs1755', 'Rs15391', 'Rs2106', 'Rs1477', 'Rs1501', 'Rs8815', 'Rs1584', 'Rs2613', 'Rs2023.78 Rs1923', 'Rs11198', 'Rs1803', 'Rs1760', 'Rs13918.44 Rs12527', 'Rs1679.6 Rs1512', 'Rs8753.06 Rs7002', 'Rs2515.54 Rs2012', 'Rs11899', 'Rs2279', 'Rs1676.51 Rs1509', 'Rs2584', 'Rs2217.51 Rs1996', 'Rs12817.92 Rs11536', 'Rs12171', 'Rs2267', 'Rs2594', 'Rs2406', 'Rs1566.39 Rs1410', 'Rs4137']\n",
      "43\n"
     ]
    }
   ],
   "source": [
    "dorms_price=[]\n",
    "dorm_tags=driver.find_elements(By.XPATH,'//div[@class=\"price title-5\"]')\n",
    "for i in dorm_tags:\n",
    "    dorms_price.append(i.text)\n",
    "print(dorms_price)\n",
    "print(len(dorms_price))"
   ]
  },
  {
   "cell_type": "code",
   "execution_count": 125,
   "id": "f3dcbc6a",
   "metadata": {},
   "outputs": [
    {
     "name": "stdout",
     "output_type": "stream",
     "text": [
      "['Free WiFiFollows Covid-19 sanitation guidance', 'Free WiFi', 'Free WiFiFollows Covid-19 sanitation guidance', 'Free WiFiFollows Covid-19 sanitation guidance', 'Free WiFiFollows Covid-19 sanitation guidance', 'Free WiFiFollows Covid-19 sanitation guidance', 'Free WiFiFollows Covid-19 sanitation guidance', 'Free WiFiFollows Covid-19 sanitation guidance', 'Free WiFiFollows Covid-19 sanitation guidance', 'Free WiFiFollows Covid-19 sanitation guidance', 'Free WiFiFollows Covid-19 sanitation guidance', 'Free WiFiFollows Covid-19 sanitation guidance', 'Free WiFiFree Breakfast', 'Free WiFi', 'Free WiFiFollows Covid-19 sanitation guidance', 'Free WiFiFollows Covid-19 sanitation guidance', 'Free WiFiFollows Covid-19 sanitation guidance', 'Free WiFi', 'Free WiFi', 'Free WiFiFree Breakfast', 'Free WiFi', 'Free WiFiFollows Covid-19 sanitation guidance', 'Follows Covid-19 sanitation guidance', 'Free WiFiFollows Covid-19 sanitation guidance', 'Free WiFiFollows Covid-19 sanitation guidance', 'Free WiFiFollows Covid-19 sanitation guidance', 'Free WiFiFollows Covid-19 sanitation guidance', 'Free WiFiFollows Covid-19 sanitation guidance', 'Free WiFiFollows Covid-19 sanitation guidance', 'Free WiFiFollows Covid-19 sanitation guidance']\n",
      "30\n"
     ]
    }
   ],
   "source": [
    "facility=[]\n",
    "facility_tags=driver.find_elements(By.XPATH,'//div[@class=\"facilities-label facilities\"]')\n",
    "for i in facility_tags:\n",
    "    facility.append(i.text.replace('\\n',''))\n",
    "    \n",
    "print(facility)\n",
    "print(len(facility))"
   ]
  },
  {
   "cell_type": "code",
   "execution_count": 126,
   "id": "48aa9640",
   "metadata": {},
   "outputs": [
    {
     "name": "stdout",
     "output_type": "stream",
     "text": [
      "['From Rs1552', 'From Rs6456', 'Privates FromRs11618.6 Rs10457Dorms FromRs1724.2 Rs1552', 'Privates FromRs26676Dorms FromRs7595.25 Rs6456', 'Privates FromRs10441Dorms FromRs4299.44 Rs3225', 'Privates FromRs9987Dorms FromRs2820', 'Privates FromRs13938Dorms FromRs3252', 'No Privates AvailableDorms FromRs2130', 'Privates FromRs7781Dorms FromRs1528', 'No Privates AvailableDorms FromRs2718', 'Privates FromRs2959Dorms FromRs1755', 'Privates FromRs15391Dorms FromRs2106', 'No Privates AvailableDorms FromRs1477', 'No Privates AvailableDorms FromRs1501', 'Privates FromRs8815No Dorms Available', 'No Privates AvailableDorms FromRs1584', 'No Privates AvailableDorms FromRs2613', 'No Privates AvailableDorms FromRs2023.78 Rs1923', 'Privates FromRs11198Dorms FromRs1803', 'No Privates AvailableDorms FromRs1760', 'Privates FromRs13918.44 Rs12527Dorms FromRs1679.6 Rs1512', 'Privates FromRs8753.06 Rs7002Dorms FromRs2515.54 Rs2012', 'Privates FromRs11899Dorms FromRs2279', 'No Privates AvailableDorms FromRs1676.51 Rs1509', 'No Privates AvailableDorms FromRs2584', 'No Privates AvailableDorms FromRs2217.51 Rs1996', 'Privates FromRs12817.92 Rs11536No Dorms Available', 'Privates FromRs12171Dorms FromRs2267', 'No Privates AvailableDorms FromRs2594', 'No Privates AvailableDorms FromRs2406', 'No Privates AvailableDorms FromRs1566.39 Rs1410', 'No Privates AvailableDorms FromRs4137']\n",
      "32\n"
     ]
    }
   ],
   "source": [
    "price_combine=[]\n",
    "pri=driver.find_elements(By.XPATH,'//a[@class=\"prices\"]')\n",
    "for i in pri:\n",
    "    price_combine.append(i.text.replace('\\n',''))\n",
    "    \n",
    "print(price_combine)\n",
    "print(len(price_combine))"
   ]
  },
  {
   "cell_type": "code",
   "execution_count": 131,
   "id": "15b147c2",
   "metadata": {},
   "outputs": [
    {
     "data": {
      "text/html": [
       "<div>\n",
       "<style scoped>\n",
       "    .dataframe tbody tr th:only-of-type {\n",
       "        vertical-align: middle;\n",
       "    }\n",
       "\n",
       "    .dataframe tbody tr th {\n",
       "        vertical-align: top;\n",
       "    }\n",
       "\n",
       "    .dataframe thead th {\n",
       "        text-align: right;\n",
       "    }\n",
       "</style>\n",
       "<table border=\"1\" class=\"dataframe\">\n",
       "  <thead>\n",
       "    <tr style=\"text-align: right;\">\n",
       "      <th></th>\n",
       "      <th>Name of Hostel</th>\n",
       "      <th>Distance from city Centre</th>\n",
       "      <th>Total_reviews</th>\n",
       "      <th>Facility</th>\n",
       "    </tr>\n",
       "  </thead>\n",
       "  <tbody>\n",
       "    <tr>\n",
       "      <th>0</th>\n",
       "      <td>St Christopher's Village</td>\n",
       "      <td>Hostel - 1.8km from city centre</td>\n",
       "      <td>11475 Total Reviews</td>\n",
       "      <td>Free WiFiFollows Covid-19 sanitation guidance</td>\n",
       "    </tr>\n",
       "    <tr>\n",
       "      <th>1</th>\n",
       "      <td>Selina Camden</td>\n",
       "      <td>Hostel - 5.5km from city centre</td>\n",
       "      <td>36 Total Reviews</td>\n",
       "      <td>Free WiFi</td>\n",
       "    </tr>\n",
       "    <tr>\n",
       "      <th>2</th>\n",
       "      <td>Wombat's City Hostel London</td>\n",
       "      <td>Hostel - 3.6km from city centre</td>\n",
       "      <td>14008 Total Reviews</td>\n",
       "      <td>Free WiFiFollows Covid-19 sanitation guidance</td>\n",
       "    </tr>\n",
       "    <tr>\n",
       "      <th>3</th>\n",
       "      <td>Generator London</td>\n",
       "      <td>Hostel - 3km from city centre</td>\n",
       "      <td>7137 Total Reviews</td>\n",
       "      <td>Free WiFiFollows Covid-19 sanitation guidance</td>\n",
       "    </tr>\n",
       "    <tr>\n",
       "      <th>4</th>\n",
       "      <td>Urbany Hostel London</td>\n",
       "      <td>Hostel - 5.4km from city centre</td>\n",
       "      <td>453 Total Reviews</td>\n",
       "      <td>Free WiFiFollows Covid-19 sanitation guidance</td>\n",
       "    </tr>\n",
       "    <tr>\n",
       "      <th>5</th>\n",
       "      <td>Astor Hyde Park</td>\n",
       "      <td>Hostel - 4.3km from city centre</td>\n",
       "      <td>11665 Total Reviews</td>\n",
       "      <td>Free WiFiFollows Covid-19 sanitation guidance</td>\n",
       "    </tr>\n",
       "    <tr>\n",
       "      <th>6</th>\n",
       "      <td>Safestay London Elephant &amp; Castle</td>\n",
       "      <td>Hostel - 1.7km from city centre</td>\n",
       "      <td>4473 Total Reviews</td>\n",
       "      <td>Free WiFiFollows Covid-19 sanitation guidance</td>\n",
       "    </tr>\n",
       "    <tr>\n",
       "      <th>7</th>\n",
       "      <td>Smart Camden Inn Hostel</td>\n",
       "      <td>Hostel - 4.4km from city centre</td>\n",
       "      <td>2919 Total Reviews</td>\n",
       "      <td>Free WiFiFollows Covid-19 sanitation guidance</td>\n",
       "    </tr>\n",
       "    <tr>\n",
       "      <th>8</th>\n",
       "      <td>No.8 Willesden Hostel London</td>\n",
       "      <td>Hostel - 10km from city centre</td>\n",
       "      <td>4828 Total Reviews</td>\n",
       "      <td>Free WiFiFollows Covid-19 sanitation guidance</td>\n",
       "    </tr>\n",
       "    <tr>\n",
       "      <th>9</th>\n",
       "      <td>Smart Russell Square Hostel</td>\n",
       "      <td>Hostel - 2.6km from city centre</td>\n",
       "      <td>9747 Total Reviews</td>\n",
       "      <td>Free WiFiFollows Covid-19 sanitation guidance</td>\n",
       "    </tr>\n",
       "    <tr>\n",
       "      <th>10</th>\n",
       "      <td>No.8 Seven Sisters</td>\n",
       "      <td>Hostel - 9km from city centre</td>\n",
       "      <td>3847 Total Reviews</td>\n",
       "      <td>Free WiFiFollows Covid-19 sanitation guidance</td>\n",
       "    </tr>\n",
       "    <tr>\n",
       "      <th>11</th>\n",
       "      <td>London Backpackers</td>\n",
       "      <td>Hostel - 11.9km from city centre</td>\n",
       "      <td>4320 Total Reviews</td>\n",
       "      <td>Free WiFiFollows Covid-19 sanitation guidance</td>\n",
       "    </tr>\n",
       "    <tr>\n",
       "      <th>12</th>\n",
       "      <td>Barmy Badger Backpackers</td>\n",
       "      <td>Hostel - 5.5km from city centre</td>\n",
       "      <td>1813 Total Reviews</td>\n",
       "      <td>Free WiFiFree Breakfast</td>\n",
       "    </tr>\n",
       "    <tr>\n",
       "      <th>13</th>\n",
       "      <td>Safestay London Kensington Holland Park</td>\n",
       "      <td>Hostel - 5.9km from city centre</td>\n",
       "      <td>1303 Total Reviews</td>\n",
       "      <td>Free WiFi</td>\n",
       "    </tr>\n",
       "    <tr>\n",
       "      <th>14</th>\n",
       "      <td>Prime Backpackers Angel</td>\n",
       "      <td>Hostel - 3.6km from city centre</td>\n",
       "      <td>639 Total Reviews</td>\n",
       "      <td>Free WiFiFollows Covid-19 sanitation guidance</td>\n",
       "    </tr>\n",
       "    <tr>\n",
       "      <th>15</th>\n",
       "      <td>Phoenix Hostel</td>\n",
       "      <td>Hostel - 4.2km from city centre</td>\n",
       "      <td>3739 Total Reviews</td>\n",
       "      <td>Free WiFiFollows Covid-19 sanitation guidance</td>\n",
       "    </tr>\n",
       "    <tr>\n",
       "      <th>16</th>\n",
       "      <td>Smart Hyde Park View Hostel</td>\n",
       "      <td>Hostel - 5km from city centre</td>\n",
       "      <td>4594 Total Reviews</td>\n",
       "      <td>Free WiFiFollows Covid-19 sanitation guidance</td>\n",
       "    </tr>\n",
       "    <tr>\n",
       "      <th>17</th>\n",
       "      <td>Queen Elizabeth Chelsea</td>\n",
       "      <td>Hostel - 5.7km from city centre</td>\n",
       "      <td>3318 Total Reviews</td>\n",
       "      <td>Free WiFi</td>\n",
       "    </tr>\n",
       "    <tr>\n",
       "      <th>18</th>\n",
       "      <td>Smart Hyde Park Inn Hostel</td>\n",
       "      <td>Hostel - 5km from city centre</td>\n",
       "      <td>6351 Total Reviews</td>\n",
       "      <td>Free WiFi</td>\n",
       "    </tr>\n",
       "    <tr>\n",
       "      <th>19</th>\n",
       "      <td>NX London Hostel</td>\n",
       "      <td>Hostel - 6.1km from city centre</td>\n",
       "      <td>1218 Total Reviews</td>\n",
       "      <td>Free WiFiFree Breakfast</td>\n",
       "    </tr>\n",
       "    <tr>\n",
       "      <th>20</th>\n",
       "      <td>Hostel One Notting Hill</td>\n",
       "      <td>Hostel - 5.5km from city centre</td>\n",
       "      <td>1483 Total Reviews</td>\n",
       "      <td>Free WiFi</td>\n",
       "    </tr>\n",
       "    <tr>\n",
       "      <th>21</th>\n",
       "      <td>St Christopher's Hammersmith</td>\n",
       "      <td>Hostel - 7.5km from city centre</td>\n",
       "      <td>4106 Total Reviews</td>\n",
       "      <td>Free WiFiFollows Covid-19 sanitation guidance</td>\n",
       "    </tr>\n",
       "    <tr>\n",
       "      <th>22</th>\n",
       "      <td>Strand Continental</td>\n",
       "      <td>Hostel - 1.3km from city centre</td>\n",
       "      <td>893 Total Reviews</td>\n",
       "      <td>Follows Covid-19 sanitation guidance</td>\n",
       "    </tr>\n",
       "    <tr>\n",
       "      <th>23</th>\n",
       "      <td>St Christopher's Camden</td>\n",
       "      <td>Hostel - 4.3km from city centre</td>\n",
       "      <td>3832 Total Reviews</td>\n",
       "      <td>Free WiFiFollows Covid-19 sanitation guidance</td>\n",
       "    </tr>\n",
       "    <tr>\n",
       "      <th>24</th>\n",
       "      <td>St Christopher's Oasis-Female Only</td>\n",
       "      <td>Hostel - 1.8km from city centre</td>\n",
       "      <td>682 Total Reviews</td>\n",
       "      <td>Free WiFiFollows Covid-19 sanitation guidance</td>\n",
       "    </tr>\n",
       "    <tr>\n",
       "      <th>25</th>\n",
       "      <td>London Waterloo Hostel</td>\n",
       "      <td>Hostel - 0.7km from city centre</td>\n",
       "      <td>2510 Total Reviews</td>\n",
       "      <td>Free WiFiFollows Covid-19 sanitation guidance</td>\n",
       "    </tr>\n",
       "    <tr>\n",
       "      <th>26</th>\n",
       "      <td>PubLove @ The White Ferry, Victoria</td>\n",
       "      <td>Hostel - 2.4km from city centre</td>\n",
       "      <td>285 Total Reviews</td>\n",
       "      <td>Free WiFiFollows Covid-19 sanitation guidance</td>\n",
       "    </tr>\n",
       "    <tr>\n",
       "      <th>27</th>\n",
       "      <td>Clink261</td>\n",
       "      <td>Hostel - 3.2km from city centre</td>\n",
       "      <td>128 Total Reviews</td>\n",
       "      <td>Free WiFiFollows Covid-19 sanitation guidance</td>\n",
       "    </tr>\n",
       "    <tr>\n",
       "      <th>28</th>\n",
       "      <td>St Christopher's Greenwich</td>\n",
       "      <td>Hostel - 7.6km from city centre</td>\n",
       "      <td>3237 Total Reviews</td>\n",
       "      <td>Free WiFiFollows Covid-19 sanitation guidance</td>\n",
       "    </tr>\n",
       "    <tr>\n",
       "      <th>29</th>\n",
       "      <td>PubLove @ The Steam Engine, Waterloo</td>\n",
       "      <td>Hostel - 0.5km from city centre</td>\n",
       "      <td>305 Total Reviews</td>\n",
       "      <td>Free WiFiFollows Covid-19 sanitation guidance</td>\n",
       "    </tr>\n",
       "  </tbody>\n",
       "</table>\n",
       "</div>"
      ],
      "text/plain": [
       "                             Name of Hostel         Distance from city Centre  \\\n",
       "0                  St Christopher's Village   Hostel - 1.8km from city centre   \n",
       "1                             Selina Camden   Hostel - 5.5km from city centre   \n",
       "2               Wombat's City Hostel London   Hostel - 3.6km from city centre   \n",
       "3                          Generator London     Hostel - 3km from city centre   \n",
       "4                      Urbany Hostel London   Hostel - 5.4km from city centre   \n",
       "5                           Astor Hyde Park   Hostel - 4.3km from city centre   \n",
       "6         Safestay London Elephant & Castle   Hostel - 1.7km from city centre   \n",
       "7                   Smart Camden Inn Hostel   Hostel - 4.4km from city centre   \n",
       "8              No.8 Willesden Hostel London    Hostel - 10km from city centre   \n",
       "9               Smart Russell Square Hostel   Hostel - 2.6km from city centre   \n",
       "10                       No.8 Seven Sisters     Hostel - 9km from city centre   \n",
       "11                       London Backpackers  Hostel - 11.9km from city centre   \n",
       "12                 Barmy Badger Backpackers   Hostel - 5.5km from city centre   \n",
       "13  Safestay London Kensington Holland Park   Hostel - 5.9km from city centre   \n",
       "14                  Prime Backpackers Angel   Hostel - 3.6km from city centre   \n",
       "15                           Phoenix Hostel   Hostel - 4.2km from city centre   \n",
       "16              Smart Hyde Park View Hostel     Hostel - 5km from city centre   \n",
       "17                  Queen Elizabeth Chelsea   Hostel - 5.7km from city centre   \n",
       "18               Smart Hyde Park Inn Hostel     Hostel - 5km from city centre   \n",
       "19                         NX London Hostel   Hostel - 6.1km from city centre   \n",
       "20                  Hostel One Notting Hill   Hostel - 5.5km from city centre   \n",
       "21             St Christopher's Hammersmith   Hostel - 7.5km from city centre   \n",
       "22                       Strand Continental   Hostel - 1.3km from city centre   \n",
       "23                  St Christopher's Camden   Hostel - 4.3km from city centre   \n",
       "24       St Christopher's Oasis-Female Only   Hostel - 1.8km from city centre   \n",
       "25                   London Waterloo Hostel   Hostel - 0.7km from city centre   \n",
       "26      PubLove @ The White Ferry, Victoria   Hostel - 2.4km from city centre   \n",
       "27                                 Clink261   Hostel - 3.2km from city centre   \n",
       "28               St Christopher's Greenwich   Hostel - 7.6km from city centre   \n",
       "29     PubLove @ The Steam Engine, Waterloo   Hostel - 0.5km from city centre   \n",
       "\n",
       "          Total_reviews                                       Facility  \n",
       "0   11475 Total Reviews  Free WiFiFollows Covid-19 sanitation guidance  \n",
       "1      36 Total Reviews                                      Free WiFi  \n",
       "2   14008 Total Reviews  Free WiFiFollows Covid-19 sanitation guidance  \n",
       "3    7137 Total Reviews  Free WiFiFollows Covid-19 sanitation guidance  \n",
       "4     453 Total Reviews  Free WiFiFollows Covid-19 sanitation guidance  \n",
       "5   11665 Total Reviews  Free WiFiFollows Covid-19 sanitation guidance  \n",
       "6    4473 Total Reviews  Free WiFiFollows Covid-19 sanitation guidance  \n",
       "7    2919 Total Reviews  Free WiFiFollows Covid-19 sanitation guidance  \n",
       "8    4828 Total Reviews  Free WiFiFollows Covid-19 sanitation guidance  \n",
       "9    9747 Total Reviews  Free WiFiFollows Covid-19 sanitation guidance  \n",
       "10   3847 Total Reviews  Free WiFiFollows Covid-19 sanitation guidance  \n",
       "11   4320 Total Reviews  Free WiFiFollows Covid-19 sanitation guidance  \n",
       "12   1813 Total Reviews                        Free WiFiFree Breakfast  \n",
       "13   1303 Total Reviews                                      Free WiFi  \n",
       "14    639 Total Reviews  Free WiFiFollows Covid-19 sanitation guidance  \n",
       "15   3739 Total Reviews  Free WiFiFollows Covid-19 sanitation guidance  \n",
       "16   4594 Total Reviews  Free WiFiFollows Covid-19 sanitation guidance  \n",
       "17   3318 Total Reviews                                      Free WiFi  \n",
       "18   6351 Total Reviews                                      Free WiFi  \n",
       "19   1218 Total Reviews                        Free WiFiFree Breakfast  \n",
       "20   1483 Total Reviews                                      Free WiFi  \n",
       "21   4106 Total Reviews  Free WiFiFollows Covid-19 sanitation guidance  \n",
       "22    893 Total Reviews           Follows Covid-19 sanitation guidance  \n",
       "23   3832 Total Reviews  Free WiFiFollows Covid-19 sanitation guidance  \n",
       "24    682 Total Reviews  Free WiFiFollows Covid-19 sanitation guidance  \n",
       "25   2510 Total Reviews  Free WiFiFollows Covid-19 sanitation guidance  \n",
       "26    285 Total Reviews  Free WiFiFollows Covid-19 sanitation guidance  \n",
       "27    128 Total Reviews  Free WiFiFollows Covid-19 sanitation guidance  \n",
       "28   3237 Total Reviews  Free WiFiFollows Covid-19 sanitation guidance  \n",
       "29    305 Total Reviews  Free WiFiFollows Covid-19 sanitation guidance  "
      ]
     },
     "execution_count": 131,
     "metadata": {},
     "output_type": "execute_result"
    }
   ],
   "source": [
    "df=pd.DataFrame({'Name of Hostel':name, 'Distance from city Centre':distance, 'Total_reviews':tot_review, 'Facility':facility})\n",
    "df"
   ]
  },
  {
   "cell_type": "code",
   "execution_count": null,
   "id": "cb088352",
   "metadata": {},
   "outputs": [],
   "source": []
  }
 ],
 "metadata": {
  "kernelspec": {
   "display_name": "Python 3 (ipykernel)",
   "language": "python",
   "name": "python3"
  },
  "language_info": {
   "codemirror_mode": {
    "name": "ipython",
    "version": 3
   },
   "file_extension": ".py",
   "mimetype": "text/x-python",
   "name": "python",
   "nbconvert_exporter": "python",
   "pygments_lexer": "ipython3",
   "version": "3.9.12"
  }
 },
 "nbformat": 4,
 "nbformat_minor": 5
}
