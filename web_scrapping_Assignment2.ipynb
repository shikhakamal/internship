{
 "cells": [
  {
   "cell_type": "markdown",
   "id": "9ab3e39a",
   "metadata": {},
   "source": [
    "!pip install selenium"
   ]
  },
  {
   "cell_type": "code",
   "execution_count": 1,
   "id": "7be69dad",
   "metadata": {},
   "outputs": [],
   "source": [
    "import selenium\n",
    "from selenium import webdriver\n",
    "from selenium.common.exceptions import StaleElementReferenceException, NoSuchElementException\n",
    "from selenium.webdriver.common.by import By\n",
    "import time\n",
    "\n",
    "import warnings\n",
    "warnings.filterwarnings('ignore')\n",
    "\n",
    "import pandas as pd"
   ]
  },
  {
   "cell_type": "code",
   "execution_count": 2,
   "id": "6b83a812",
   "metadata": {},
   "outputs": [],
   "source": [
    "# downloading the webdriver from link:\n",
    "# https://chromedriver.chromium.org//downloads"
   ]
  },
  {
   "cell_type": "code",
   "execution_count": 3,
   "id": "4fd62130",
   "metadata": {},
   "outputs": [],
   "source": [
    "driver=webdriver.Chrome(r\"C:\\Users\\Hp\\Desktop\\data trained\\chromedriver_win32\\chromedriver.exe\")"
   ]
  },
  {
   "cell_type": "markdown",
   "id": "9238b77c",
   "metadata": {},
   "source": [
    "# Q1: Write a python program to scrape data for “Data Analyst” Job position in “Bangalore” location. You\n",
    "have to scrape the job-title, job-location, company_name, experience_required. You have to scrape first 10\n",
    "jobs data."
   ]
  },
  {
   "cell_type": "code",
   "execution_count": 4,
   "id": "4ac26b9f",
   "metadata": {},
   "outputs": [],
   "source": [
    "driver.get(\"https://www.naukri.com/\")"
   ]
  },
  {
   "cell_type": "code",
   "execution_count": 5,
   "id": "58098815",
   "metadata": {},
   "outputs": [],
   "source": [
    "#entering data analyst in designation by using CLASS_NAME\n",
    "designation=driver.find_element(By.CLASS_NAME,\"suggestor-input \")\n",
    "designation.send_keys(\"Data Analyst\")"
   ]
  },
  {
   "cell_type": "code",
   "execution_count": 6,
   "id": "d93d569d",
   "metadata": {},
   "outputs": [],
   "source": [
    "#entering banglore in location field by using XPATH as it is showing class name suggestor-input\n",
    "location=driver.find_element(By.XPATH,\"/html/body/div[1]/div[2]/div[3]/div/div/div[5]/div/div/div/input\")\n",
    "location.send_keys(\"Bangalore\")"
   ]
  },
  {
   "cell_type": "code",
   "execution_count": 7,
   "id": "2d1aeb9e",
   "metadata": {},
   "outputs": [],
   "source": [
    "# click the search button\n",
    "search=driver.find_element(By.CLASS_NAME,\"qsbSubmit\")\n",
    "search.click()"
   ]
  },
  {
   "cell_type": "code",
   "execution_count": 9,
   "id": "2851c54b",
   "metadata": {},
   "outputs": [
    {
     "name": "stdout",
     "output_type": "stream",
     "text": [
      "['Senior Data Analyst', 'Sr. Data Analyst', 'Master Data Management Business Analyst', 'Senior Data Analyst', 'Intern Data Analyst', 'Data Analyst - Python/Artificial Intelligence', 'Data Analyst', 'Data Analyst', 'Leap COE Intern(Data Analyst)', 'Forecasting Analyst/ Data Scientist (US Client)']\n",
      "10\n"
     ]
    }
   ],
   "source": [
    "#scrapping job_title\n",
    "\n",
    "job_title=[]\n",
    "title_tags=driver.find_elements(By.XPATH,'//a[@class=\"title fw500 ellipsis\"]')\n",
    "for i in title_tags[0:10]:\n",
    "    job_title.append(i.text)\n",
    "print(job_title)\n",
    "print(len(job_title))"
   ]
  },
  {
   "cell_type": "code",
   "execution_count": 10,
   "id": "ef9aae94",
   "metadata": {},
   "outputs": [
    {
     "name": "stdout",
     "output_type": "stream",
     "text": [
      "['Bangalore/Bengaluru(Old Madras Road)', 'Bangalore/Bengaluru, Pune', 'Bangalore/Bengaluru', 'Bangalore/Bengaluru', 'Bangalore/Bengaluru', 'Bangalore/Bengaluru, Mumbai, Hyderabad/Secunderabad, Pune, Chennai, Ahmedabad, Delhi / NCR', 'Bangalore/Bengaluru', 'Bangalore/Bengaluru', 'Bangalore/Bengaluru', 'Bangalore/Bengaluru, Gurgaon/Gurugram\\n(WFH during Covid)']\n",
      "10\n"
     ]
    }
   ],
   "source": [
    "#scrapping job location\n",
    "\n",
    "job_location=[]\n",
    "location_tags=driver.find_elements(By.XPATH,'//li[@class=\"fleft grey-text br2 placeHolderLi location\"]')\n",
    "for i in location_tags[0:10]:\n",
    "    job_location.append(i.text)\n",
    "print(job_location)\n",
    "print(len(job_location))"
   ]
  },
  {
   "cell_type": "code",
   "execution_count": 11,
   "id": "f4507ff0",
   "metadata": {},
   "outputs": [
    {
     "name": "stdout",
     "output_type": "stream",
     "text": [
      "['3-6 Yrs', '6-11 Yrs', '6-8 Yrs', '5-7 Yrs', '0-1 Yrs', '0-2 Yrs', '0-2 Yrs', '2-5 Yrs', '0-1 Yrs', '3-8 Yrs']\n",
      "10\n"
     ]
    }
   ],
   "source": [
    "#scrapping exp, span added for more accuracy as it not showing correct details\n",
    "\n",
    "experience=[]\n",
    "exp=driver.find_elements(By.XPATH,'//li[@class=\"fleft grey-text br2 placeHolderLi experience\"]//span')\n",
    "for i in exp[0:10]:\n",
    "    experience.append(i.text)\n",
    "print(experience)\n",
    "print(len(experience))"
   ]
  },
  {
   "cell_type": "code",
   "execution_count": 12,
   "id": "91f5faf6",
   "metadata": {},
   "outputs": [
    {
     "name": "stdout",
     "output_type": "stream",
     "text": [
      "['KrazyBee', 'Global Indian School Education Services', 'Accenture', 'Optum', 'FullStackTechies', 'iMindYourBusiness', 'Bright Money', 'Bayer', 'Info Origin Inc.', 'Concentrix']\n",
      "10\n"
     ]
    }
   ],
   "source": [
    "# scrapping comapny name\n",
    "\n",
    "company_name=[]\n",
    "company=driver.find_elements(By.XPATH,'//a[@class=\"subTitle ellipsis fleft\"]')\n",
    "for i in company[0:10]:\n",
    "    company_name.append(i.text)\n",
    "print(company_name)\n",
    "print(len(company_name))"
   ]
  },
  {
   "cell_type": "code",
   "execution_count": 13,
   "id": "78aaefa9",
   "metadata": {},
   "outputs": [
    {
     "name": "stdout",
     "output_type": "stream",
     "text": [
      "10 10 10 10\n"
     ]
    }
   ],
   "source": [
    "print(len(job_title), len(company_name), len(experience), len(job_location))"
   ]
  },
  {
   "cell_type": "code",
   "execution_count": 14,
   "id": "f2d2c97d",
   "metadata": {},
   "outputs": [
    {
     "data": {
      "text/html": [
       "<div>\n",
       "<style scoped>\n",
       "    .dataframe tbody tr th:only-of-type {\n",
       "        vertical-align: middle;\n",
       "    }\n",
       "\n",
       "    .dataframe tbody tr th {\n",
       "        vertical-align: top;\n",
       "    }\n",
       "\n",
       "    .dataframe thead th {\n",
       "        text-align: right;\n",
       "    }\n",
       "</style>\n",
       "<table border=\"1\" class=\"dataframe\">\n",
       "  <thead>\n",
       "    <tr style=\"text-align: right;\">\n",
       "      <th></th>\n",
       "      <th>Job Title</th>\n",
       "      <th>Job Location</th>\n",
       "      <th>Company Name</th>\n",
       "    </tr>\n",
       "  </thead>\n",
       "  <tbody>\n",
       "    <tr>\n",
       "      <th>0</th>\n",
       "      <td>Senior Data Analyst</td>\n",
       "      <td>Bangalore/Bengaluru(Old Madras Road)</td>\n",
       "      <td>KrazyBee</td>\n",
       "    </tr>\n",
       "    <tr>\n",
       "      <th>1</th>\n",
       "      <td>Sr. Data Analyst</td>\n",
       "      <td>Bangalore/Bengaluru, Pune</td>\n",
       "      <td>Global Indian School Education Services</td>\n",
       "    </tr>\n",
       "    <tr>\n",
       "      <th>2</th>\n",
       "      <td>Master Data Management Business Analyst</td>\n",
       "      <td>Bangalore/Bengaluru</td>\n",
       "      <td>Accenture</td>\n",
       "    </tr>\n",
       "    <tr>\n",
       "      <th>3</th>\n",
       "      <td>Senior Data Analyst</td>\n",
       "      <td>Bangalore/Bengaluru</td>\n",
       "      <td>Optum</td>\n",
       "    </tr>\n",
       "    <tr>\n",
       "      <th>4</th>\n",
       "      <td>Intern Data Analyst</td>\n",
       "      <td>Bangalore/Bengaluru</td>\n",
       "      <td>FullStackTechies</td>\n",
       "    </tr>\n",
       "    <tr>\n",
       "      <th>5</th>\n",
       "      <td>Data Analyst - Python/Artificial Intelligence</td>\n",
       "      <td>Bangalore/Bengaluru, Mumbai, Hyderabad/Secunde...</td>\n",
       "      <td>iMindYourBusiness</td>\n",
       "    </tr>\n",
       "    <tr>\n",
       "      <th>6</th>\n",
       "      <td>Data Analyst</td>\n",
       "      <td>Bangalore/Bengaluru</td>\n",
       "      <td>Bright Money</td>\n",
       "    </tr>\n",
       "    <tr>\n",
       "      <th>7</th>\n",
       "      <td>Data Analyst</td>\n",
       "      <td>Bangalore/Bengaluru</td>\n",
       "      <td>Bayer</td>\n",
       "    </tr>\n",
       "    <tr>\n",
       "      <th>8</th>\n",
       "      <td>Leap COE Intern(Data Analyst)</td>\n",
       "      <td>Bangalore/Bengaluru</td>\n",
       "      <td>Info Origin Inc.</td>\n",
       "    </tr>\n",
       "    <tr>\n",
       "      <th>9</th>\n",
       "      <td>Forecasting Analyst/ Data Scientist (US Client)</td>\n",
       "      <td>Bangalore/Bengaluru, Gurgaon/Gurugram\\n(WFH du...</td>\n",
       "      <td>Concentrix</td>\n",
       "    </tr>\n",
       "  </tbody>\n",
       "</table>\n",
       "</div>"
      ],
      "text/plain": [
       "                                         Job Title  \\\n",
       "0                              Senior Data Analyst   \n",
       "1                                 Sr. Data Analyst   \n",
       "2          Master Data Management Business Analyst   \n",
       "3                              Senior Data Analyst   \n",
       "4                              Intern Data Analyst   \n",
       "5    Data Analyst - Python/Artificial Intelligence   \n",
       "6                                     Data Analyst   \n",
       "7                                     Data Analyst   \n",
       "8                    Leap COE Intern(Data Analyst)   \n",
       "9  Forecasting Analyst/ Data Scientist (US Client)   \n",
       "\n",
       "                                        Job Location  \\\n",
       "0               Bangalore/Bengaluru(Old Madras Road)   \n",
       "1                          Bangalore/Bengaluru, Pune   \n",
       "2                                Bangalore/Bengaluru   \n",
       "3                                Bangalore/Bengaluru   \n",
       "4                                Bangalore/Bengaluru   \n",
       "5  Bangalore/Bengaluru, Mumbai, Hyderabad/Secunde...   \n",
       "6                                Bangalore/Bengaluru   \n",
       "7                                Bangalore/Bengaluru   \n",
       "8                                Bangalore/Bengaluru   \n",
       "9  Bangalore/Bengaluru, Gurgaon/Gurugram\\n(WFH du...   \n",
       "\n",
       "                              Company Name  \n",
       "0                                 KrazyBee  \n",
       "1  Global Indian School Education Services  \n",
       "2                                Accenture  \n",
       "3                                    Optum  \n",
       "4                         FullStackTechies  \n",
       "5                        iMindYourBusiness  \n",
       "6                             Bright Money  \n",
       "7                                    Bayer  \n",
       "8                         Info Origin Inc.  \n",
       "9                               Concentrix  "
      ]
     },
     "execution_count": 14,
     "metadata": {},
     "output_type": "execute_result"
    }
   ],
   "source": [
    "df=pd.DataFrame({'Job Title':job_title, 'Job Location':job_location, 'Company Name':company_name})\n",
    "df"
   ]
  },
  {
   "cell_type": "markdown",
   "id": "9ecfff3d",
   "metadata": {},
   "source": [
    "# Q2: Write a python program to scrape data for “Data Scientist” Job position in “Bangalore” location. You\n",
    "have to scrape the job-title, job-location, company_name. You have to scrape first 10 jobs data."
   ]
  },
  {
   "cell_type": "code",
   "execution_count": 15,
   "id": "2b41122d",
   "metadata": {},
   "outputs": [],
   "source": [
    "driver.get('https://www.naukri.com/')"
   ]
  },
  {
   "cell_type": "code",
   "execution_count": 16,
   "id": "5edb7363",
   "metadata": {},
   "outputs": [],
   "source": [
    "designation=driver.find_element(By.CLASS_NAME,'suggestor-input ')\n",
    "designation.send_keys('Data Scientist')"
   ]
  },
  {
   "cell_type": "code",
   "execution_count": 17,
   "id": "0a28b74d",
   "metadata": {},
   "outputs": [],
   "source": [
    "location=driver.find_element(By.XPATH,'/html/body/div[1]/div[2]/div[3]/div/div/div[5]/div/div/div/input')\n",
    "location.send_keys('Bangalore')"
   ]
  },
  {
   "cell_type": "code",
   "execution_count": 18,
   "id": "341bf6f1",
   "metadata": {},
   "outputs": [],
   "source": [
    "search=driver.find_element(By.CLASS_NAME,'qsbSubmit')\n",
    "search.click()"
   ]
  },
  {
   "cell_type": "code",
   "execution_count": 19,
   "id": "4899bafb",
   "metadata": {},
   "outputs": [
    {
     "name": "stdout",
     "output_type": "stream",
     "text": [
      "['Tcs Hiring For Data Scientist', 'Senior Manager - EmTech - Machine Learning - P&T', 'Assistant Manager - Data Science', 'Analystics & Modeling Specialist', 'Data scientist _Tata Consultancy Services(Tcs)', 'Job||Job Opening For AI Technologist - Data Scientist at Wipro Holmes', 'Hiring For DATA Scientist @ NTT DATA Business Solution India', 'Urgent Job Opening For AI Practitioner - Data Science at Wipro Holmes', 'Data Scientist Python', 'Data Scientist']\n",
      "10\n"
     ]
    }
   ],
   "source": [
    "job_title=[]\n",
    "title_tags=driver.find_elements(By.XPATH,'//a[@class=\"title fw500 ellipsis\"]')\n",
    "for i in title_tags[0:10]:\n",
    "    job_title.append(i.text)\n",
    "    \n",
    "print(job_title)\n",
    "print(len(job_title))"
   ]
  },
  {
   "cell_type": "code",
   "execution_count": 20,
   "id": "5c1f8be3",
   "metadata": {},
   "outputs": [
    {
     "name": "stdout",
     "output_type": "stream",
     "text": [
      "['Bangalore/Bengaluru, Chennai, Mumbai (All Areas)', 'Bangalore/Bengaluru, Mumbai, Hyderabad/Secunderabad', 'Bangalore/Bengaluru, Mumbai, Pune', 'Bangalore/Bengaluru, Kolkata, Mumbai, Hyderabad/Secunderabad, Pune, Chennai, delhi ncr', 'Bangalore/Bengaluru, Kochi/Cochin, Indore, New Delhi, Hyderabad/Secunderabad, Pune, Chennai, Delhi / NCR, Mumbai (All Areas)', 'Bangalore/Bengaluru, New Delhi, Hyderabad/Secunderabad, Pune, Chennai, Coimbatore, Cochin, Mumbai', 'Bangalore/Bengaluru, Noida, Hyderabad/Secunderabad, Pune, Gurgaon/Gurugram, Chennai, Mumbai (All Areas)', 'Bangalore/Bengaluru, Kochi/Cochin, New Delhi, Coimbatore, Chennai, Pune, Mumbai, Hyderabad', 'Bangalore/Bengaluru, Hyderabad/Secunderabad', 'Bangalore/Bengaluru']\n",
      "10\n"
     ]
    }
   ],
   "source": [
    "job_location=[]\n",
    "location_tags=driver.find_elements(By.XPATH,'//li[@class=\"fleft grey-text br2 placeHolderLi location\"]')\n",
    "for i in location_tags[0:10]:\n",
    "    job_location.append(i.text)\n",
    "    \n",
    "print(job_location)\n",
    "print(len(job_location))\n",
    "    \n",
    "    "
   ]
  },
  {
   "cell_type": "code",
   "execution_count": 21,
   "id": "2436421d",
   "metadata": {},
   "outputs": [
    {
     "name": "stdout",
     "output_type": "stream",
     "text": [
      "['TATA CONSULTANCY SERVICES (TCS)', 'PwC', 'CitiusTech', 'Accenture', 'TATA CONSULTANCY SERVICES (TCS)', 'Wipro', 'NTT DATA Business Solutions Private Limited', 'Wipro', 'Conduent', 'Concentrix']\n",
      "10\n"
     ]
    }
   ],
   "source": [
    "company_name=[]\n",
    "company_tags=driver.find_elements(By.XPATH,'//a[@class=\"subTitle ellipsis fleft\"]')\n",
    "for i in company_tags[0:10]:\n",
    "    company_name.append(i.text)\n",
    "    \n",
    "print(company_name)\n",
    "print(len(company_name))"
   ]
  },
  {
   "cell_type": "code",
   "execution_count": 22,
   "id": "31c8d245",
   "metadata": {},
   "outputs": [
    {
     "data": {
      "text/html": [
       "<div>\n",
       "<style scoped>\n",
       "    .dataframe tbody tr th:only-of-type {\n",
       "        vertical-align: middle;\n",
       "    }\n",
       "\n",
       "    .dataframe tbody tr th {\n",
       "        vertical-align: top;\n",
       "    }\n",
       "\n",
       "    .dataframe thead th {\n",
       "        text-align: right;\n",
       "    }\n",
       "</style>\n",
       "<table border=\"1\" class=\"dataframe\">\n",
       "  <thead>\n",
       "    <tr style=\"text-align: right;\">\n",
       "      <th></th>\n",
       "      <th>Job Title</th>\n",
       "      <th>Job Location</th>\n",
       "      <th>Company Name</th>\n",
       "    </tr>\n",
       "  </thead>\n",
       "  <tbody>\n",
       "    <tr>\n",
       "      <th>0</th>\n",
       "      <td>Tcs Hiring For Data Scientist</td>\n",
       "      <td>Bangalore/Bengaluru, Chennai, Mumbai (All Areas)</td>\n",
       "      <td>TATA CONSULTANCY SERVICES (TCS)</td>\n",
       "    </tr>\n",
       "    <tr>\n",
       "      <th>1</th>\n",
       "      <td>Senior Manager - EmTech - Machine Learning - P&amp;T</td>\n",
       "      <td>Bangalore/Bengaluru, Mumbai, Hyderabad/Secunde...</td>\n",
       "      <td>PwC</td>\n",
       "    </tr>\n",
       "    <tr>\n",
       "      <th>2</th>\n",
       "      <td>Assistant Manager - Data Science</td>\n",
       "      <td>Bangalore/Bengaluru, Mumbai, Pune</td>\n",
       "      <td>CitiusTech</td>\n",
       "    </tr>\n",
       "    <tr>\n",
       "      <th>3</th>\n",
       "      <td>Analystics &amp; Modeling Specialist</td>\n",
       "      <td>Bangalore/Bengaluru, Kolkata, Mumbai, Hyderaba...</td>\n",
       "      <td>Accenture</td>\n",
       "    </tr>\n",
       "    <tr>\n",
       "      <th>4</th>\n",
       "      <td>Data scientist _Tata Consultancy Services(Tcs)</td>\n",
       "      <td>Bangalore/Bengaluru, Kochi/Cochin, Indore, New...</td>\n",
       "      <td>TATA CONSULTANCY SERVICES (TCS)</td>\n",
       "    </tr>\n",
       "    <tr>\n",
       "      <th>5</th>\n",
       "      <td>Job||Job Opening For AI Technologist - Data Sc...</td>\n",
       "      <td>Bangalore/Bengaluru, New Delhi, Hyderabad/Secu...</td>\n",
       "      <td>Wipro</td>\n",
       "    </tr>\n",
       "    <tr>\n",
       "      <th>6</th>\n",
       "      <td>Hiring For DATA Scientist @ NTT DATA Business ...</td>\n",
       "      <td>Bangalore/Bengaluru, Noida, Hyderabad/Secunder...</td>\n",
       "      <td>NTT DATA Business Solutions Private Limited</td>\n",
       "    </tr>\n",
       "    <tr>\n",
       "      <th>7</th>\n",
       "      <td>Urgent Job Opening For AI Practitioner - Data ...</td>\n",
       "      <td>Bangalore/Bengaluru, Kochi/Cochin, New Delhi, ...</td>\n",
       "      <td>Wipro</td>\n",
       "    </tr>\n",
       "    <tr>\n",
       "      <th>8</th>\n",
       "      <td>Data Scientist Python</td>\n",
       "      <td>Bangalore/Bengaluru, Hyderabad/Secunderabad</td>\n",
       "      <td>Conduent</td>\n",
       "    </tr>\n",
       "    <tr>\n",
       "      <th>9</th>\n",
       "      <td>Data Scientist</td>\n",
       "      <td>Bangalore/Bengaluru</td>\n",
       "      <td>Concentrix</td>\n",
       "    </tr>\n",
       "  </tbody>\n",
       "</table>\n",
       "</div>"
      ],
      "text/plain": [
       "                                           Job Title  \\\n",
       "0                      Tcs Hiring For Data Scientist   \n",
       "1   Senior Manager - EmTech - Machine Learning - P&T   \n",
       "2                   Assistant Manager - Data Science   \n",
       "3                   Analystics & Modeling Specialist   \n",
       "4     Data scientist _Tata Consultancy Services(Tcs)   \n",
       "5  Job||Job Opening For AI Technologist - Data Sc...   \n",
       "6  Hiring For DATA Scientist @ NTT DATA Business ...   \n",
       "7  Urgent Job Opening For AI Practitioner - Data ...   \n",
       "8                              Data Scientist Python   \n",
       "9                                     Data Scientist   \n",
       "\n",
       "                                        Job Location  \\\n",
       "0   Bangalore/Bengaluru, Chennai, Mumbai (All Areas)   \n",
       "1  Bangalore/Bengaluru, Mumbai, Hyderabad/Secunde...   \n",
       "2                  Bangalore/Bengaluru, Mumbai, Pune   \n",
       "3  Bangalore/Bengaluru, Kolkata, Mumbai, Hyderaba...   \n",
       "4  Bangalore/Bengaluru, Kochi/Cochin, Indore, New...   \n",
       "5  Bangalore/Bengaluru, New Delhi, Hyderabad/Secu...   \n",
       "6  Bangalore/Bengaluru, Noida, Hyderabad/Secunder...   \n",
       "7  Bangalore/Bengaluru, Kochi/Cochin, New Delhi, ...   \n",
       "8        Bangalore/Bengaluru, Hyderabad/Secunderabad   \n",
       "9                                Bangalore/Bengaluru   \n",
       "\n",
       "                                  Company Name  \n",
       "0              TATA CONSULTANCY SERVICES (TCS)  \n",
       "1                                          PwC  \n",
       "2                                   CitiusTech  \n",
       "3                                    Accenture  \n",
       "4              TATA CONSULTANCY SERVICES (TCS)  \n",
       "5                                        Wipro  \n",
       "6  NTT DATA Business Solutions Private Limited  \n",
       "7                                        Wipro  \n",
       "8                                     Conduent  \n",
       "9                                   Concentrix  "
      ]
     },
     "execution_count": 22,
     "metadata": {},
     "output_type": "execute_result"
    }
   ],
   "source": [
    "df=pd.DataFrame({'Job Title':job_title, 'Job Location':job_location, 'Company Name':company_name})\n",
    "df"
   ]
  },
  {
   "cell_type": "markdown",
   "id": "6f8bf7ac",
   "metadata": {},
   "source": [
    "# Q3: In this question you have to scrape data using the filters available on the webpage as shown below:"
   ]
  },
  {
   "cell_type": "markdown",
   "id": "0dc3f243",
   "metadata": {},
   "source": [
    "The task will be done as shown in the below steps:\n",
    "1. first get the webpage https://www.naukri.com/\n",
    "2. Enter “Data Scientist” in “Skill, Designations, and Companies” field.\n",
    "3. Then click the search button.\n",
    "4. Then apply the location filter and salary filter by checking the respective boxes\n",
    "5. Then scrape the data for the first 10 jobs results you get.\n",
    "6. Finally create a dataframe of the scraped data."
   ]
  },
  {
   "cell_type": "code",
   "execution_count": 23,
   "id": "54e84f59",
   "metadata": {},
   "outputs": [],
   "source": [
    "driver.get(' https://www.naukri.com/')"
   ]
  },
  {
   "cell_type": "code",
   "execution_count": 24,
   "id": "c7c8a8ef",
   "metadata": {},
   "outputs": [],
   "source": [
    "designation=driver.find_element(By.CLASS_NAME,'suggestor-input ')\n",
    "designation.send_keys('Data Scientist')"
   ]
  },
  {
   "cell_type": "code",
   "execution_count": 25,
   "id": "0da8ba35",
   "metadata": {},
   "outputs": [],
   "source": [
    "search=driver.find_element(By.CLASS_NAME,'qsbSubmit')\n",
    "search.click()"
   ]
  },
  {
   "cell_type": "code",
   "execution_count": 27,
   "id": "39d61bdc",
   "metadata": {
    "scrolled": true
   },
   "outputs": [],
   "source": [
    "location=driver.find_element(By.XPATH,'/html/body/div[1]/div[3]/div[2]/section[1]/div[2]/div[5]/div[2]/div[3]/label/p/span[1]')\n",
    "location.click()\n",
    "    \n"
   ]
  },
  {
   "cell_type": "code",
   "execution_count": 28,
   "id": "7d418762",
   "metadata": {},
   "outputs": [],
   "source": [
    "salary=driver.find_element(By.XPATH,'/html/body/div[1]/div[3]/div[2]/section[1]/div[2]/div[6]/div[2]/div[2]/label/p/span[1]')\n",
    "salary.click()"
   ]
  },
  {
   "cell_type": "code",
   "execution_count": 29,
   "id": "1e4b056b",
   "metadata": {},
   "outputs": [
    {
     "name": "stdout",
     "output_type": "stream",
     "text": [
      "['Job||Job Opening For AI Technologist - Data Scientist at Wipro Holmes', 'Data Scientist - Noida/Bangalore', 'DigitalBCG GAMMA Data Scientist', 'Data Scientist - Predictive Analytics', 'Data Scientist', 'Chat-bot Developer / Data Scientist', 'Data Scientist / Chat-bot Developer', 'Data Scientist - Engine Algorithm', 'Data Scientist For Healthcare Product team', 'Data Scientist']\n",
      "10\n"
     ]
    }
   ],
   "source": [
    "job_title=[]\n",
    "job_tags=driver.find_elements(By.XPATH,'//a[@class=\"title fw500 ellipsis\"]')\n",
    "for i in job_tags[0:10]:\n",
    "    job_title.append(i.text)\n",
    "print(job_title)\n",
    "print(len(job_title))"
   ]
  },
  {
   "cell_type": "code",
   "execution_count": 30,
   "id": "08debc92",
   "metadata": {},
   "outputs": [
    {
     "name": "stdout",
     "output_type": "stream",
     "text": [
      "['New Delhi, Hyderabad/Secunderabad, Pune, Chennai, Bangalore/Bengaluru, Coimbatore, Cochin, Mumbai', 'Noida, Bangalore/Bengaluru', 'New Delhi, Bangalore/Bengaluru', 'Noida, Mumbai, Chandigarh, Hyderabad/Secunderabad, Pune, Chennai, Gurgaon/Gurugram, Coimbatore, Bangalore/Bengaluru', 'Gurgaon/Gurugram', 'Mumbai, New Delhi, Bangalore/Bengaluru\\n(WFH during Covid)', 'New Delhi, Bangalore/Bengaluru, Mumbai (All Areas)', 'Delhi / NCR, Kolkata, Mumbai, Hyderabad/Secunderabad, Lucknow, Chennai, Ahmedabad, Bangalore/Bengaluru', 'Delhi / NCR, Chennai, Bangalore/Bengaluru', 'Noida, Gurgaon/Gurugram, Jaipur']\n",
      "10\n"
     ]
    }
   ],
   "source": [
    "job_location=[]\n",
    "location_tags=driver.find_elements(By.XPATH,'//li[@class=\"fleft grey-text br2 placeHolderLi location\"]')\n",
    "for i in location_tags[0:10]:\n",
    "    job_location.append(i.text)\n",
    "print(job_location)\n",
    "print(len(job_location))"
   ]
  },
  {
   "cell_type": "code",
   "execution_count": 31,
   "id": "7d0ea094",
   "metadata": {},
   "outputs": [
    {
     "name": "stdout",
     "output_type": "stream",
     "text": [
      "['Wipro', 'EXL', 'Boston Consulting Group', 'Confidential', 'Optum', 'Big Seo Buzz', 'Big Seo Buzz', 'Primo Hiring', 'SECUREKLOUD TECHNOLOGIES', 'Celebal Technologies']\n",
      "10\n"
     ]
    }
   ],
   "source": [
    "company_name=[]\n",
    "company_tags=driver.find_elements(By.XPATH,'//a[@class=\"subTitle ellipsis fleft\"]')\n",
    "for i in company_tags[0:10]:\n",
    "    company_name.append(i.text)\n",
    "print(company_name)\n",
    "print(len(company_name))"
   ]
  },
  {
   "cell_type": "code",
   "execution_count": 32,
   "id": "fb4c7691",
   "metadata": {},
   "outputs": [
    {
     "name": "stdout",
     "output_type": "stream",
     "text": [
      "['5-10 Yrs', '5-10 Yrs', '2-5 Yrs', '1-6 Yrs', '2-7 Yrs', '2-7 Yrs', '3-7 Yrs', '1-3 Yrs', '2-7 Yrs', '1-5 Yrs']\n",
      "10\n"
     ]
    }
   ],
   "source": [
    "exp=[]\n",
    "exp_tags=driver.find_elements(By.XPATH,'//li[@class=\"fleft grey-text br2 placeHolderLi experience\"]')\n",
    "for i in exp_tags[0:10]:\n",
    "    exp.append(i.text)\n",
    "print(exp)\n",
    "print(len(exp))"
   ]
  },
  {
   "cell_type": "code",
   "execution_count": 33,
   "id": "7c422437",
   "metadata": {},
   "outputs": [
    {
     "data": {
      "text/html": [
       "<div>\n",
       "<style scoped>\n",
       "    .dataframe tbody tr th:only-of-type {\n",
       "        vertical-align: middle;\n",
       "    }\n",
       "\n",
       "    .dataframe tbody tr th {\n",
       "        vertical-align: top;\n",
       "    }\n",
       "\n",
       "    .dataframe thead th {\n",
       "        text-align: right;\n",
       "    }\n",
       "</style>\n",
       "<table border=\"1\" class=\"dataframe\">\n",
       "  <thead>\n",
       "    <tr style=\"text-align: right;\">\n",
       "      <th></th>\n",
       "      <th>Job Title</th>\n",
       "      <th>Job Location</th>\n",
       "      <th>Company Name</th>\n",
       "      <th>Experience Required</th>\n",
       "    </tr>\n",
       "  </thead>\n",
       "  <tbody>\n",
       "    <tr>\n",
       "      <th>0</th>\n",
       "      <td>Job||Job Opening For AI Technologist - Data Sc...</td>\n",
       "      <td>New Delhi, Hyderabad/Secunderabad, Pune, Chenn...</td>\n",
       "      <td>Wipro</td>\n",
       "      <td>5-10 Yrs</td>\n",
       "    </tr>\n",
       "    <tr>\n",
       "      <th>1</th>\n",
       "      <td>Data Scientist - Noida/Bangalore</td>\n",
       "      <td>Noida, Bangalore/Bengaluru</td>\n",
       "      <td>EXL</td>\n",
       "      <td>5-10 Yrs</td>\n",
       "    </tr>\n",
       "    <tr>\n",
       "      <th>2</th>\n",
       "      <td>DigitalBCG GAMMA Data Scientist</td>\n",
       "      <td>New Delhi, Bangalore/Bengaluru</td>\n",
       "      <td>Boston Consulting Group</td>\n",
       "      <td>2-5 Yrs</td>\n",
       "    </tr>\n",
       "    <tr>\n",
       "      <th>3</th>\n",
       "      <td>Data Scientist - Predictive Analytics</td>\n",
       "      <td>Noida, Mumbai, Chandigarh, Hyderabad/Secundera...</td>\n",
       "      <td>Confidential</td>\n",
       "      <td>1-6 Yrs</td>\n",
       "    </tr>\n",
       "    <tr>\n",
       "      <th>4</th>\n",
       "      <td>Data Scientist</td>\n",
       "      <td>Gurgaon/Gurugram</td>\n",
       "      <td>Optum</td>\n",
       "      <td>2-7 Yrs</td>\n",
       "    </tr>\n",
       "    <tr>\n",
       "      <th>5</th>\n",
       "      <td>Chat-bot Developer / Data Scientist</td>\n",
       "      <td>Mumbai, New Delhi, Bangalore/Bengaluru\\n(WFH d...</td>\n",
       "      <td>Big Seo Buzz</td>\n",
       "      <td>2-7 Yrs</td>\n",
       "    </tr>\n",
       "    <tr>\n",
       "      <th>6</th>\n",
       "      <td>Data Scientist / Chat-bot Developer</td>\n",
       "      <td>New Delhi, Bangalore/Bengaluru, Mumbai (All Ar...</td>\n",
       "      <td>Big Seo Buzz</td>\n",
       "      <td>3-7 Yrs</td>\n",
       "    </tr>\n",
       "    <tr>\n",
       "      <th>7</th>\n",
       "      <td>Data Scientist - Engine Algorithm</td>\n",
       "      <td>Delhi / NCR, Kolkata, Mumbai, Hyderabad/Secund...</td>\n",
       "      <td>Primo Hiring</td>\n",
       "      <td>1-3 Yrs</td>\n",
       "    </tr>\n",
       "    <tr>\n",
       "      <th>8</th>\n",
       "      <td>Data Scientist For Healthcare Product team</td>\n",
       "      <td>Delhi / NCR, Chennai, Bangalore/Bengaluru</td>\n",
       "      <td>SECUREKLOUD TECHNOLOGIES</td>\n",
       "      <td>2-7 Yrs</td>\n",
       "    </tr>\n",
       "    <tr>\n",
       "      <th>9</th>\n",
       "      <td>Data Scientist</td>\n",
       "      <td>Noida, Gurgaon/Gurugram, Jaipur</td>\n",
       "      <td>Celebal Technologies</td>\n",
       "      <td>1-5 Yrs</td>\n",
       "    </tr>\n",
       "  </tbody>\n",
       "</table>\n",
       "</div>"
      ],
      "text/plain": [
       "                                           Job Title  \\\n",
       "0  Job||Job Opening For AI Technologist - Data Sc...   \n",
       "1                   Data Scientist - Noida/Bangalore   \n",
       "2                    DigitalBCG GAMMA Data Scientist   \n",
       "3              Data Scientist - Predictive Analytics   \n",
       "4                                     Data Scientist   \n",
       "5                Chat-bot Developer / Data Scientist   \n",
       "6                Data Scientist / Chat-bot Developer   \n",
       "7                  Data Scientist - Engine Algorithm   \n",
       "8         Data Scientist For Healthcare Product team   \n",
       "9                                     Data Scientist   \n",
       "\n",
       "                                        Job Location  \\\n",
       "0  New Delhi, Hyderabad/Secunderabad, Pune, Chenn...   \n",
       "1                         Noida, Bangalore/Bengaluru   \n",
       "2                     New Delhi, Bangalore/Bengaluru   \n",
       "3  Noida, Mumbai, Chandigarh, Hyderabad/Secundera...   \n",
       "4                                   Gurgaon/Gurugram   \n",
       "5  Mumbai, New Delhi, Bangalore/Bengaluru\\n(WFH d...   \n",
       "6  New Delhi, Bangalore/Bengaluru, Mumbai (All Ar...   \n",
       "7  Delhi / NCR, Kolkata, Mumbai, Hyderabad/Secund...   \n",
       "8          Delhi / NCR, Chennai, Bangalore/Bengaluru   \n",
       "9                    Noida, Gurgaon/Gurugram, Jaipur   \n",
       "\n",
       "               Company Name Experience Required  \n",
       "0                     Wipro            5-10 Yrs  \n",
       "1                       EXL            5-10 Yrs  \n",
       "2   Boston Consulting Group             2-5 Yrs  \n",
       "3              Confidential             1-6 Yrs  \n",
       "4                     Optum             2-7 Yrs  \n",
       "5              Big Seo Buzz             2-7 Yrs  \n",
       "6              Big Seo Buzz             3-7 Yrs  \n",
       "7              Primo Hiring             1-3 Yrs  \n",
       "8  SECUREKLOUD TECHNOLOGIES             2-7 Yrs  \n",
       "9      Celebal Technologies             1-5 Yrs  "
      ]
     },
     "execution_count": 33,
     "metadata": {},
     "output_type": "execute_result"
    }
   ],
   "source": [
    "df=pd.DataFrame({'Job Title':job_title, 'Job Location':job_location, 'Company Name':company_name, 'Experience Required':exp})\n",
    "df"
   ]
  },
  {
   "cell_type": "markdown",
   "id": "34396de9",
   "metadata": {},
   "source": [
    "# Q4: Scrape data of first 100 sunglasses listings on flipkart.com. You have to scrape four attributes:"
   ]
  },
  {
   "cell_type": "markdown",
   "id": "f9ea548e",
   "metadata": {},
   "source": [
    "To scrape the data you have to go through following steps:\n",
    "1. Go to Flipkart webpage by url : https://www.flipkart.com/\n",
    "2. Enter “sunglasses” in the search field where “search for products, brands and more” is written and\n",
    "click the search icon\n",
    "3. After that you will reach to the page having a lot of sunglasses. From this page you can scrap the\n",
    "required data as usual."
   ]
  },
  {
   "cell_type": "code",
   "execution_count": 49,
   "id": "4c71fcc9",
   "metadata": {},
   "outputs": [],
   "source": [
    "driver.get('https://www.flipkart.com/')"
   ]
  },
  {
   "cell_type": "code",
   "execution_count": 50,
   "id": "8fdb70d9",
   "metadata": {},
   "outputs": [],
   "source": [
    "product=driver.find_element(By.CLASS_NAME,'_3704LK')\n",
    "product.send_keys('sunglasses')"
   ]
  },
  {
   "cell_type": "code",
   "execution_count": 51,
   "id": "cfbd45e8",
   "metadata": {},
   "outputs": [],
   "source": [
    "search=driver.find_element(By.CLASS_NAME,'L0Z3Pu')\n",
    "search.click()"
   ]
  },
  {
   "cell_type": "code",
   "execution_count": 52,
   "id": "d5570da6",
   "metadata": {},
   "outputs": [
    {
     "name": "stdout",
     "output_type": "stream",
     "text": [
      "['Haute Sauce', 'Floyd', 'Fastrack', 'New Specs', 'Elligator', 'SUNBEE', 'NuVew', 'LANDSLIDE', 'SRPM', 'Fastrack', 'Fastrack', 'Tom Hardy', 'PHENOMENAL', 'DAHAAZIL', 'Fastrack', 'Tom Hardy', 'Fastrack', 'ROZZETTA CRAFT', 'Fastrack', 'Fair-x', 'Mi', 'New Specs', 'VINCENT CHASE', 'ROYAL SON', 'PIRASO', 'IZAAN MART', 'PIRASO', 'Tom Hardy', 'ROZZETTA CRAFT', 'ROZZETTA CRAFT', 'EYELLUSION', 'LOUIS KOUROS', 'PIRASO', 'LIZA ANGEL', 'GANSTA', 'ROYAL SON', 'kingsunglasses', 'CRYSTAL CART', 'ROYAL SON', 'Fair-x', 'ROYAL SON', 'SRPM', 'Lee Topper', 'Fair-x', 'PIRASO', 'Ray-Ban', 'AISLIN', 'ROYAL SON', 'kingsunglasses', 'VINCENT CHASE', 'kingsunglasses', 'ROYAL SON', 'Dannilo', 'VINCENT CHASE', 'AISLIN', 'LOUIS KOUROS', 'Fastrack', 'Lee Topper', 'ROYAL SON', 'ROYAL SON', 'PHENOMENAL', 'VINCENT CHASE', 'WROGN', 'ROYAL SON', 'Fastrack', 'Fastrack', 'Rich Club', 'VAST', 'SHAAH COLLECTIONS', 'Fastrack', 'PIRASO', 'ROYAL SON', 'Dannilo', 'Fastrack', 'Silver Kartz', 'ROYAL SON', 'ROYAL SON', 'GANSTA', 'SUNBEE', 'ROYAL SON', 'fashion stsyle', 'Fstyle', 'Fastrack', 'New Specs', 'Elligator', 'SUNBEE', 'NuVew', 'fashion stsyle', 'SRPM', 'Fastrack', 'Fastrack', 'Singco India', 'PHENOMENAL', 'DAHAAZIL', 'Fastrack', 'john jacobs', 'Fastrack', 'ROZZETTA CRAFT', 'Fastrack', 'hipe', 'Mi', 'New Specs', 'VINCENT CHASE', 'VINCENT CHASE', 'PIRASO', 'IZAAN MART', 'PIRASO', 'VINCENT CHASE', 'ROZZETTA CRAFT', 'ROZZETTA CRAFT', 'EYELLUSION', 'john jacobs', 'PIRASO', 'LIZA ANGEL', 'GANSTA', 'VINCENT CHASE', 'kingsunglasses', 'CRYSTAL CART', 'ROYAL SON', 'john jacobs', 'ROYAL SON', 'SRPM', 'Lee Topper', 'Haute Sauce', 'PIRASO', 'Ray-Ban', 'AISLIN', 'Floyd', 'kingsunglasses', 'VINCENT CHASE', 'kingsunglasses', 'LANDSLIDE', 'Dannilo', 'VINCENT CHASE', 'AISLIN', 'Tom Hardy', 'Fastrack', 'Lee Topper', 'ROYAL SON', 'Tom Hardy', 'PHENOMENAL', 'VINCENT CHASE', 'WROGN', 'Fair-x', 'Fastrack', 'Fastrack', 'Rich Club', 'ROYAL SON', 'SHAAH COLLECTIONS', 'Fastrack', 'PIRASO', 'Tom Hardy', 'Dannilo', 'Fastrack', 'Silver Kartz', 'LOUIS KOUROS', 'ROYAL SON', 'GANSTA', 'SUNBEE', 'ROYAL SON']\n",
      "160\n"
     ]
    }
   ],
   "source": [
    "start=0\n",
    "end=4\n",
    "brand=[]\n",
    "\n",
    "for page in range(start,end):\n",
    "    brand_tags=driver.find_elements(By.XPATH,'//div[@class=\"_2WkVRV\"]')\n",
    "    for i in brand_tags[0:100]:\n",
    "        brand.append(i.text)\n",
    "    next_button=driver.find_element(By.XPATH,'//a[@class=\"_1LKTO3\"]')\n",
    "    next_button.click()\n",
    "    time.sleep(3)\n",
    "print(brand)\n",
    "print(len(brand))"
   ]
  },
  {
   "cell_type": "code",
   "execution_count": 56,
   "id": "a0f032c8",
   "metadata": {},
   "outputs": [
    {
     "name": "stdout",
     "output_type": "stream",
     "text": [
      "['UV Protection Retro Square Sunglasses (55)', 'UV Protection, Night Vision, Riding Glasses Rectangular...', 'UV Protection Wayfarer Sunglasses (Free Size)', 'UV Protection Rectangular Sunglasses (Free Size)', 'UV Protection Round Sunglasses (54)', 'UV Protection, Polarized Wayfarer Sunglasses (Free Size...', 'UV Protection Aviator Sunglasses (57)', 'UV Protection, Riding Glasses, Others Aviator, Wayfarer...', 'UV Protection Wayfarer Sunglasses (50)', 'UV Protection Rectangular Sunglasses (Free Size)', 'UV Protection Aviator Sunglasses (Free Size)', 'UV Protection Round Sunglasses (53)', 'UV Protection Retro Square Sunglasses (53)', 'UV Protection, Night Vision, Riding Glasses Wayfarer, W...', 'UV Protection Wayfarer Sunglasses (Free Size)', 'UV Protection Sports Sunglasses (100)', 'UV Protection Shield Sunglasses (Free Size)', 'UV Protection Retro Square Sunglasses (Free Size)', 'UV Protection Aviator Sunglasses (58)', 'by Lenskart Polarized, UV Protection Wayfarer Sunglasse...', 'Polarized Aviator Sunglasses (Free Size)', 'UV Protection Oval Sunglasses (Free Size)', 'by Lenskart Polarized, UV Protection Rectangular Sungla...', 'Polarized, UV Protection Round Sunglasses (50)', 'UV Protection Rectangular Sunglasses (52)', 'UV Protection Rectangular Sunglasses (55)', 'UV Protection Aviator Sunglasses (54)', 'UV Protection Round Sunglasses (54)', 'UV Protection, Gradient Rectangular Sunglasses (Free Si...', 'Polarized, Riding Glasses Sports, Wrap-around Sunglasse...', 'Riding Glasses, Riding Glasses, UV Protection Round Sun...', 'by Lenskart UV Protection Aviator Sunglasses (53)', 'UV Protection Aviator Sunglasses (54)', 'Riding Glasses, Night Vision Spectacle Sunglasses (Fre...', 'Gradient, UV Protection Aviator Sunglasses (57)', 'UV Protection Retro Square Sunglasses (52)', 'UV Protection Round Sunglasses (Free Size)', 'Polarized, UV Protection, Mirrored, Gradient Rectangula...', 'UV Protection, Gradient Butterfly Sunglasses (62)', 'Polarized, UV Protection Round Sunglasses (50)', 'Polarized Rectangular Sunglasses (60)', 'UV Protection Wayfarer Sunglasses (53)', 'Riding Glasses Wrap-around Sunglasses (Free Size)', 'UV Protection, Riding Glasses, Others Aviator, Wayfarer...', 'UV Protection Aviator Sunglasses (58)', 'UV Protection Retro Square Sunglasses (48)', 'UV Protection, Gradient Butterfly, Retro Square Sunglas...', 'UV Protection Round Sunglasses (53)', 'UV Protection Rectangular Sunglasses (55)', 'Polarized, UV Protection Rectangular Sunglasses (59)', 'UV Protection, Mirrored Aviator Sunglasses (Free Size)', 'UV Protection Sports Sunglasses (100)', 'Others Spectacle Sunglasses (Free Size)', 'by Lenskart Polarized, UV Protection Retro Square Sungl...', 'UV Protection, Gradient Retro Square Sunglasses (58)', 'by Lenskart Polarized, UV Protection Wayfarer Sunglasse...', 'Polarized Retro Square Sunglasses (Free Size)', 'UV Protection Rectangular Sunglasses (Free Size)', 'Polarized, UV Protection Retro Square Sunglasses (61)', 'Polarized, UV Protection Round Sunglasses (50)', 'UV Protection, Mirrored Retro Square Sunglasses (53)', 'by Lenskart Polarized, UV Protection Wayfarer Sunglasse...', 'Polarized Round Sunglasses (44)', 'UV Protection Round Sunglasses (54)', 'UV Protection Aviator Sunglasses (57)', 'UV Protection Aviator Sunglasses (58)', 'UV Protection Round Sunglasses (50)', 'by Lenskart UV Protection Aviator Sunglasses (53)', 'UV Protection, Polarized, Mirrored Rectangular Sunglass...', 'UV Protection Rectangular Sunglasses (56)', 'UV Protection Aviator Sunglasses (55)', 'UV Protection Retro Square Sunglasses (52)', 'Gradient, UV Protection Round Sunglasses (Free Size)', 'UV Protection Wrap-around Sunglasses (63)', 'UV Protection Wayfarer Sunglasses (Free Size)', 'Polarized, UV Protection Round Sunglasses (50)', 'Mirrored Aviator Sunglasses (55)', 'Night Vision, Riding Glasses Rectangular Sunglasses (60...', 'UV Protection, Polarized, Mirrored Round Sunglasses (Fr...', 'by Lenskart Polarized, UV Protection Round Sunglasses (...', 'UV Protection Retro Square Sunglasses (55)', 'UV Protection, Night Vision, Riding Glasses Rectangular...', 'UV Protection Wayfarer Sunglasses (Free Size)', 'UV Protection Rectangular Sunglasses (Free Size)', 'UV Protection Round Sunglasses (54)', 'UV Protection, Polarized Wayfarer Sunglasses (Free Size...', 'UV Protection Aviator Sunglasses (57)', 'UV Protection, Riding Glasses, Mirrored Aviator Sunglas...', 'UV Protection Wayfarer Sunglasses (50)', 'UV Protection Rectangular Sunglasses (Free Size)', 'UV Protection Aviator Sunglasses (Free Size)', 'by Lenskart Polarized, UV Protection Cat-eye Sunglasses...', 'UV Protection Retro Square Sunglasses (53)', 'UV Protection, Night Vision, Riding Glasses Wayfarer, W...', 'UV Protection Wayfarer Sunglasses (Free Size)', 'by Lenskart Polarized, UV Protection Cat-eye Sunglasses...', 'UV Protection Shield Sunglasses (Free Size)', 'UV Protection Retro Square Sunglasses (Free Size)', 'UV Protection Aviator Sunglasses (58)', 'by Lenskart Polarized, UV Protection Aviator Sunglasses...', 'Polarized Aviator Sunglasses (Free Size)', 'UV Protection Oval Sunglasses (Free Size)', 'by Lenskart Polarized, UV Protection Rectangular Sungla...', 'UV Protection, Gradient Over-sized Sunglasses (59)', 'UV Protection Rectangular Sunglasses (52)', 'UV Protection Rectangular Sunglasses (55)', 'UV Protection Aviator Sunglasses (54)', 'by Lenskart Polarized, UV Protection Aviator Sunglasses...', 'UV Protection, Gradient Rectangular Sunglasses (Free Si...', 'Polarized, Riding Glasses Sports, Wrap-around Sunglasse...', 'Riding Glasses, Riding Glasses, UV Protection Round Sun...', 'by Lenskart Polarized, UV Protection Round Sunglasses (...', 'UV Protection Aviator Sunglasses (54)', 'Riding Glasses, Night Vision Spectacle Sunglasses (Fre...', 'Gradient, UV Protection Aviator Sunglasses (57)', 'Polarized, UV Protection, Gradient Cat-eye Sunglasses (...', 'UV Protection Round Sunglasses (Free Size)', 'Polarized, UV Protection, Mirrored, Gradient Rectangula...', 'UV Protection, Gradient Butterfly Sunglasses (62)', 'Polarized, UV Protection Retro Square Sunglasses (45)', 'Polarized Rectangular Sunglasses (60)', 'UV Protection Wayfarer Sunglasses (53)', 'Riding Glasses Wrap-around Sunglasses (Free Size)', 'UV Protection, Riding Glasses, Others Aviator, Wayfarer...', 'UV Protection Aviator Sunglasses (58)', 'UV Protection Retro Square Sunglasses (48)', 'UV Protection, Gradient Butterfly, Retro Square Sunglas...', 'UV Protection Round Sunglasses (53)', 'UV Protection Rectangular Sunglasses (55)', 'Polarized, UV Protection Rectangular Sunglasses (59)', 'UV Protection, Mirrored Aviator Sunglasses (Free Size)', 'UV Protection Sports Sunglasses (100)', 'Others Spectacle Sunglasses (Free Size)', 'by Lenskart Polarized, UV Protection Retro Square Sungl...', 'UV Protection, Gradient Retro Square Sunglasses (58)', 'by Lenskart Polarized, UV Protection Wayfarer Sunglasse...', 'Polarized Retro Square Sunglasses (Free Size)', 'UV Protection Rectangular Sunglasses (Free Size)', 'Polarized, UV Protection Retro Square Sunglasses (61)', 'Polarized, UV Protection Round Sunglasses (50)', 'UV Protection, Mirrored Retro Square Sunglasses (53)', 'by Lenskart Polarized, UV Protection Wayfarer Sunglasse...', 'Polarized Round Sunglasses (44)', 'UV Protection Round Sunglasses (54)', 'UV Protection Aviator Sunglasses (57)', 'UV Protection Aviator Sunglasses (58)', 'UV Protection Round Sunglasses (50)', 'by Lenskart UV Protection Aviator Sunglasses (53)', 'UV Protection, Polarized, Mirrored Rectangular Sunglass...', 'UV Protection Rectangular Sunglasses (56)', 'UV Protection Aviator Sunglasses (55)', 'UV Protection Retro Square Sunglasses (52)', 'Gradient, UV Protection Round Sunglasses (Free Size)', 'UV Protection Wrap-around Sunglasses (63)', 'UV Protection Wayfarer Sunglasses (Free Size)', 'Polarized, UV Protection Round Sunglasses (50)', 'Mirrored Aviator Sunglasses (55)', 'Night Vision, Riding Glasses Rectangular Sunglasses (60...', 'UV Protection, Polarized, Mirrored Round Sunglasses (Fr...', 'by Lenskart Polarized, UV Protection Round Sunglasses (...']\n",
      "160\n"
     ]
    }
   ],
   "source": [
    "prod_description=[]\n",
    "start=0\n",
    "end=4\n",
    "for page in range(start,end):\n",
    "    prod_tags=driver.find_elements(By.XPATH,'//div[@class=\"_2B099V\"]')\n",
    "    for i in prod_tags[0:100]:\n",
    "        prod_description.append(i.text.split('\\n')[1])\n",
    "    next_button=driver.find_element(By.XPATH,'//a[@class=\"_1LKTO3\"]')\n",
    "    next_button.click()\n",
    "    time.sleep(3)\n",
    "print(prod_description)\n",
    "print(len(prod_description))"
   ]
  },
  {
   "cell_type": "code",
   "execution_count": 57,
   "id": "ba87602c",
   "metadata": {},
   "outputs": [
    {
     "name": "stdout",
     "output_type": "stream",
     "text": [
      "['₹226₹69967% off\\nFree delivery', '₹1,301₹8,00083% off\\nFree delivery', '₹799₹99920% off', '₹264₹2,59989% off\\nFree delivery', '₹298₹2,49588% off', '₹283₹1,29978% off', '₹198₹75073% off\\nFree delivery', '₹1,415₹1,99929% off\\nFree delivery', '₹189₹1,29985% off', '₹639₹79920% off\\nFree delivery', '₹639₹79920% off\\nFree delivery', '₹664₹1,99966% off\\nFree delivery', '₹267₹99973% off\\nFree delivery', '₹204₹99979% off\\nFree delivery', '₹639₹79920% off\\nFree delivery', '₹949₹1,99952% off\\nFree delivery', '₹719₹89920% off\\nFree delivery', '₹499₹2,22577% off\\nFree delivery', '₹1,039₹1,29920% off\\nFree delivery', '₹999₹1,99950% off\\nFree delivery', '₹799₹1,19933% off\\nFree delivery', '₹207₹99979% off\\nFree delivery', '₹749₹1,99962% off\\nFree delivery', '₹629₹99937% off\\nFree delivery', '₹252₹2,59990% off\\nFree delivery', '₹290₹1,99985% off\\nFree delivery', '₹279₹1,59982% off\\nFree delivery', '₹629₹99937% off\\nFree delivery', '₹399₹1,99980% off\\nFree delivery', '₹499₹1,99975% off\\nFree delivery', '₹199₹99980% off\\nFree delivery', '₹629₹99937% off\\nFree delivery', '₹279₹1,59982% off\\nFree delivery', '₹199₹99980% off\\nFree delivery', '₹349₹1,99982% off\\nFree delivery', '₹629₹99937% off\\nFree delivery', '₹329₹1,59979% off\\nFree delivery', '₹529₹2,09974% off\\nFree delivery', '₹664₹1,99966% off\\nFree delivery', '₹699₹99930% off\\nFree delivery', '₹664₹1,99966% off\\nFree delivery', '₹235₹99876% off\\nFree delivery', '₹299₹2,49988% off\\nFree delivery', '₹278₹1,20076% off\\nFree delivery', '₹359₹2,59986% off\\nFree delivery', '₹3,890\\nFree delivery', '₹498₹1,52567% off\\nFree delivery', '₹236₹69966% off\\nFree delivery', '₹189₹1,29985% off\\nFree delivery', '₹949₹2,50062% off\\nFree delivery', '₹269₹1,89985% off\\nFree delivery', '₹3,325₹5,00033% off\\nFree delivery', '₹170₹79978% off\\nFree delivery', '₹949₹1,99952% off\\nFree delivery', '₹498₹1,52567% off\\nFree delivery', '₹179₹99982% off\\nFree delivery', '₹639₹79920% off\\nFree delivery', '₹219₹99978% off\\nFree delivery', '₹664₹1,49955% off\\nFree delivery', '₹949₹1,99952% off\\nFree delivery', '₹369₹1,99981% off\\nFree delivery', '₹949₹1,99952% off\\nFree delivery', '₹599₹3,44982% off\\nFree delivery', '₹2,500₹5,00050% off\\nFree delivery', '₹639₹79920% off\\nFree delivery', '₹1,169₹1,29910% off\\nFree delivery', '₹399₹99960% off\\nFree delivery', '₹1,229₹1,99938% off\\nFree delivery', '₹195₹1,69988% off\\nFree delivery', '₹679₹79915% off\\nFree delivery', '₹279₹1,59982% off\\nFree delivery', '₹2,375₹6,00060% off\\nFree delivery', '₹230₹99976% off\\nFree delivery', '₹710₹89921% off\\nFree delivery', '₹288₹1,49980% off\\nFree delivery', '₹3,500₹4,50022% off\\nFree delivery', '₹379₹1,49974% off\\nFree delivery', '₹269₹1,29979% off\\nFree delivery', '₹324₹1,69980% off\\nFree delivery', '₹664₹1,99966% off\\nFree delivery', '₹226₹69967% off\\nFree delivery', '₹203₹1,20083% off', '₹799₹99920% off', '₹264₹2,59989% off\\nFree delivery', '₹298₹2,49588% off', '₹283₹1,29978% off', '₹198₹75073% off\\nFree delivery', '₹1,301₹2,60049% off\\nFree delivery', '₹189₹1,29985% off', '₹639₹79920% off\\nFree delivery', '₹639₹79920% off\\nFree delivery', '₹699₹2,55572% off\\nFree delivery', '₹267₹99973% off\\nFree delivery', '₹204₹99979% off\\nFree delivery', '₹639₹79920% off\\nFree delivery', '₹299₹99970% off\\nFree delivery', '₹719₹89920% off\\nFree delivery', '₹499₹2,22577% off\\nFree delivery', '₹1,039₹1,29920% off\\nFree delivery', '₹949₹1,99952% off\\nFree delivery', '₹799₹1,19933% off\\nFree delivery', '₹207₹99979% off\\nFree delivery', '₹749₹1,99962% off\\nFree delivery', '₹1,415₹1,99929% off\\nFree delivery', '₹252₹2,59990% off\\nFree delivery', '₹290₹1,99985% off\\nFree delivery', '₹279₹1,59982% off\\nFree delivery', '₹664₹1,99966% off\\nFree delivery', '₹399₹1,99980% off\\nFree delivery', '₹499₹1,99975% off\\nFree delivery', '₹199₹99980% off\\nFree delivery', '₹949₹1,99952% off\\nFree delivery', '₹279₹1,59982% off\\nFree delivery', '₹199₹99980% off\\nFree delivery', '₹349₹1,99982% off\\nFree delivery', '₹999₹1,99950% off\\nFree delivery', '₹329₹1,59979% off\\nFree delivery', '₹529₹2,09974% off\\nFree delivery', '₹664₹1,99966% off\\nFree delivery', '₹629₹99937% off\\nFree delivery', '₹664₹1,99966% off\\nFree delivery', '₹235₹99876% off\\nFree delivery', '₹299₹2,49988% off\\nFree delivery', '₹278₹1,20076% off\\nFree delivery', '₹359₹2,59986% off\\nFree delivery', '₹3,890\\nFree delivery', '₹498₹1,52567% off\\nFree delivery', '₹236₹69966% off\\nFree delivery', '₹189₹1,29985% off\\nFree delivery', '₹949₹2,50062% off\\nFree delivery', '₹269₹1,89985% off\\nFree delivery', '₹345₹99965% off\\nFree delivery', '₹170₹79978% off\\nFree delivery', '₹949₹1,99952% off\\nFree delivery', '₹498₹1,52567% off\\nFree delivery', '₹3,325₹5,00033% off\\nFree delivery', '₹639₹79920% off\\nFree delivery', '₹219₹99978% off\\nFree delivery', '₹664₹1,49955% off\\nFree delivery', '₹179₹99982% off\\nFree delivery', '₹369₹1,99981% off\\nFree delivery', '₹949₹1,99952% off\\nFree delivery', '₹599₹3,44982% off\\nFree delivery', '₹949₹1,99952% off\\nFree delivery', '₹639₹79920% off\\nFree delivery', '₹1,169₹1,29910% off\\nFree delivery', '₹399₹99960% off\\nFree delivery', '₹2,500₹5,00050% off\\nFree delivery', '₹195₹1,69988% off\\nFree delivery', '₹679₹79915% off\\nFree delivery', '₹279₹1,59982% off\\nFree delivery', '₹1,229₹1,99938% off\\nFree delivery', '₹230₹99976% off\\nFree delivery', '₹710₹89921% off\\nFree delivery', '₹288₹1,49980% off\\nFree delivery', '₹2,375₹6,00060% off\\nFree delivery', '₹379₹1,49974% off\\nFree delivery', '₹269₹1,29979% off\\nFree delivery', '₹324₹1,69980% off\\nFree delivery', '₹3,500₹4,50022% off\\nFree delivery']\n",
      "160\n"
     ]
    }
   ],
   "source": [
    "price=[]\n",
    "start=0\n",
    "end=4\n",
    "for page in range(start,end):\n",
    "    price_tags=driver.find_elements(By.XPATH,'//a[@class=\"_3bPFwb\"]')\n",
    "    for i in price_tags[0:100]:\n",
    "        price.append(i.text)\n",
    "    next_button=driver.find_element(By.XPATH,'//a[@class=\"_1LKTO3\"]')\n",
    "    next_button.click()\n",
    "    time.sleep(1)\n",
    "print(price)\n",
    "print(len(price))"
   ]
  },
  {
   "cell_type": "code",
   "execution_count": 58,
   "id": "2253e7dc",
   "metadata": {},
   "outputs": [
    {
     "data": {
      "text/html": [
       "<div>\n",
       "<style scoped>\n",
       "    .dataframe tbody tr th:only-of-type {\n",
       "        vertical-align: middle;\n",
       "    }\n",
       "\n",
       "    .dataframe tbody tr th {\n",
       "        vertical-align: top;\n",
       "    }\n",
       "\n",
       "    .dataframe thead th {\n",
       "        text-align: right;\n",
       "    }\n",
       "</style>\n",
       "<table border=\"1\" class=\"dataframe\">\n",
       "  <thead>\n",
       "    <tr style=\"text-align: right;\">\n",
       "      <th></th>\n",
       "      <th>Brand</th>\n",
       "      <th>Product Description</th>\n",
       "      <th>Price</th>\n",
       "    </tr>\n",
       "  </thead>\n",
       "  <tbody>\n",
       "    <tr>\n",
       "      <th>0</th>\n",
       "      <td>Haute Sauce</td>\n",
       "      <td>UV Protection Retro Square Sunglasses (55)</td>\n",
       "      <td>₹226₹69967% off\\nFree delivery</td>\n",
       "    </tr>\n",
       "    <tr>\n",
       "      <th>1</th>\n",
       "      <td>Floyd</td>\n",
       "      <td>UV Protection, Night Vision, Riding Glasses Re...</td>\n",
       "      <td>₹1,301₹8,00083% off\\nFree delivery</td>\n",
       "    </tr>\n",
       "    <tr>\n",
       "      <th>2</th>\n",
       "      <td>Fastrack</td>\n",
       "      <td>UV Protection Wayfarer Sunglasses (Free Size)</td>\n",
       "      <td>₹799₹99920% off</td>\n",
       "    </tr>\n",
       "    <tr>\n",
       "      <th>3</th>\n",
       "      <td>New Specs</td>\n",
       "      <td>UV Protection Rectangular Sunglasses (Free Size)</td>\n",
       "      <td>₹264₹2,59989% off\\nFree delivery</td>\n",
       "    </tr>\n",
       "    <tr>\n",
       "      <th>4</th>\n",
       "      <td>Elligator</td>\n",
       "      <td>UV Protection Round Sunglasses (54)</td>\n",
       "      <td>₹298₹2,49588% off</td>\n",
       "    </tr>\n",
       "    <tr>\n",
       "      <th>...</th>\n",
       "      <td>...</td>\n",
       "      <td>...</td>\n",
       "      <td>...</td>\n",
       "    </tr>\n",
       "    <tr>\n",
       "      <th>95</th>\n",
       "      <td>john jacobs</td>\n",
       "      <td>by Lenskart Polarized, UV Protection Cat-eye S...</td>\n",
       "      <td>₹299₹99970% off\\nFree delivery</td>\n",
       "    </tr>\n",
       "    <tr>\n",
       "      <th>96</th>\n",
       "      <td>Fastrack</td>\n",
       "      <td>UV Protection Shield Sunglasses (Free Size)</td>\n",
       "      <td>₹719₹89920% off\\nFree delivery</td>\n",
       "    </tr>\n",
       "    <tr>\n",
       "      <th>97</th>\n",
       "      <td>ROZZETTA CRAFT</td>\n",
       "      <td>UV Protection Retro Square Sunglasses (Free Size)</td>\n",
       "      <td>₹499₹2,22577% off\\nFree delivery</td>\n",
       "    </tr>\n",
       "    <tr>\n",
       "      <th>98</th>\n",
       "      <td>Fastrack</td>\n",
       "      <td>UV Protection Aviator Sunglasses (58)</td>\n",
       "      <td>₹1,039₹1,29920% off\\nFree delivery</td>\n",
       "    </tr>\n",
       "    <tr>\n",
       "      <th>99</th>\n",
       "      <td>hipe</td>\n",
       "      <td>by Lenskart Polarized, UV Protection Aviator S...</td>\n",
       "      <td>₹949₹1,99952% off\\nFree delivery</td>\n",
       "    </tr>\n",
       "  </tbody>\n",
       "</table>\n",
       "<p>100 rows × 3 columns</p>\n",
       "</div>"
      ],
      "text/plain": [
       "             Brand                                Product Description  \\\n",
       "0      Haute Sauce         UV Protection Retro Square Sunglasses (55)   \n",
       "1            Floyd  UV Protection, Night Vision, Riding Glasses Re...   \n",
       "2         Fastrack      UV Protection Wayfarer Sunglasses (Free Size)   \n",
       "3        New Specs   UV Protection Rectangular Sunglasses (Free Size)   \n",
       "4        Elligator                UV Protection Round Sunglasses (54)   \n",
       "..             ...                                                ...   \n",
       "95     john jacobs  by Lenskart Polarized, UV Protection Cat-eye S...   \n",
       "96        Fastrack        UV Protection Shield Sunglasses (Free Size)   \n",
       "97  ROZZETTA CRAFT  UV Protection Retro Square Sunglasses (Free Size)   \n",
       "98        Fastrack              UV Protection Aviator Sunglasses (58)   \n",
       "99            hipe  by Lenskart Polarized, UV Protection Aviator S...   \n",
       "\n",
       "                                 Price  \n",
       "0       ₹226₹69967% off\\nFree delivery  \n",
       "1   ₹1,301₹8,00083% off\\nFree delivery  \n",
       "2                      ₹799₹99920% off  \n",
       "3     ₹264₹2,59989% off\\nFree delivery  \n",
       "4                    ₹298₹2,49588% off  \n",
       "..                                 ...  \n",
       "95      ₹299₹99970% off\\nFree delivery  \n",
       "96      ₹719₹89920% off\\nFree delivery  \n",
       "97    ₹499₹2,22577% off\\nFree delivery  \n",
       "98  ₹1,039₹1,29920% off\\nFree delivery  \n",
       "99    ₹949₹1,99952% off\\nFree delivery  \n",
       "\n",
       "[100 rows x 3 columns]"
      ]
     },
     "execution_count": 58,
     "metadata": {},
     "output_type": "execute_result"
    }
   ],
   "source": [
    "df=pd.DataFrame({'Brand':brand, 'Product Description':prod_description, 'Price':price})\n",
    "df.head(100)"
   ]
  },
  {
   "cell_type": "markdown",
   "id": "e973d132",
   "metadata": {},
   "source": [
    "# Q5: Scrape 100 reviews data from flipkart.com for iphone11 phone."
   ]
  },
  {
   "cell_type": "code",
   "execution_count": 169,
   "id": "cbfc551d",
   "metadata": {},
   "outputs": [],
   "source": [
    "driver.get('https://www.flipkart.com/')"
   ]
  },
  {
   "cell_type": "code",
   "execution_count": 170,
   "id": "b7301eab",
   "metadata": {},
   "outputs": [],
   "source": [
    "product=driver.find_element(By.CLASS_NAME,'_3704LK')\n",
    "product.send_keys('iphone 11')"
   ]
  },
  {
   "cell_type": "code",
   "execution_count": 173,
   "id": "e979103f",
   "metadata": {},
   "outputs": [],
   "source": [
    "search=driver.find_element(By.CLASS_NAME,'L0Z3Pu')\n",
    "search.click()"
   ]
  },
  {
   "cell_type": "code",
   "execution_count": 174,
   "id": "5dac821e",
   "metadata": {},
   "outputs": [],
   "source": [
    "product_enter=driver.find_element(By.CLASS_NAME,'_4rR01T')\n",
    "product_enter.click()"
   ]
  },
  {
   "cell_type": "code",
   "execution_count": 175,
   "id": "59917f26",
   "metadata": {},
   "outputs": [],
   "source": [
    "driver.switch_to.window(driver.window_handles[1])"
   ]
  },
  {
   "cell_type": "code",
   "execution_count": 176,
   "id": "86de8090",
   "metadata": {},
   "outputs": [],
   "source": [
    "tab_turner=driver.find_element(By.XPATH,'/html/body/div[1]/div/div[3]/div[1]/div[2]/div[9]/div[6]/div/a/div')\n",
    "tab_turner.click()"
   ]
  },
  {
   "cell_type": "code",
   "execution_count": 178,
   "id": "566c0a3a",
   "metadata": {},
   "outputs": [
    {
     "name": "stdout",
     "output_type": "stream",
     "text": [
      "['5', '5', '5', '5', '5', '5', '5', '5', '5', '5', '5', '5', '5', '5', '5', '5', '5', '5', '5', '4', '5', '5', '5', '5', '5', '5', '5', '5', '5', '5', '5', '5', '5', '5', '5', '5', '5', '5', '5', '4', '5', '5', '5', '5', '5', '5', '5', '5', '5', '5', '5', '5', '5', '5', '5', '5', '5', '5', '5', '4', '5', '5', '5', '5', '5', '5', '5', '5', '5', '5', '5', '5', '5', '5', '5', '5', '5', '5', '5', '4', '5', '5', '5', '5', '5', '5', '5', '5', '5', '5', '5', '5', '5', '5', '5', '5', '5', '5', '5', '4']\n",
      "100\n"
     ]
    }
   ],
   "source": [
    "\n",
    "rating=[]\n",
    "start=0\n",
    "end=10\n",
    "for page in range(start,end):\n",
    "    rating_tags=driver.find_elements(By.XPATH,'//div[@class=\"_3LWZlK _1BLPMq\"]')\n",
    "    for i in rating_tags[0:100]:\n",
    "        rating.append(i.text)\n",
    "    next_button=driver.find_element(By.XPATH,'//a[@class=\"_1LKTO3\"]')\n",
    "    next_button.click()\n",
    "    time.sleep(1)\n",
    "\n",
    "print(rating)\n",
    "print(len(rating))"
   ]
  },
  {
   "cell_type": "code",
   "execution_count": 179,
   "id": "378f2465",
   "metadata": {},
   "outputs": [
    {
     "name": "stdout",
     "output_type": "stream",
     "text": [
      "['Highly recommended', 'Perfect product!', 'Perfect product!', 'Worth every penny', 'Perfect product!', 'Perfect product!', 'Terrific', 'Wonderful', 'Worth every penny', 'Classy product', 'Simply awesome', 'Perfect product!', 'Best in the market!', 'Highly recommended', 'Worth every penny', 'Fabulous!', 'Great product', 'Worth every penny', 'Highly recommended', 'Good choice', 'Simply awesome', 'Perfect product!', 'Best in the market!', 'Highly recommended', 'Worth every penny', 'Fabulous!', 'Great product', 'Worth every penny', 'Highly recommended', 'Good choice', 'Highly recommended', 'Perfect product!', 'Perfect product!', 'Worth every penny', 'Perfect product!', 'Perfect product!', 'Terrific', 'Wonderful', 'Worth every penny', 'Classy product', 'Simply awesome', 'Perfect product!', 'Best in the market!', 'Highly recommended', 'Worth every penny', 'Fabulous!', 'Great product', 'Worth every penny', 'Highly recommended', 'Good choice', 'Highly recommended', 'Perfect product!', 'Perfect product!', 'Worth every penny', 'Perfect product!', 'Perfect product!', 'Terrific', 'Wonderful', 'Worth every penny', 'Classy product', 'Simply awesome', 'Perfect product!', 'Best in the market!', 'Highly recommended', 'Worth every penny', 'Fabulous!', 'Great product', 'Worth every penny', 'Highly recommended', 'Good choice', 'Highly recommended', 'Perfect product!', 'Perfect product!', 'Worth every penny', 'Perfect product!', 'Perfect product!', 'Terrific', 'Wonderful', 'Worth every penny', 'Classy product', 'Simply awesome', 'Perfect product!', 'Best in the market!', 'Highly recommended', 'Worth every penny', 'Fabulous!', 'Great product', 'Worth every penny', 'Highly recommended', 'Good choice', 'Highly recommended', 'Perfect product!', 'Perfect product!', 'Worth every penny', 'Perfect product!', 'Perfect product!', 'Terrific', 'Wonderful', 'Worth every penny', 'Classy product']\n",
      "100\n"
     ]
    }
   ],
   "source": [
    "review=[]\n",
    "start=0\n",
    "end=10\n",
    "for page in range(start,end):\n",
    "    review_tags=driver.find_elements(By.XPATH,'//p[@class=\"_2-N8zT\"]')\n",
    "    for i in review_tags[0:100]:\n",
    "        review.append(i.text)\n",
    "    next_button=driver.find_element(By.XPATH,'//a[@class=\"_1LKTO3\"]')\n",
    "    next_button.click()\n",
    "    time.sleep(1)\n",
    "print(review)\n",
    "print(len(review))\n",
    "      "
   ]
  },
  {
   "cell_type": "code",
   "execution_count": 180,
   "id": "77511e3d",
   "metadata": {},
   "outputs": [
    {
     "name": "stdout",
     "output_type": "stream",
     "text": [
      "['Really satisfied with the Product I received... It’s totally genuine and the packaging was also really good so if ur planning to buy just go for it.', 'Amazing phone with great cameras and better battery which gives you the best performance. I just love the camera .', 'Great iPhone very snappy experience as apple kind. Upgraded from iPhone 7.\\nPros\\n-Camera top class\\n- Battery top performed\\n-Chipset no need to say as apple kind\\n-Security as you expect from apple\\n- Display super bright industry leading colour\\naccuracy and super responsive\\n-Build quality as expect from apple sturdy\\npremium durable beautiful stylish.\\n-Os most stable os in smartphone industry\\n\\nCons\\n-No 5G\\n-Display is not based on OLED technology\\n-Charger headphones and 1 apple stic...\\nREAD MORE', 'What a camera .....just awesome ..you can feel this iPhone just awesome . Good for gaming also ...try pubg in hd it’s just wow', 'Previously I was using one plus 3t it was a great phone\\nAnd then I decided to upgrade I am stuck between Samsung s10 plus or iPhone 11\\nI have seen the specs and everything were good except the display it’s somewhere between 720-1080 and it’s not even an amoled it’s an LCD display\\nBut I decided to go with iPhone because I have never used an IOS device I have Been an android user from the past 9 years I ordered IPhone 11 (128gb) product red\\nMy experience after using 3 weeks\\n1. The delivery ...\\nREAD MORE', 'This is my first iOS phone. I am very happy with this product. Very much satisfied with this. I love this phone.', 'Amazing Powerful and Durable Gadget.\\n\\nI’m am very happy with the camera picture quality, Amazing face id unlocked in dark room, Strong battery with perfect screen size as you can carry easily in pocket. This is my third iPhone.\\n\\nI shifted from android Samsung Note series to iPhone because of the strong build quality and peace of mind for next 3-4 years.\\n\\nDon’t think to much just go for it and I suggest you to go for minimum 128gb variant or more 256gb.\\n\\nI’ve attached my puppy pics and no fi...\\nREAD MORE', 'i11 is worthy to buy, too much happy with the product. Thank u flipkart I received the item on time..loved it..', \"It's my first time to use iOS phone and I am loving my upgradation 😍😍 I love the color, I love the assebility of the phone....I need to learn more about its functionality, but as far as I have seen, it's quite easy and it has a lot of functions to work on, specially if you are a content writer or a blogger you get a lot of content creation platforms and they are really amazing.\\n\\nThis phone not only for good quality photography but a lot of other task too.😍💯\", 'So far it’s been an AMAZING experience coming back to iOS after nearly a decade but it’s not as versatile as android though phone is sturdy dropped it accidentally a couple of times and nothing happened fortunately camera is awesome', 'iphone 11 is a very good phone to buy only if you can compromise for the display. The display on this is device is pretty good but you can get other options with better displays in this price segment.\\nIf you can survive with an HD+ LCD panel with thicker bezels and a notch up top then this is a very good phone for you.\\nCameras are awesome, battery backup excellent, great performance and a decent premium look. Good job Apple !', 'It’s a must buy who is looking for an upgrade from previous generation of iPhones. If you are using XR then still you can hold on for sometime and upgrade to 2020 model else this phone is a must buy . Camera quality is amazing and wide angle is something to count upon. Performance wise it’s amazing and feels premium while holding in hand. So a big YES for this device. Go for 128 GB variant as the 4K videos will occupy lots of space and the storage can get over very quickly. Try to buy it with...\\nREAD MORE', 'Value for money❤️❤️\\nIts awesome mobile phone in the world ...\\nDisplay was very good and bright ..\\nTrust me freinds you r never regret after Buying..\\nJust go for it....\\nI love this phone and i switch to iphone x to 11', 'Smooth like butter, camera like fantabulous, sound is crystal clear & its red color is damn attractive, i am just loving it. Must buy if you love photography.\\n\\nLucky to get it in sale, thank you Flipkart.', 'It is just awesome mobile for this price from Apple,\\n\\nAfter 10 days review\\n\\nBattery enough for 1 day even 24*7 Internet will be on and mostly internet usage\\n\\nCamera is just awesome cool , android 64 MP is equal to this just 12 MP\\n\\nA13 Bionic chip will give more high performance without hanging\\n\\nAudio stereo speakers will give Dolby atoms sound with crystal clear\\n\\nVideo recording is like cinematic shots of every sec can be a 4K 60fps. Just awesome this phone\\niPhone 11 loved one', \"Iphone is just awesome.. battery backup is very very nice.. continuously for 10 hours we can use it.camera is just awesome.. display is just fab.i love it alot..i had to wait 15 days for it as i pre ordered it..overalll it's worth the price..these all images are clicked by my iPhone..and i love it.\", 'Really worth of money. i just love it. It is the best phone ever.', 'This is my first ever I phone. Before this I was using my google nexus 5. But moving from android to iOS is a great experience. It’s worth at this price. I will highly recommend it if you want to move to iOS. The best part of this phone is it’s camera and it’s battery life. This two things have won my heart. I loved it. Happy to have it in my hand. Still exploring its features. And can’t forget to mention Flipkart service. Very prompt service and fast delivery.', 'Best budget Iphone till date ❤️ go for it guys without second thought. Let me explain you guys about Camera, Display, battery, and performance.\\n\\nCamera: at this price range there is no comparison of camera, you’ll love the picture quality as well as video quality. I am a Vlogger I wanted an iPhone with 4k video by front camera and I got this phone and I am more than happy 😃\\n\\nBattery: I use this phone roughly as I am active social media person and I have a youtube channel. so the battery ba...\\nREAD MORE', 'Totally in love with this ❤ the camera quality is amazing just love it 😘😘😘 itsss dammnnnnnn amazing... Must buy iPhone 11 this is my best experience ever ☀👌👌🧡🧡🧡🧡🧡 thanku apple ❤', 'iphone 11 is a very good phone to buy only if you can compromise for the display. The display on this is device is pretty good but you can get other options with better displays in this price segment.\\nIf you can survive with an HD+ LCD panel with thicker bezels and a notch up top then this is a very good phone for you.\\nCameras are awesome, battery backup excellent, great performance and a decent premium look. Good job Apple !', 'It’s a must buy who is looking for an upgrade from previous generation of iPhones. If you are using XR then still you can hold on for sometime and upgrade to 2020 model else this phone is a must buy . Camera quality is amazing and wide angle is something to count upon. Performance wise it’s amazing and feels premium while holding in hand. So a big YES for this device. Go for 128 GB variant as the 4K videos will occupy lots of space and the storage can get over very quickly. Try to buy it with...\\nREAD MORE', 'Value for money❤️❤️\\nIts awesome mobile phone in the world ...\\nDisplay was very good and bright ..\\nTrust me freinds you r never regret after Buying..\\nJust go for it....\\nI love this phone and i switch to iphone x to 11', 'Smooth like butter, camera like fantabulous, sound is crystal clear & its red color is damn attractive, i am just loving it. Must buy if you love photography.\\n\\nLucky to get it in sale, thank you Flipkart.', 'It is just awesome mobile for this price from Apple,\\n\\nAfter 10 days review\\n\\nBattery enough for 1 day even 24*7 Internet will be on and mostly internet usage\\n\\nCamera is just awesome cool , android 64 MP is equal to this just 12 MP\\n\\nA13 Bionic chip will give more high performance without hanging\\n\\nAudio stereo speakers will give Dolby atoms sound with crystal clear\\n\\nVideo recording is like cinematic shots of every sec can be a 4K 60fps. Just awesome this phone\\niPhone 11 loved one', \"Iphone is just awesome.. battery backup is very very nice.. continuously for 10 hours we can use it.camera is just awesome.. display is just fab.i love it alot..i had to wait 15 days for it as i pre ordered it..overalll it's worth the price..these all images are clicked by my iPhone..and i love it.\", 'Really worth of money. i just love it. It is the best phone ever.', 'This is my first ever I phone. Before this I was using my google nexus 5. But moving from android to iOS is a great experience. It’s worth at this price. I will highly recommend it if you want to move to iOS. The best part of this phone is it’s camera and it’s battery life. This two things have won my heart. I loved it. Happy to have it in my hand. Still exploring its features. And can’t forget to mention Flipkart service. Very prompt service and fast delivery.', 'Best budget Iphone till date ❤️ go for it guys without second thought. Let me explain you guys about Camera, Display, battery, and performance.\\n\\nCamera: at this price range there is no comparison of camera, you’ll love the picture quality as well as video quality. I am a Vlogger I wanted an iPhone with 4k video by front camera and I got this phone and I am more than happy 😃\\n\\nBattery: I use this phone roughly as I am active social media person and I have a youtube channel. so the battery ba...\\nREAD MORE', 'Totally in love with this ❤ the camera quality is amazing just love it 😘😘😘 itsss dammnnnnnn amazing... Must buy iPhone 11 this is my best experience ever ☀👌👌🧡🧡🧡🧡🧡 thanku apple ❤', 'iphone 11 is a very good phone to buy only if you can compromise for the display. The display on this is device is pretty good but you can get other options with better displays in this price segment.\\nIf you can survive with an HD+ LCD panel with thicker bezels and a notch up top then this is a very good phone for you.\\nCameras are awesome, battery backup excellent, great performance and a decent premium look. Good job Apple !', 'It’s a must buy who is looking for an upgrade from previous generation of iPhones. If you are using XR then still you can hold on for sometime and upgrade to 2020 model else this phone is a must buy . Camera quality is amazing and wide angle is something to count upon. Performance wise it’s amazing and feels premium while holding in hand. So a big YES for this device. Go for 128 GB variant as the 4K videos will occupy lots of space and the storage can get over very quickly. Try to buy it with...\\nREAD MORE', 'Value for money❤️❤️\\nIts awesome mobile phone in the world ...\\nDisplay was very good and bright ..\\nTrust me freinds you r never regret after Buying..\\nJust go for it....\\nI love this phone and i switch to iphone x to 11', 'Smooth like butter, camera like fantabulous, sound is crystal clear & its red color is damn attractive, i am just loving it. Must buy if you love photography.\\n\\nLucky to get it in sale, thank you Flipkart.', 'It is just awesome mobile for this price from Apple,\\n\\nAfter 10 days review\\n\\nBattery enough for 1 day even 24*7 Internet will be on and mostly internet usage\\n\\nCamera is just awesome cool , android 64 MP is equal to this just 12 MP\\n\\nA13 Bionic chip will give more high performance without hanging\\n\\nAudio stereo speakers will give Dolby atoms sound with crystal clear\\n\\nVideo recording is like cinematic shots of every sec can be a 4K 60fps. Just awesome this phone\\niPhone 11 loved one', \"Iphone is just awesome.. battery backup is very very nice.. continuously for 10 hours we can use it.camera is just awesome.. display is just fab.i love it alot..i had to wait 15 days for it as i pre ordered it..overalll it's worth the price..these all images are clicked by my iPhone..and i love it.\", 'Really worth of money. i just love it. It is the best phone ever.', 'This is my first ever I phone. Before this I was using my google nexus 5. But moving from android to iOS is a great experience. It’s worth at this price. I will highly recommend it if you want to move to iOS. The best part of this phone is it’s camera and it’s battery life. This two things have won my heart. I loved it. Happy to have it in my hand. Still exploring its features. And can’t forget to mention Flipkart service. Very prompt service and fast delivery.', 'Best budget Iphone till date ❤️ go for it guys without second thought. Let me explain you guys about Camera, Display, battery, and performance.\\n\\nCamera: at this price range there is no comparison of camera, you’ll love the picture quality as well as video quality. I am a Vlogger I wanted an iPhone with 4k video by front camera and I got this phone and I am more than happy 😃\\n\\nBattery: I use this phone roughly as I am active social media person and I have a youtube channel. so the battery ba...\\nREAD MORE', 'Totally in love with this ❤ the camera quality is amazing just love it 😘😘😘 itsss dammnnnnnn amazing... Must buy iPhone 11 this is my best experience ever ☀👌👌🧡🧡🧡🧡🧡 thanku apple ❤', 'iphone 11 is a very good phone to buy only if you can compromise for the display. The display on this is device is pretty good but you can get other options with better displays in this price segment.\\nIf you can survive with an HD+ LCD panel with thicker bezels and a notch up top then this is a very good phone for you.\\nCameras are awesome, battery backup excellent, great performance and a decent premium look. Good job Apple !', 'It’s a must buy who is looking for an upgrade from previous generation of iPhones. If you are using XR then still you can hold on for sometime and upgrade to 2020 model else this phone is a must buy . Camera quality is amazing and wide angle is something to count upon. Performance wise it’s amazing and feels premium while holding in hand. So a big YES for this device. Go for 128 GB variant as the 4K videos will occupy lots of space and the storage can get over very quickly. Try to buy it with...\\nREAD MORE', 'Value for money❤️❤️\\nIts awesome mobile phone in the world ...\\nDisplay was very good and bright ..\\nTrust me freinds you r never regret after Buying..\\nJust go for it....\\nI love this phone and i switch to iphone x to 11', 'Smooth like butter, camera like fantabulous, sound is crystal clear & its red color is damn attractive, i am just loving it. Must buy if you love photography.\\n\\nLucky to get it in sale, thank you Flipkart.', 'It is just awesome mobile for this price from Apple,\\n\\nAfter 10 days review\\n\\nBattery enough for 1 day even 24*7 Internet will be on and mostly internet usage\\n\\nCamera is just awesome cool , android 64 MP is equal to this just 12 MP\\n\\nA13 Bionic chip will give more high performance without hanging\\n\\nAudio stereo speakers will give Dolby atoms sound with crystal clear\\n\\nVideo recording is like cinematic shots of every sec can be a 4K 60fps. Just awesome this phone\\niPhone 11 loved one', \"Iphone is just awesome.. battery backup is very very nice.. continuously for 10 hours we can use it.camera is just awesome.. display is just fab.i love it alot..i had to wait 15 days for it as i pre ordered it..overalll it's worth the price..these all images are clicked by my iPhone..and i love it.\", 'Really worth of money. i just love it. It is the best phone ever.', 'This is my first ever I phone. Before this I was using my google nexus 5. But moving from android to iOS is a great experience. It’s worth at this price. I will highly recommend it if you want to move to iOS. The best part of this phone is it’s camera and it’s battery life. This two things have won my heart. I loved it. Happy to have it in my hand. Still exploring its features. And can’t forget to mention Flipkart service. Very prompt service and fast delivery.', 'Best budget Iphone till date ❤️ go for it guys without second thought. Let me explain you guys about Camera, Display, battery, and performance.\\n\\nCamera: at this price range there is no comparison of camera, you’ll love the picture quality as well as video quality. I am a Vlogger I wanted an iPhone with 4k video by front camera and I got this phone and I am more than happy 😃\\n\\nBattery: I use this phone roughly as I am active social media person and I have a youtube channel. so the battery ba...\\nREAD MORE', 'Totally in love with this ❤ the camera quality is amazing just love it 😘😘😘 itsss dammnnnnnn amazing... Must buy iPhone 11 this is my best experience ever ☀👌👌🧡🧡🧡🧡🧡 thanku apple ❤', 'Really satisfied with the Product I received... It’s totally genuine and the packaging was also really good so if ur planning to buy just go for it.', 'Amazing phone with great cameras and better battery which gives you the best performance. I just love the camera .', 'Great iPhone very snappy experience as apple kind. Upgraded from iPhone 7.\\nPros\\n-Camera top class\\n- Battery top performed\\n-Chipset no need to say as apple kind\\n-Security as you expect from apple\\n- Display super bright industry leading colour\\naccuracy and super responsive\\n-Build quality as expect from apple sturdy\\npremium durable beautiful stylish.\\n-Os most stable os in smartphone industry\\n\\nCons\\n-No 5G\\n-Display is not based on OLED technology\\n-Charger headphones and 1 apple stic...\\nREAD MORE', 'What a camera .....just awesome ..you can feel this iPhone just awesome . Good for gaming also ...try pubg in hd it’s just wow', 'Previously I was using one plus 3t it was a great phone\\nAnd then I decided to upgrade I am stuck between Samsung s10 plus or iPhone 11\\nI have seen the specs and everything were good except the display it’s somewhere between 720-1080 and it’s not even an amoled it’s an LCD display\\nBut I decided to go with iPhone because I have never used an IOS device I have Been an android user from the past 9 years I ordered IPhone 11 (128gb) product red\\nMy experience after using 3 weeks\\n1. The delivery ...\\nREAD MORE', 'This is my first iOS phone. I am very happy with this product. Very much satisfied with this. I love this phone.', 'Amazing Powerful and Durable Gadget.\\n\\nI’m am very happy with the camera picture quality, Amazing face id unlocked in dark room, Strong battery with perfect screen size as you can carry easily in pocket. This is my third iPhone.\\n\\nI shifted from android Samsung Note series to iPhone because of the strong build quality and peace of mind for next 3-4 years.\\n\\nDon’t think to much just go for it and I suggest you to go for minimum 128gb variant or more 256gb.\\n\\nI’ve attached my puppy pics and no fi...\\nREAD MORE', 'i11 is worthy to buy, too much happy with the product. Thank u flipkart I received the item on time..loved it..', \"It's my first time to use iOS phone and I am loving my upgradation 😍😍 I love the color, I love the assebility of the phone....I need to learn more about its functionality, but as far as I have seen, it's quite easy and it has a lot of functions to work on, specially if you are a content writer or a blogger you get a lot of content creation platforms and they are really amazing.\\n\\nThis phone not only for good quality photography but a lot of other task too.😍💯\", 'So far it’s been an AMAZING experience coming back to iOS after nearly a decade but it’s not as versatile as android though phone is sturdy dropped it accidentally a couple of times and nothing happened fortunately camera is awesome', 'iphone 11 is a very good phone to buy only if you can compromise for the display. The display on this is device is pretty good but you can get other options with better displays in this price segment.\\nIf you can survive with an HD+ LCD panel with thicker bezels and a notch up top then this is a very good phone for you.\\nCameras are awesome, battery backup excellent, great performance and a decent premium look. Good job Apple !', 'It’s a must buy who is looking for an upgrade from previous generation of iPhones. If you are using XR then still you can hold on for sometime and upgrade to 2020 model else this phone is a must buy . Camera quality is amazing and wide angle is something to count upon. Performance wise it’s amazing and feels premium while holding in hand. So a big YES for this device. Go for 128 GB variant as the 4K videos will occupy lots of space and the storage can get over very quickly. Try to buy it with...\\nREAD MORE', 'Value for money❤️❤️\\nIts awesome mobile phone in the world ...\\nDisplay was very good and bright ..\\nTrust me freinds you r never regret after Buying..\\nJust go for it....\\nI love this phone and i switch to iphone x to 11', 'Smooth like butter, camera like fantabulous, sound is crystal clear & its red color is damn attractive, i am just loving it. Must buy if you love photography.\\n\\nLucky to get it in sale, thank you Flipkart.', 'It is just awesome mobile for this price from Apple,\\n\\nAfter 10 days review\\n\\nBattery enough for 1 day even 24*7 Internet will be on and mostly internet usage\\n\\nCamera is just awesome cool , android 64 MP is equal to this just 12 MP\\n\\nA13 Bionic chip will give more high performance without hanging\\n\\nAudio stereo speakers will give Dolby atoms sound with crystal clear\\n\\nVideo recording is like cinematic shots of every sec can be a 4K 60fps. Just awesome this phone\\niPhone 11 loved one', \"Iphone is just awesome.. battery backup is very very nice.. continuously for 10 hours we can use it.camera is just awesome.. display is just fab.i love it alot..i had to wait 15 days for it as i pre ordered it..overalll it's worth the price..these all images are clicked by my iPhone..and i love it.\", 'Really worth of money. i just love it. It is the best phone ever.', 'This is my first ever I phone. Before this I was using my google nexus 5. But moving from android to iOS is a great experience. It’s worth at this price. I will highly recommend it if you want to move to iOS. The best part of this phone is it’s camera and it’s battery life. This two things have won my heart. I loved it. Happy to have it in my hand. Still exploring its features. And can’t forget to mention Flipkart service. Very prompt service and fast delivery.', 'Best budget Iphone till date ❤️ go for it guys without second thought. Let me explain you guys about Camera, Display, battery, and performance.\\n\\nCamera: at this price range there is no comparison of camera, you’ll love the picture quality as well as video quality. I am a Vlogger I wanted an iPhone with 4k video by front camera and I got this phone and I am more than happy 😃\\n\\nBattery: I use this phone roughly as I am active social media person and I have a youtube channel. so the battery ba...\\nREAD MORE', 'Totally in love with this ❤ the camera quality is amazing just love it 😘😘😘 itsss dammnnnnnn amazing... Must buy iPhone 11 this is my best experience ever ☀👌👌🧡🧡🧡🧡🧡 thanku apple ❤', 'Really satisfied with the Product I received... It’s totally genuine and the packaging was also really good so if ur planning to buy just go for it.', 'Amazing phone with great cameras and better battery which gives you the best performance. I just love the camera .', 'Great iPhone very snappy experience as apple kind. Upgraded from iPhone 7.\\nPros\\n-Camera top class\\n- Battery top performed\\n-Chipset no need to say as apple kind\\n-Security as you expect from apple\\n- Display super bright industry leading colour\\naccuracy and super responsive\\n-Build quality as expect from apple sturdy\\npremium durable beautiful stylish.\\n-Os most stable os in smartphone industry\\n\\nCons\\n-No 5G\\n-Display is not based on OLED technology\\n-Charger headphones and 1 apple stic...\\nREAD MORE', 'What a camera .....just awesome ..you can feel this iPhone just awesome . Good for gaming also ...try pubg in hd it’s just wow', 'Previously I was using one plus 3t it was a great phone\\nAnd then I decided to upgrade I am stuck between Samsung s10 plus or iPhone 11\\nI have seen the specs and everything were good except the display it’s somewhere between 720-1080 and it’s not even an amoled it’s an LCD display\\nBut I decided to go with iPhone because I have never used an IOS device I have Been an android user from the past 9 years I ordered IPhone 11 (128gb) product red\\nMy experience after using 3 weeks\\n1. The delivery ...\\nREAD MORE', 'This is my first iOS phone. I am very happy with this product. Very much satisfied with this. I love this phone.', 'Amazing Powerful and Durable Gadget.\\n\\nI’m am very happy with the camera picture quality, Amazing face id unlocked in dark room, Strong battery with perfect screen size as you can carry easily in pocket. This is my third iPhone.\\n\\nI shifted from android Samsung Note series to iPhone because of the strong build quality and peace of mind for next 3-4 years.\\n\\nDon’t think to much just go for it and I suggest you to go for minimum 128gb variant or more 256gb.\\n\\nI’ve attached my puppy pics and no fi...\\nREAD MORE', 'i11 is worthy to buy, too much happy with the product. Thank u flipkart I received the item on time..loved it..', \"It's my first time to use iOS phone and I am loving my upgradation 😍😍 I love the color, I love the assebility of the phone....I need to learn more about its functionality, but as far as I have seen, it's quite easy and it has a lot of functions to work on, specially if you are a content writer or a blogger you get a lot of content creation platforms and they are really amazing.\\n\\nThis phone not only for good quality photography but a lot of other task too.😍💯\", 'So far it’s been an AMAZING experience coming back to iOS after nearly a decade but it’s not as versatile as android though phone is sturdy dropped it accidentally a couple of times and nothing happened fortunately camera is awesome', 'iphone 11 is a very good phone to buy only if you can compromise for the display. The display on this is device is pretty good but you can get other options with better displays in this price segment.\\nIf you can survive with an HD+ LCD panel with thicker bezels and a notch up top then this is a very good phone for you.\\nCameras are awesome, battery backup excellent, great performance and a decent premium look. Good job Apple !', 'It’s a must buy who is looking for an upgrade from previous generation of iPhones. If you are using XR then still you can hold on for sometime and upgrade to 2020 model else this phone is a must buy . Camera quality is amazing and wide angle is something to count upon. Performance wise it’s amazing and feels premium while holding in hand. So a big YES for this device. Go for 128 GB variant as the 4K videos will occupy lots of space and the storage can get over very quickly. Try to buy it with...\\nREAD MORE', 'Value for money❤️❤️\\nIts awesome mobile phone in the world ...\\nDisplay was very good and bright ..\\nTrust me freinds you r never regret after Buying..\\nJust go for it....\\nI love this phone and i switch to iphone x to 11', 'Smooth like butter, camera like fantabulous, sound is crystal clear & its red color is damn attractive, i am just loving it. Must buy if you love photography.\\n\\nLucky to get it in sale, thank you Flipkart.', 'It is just awesome mobile for this price from Apple,\\n\\nAfter 10 days review\\n\\nBattery enough for 1 day even 24*7 Internet will be on and mostly internet usage\\n\\nCamera is just awesome cool , android 64 MP is equal to this just 12 MP\\n\\nA13 Bionic chip will give more high performance without hanging\\n\\nAudio stereo speakers will give Dolby atoms sound with crystal clear\\n\\nVideo recording is like cinematic shots of every sec can be a 4K 60fps. Just awesome this phone\\niPhone 11 loved one', \"Iphone is just awesome.. battery backup is very very nice.. continuously for 10 hours we can use it.camera is just awesome.. display is just fab.i love it alot..i had to wait 15 days for it as i pre ordered it..overalll it's worth the price..these all images are clicked by my iPhone..and i love it.\", 'Really worth of money. i just love it. It is the best phone ever.', 'This is my first ever I phone. Before this I was using my google nexus 5. But moving from android to iOS is a great experience. It’s worth at this price. I will highly recommend it if you want to move to iOS. The best part of this phone is it’s camera and it’s battery life. This two things have won my heart. I loved it. Happy to have it in my hand. Still exploring its features. And can’t forget to mention Flipkart service. Very prompt service and fast delivery.', 'Best budget Iphone till date ❤️ go for it guys without second thought. Let me explain you guys about Camera, Display, battery, and performance.\\n\\nCamera: at this price range there is no comparison of camera, you’ll love the picture quality as well as video quality. I am a Vlogger I wanted an iPhone with 4k video by front camera and I got this phone and I am more than happy 😃\\n\\nBattery: I use this phone roughly as I am active social media person and I have a youtube channel. so the battery ba...\\nREAD MORE', 'Totally in love with this ❤ the camera quality is amazing just love it 😘😘😘 itsss dammnnnnnn amazing... Must buy iPhone 11 this is my best experience ever ☀👌👌🧡🧡🧡🧡🧡 thanku apple ❤', 'Really satisfied with the Product I received... It’s totally genuine and the packaging was also really good so if ur planning to buy just go for it.', 'Amazing phone with great cameras and better battery which gives you the best performance. I just love the camera .', 'Great iPhone very snappy experience as apple kind. Upgraded from iPhone 7.\\nPros\\n-Camera top class\\n- Battery top performed\\n-Chipset no need to say as apple kind\\n-Security as you expect from apple\\n- Display super bright industry leading colour\\naccuracy and super responsive\\n-Build quality as expect from apple sturdy\\npremium durable beautiful stylish.\\n-Os most stable os in smartphone industry\\n\\nCons\\n-No 5G\\n-Display is not based on OLED technology\\n-Charger headphones and 1 apple stic...\\nREAD MORE', 'What a camera .....just awesome ..you can feel this iPhone just awesome . Good for gaming also ...try pubg in hd it’s just wow', 'Previously I was using one plus 3t it was a great phone\\nAnd then I decided to upgrade I am stuck between Samsung s10 plus or iPhone 11\\nI have seen the specs and everything were good except the display it’s somewhere between 720-1080 and it’s not even an amoled it’s an LCD display\\nBut I decided to go with iPhone because I have never used an IOS device I have Been an android user from the past 9 years I ordered IPhone 11 (128gb) product red\\nMy experience after using 3 weeks\\n1. The delivery ...\\nREAD MORE', 'This is my first iOS phone. I am very happy with this product. Very much satisfied with this. I love this phone.', 'Amazing Powerful and Durable Gadget.\\n\\nI’m am very happy with the camera picture quality, Amazing face id unlocked in dark room, Strong battery with perfect screen size as you can carry easily in pocket. This is my third iPhone.\\n\\nI shifted from android Samsung Note series to iPhone because of the strong build quality and peace of mind for next 3-4 years.\\n\\nDon’t think to much just go for it and I suggest you to go for minimum 128gb variant or more 256gb.\\n\\nI’ve attached my puppy pics and no fi...\\nREAD MORE', 'i11 is worthy to buy, too much happy with the product. Thank u flipkart I received the item on time..loved it..', \"It's my first time to use iOS phone and I am loving my upgradation 😍😍 I love the color, I love the assebility of the phone....I need to learn more about its functionality, but as far as I have seen, it's quite easy and it has a lot of functions to work on, specially if you are a content writer or a blogger you get a lot of content creation platforms and they are really amazing.\\n\\nThis phone not only for good quality photography but a lot of other task too.😍💯\", 'So far it’s been an AMAZING experience coming back to iOS after nearly a decade but it’s not as versatile as android though phone is sturdy dropped it accidentally a couple of times and nothing happened fortunately camera is awesome']\n",
      "100\n"
     ]
    }
   ],
   "source": [
    "review_summary=[]\n",
    "start=0\n",
    "end=10\n",
    "for next in range(start,end):\n",
    "    summary=driver.find_elements(By.XPATH,'//div[@class=\"t-ZTKy\"]')\n",
    "    for i in summary[0:100]:\n",
    "        review_summary.append(i.text)\n",
    "    next_button=driver.find_element(By.XPATH,'//a[@class=\"_1LKTO3\"]')\n",
    "    next_button.click()\n",
    "    time.sleep(1)\n",
    "        \n",
    "print(review_summary)\n",
    "print(len(review_summary))"
   ]
  },
  {
   "cell_type": "code",
   "execution_count": 181,
   "id": "04c5b4f8",
   "metadata": {},
   "outputs": [
    {
     "data": {
      "text/html": [
       "<div>\n",
       "<style scoped>\n",
       "    .dataframe tbody tr th:only-of-type {\n",
       "        vertical-align: middle;\n",
       "    }\n",
       "\n",
       "    .dataframe tbody tr th {\n",
       "        vertical-align: top;\n",
       "    }\n",
       "\n",
       "    .dataframe thead th {\n",
       "        text-align: right;\n",
       "    }\n",
       "</style>\n",
       "<table border=\"1\" class=\"dataframe\">\n",
       "  <thead>\n",
       "    <tr style=\"text-align: right;\">\n",
       "      <th></th>\n",
       "      <th>Rating</th>\n",
       "      <th>Review</th>\n",
       "      <th>Review Full Summary</th>\n",
       "    </tr>\n",
       "  </thead>\n",
       "  <tbody>\n",
       "    <tr>\n",
       "      <th>0</th>\n",
       "      <td>5</td>\n",
       "      <td>Highly recommended</td>\n",
       "      <td>Really satisfied with the Product I received.....</td>\n",
       "    </tr>\n",
       "    <tr>\n",
       "      <th>1</th>\n",
       "      <td>5</td>\n",
       "      <td>Perfect product!</td>\n",
       "      <td>Amazing phone with great cameras and better ba...</td>\n",
       "    </tr>\n",
       "    <tr>\n",
       "      <th>2</th>\n",
       "      <td>5</td>\n",
       "      <td>Perfect product!</td>\n",
       "      <td>Great iPhone very snappy experience as apple k...</td>\n",
       "    </tr>\n",
       "    <tr>\n",
       "      <th>3</th>\n",
       "      <td>5</td>\n",
       "      <td>Worth every penny</td>\n",
       "      <td>What a camera .....just awesome ..you can feel...</td>\n",
       "    </tr>\n",
       "    <tr>\n",
       "      <th>4</th>\n",
       "      <td>5</td>\n",
       "      <td>Perfect product!</td>\n",
       "      <td>Previously I was using one plus 3t it was a gr...</td>\n",
       "    </tr>\n",
       "    <tr>\n",
       "      <th>...</th>\n",
       "      <td>...</td>\n",
       "      <td>...</td>\n",
       "      <td>...</td>\n",
       "    </tr>\n",
       "    <tr>\n",
       "      <th>95</th>\n",
       "      <td>5</td>\n",
       "      <td>Perfect product!</td>\n",
       "      <td>This is my first iOS phone. I am very happy wi...</td>\n",
       "    </tr>\n",
       "    <tr>\n",
       "      <th>96</th>\n",
       "      <td>5</td>\n",
       "      <td>Terrific</td>\n",
       "      <td>Amazing Powerful and Durable Gadget.\\n\\nI’m am...</td>\n",
       "    </tr>\n",
       "    <tr>\n",
       "      <th>97</th>\n",
       "      <td>5</td>\n",
       "      <td>Wonderful</td>\n",
       "      <td>i11 is worthy to buy, too much happy with the ...</td>\n",
       "    </tr>\n",
       "    <tr>\n",
       "      <th>98</th>\n",
       "      <td>5</td>\n",
       "      <td>Worth every penny</td>\n",
       "      <td>It's my first time to use iOS phone and I am l...</td>\n",
       "    </tr>\n",
       "    <tr>\n",
       "      <th>99</th>\n",
       "      <td>4</td>\n",
       "      <td>Classy product</td>\n",
       "      <td>So far it’s been an AMAZING experience coming ...</td>\n",
       "    </tr>\n",
       "  </tbody>\n",
       "</table>\n",
       "<p>100 rows × 3 columns</p>\n",
       "</div>"
      ],
      "text/plain": [
       "   Rating              Review  \\\n",
       "0       5  Highly recommended   \n",
       "1       5    Perfect product!   \n",
       "2       5    Perfect product!   \n",
       "3       5   Worth every penny   \n",
       "4       5    Perfect product!   \n",
       "..    ...                 ...   \n",
       "95      5    Perfect product!   \n",
       "96      5            Terrific   \n",
       "97      5           Wonderful   \n",
       "98      5   Worth every penny   \n",
       "99      4      Classy product   \n",
       "\n",
       "                                  Review Full Summary  \n",
       "0   Really satisfied with the Product I received.....  \n",
       "1   Amazing phone with great cameras and better ba...  \n",
       "2   Great iPhone very snappy experience as apple k...  \n",
       "3   What a camera .....just awesome ..you can feel...  \n",
       "4   Previously I was using one plus 3t it was a gr...  \n",
       "..                                                ...  \n",
       "95  This is my first iOS phone. I am very happy wi...  \n",
       "96  Amazing Powerful and Durable Gadget.\\n\\nI’m am...  \n",
       "97  i11 is worthy to buy, too much happy with the ...  \n",
       "98  It's my first time to use iOS phone and I am l...  \n",
       "99  So far it’s been an AMAZING experience coming ...  \n",
       "\n",
       "[100 rows x 3 columns]"
      ]
     },
     "execution_count": 181,
     "metadata": {},
     "output_type": "execute_result"
    }
   ],
   "source": [
    "df=pd.DataFrame({'Rating':rating, 'Review':review, 'Review Full Summary':review_summary})\n",
    "df.head(100)"
   ]
  },
  {
   "cell_type": "markdown",
   "id": "336c10aa",
   "metadata": {},
   "source": [
    "# Q6: Scrape data for first 100 sneakers you find when you visit flipkart.com and search for “sneakers” in the\n",
    "search field."
   ]
  },
  {
   "cell_type": "code",
   "execution_count": 182,
   "id": "476bb05f",
   "metadata": {},
   "outputs": [],
   "source": [
    "driver.get('https://www.flipkart.com/')"
   ]
  },
  {
   "cell_type": "code",
   "execution_count": 183,
   "id": "23655232",
   "metadata": {},
   "outputs": [],
   "source": [
    "product=driver.find_element(By.CLASS_NAME,'_3704LK')\n",
    "product.send_keys('sneakers')"
   ]
  },
  {
   "cell_type": "code",
   "execution_count": 184,
   "id": "86a70870",
   "metadata": {},
   "outputs": [],
   "source": [
    "search=driver.find_element(By.CLASS_NAME,'L0Z3Pu')\n",
    "search.click()"
   ]
  },
  {
   "cell_type": "code",
   "execution_count": 186,
   "id": "1a9e1042",
   "metadata": {},
   "outputs": [
    {
     "name": "stdout",
     "output_type": "stream",
     "text": [
      "['Bonexy', 'ROCKFIELD', 'Layasa', 'ONECENTRE', 'Layasa', 'PUMA', 'Deals4you', 'Rontex', 'KWIK FIT', 'aadi', 'Labbin', 'Spazer', 'Robbie jones', 'Layasa', 'HOTSTYLE', 'RapidBox', 'Chevit', 'Magnolia', 'PUMA', 'Bonexy', \"LEVI'S\", 'Kzaara', 'RED TAPE', 'RapidBox', 'aadi', 'Magnolia', 'AMICO', 'Red Rose', 'Robbie jones', 'Shoes Bank', 'ROCKFIELD', 'ROCKFIELD', 'LuvShus', 'PUMA', 'Deals4you', 'FAUSTO', 'BRUTON', 'RED TAPE', 'Sparx', 'RapidBox', 'Creer', 'Rzisbo', 'Robbie jones', 'Chevit', 'Layasa', 'Sparx', 'bacca bucci', 'Roadster', 'PUMA', 'Numenzo', 'AMICO', 'Magnolia', 'PUMA', 'PUMA', 'BRUTON', 'Sparx', 'U.S. POLO ASSN.', 'HOTSTYLE', 'BRUTON', 'D-SNEAKERZ', 'Kraasa', 'Chevit', 'Layasa', 'URBANBOX', 'Xtoon', 'Roadster', 'VENDOZ', 'Chevit', 'Sparx', 'Deals4you', 'Noztile', 'SCATCHITE', 'RED TAPE', 'PUMA', 'ROCKFIELD', 'PUMA', 'Xtoon', 'Kzaara', 'Skechers', 'Chevit', 'Bonexy', 'ROCKFIELD', 'Layasa', 'ONECENTRE', 'Layasa', 'PUMA', 'Deals4you', 'Rontex', 'KWIK FIT', 'aadi', 'Labbin', 'Spazer', 'Magnolia', 'Robbie jones', 'Layasa', 'RapidBox', 'HOTSTYLE', 'Chevit', 'PUMA', 'Bonexy', \"LEVI'S\", 'RED TAPE', 'Kzaara', 'RapidBox', 'aadi', 'Magnolia', 'AMICO', 'Red Rose', 'Robbie jones', 'Shoes Bank', 'ROCKFIELD', 'ROCKFIELD', 'LuvShus', 'PUMA', 'Deals4you', 'FAUSTO', 'BRUTON', 'RED TAPE', 'ASTEROID', 'RapidBox']\n",
      "120\n"
     ]
    }
   ],
   "source": [
    "brand=[]\n",
    "start=0\n",
    "end=3\n",
    "for page in range(start,end):\n",
    "    brand_tags=driver.find_elements(By.XPATH,'//div[@class=\"_2WkVRV\"]')\n",
    "    for i in brand_tags[0:100]:\n",
    "        brand.append(i.text)\n",
    "    next_button=driver.find_element(By.XPATH,'//a[@class=\"_1LKTO3\"]')\n",
    "    next_button.click()\n",
    "    time.sleep(2)\n",
    "print(brand)\n",
    "print(len(brand))\n",
    "#df=pd.DataFrame({'Brand':brand})\n",
    "#df.head(100)"
   ]
  },
  {
   "cell_type": "code",
   "execution_count": 193,
   "id": "da12c0ff",
   "metadata": {},
   "outputs": [
    {
     "name": "stdout",
     "output_type": "stream",
     "text": [
      "['SparxMen White Sneakers Sneakers For Men₹707₹83915% offSize 6, 7, 8, 9, 10', 'RzisboSneakers For Men₹458₹99954% offLowest Price in 15 daysSize 6, 7, 8, 9, 10', 'Robbie jonesSneakers For Men₹449₹99955% offFree deliveryHot Deal', 'BonexySneakers For Men₹509₹1,49966% offSize 6, 7, 8, 9, 10', 'LayasaSneakers For Women₹499₹99950% offSize 3, 4, 5, 6, 7', 'ChevitSneakers For Men₹239₹79970% offFree delivery', 'RoadsterSneakers For Men₹959₹3,29970% offFree deliveryHot Deal', 'OZJIFabric Ankle Boots Sneakers For Men₹720₹2,29968% offFree delivery', 'PUMAPuma Smash Vulc Sneakers For Men₹2,014₹3,79946% offFree delivery', 'Numenzo411 Casual Sneakers For Men₹396₹99960% offFree deliverySale Price Live', 'bacca bucciYODDHA High top elevated high Street Fashion Sneakers w...₹1,999₹3,99950% offFree delivery', 'BonexySneakers For Men₹509₹1,49966% offFree delivery', 'AMICOSneakers For Men₹466₹99953% offFree delivery', 'MagnoliaSneakers For Men₹474₹99952% offFree delivery', 'PUMAPuma Rebound LayUp SL Sneakers For Men₹2,599₹4,99948% offFree delivery', 'Deals4youSneakers For Men₹374₹99962% offFree deliveryLowest Price in 15 days', 'PUMAPuma Smash Wns v2 L Sneakers For Women₹1,555₹3,49955% offFree deliveryHot Deal', 'BRUTONModern Trendy Sneakers Shoes Sneakers For Men₹566₹1,29956% offFree deliveryHot Deal', 'SparxSM-747 Sneakers For Men₹764₹89915% offFree delivery', 'TrendWalkSneaker for men Black Sneakers For Men₹549₹1,99972% offFree delivery', 'U.S. POLO ASSN.PANAL Sneakers For Men₹1,499₹2,99950% offFree deliveryHot Deal', 'CreerSneakers For Men₹298₹1,29977% offSize 6, 7, 8, 9, 10', 'HOTSTYLESneakers For Men₹283₹99871% offFree deliveryHot Deal', 'BonexySneakers For Men₹424₹99957% offFree delivery', 'BRUTONModern Trendy Sneakers Shoes Sneakers For Men₹299₹1,29976% offFree deliveryHot Deal', 'KraasaCasuals, Canvas, Partywear Sneakers For Men₹479₹99952% offFree deliveryHot Deal', \"D-SNEAKERZCasual , Partywear Sneakers Shoes For Men's And Boys Wh...₹296₹65955% offFree delivery\", 'Robbie jonesCasual Sneakers Black Outdoor Shoes For Boys And Men Sn...₹509₹99949% offFree delivery', 'LayasaSneakers For Men₹479₹99952% offSize 6, 7, 8, 9, 10', 'ChevitUnique & Perfect Collection Combo Pack of 02 Shoes for ...₹489₹1,49867% offEOSS', 'URBANBOXSneakers Sneakers For Men₹198₹99980% off', 'VENDOZStylish Casual Sports Shoe Sneakers For Women₹474₹99952% offFree delivery', 'XtoonModern Trendy Sneakers boot Sneakers For Men₹424₹1,49971% offFree deliveryLowest Price in 15 days', 'RoadsterSneakers For Men₹1,149₹3,19964% offBuy 2 items, save extra 5%Size 6, 7, 8, 9, 10, 11', 'Deals4youSneakers For Women₹393₹99960% offFree deliveryLowest price since launch', 'RontexSneakers For Men₹699₹1,59956% offFree delivery', \"ChevitLatest Women's Pack of 2 Stylish Slip-On Loafers, Lace-...₹327₹1,59879% offFree delivery\", 'SparxSneakers For Men₹709₹83915% offFree delivery', 'PUMAx 1DER Rock V2 Sneakers For Men₹3,149₹4,49930% offFree delivery', 'VENDOZCNV6012WT Sneakers For Women₹474₹99952% offFree delivery', 'VENDOZStylish Casual Sports Shoe Sneakers For Women₹474₹99952% offSize 3, 4, 5, 6, 7, 8', 'ROCKFIELDSneakers For Men₹509₹1,59968% offFree delivery', 'Layasasupr Sneakers For Men₹199₹99980% offSize 6, 7, 8, 9, 10', 'ONECENTRESTR2 Sneakers For Men₹299₹60050% offFree delivery', 'PUMAPuma Smash v2 L Sneakers For Men₹1,854₹3,49947% offHot Deal', 'Deals4youSneakers For Women₹394₹99960% offBuy 2 items, save extra 5%', 'LayasaSneakers For Men₹399₹99960% offLowest Price in 15 days', 'Red RoseSneakers For Men₹499Free delivery', 'KWIK FITKwik FIT casual sneaker shoes and partywear shoes Casua...₹397₹1,99980% offFree delivery', 'aadiMesh | Ultralightweight | Comfortable | Breathable Walk...₹374₹1,99981% offFree delivery', 'LabbinSneakers For Men₹499₹99950% offFree delivery', 'Old SkoolVans Old Skool Persian Black Sneakers For Men₹1,800₹3,99954% offFree delivery', 'MagnoliaSneakers For Men₹354₹99964% offHot DealSize 6, 7, 8, 9, 10', 'Robbie jonesCasual Sneakers Black Outdoor Shoes For Boys And Men Sn...₹509₹99949% offFree delivery', 'Layasasupr Sneakers For Men₹179₹99982% offFree deliveryHot Deal', 'ROCKFIELDSneakers For Men₹424₹99957% offFree delivery', 'HOTSTYLESneakers Sneakers For Men₹283₹49943% offFree deliveryHot Deal', 'ChevitSuper Stylish & Trendy Combo Pack of 02 Pairs Sneakers ...₹544₹1,89871% offEOSSSize 6, 7, 8, 9, 10', 'PUMASmash Wns v2 L Sneakers For Women₹1,645₹3,49952% offFree deliveryBuy 2 items, save extra 5%', 'ChevitCombo Pack of 4 Casual & Sports Shoes (Loafers Shoes) S...₹845₹1,99657% offFree deliveryEOSS', \"LEVI'SLevi's Men's Lancer Sneakers Sneakers For Men₹1,439₹3,19955% offFree delivery\", 'KzaaraSneakers For Men₹259₹99974% offFree delivery', 'aadiSneakers For Men₹351₹99964% offFree deliveryHot Deal', 'Robbie jonesCasual Sneakers Outdoor White Shoes For Boys And Men Sn...₹509₹99949% offFree delivery', 'RED TAPESneakers For Men₹1,299₹5,19975% offFree deliverySale Price Live', 'MagnoliaSneakers For Men₹374₹99962% offHot DealSize 6, 7, 8, 9, 10', 'AMICOSneakers For Men₹466₹99953% offFree deliveryHot Deal', 'FAUSTOTrendy Sneakers For Men₹687₹89923% offFree deliveryDeal of the Day', 'Robbie jonesCasual Sneakers Canvas Shoes For Men Sneakers For Men₹449₹99955% offFree deliveryHot Deal', 'ROCKFIELDSneakers For Men₹299₹99970% offFree delivery', \"Shoes BankWhite Sneaker For Men's/Boy's Sneakers For Men₹297₹99970% offSize 6, 7, 8, 9, 10\", 'FAUSTOTrendy Sneakers For Men₹687₹89923% offFree deliveryDeal of the Day', 'LuvShusMen Casual Shoe New Trend With Fashion Panda Desgined L...₹410₹99958% offFree delivery', 'PUMAPuma Smash v2 Sneakers For Men₹2,085₹4,99958% offSize 6, 7, 8, 9, 10, 11', 'Deals4youSneakers For Women₹449₹1,49970% offFree deliveryLowest Price in 15 days', 'FAUSTOSneakers For Men₹993₹1,29923% offFree deliveryDeal of the Day', 'BRUTONSneaker Sneakers For Men₹299₹1,29976% offFree deliveryHot Deal', 'RED TAPESneakers For Men₹1,399₹4,99972% offSize 6, 7, 8, 9, 10, 11', \"ASTEROIDOriginal Luxury Branded Fashionable Men's Casual Walkin...₹499₹1,99975% offFree delivery\", 'FAUSTOTrendy Lace Up Sneakers For Men₹993₹1,29923% offFree deliveryDeal of the Day', 'SparxMen White Sneakers Sneakers For Men₹707₹83915% offSize 6, 7, 8, 9, 10', 'RzisboSneakers For Men₹458₹99954% offLowest Price in 15 daysSize 6, 7, 8, 9, 10', 'Robbie jonesSneakers For Men₹449₹99955% offFree deliveryHot Deal', 'BonexySneakers For Men₹509₹1,49966% offSize 6, 7, 8, 9, 10', 'LayasaSneakers For Women₹499₹99950% offSize 3, 4, 5, 6, 7', 'ChevitSneakers For Men₹239₹79970% offFree delivery', 'RoadsterSneakers For Men₹959₹3,29970% offFree deliveryHot Deal', 'OZJIFabric Ankle Boots Sneakers For Men₹720₹2,29968% offFree delivery', 'PUMAPuma Smash Vulc Sneakers For Men₹2,014₹3,79946% offFree delivery', 'Numenzo411 Casual Sneakers For Men₹396₹99960% offFree deliverySale Price Live', 'bacca bucciYODDHA High top elevated high Street Fashion Sneakers w...₹1,999₹3,99950% offFree delivery', 'BonexySneakers For Men₹509₹1,49966% offFree delivery', 'AMICOSneakers For Men₹466₹99953% offFree delivery', 'MagnoliaSneakers For Men₹474₹99952% offFree delivery', 'PUMAPuma Rebound LayUp SL Sneakers For Men₹2,599₹4,99948% offFree delivery', 'Deals4youSneakers For Men₹374₹99962% offFree deliveryLowest Price in 15 days', 'PUMAPuma Smash Wns v2 L Sneakers For Women₹1,555₹3,49955% offFree deliveryHot Deal', 'BRUTONModern Trendy Sneakers Shoes Sneakers For Men₹566₹1,29956% offFree deliveryHot Deal', 'SparxSM-747 Sneakers For Men₹764₹89915% offFree delivery', 'TrendWalkSneaker for men Black Sneakers For Men₹549₹1,99972% offFree delivery', 'U.S. POLO ASSN.PANAL Sneakers For Men₹1,499₹2,99950% offFree deliveryHot Deal', 'CreerSneakers For Men₹298₹1,29977% offSize 6, 7, 8, 9, 10', 'HOTSTYLESneakers For Men₹283₹99871% offFree deliveryHot Deal', 'ROCKFIELDSneakers For Men₹594₹1,59962% offSize 6, 7, 8, 9, 10', 'BRUTONModern Trendy Sneakers Shoes Sneakers For Men₹299₹1,29976% offFree deliveryHot Deal', 'KraasaCasuals, Canvas, Partywear Sneakers For Men₹479₹99952% offFree deliveryHot Deal', \"D-SNEAKERZCasual , Partywear Sneakers Shoes For Men's And Boys Wh...₹296₹65955% offFree delivery\", 'BonexySneakers For Men₹424₹99957% offFree delivery', 'LayasaSneakers For Men₹479₹99952% offSize 6, 7, 8, 9, 10', 'ChevitUnique & Perfect Collection Combo Pack of 02 Shoes for ...₹489₹1,49867% offEOSS', 'URBANBOXSneakers Sneakers For Men₹198₹99980% off', 'Robbie jonesCasual Sneakers Black Outdoor Shoes For Boys And Men Sn...₹509₹99949% offFree delivery', 'XtoonModern Trendy Sneakers boot Sneakers For Men₹424₹1,49971% offFree deliveryLowest Price in 15 days', 'RoadsterSneakers For Men₹1,149₹3,19964% offBuy 2 items, save extra 5%Size 6, 7, 8, 9, 10, 11', 'Deals4youSneakers For Women₹393₹99960% offFree deliveryLowest price since launch', 'VENDOZStylish Casual Sports Shoe Sneakers For Women₹474₹99952% offFree delivery', \"ChevitLatest Women's Pack of 2 Stylish Slip-On Loafers, Lace-...₹327₹1,59879% offFree delivery\", 'SparxSneakers For Men₹709₹83915% offFree delivery', 'PUMAx 1DER Rock V2 Sneakers For Men₹3,149₹4,49930% offFree delivery', 'RontexSneakers For Men₹699₹1,59956% offFree delivery']\n",
      "120\n"
     ]
    }
   ],
   "source": [
    "prod_desc=[]\n",
    "start=0\n",
    "end=3\n",
    "for page in range(start,end):\n",
    "    prod_tags=driver.find_elements(By.XPATH,'//div[@class=\"_2B099V\"]')\n",
    "    for i in prod_tags[0:100]:\n",
    "        prod_desc.append(i.text.replace('\\n',''))\n",
    "    next_button=driver.find_element(By.XPATH,'//a[@class=\"_1LKTO3\"]')\n",
    "    next_button.click()\n",
    "    time.sleep(1)\n",
    "#df1=pd.DataFrame({'Product Description':prod_desc})\n",
    "#df1.head(100)\n",
    "print(prod_desc)\n",
    "print(len(prod_desc))"
   ]
  },
  {
   "cell_type": "code",
   "execution_count": 195,
   "id": "be3a44eb",
   "metadata": {},
   "outputs": [
    {
     "name": "stdout",
     "output_type": "stream",
     "text": [
      "['₹707', '₹458', '₹449', '₹509', '₹499', '₹239', '₹959', '₹720', '₹2,014', '₹396', '₹1,999', '₹509', '₹466', '₹474', '₹2,599', '₹374', '₹1,555', '₹566', '₹764', '₹549', '₹1,499', '₹298', '₹283', '₹594', '₹299', '₹479', '₹296', '₹424', '₹479', '₹489', '₹198', '₹509', '₹424', '₹1,149', '₹393', '₹474', '₹327', '₹709', '₹3,149', '₹699', '₹474', '₹474', '₹199', '₹299', '₹1,854', '₹394', '₹399', '₹509', '₹397', '₹374', '₹499', '₹499', '₹354', '₹509', '₹179', '₹1,800', '₹283', '₹544', '₹1,645', '₹424', '₹1,439', '₹259', '₹351', '₹845', '₹1,299', '₹374', '₹466', '₹509', '₹449', '₹299', '₹297', '₹687', '₹410', '₹2,085', '₹449', '₹687', '₹299', '₹1,399', '₹499', '₹993', '₹707', '₹458', '₹449', '₹509', '₹499', '₹239', '₹959', '₹720', '₹2,014', '₹396', '₹1,999', '₹509', '₹466', '₹474', '₹2,599', '₹374', '₹1,555', '₹566', '₹764', '₹549', '₹1,499', '₹298', '₹283', '₹424', '₹299', '₹479', '₹296', '₹509', '₹479', '₹489', '₹198', '₹474', '₹424', '₹1,149', '₹393', '₹699', '₹327', '₹709', '₹3,149', '₹474']\n",
      "120\n"
     ]
    }
   ],
   "source": [
    "price=[]\n",
    "for page in range(start,end):\n",
    "    price_tags=driver.find_elements(By.XPATH,'//div[@class=\"_30jeq3\"]')\n",
    "    for i in price_tags[0:100]:\n",
    "        price.append(i.text)\n",
    "    next_button=driver.find_element(By.XPATH,'//a[@class=\"_1LKTO3\"]')\n",
    "    next_button.click()\n",
    "    time.sleep(3)\n",
    "    \n",
    "print(price)\n",
    "print(len(price))"
   ]
  },
  {
   "cell_type": "code",
   "execution_count": 196,
   "id": "8ccedc73",
   "metadata": {},
   "outputs": [
    {
     "data": {
      "text/html": [
       "<div>\n",
       "<style scoped>\n",
       "    .dataframe tbody tr th:only-of-type {\n",
       "        vertical-align: middle;\n",
       "    }\n",
       "\n",
       "    .dataframe tbody tr th {\n",
       "        vertical-align: top;\n",
       "    }\n",
       "\n",
       "    .dataframe thead th {\n",
       "        text-align: right;\n",
       "    }\n",
       "</style>\n",
       "<table border=\"1\" class=\"dataframe\">\n",
       "  <thead>\n",
       "    <tr style=\"text-align: right;\">\n",
       "      <th></th>\n",
       "      <th>Brand</th>\n",
       "      <th>Product Description</th>\n",
       "      <th>Price with discount</th>\n",
       "    </tr>\n",
       "  </thead>\n",
       "  <tbody>\n",
       "    <tr>\n",
       "      <th>0</th>\n",
       "      <td>Bonexy</td>\n",
       "      <td>SparxMen White Sneakers Sneakers For Men₹707₹8...</td>\n",
       "      <td>₹707</td>\n",
       "    </tr>\n",
       "    <tr>\n",
       "      <th>1</th>\n",
       "      <td>ROCKFIELD</td>\n",
       "      <td>RzisboSneakers For Men₹458₹99954% offLowest Pr...</td>\n",
       "      <td>₹458</td>\n",
       "    </tr>\n",
       "    <tr>\n",
       "      <th>2</th>\n",
       "      <td>Layasa</td>\n",
       "      <td>Robbie jonesSneakers For Men₹449₹99955% offFre...</td>\n",
       "      <td>₹449</td>\n",
       "    </tr>\n",
       "    <tr>\n",
       "      <th>3</th>\n",
       "      <td>ONECENTRE</td>\n",
       "      <td>BonexySneakers For Men₹509₹1,49966% offSize 6,...</td>\n",
       "      <td>₹509</td>\n",
       "    </tr>\n",
       "    <tr>\n",
       "      <th>4</th>\n",
       "      <td>Layasa</td>\n",
       "      <td>LayasaSneakers For Women₹499₹99950% offSize 3,...</td>\n",
       "      <td>₹499</td>\n",
       "    </tr>\n",
       "    <tr>\n",
       "      <th>...</th>\n",
       "      <td>...</td>\n",
       "      <td>...</td>\n",
       "      <td>...</td>\n",
       "    </tr>\n",
       "    <tr>\n",
       "      <th>95</th>\n",
       "      <td>RapidBox</td>\n",
       "      <td>Deals4youSneakers For Men₹374₹99962% offFree d...</td>\n",
       "      <td>₹374</td>\n",
       "    </tr>\n",
       "    <tr>\n",
       "      <th>96</th>\n",
       "      <td>HOTSTYLE</td>\n",
       "      <td>PUMAPuma Smash Wns v2 L Sneakers For Women₹1,5...</td>\n",
       "      <td>₹1,555</td>\n",
       "    </tr>\n",
       "    <tr>\n",
       "      <th>97</th>\n",
       "      <td>Chevit</td>\n",
       "      <td>BRUTONModern Trendy Sneakers Shoes Sneakers Fo...</td>\n",
       "      <td>₹566</td>\n",
       "    </tr>\n",
       "    <tr>\n",
       "      <th>98</th>\n",
       "      <td>PUMA</td>\n",
       "      <td>SparxSM-747 Sneakers For Men₹764₹89915% offFre...</td>\n",
       "      <td>₹764</td>\n",
       "    </tr>\n",
       "    <tr>\n",
       "      <th>99</th>\n",
       "      <td>Bonexy</td>\n",
       "      <td>TrendWalkSneaker for men Black Sneakers For Me...</td>\n",
       "      <td>₹549</td>\n",
       "    </tr>\n",
       "  </tbody>\n",
       "</table>\n",
       "<p>100 rows × 3 columns</p>\n",
       "</div>"
      ],
      "text/plain": [
       "        Brand                                Product Description  \\\n",
       "0      Bonexy  SparxMen White Sneakers Sneakers For Men₹707₹8...   \n",
       "1   ROCKFIELD  RzisboSneakers For Men₹458₹99954% offLowest Pr...   \n",
       "2      Layasa  Robbie jonesSneakers For Men₹449₹99955% offFre...   \n",
       "3   ONECENTRE  BonexySneakers For Men₹509₹1,49966% offSize 6,...   \n",
       "4      Layasa  LayasaSneakers For Women₹499₹99950% offSize 3,...   \n",
       "..        ...                                                ...   \n",
       "95   RapidBox  Deals4youSneakers For Men₹374₹99962% offFree d...   \n",
       "96   HOTSTYLE  PUMAPuma Smash Wns v2 L Sneakers For Women₹1,5...   \n",
       "97     Chevit  BRUTONModern Trendy Sneakers Shoes Sneakers Fo...   \n",
       "98       PUMA  SparxSM-747 Sneakers For Men₹764₹89915% offFre...   \n",
       "99     Bonexy  TrendWalkSneaker for men Black Sneakers For Me...   \n",
       "\n",
       "   Price with discount  \n",
       "0                 ₹707  \n",
       "1                 ₹458  \n",
       "2                 ₹449  \n",
       "3                 ₹509  \n",
       "4                 ₹499  \n",
       "..                 ...  \n",
       "95                ₹374  \n",
       "96              ₹1,555  \n",
       "97                ₹566  \n",
       "98                ₹764  \n",
       "99                ₹549  \n",
       "\n",
       "[100 rows x 3 columns]"
      ]
     },
     "execution_count": 196,
     "metadata": {},
     "output_type": "execute_result"
    }
   ],
   "source": [
    "df=pd.DataFrame({'Brand':brand, 'Product Description':prod_desc, 'Price with discount':price})\n",
    "df.head(100)"
   ]
  },
  {
   "cell_type": "markdown",
   "id": "3a1de11c",
   "metadata": {},
   "source": [
    "# Q8: Go to webpage https://www.amazon.in/"
   ]
  },
  {
   "cell_type": "code",
   "execution_count": 59,
   "id": "b13c911e",
   "metadata": {},
   "outputs": [],
   "source": [
    "driver.get('https://www.amazon.in/')"
   ]
  },
  {
   "cell_type": "code",
   "execution_count": 60,
   "id": "cb340533",
   "metadata": {},
   "outputs": [],
   "source": [
    "prod_name=driver.find_element(By.XPATH,'//input[@type=\"text\"]')\n",
    "prod_name.send_keys('Laptop')"
   ]
  },
  {
   "cell_type": "code",
   "execution_count": 61,
   "id": "086d8bbb",
   "metadata": {},
   "outputs": [],
   "source": [
    "search=driver.find_element(By.XPATH,'/html/body/div[1]/header/div/div[1]/div[2]/div/form/div[3]/div/span/input')\n",
    "search.click()"
   ]
  },
  {
   "cell_type": "code",
   "execution_count": 62,
   "id": "8ed10c94",
   "metadata": {},
   "outputs": [],
   "source": [
    "cpu_filter=driver.find_element(By.XPATH,'/html/body/div[1]/div[2]/div[1]/div[2]/div/div[3]/span/div[1]/div/div/div[5]/ul[4]/li[12]/span/a/span')\n",
    "cpu_filter.click()"
   ]
  },
  {
   "cell_type": "code",
   "execution_count": 63,
   "id": "dd21a2eb",
   "metadata": {},
   "outputs": [
    {
     "name": "stdout",
     "output_type": "stream",
     "text": [
      "['Acer Predator Helios 500 Gaming Laptop (11Th Gen Intel Core I9/17.3 Inches 4K Uhd Display/64Gb Ddr4 Ram/2Tb Ssd/1Tb HDD/RTX 3080 Graphics/Windows 10 Home/Per Key RGB Backlit Keyboard) Ph517-52', 'Acer Predator Helios 300 11Th Gen Intel Core I9-11900H 15.6 Inches (39.62Cms) Fhd Ips Gaming Laptop (16 Gb/1Tb Ssd/Windows 11 Home/6 Gb Graphics/Nvidia Geforce Rtx 3060/360 Hz, Black, 2.3 Kg) Ph315-54', 'ASUS ROG Flow Z13 (2022), 13.4\" (34.03 cms) UHD+ 16:10 Touch, Core i9-12900H 12th Gen, RTX 3050 Ti 4GB Graphics, 2-in-1 Gaming Laptop (16GB/1TB SSD/Win 11/Office 2021/Black/1.18 kg), GZ301ZE-LC192WS', 'Asus Rog Strix Scar 15 (2022) 15.6 Inches 2K Wqhd 240Hz/3Ms Intel Core I9-12900H 12Th Gen Rtx 3070 Ti 8Gb Graphics, Gaming Laptop (32Gb/1Tb Ssd/Windows 11 Home/Office 2021/Black/2.3 Kg) G533Zw-Ln136Ws', 'ASUS ROG Flow Z13 (2022), 13.4\" (34.03 cms) UHD+ 16:10 Touch, Core i9-12900H 12th Gen, RTX 3050 Ti 4GB Graphics, 2-in-1 Gaming Laptop (16GB/1TB SSD/Win 11/Office 2021/Black/1.18 kg), GZ301ZE-LC193WS', 'ASUS ROG Strix Scar III G531GW 15.6\" FHD 240Hz Gaming Laptop RTX 2070 8GB Graphics (Core i9-9880H 9th Gen/32GB RAM/1TB PCIe SSD/Windows 10/Scar Gunmetal/2.57 Kg), G531GW-AZ113T', 'Hp Envy 15- 11Th Gen Intel Core I9/32Gb/1Tb Ssd/15.6 Inches 400 Nits,4K Amoled Touch, Tuv + Windows 11 Pro 64/Nvidia Geforce RTX 3060 6Gb Graphics/Alexa/Fpr /B&O/2.14Kg,15-Ep1087Tx, Natural Silver', 'Asus Rog Strix Scar 15 (2022) 15.6 Inches 2K Wqhd 240Hz/3Ms Intel Core I9-12900H 12Th Gen RTX 3070 Ti 8Gb Graphics Gaming Laptop (32Gb/2Tb Ssd/Windows 11 Home/Office 2021/Black/2.3 Kg) G533Zw-Ln106Ws', 'ASUS ROG Strix Scar 17 (2022), 17.3-inch (43.94 cms) 2K WQHD 240Hz/3ms, Core i9-12900H 12th Gen, RTX 3070 Ti 8GB Graphics, Gaming Laptop (32GB/2TB SSD/Win 11/Office 2021/Black/2.9 Kg), G733ZW-LL105WS', 'ASUS ROG Flow Z13 (2022), 13.4\" (34.03 cms) FHD+ 16:10, 120Hz Touch, Core i9 12th Gen, RTX 3050 Ti 4GB Graphics, 2-in-1 Gaming Laptop (16GB/1TB SSD/Win 11/Office 2021/Black/1.18 kg), GZ301ZE-LD064WS']\n",
      "10\n"
     ]
    }
   ],
   "source": [
    "title=[]\n",
    "title_tags=driver.find_elements(By.XPATH,'//h2[@class=\"a-size-mini a-spacing-none a-color-base s-line-clamp-2\"]')\n",
    "for i in title_tags[0:10]:\n",
    "    title.append(i.text)\n",
    "print(title)\n",
    "print(len(title))"
   ]
  },
  {
   "cell_type": "code",
   "execution_count": 64,
   "id": "3cd16f2f",
   "metadata": {},
   "outputs": [
    {
     "name": "stdout",
     "output_type": "stream",
     "text": [
      "['13 results for \"Laptop\"', 'Acer Predator Helios 500 Gaming Laptop (11Th Gen Intel Core I9/17.3 Inches 4K Uhd Display/64Gb Ddr4 Ram/2Tb Ssd/1Tb HDD/RTX 3080 Graphics/Windows 10 Home/Per Key RGB Backlit Keyboard) Ph517-52\\n3\\n-16%\\n₹3,79,990\\n₹4,49,999\\nGet it by Saturday, August 20\\nFREE Delivery by Amazon\\nOnly 2 left in stock.', 'Acer Predator Helios 300 11Th Gen Intel Core I9-11900H 15.6 Inches (39.62Cms) Fhd Ips Gaming Laptop (16 Gb/1Tb Ssd/Windows 11 Home/6 Gb Graphics/Nvidia Geforce Rtx 3060/360 Hz, Black, 2.3 Kg) Ph315-54\\n18\\n-18%\\n₹1,39,990\\n₹1,69,999\\nSave extra with No Cost EMI\\nGet it by Saturday, August 20\\nFREE Delivery by Amazon\\nMore Buying Choices\\n₹1,39,800(3 new offers)', 'ASUS ROG Flow Z13 (2022), 13.4\" (34.03 cms) UHD+ 16:10 Touch, Core i9-12900H 12th Gen, RTX 3050 Ti 4GB Graphics, 2-in-1 Gaming Laptop (16GB/1TB SSD/Win 11/Office 2021/Black/1.18 kg), GZ301ZE-LC192WS\\n-20%\\n₹1,91,990\\n₹2,40,990\\nNo Cost EMI available on select cards.\\nGet it by Saturday, August 20\\nFREE Delivery by Amazon\\nOnly 1 left in stock.', 'Asus Rog Strix Scar 15 (2022) 15.6 Inches 2K Wqhd 240Hz/3Ms Intel Core I9-12900H 12Th Gen Rtx 3070 Ti 8Gb Graphics, Gaming Laptop (32Gb/1Tb Ssd/Windows 11 Home/Office 2021/Black/2.3 Kg) G533Zw-Ln136Ws\\n4\\n-13%\\n₹2,38,960\\n₹2,75,990\\nGet it by Sunday, August 21\\nFREE Delivery by Amazon\\nOnly 1 left in stock.\\nMore Buying Choices\\n₹2,38,840(2 new offers)', 'ASUS ROG Flow Z13 (2022), 13.4\" (34.03 cms) UHD+ 16:10 Touch, Core i9-12900H 12th Gen, RTX 3050 Ti 4GB Graphics, 2-in-1 Gaming Laptop (16GB/1TB SSD/Win 11/Office 2021/Black/1.18 kg), GZ301ZE-LC193WS\\n2\\n-17%\\n₹3,21,990\\n₹3,89,990\\nSave ₹500 with coupon\\nGet it by Friday, August 19\\nFREE Delivery by Amazon', 'ASUS ROG Strix Scar III G531GW 15.6\" FHD 240Hz Gaming Laptop RTX 2070 8GB Graphics (Core i9-9880H 9th Gen/32GB RAM/1TB PCIe SSD/Windows 10/Scar Gunmetal/2.57 Kg), G531GW-AZ113T\\n2\\n-38%\\n₹1,99,990\\n₹3,24,990\\nSave ₹1,500 with coupon\\nGet it by Sunday, August 21\\nFREE Delivery by Amazon\\nOnly 1 left in stock.', 'Hp Envy 15- 11Th Gen Intel Core I9/32Gb/1Tb Ssd/15.6 Inches 400 Nits,4K Amoled Touch, Tuv + Windows 11 Pro 64/Nvidia Geforce RTX 3060 6Gb Graphics/Alexa/Fpr /B&O/2.14Kg,15-Ep1087Tx, Natural Silver\\n3\\n-19%\\n₹1,99,990\\n₹2,45,429\\nGet it by Friday, August 19\\nFREE Delivery by Amazon\\nAlexa Built-in', 'Asus Rog Strix Scar 15 (2022) 15.6 Inches 2K Wqhd 240Hz/3Ms Intel Core I9-12900H 12Th Gen RTX 3070 Ti 8Gb Graphics Gaming Laptop (32Gb/2Tb Ssd/Windows 11 Home/Office 2021/Black/2.3 Kg) G533Zw-Ln106Ws\\n1\\n-14%\\n₹2,73,300\\n₹3,17,990\\nGet it by Sunday, August 21\\nFREE Delivery by Amazon\\nOnly 1 left in stock.', 'ASUS ROG Strix Scar 17 (2022), 17.3-inch (43.94 cms) 2K WQHD 240Hz/3ms, Core i9-12900H 12th Gen, RTX 3070 Ti 8GB Graphics, Gaming Laptop (32GB/2TB SSD/Win 11/Office 2021/Black/2.9 Kg), G733ZW-LL105WS\\n4\\n-25%\\n₹2,61,990\\n₹3,50,990\\nGet it by Saturday, August 20\\nFREE Delivery by Amazon\\nOnly 1 left in stock.']\n",
      "10\n"
     ]
    }
   ],
   "source": [
    "rating=[]\n",
    "rating_tags=driver.find_elements(By.XPATH,'//div[@class=\"a-section a-spacing-small a-spacing-top-small\"]')\n",
    "for i in rating_tags[0:10]:\n",
    "    rating.append(i.text)\n",
    "print(rating)\n",
    "print(len(rating))"
   ]
  },
  {
   "cell_type": "code",
   "execution_count": 65,
   "id": "55d43271",
   "metadata": {},
   "outputs": [
    {
     "name": "stdout",
     "output_type": "stream",
     "text": [
      "['3,79,990', '1,39,990', '1,91,990', '2,38,960', '3,21,990', '1,99,990', '1,99,990', '2,73,300', '2,61,990', '1,81,990']\n",
      "10\n"
     ]
    }
   ],
   "source": [
    "price=[]\n",
    "price_tags=driver.find_elements(By.XPATH,'//span[@class=\"a-price-whole\"]')\n",
    "for i in price_tags[0:10]:\n",
    "    price.append(i.text)\n",
    "print(price)\n",
    "print(len(price))"
   ]
  },
  {
   "cell_type": "code",
   "execution_count": 66,
   "id": "ce63d992",
   "metadata": {},
   "outputs": [
    {
     "data": {
      "text/plain": [
       "[<selenium.webdriver.remote.webelement.WebElement (session=\"ae70a988c8f1b8cf2d282e37ab1c11e9\", element=\"5f5d854a-28f6-454b-9248-ea75adbc24e2\")>,\n",
       " <selenium.webdriver.remote.webelement.WebElement (session=\"ae70a988c8f1b8cf2d282e37ab1c11e9\", element=\"0f352f84-0043-4741-ac69-244eeee52718\")>,\n",
       " <selenium.webdriver.remote.webelement.WebElement (session=\"ae70a988c8f1b8cf2d282e37ab1c11e9\", element=\"70134880-7adf-4064-aca2-087b5fa2aba1\")>,\n",
       " <selenium.webdriver.remote.webelement.WebElement (session=\"ae70a988c8f1b8cf2d282e37ab1c11e9\", element=\"eb1f8322-e4be-4f8a-9945-965a71376175\")>,\n",
       " <selenium.webdriver.remote.webelement.WebElement (session=\"ae70a988c8f1b8cf2d282e37ab1c11e9\", element=\"08e6e57d-5fc6-440e-9967-6b3fa57dbbc8\")>,\n",
       " <selenium.webdriver.remote.webelement.WebElement (session=\"ae70a988c8f1b8cf2d282e37ab1c11e9\", element=\"75617f8d-ad8c-4025-995a-ab93b5eb43bf\")>,\n",
       " <selenium.webdriver.remote.webelement.WebElement (session=\"ae70a988c8f1b8cf2d282e37ab1c11e9\", element=\"a1db530d-c2ad-4d7d-b2f9-f7a3ce4c16cc\")>,\n",
       " <selenium.webdriver.remote.webelement.WebElement (session=\"ae70a988c8f1b8cf2d282e37ab1c11e9\", element=\"bc4feeb2-4e05-4def-a7c3-17cf8def829d\")>,\n",
       " <selenium.webdriver.remote.webelement.WebElement (session=\"ae70a988c8f1b8cf2d282e37ab1c11e9\", element=\"a7d4976c-8d49-4407-a01c-486d889ef6ad\")>,\n",
       " <selenium.webdriver.remote.webelement.WebElement (session=\"ae70a988c8f1b8cf2d282e37ab1c11e9\", element=\"8f17379e-9cdb-49a7-8968-27029598f2f1\")>]"
      ]
     },
     "execution_count": 66,
     "metadata": {},
     "output_type": "execute_result"
    }
   ],
   "source": [
    "url=driver.find_elements(By.XPATH,'//a[@class=\"a-link-normal s-underline-text s-underline-link-text s-link-style a-text-normal\"]')\n",
    "url[0:10]"
   ]
  },
  {
   "cell_type": "code",
   "execution_count": 67,
   "id": "0bef9ba0",
   "metadata": {},
   "outputs": [
    {
     "name": "stdout",
     "output_type": "stream",
     "text": [
      "https://www.amazon.in/Acer-Predator-Graphics-Keyboard-Ph517-52/dp/B09W99QWTD/ref=sr_1_1?crid=3RPL4AAZ44T9V&keywords=Laptop&qid=1660660805&refinements=p_n_feature_thirteen_browse-bin%3A16757432031&rnid=12598141031&s=computers&sprefix=laptop%2Caps%2C704&sr=1-1\n",
      "https://www.amazon.in/Acer-Predator-I9-11900H-39-62Cms-Graphics/dp/B09TDLM9BT/ref=sr_1_2?crid=3RPL4AAZ44T9V&keywords=Laptop&qid=1660660805&refinements=p_n_feature_thirteen_browse-bin%3A16757432031&rnid=12598141031&s=computers&sprefix=laptop%2Caps%2C704&sr=1-2\n",
      "https://www.amazon.in/ASUS-Flow-13-4-34-03-GZ301ZE-LC192WS/dp/B0B3DNP17D/ref=sr_1_3?crid=3RPL4AAZ44T9V&keywords=Laptop&qid=1660660805&refinements=p_n_feature_thirteen_browse-bin%3A16757432031&rnid=12598141031&s=computers&sprefix=laptop%2Caps%2C704&sr=1-3\n",
      "https://www.amazon.in/Inches-I9-12900H-Graphics-Windows-G533Zw-Ln136Ws/dp/B09X5ND3MF/ref=sr_1_4?crid=3RPL4AAZ44T9V&keywords=Laptop&qid=1660660805&refinements=p_n_feature_thirteen_browse-bin%3A16757432031&rnid=12598141031&s=computers&sprefix=laptop%2Caps%2C704&sr=1-4\n",
      "https://www.amazon.in/ASUS-Flow-13-4-34-03-GZ301ZE-LC193WS/dp/B0B3DTYPMN/ref=sr_1_5?crid=3RPL4AAZ44T9V&keywords=Laptop&qid=1660660805&refinements=p_n_feature_thirteen_browse-bin%3A16757432031&rnid=12598141031&s=computers&sprefix=laptop%2Caps%2C704&sr=1-5\n",
      "https://www.amazon.in/Graphics-i9-9880H-Windows-Gunmetal-G531GW-AZ113T/dp/B07RRQ926L/ref=sr_1_6?crid=3RPL4AAZ44T9V&keywords=Laptop&qid=1660660805&refinements=p_n_feature_thirteen_browse-bin%3A16757432031&rnid=12598141031&s=computers&sprefix=laptop%2Caps%2C704&sr=1-6\n",
      "https://www.amazon.in/Windows-Geforce-Graphics-15-Ep1087Tx-Natural/dp/B09VGTJJ2C/ref=sr_1_7?crid=3RPL4AAZ44T9V&keywords=Laptop&qid=1660660805&refinements=p_n_feature_thirteen_browse-bin%3A16757432031&rnid=12598141031&s=computers&sprefix=laptop%2Caps%2C704&sr=1-7\n",
      "https://www.amazon.in/I9-12900H-Graphics-Windows-Office-2021-G533Zw-Ln106Ws/dp/B09TPHM8WK/ref=sr_1_8?crid=3RPL4AAZ44T9V&keywords=Laptop&qid=1660660805&refinements=p_n_feature_thirteen_browse-bin%3A16757432031&rnid=12598141031&s=computers&sprefix=laptop%2Caps%2C704&sr=1-8\n",
      "https://www.amazon.in/ASUS-17-3-inch-i9-12900H-Office-2021-G733ZW-LL105WS/dp/B09TPHF98V/ref=sr_1_9?crid=3RPL4AAZ44T9V&keywords=Laptop&qid=1660660805&refinements=p_n_feature_thirteen_browse-bin%3A16757432031&rnid=12598141031&s=computers&sprefix=laptop%2Caps%2C704&sr=1-9\n",
      "https://www.amazon.in/ASUS-Flow-13-4-34-03-GZ301ZE-LD064WS/dp/B0B3DQHFBJ/ref=sr_1_10?crid=3RPL4AAZ44T9V&keywords=Laptop&qid=1660660805&refinements=p_n_feature_thirteen_browse-bin%3A16757432031&rnid=12598141031&s=computers&sprefix=laptop%2Caps%2C704&sr=1-10\n"
     ]
    }
   ],
   "source": [
    "for i in url[0:10]:\n",
    "    data=i.get_attribute('href')\n",
    "    print(data)\n",
    "    "
   ]
  },
  {
   "cell_type": "code",
   "execution_count": 68,
   "id": "cc0dbde6",
   "metadata": {},
   "outputs": [
    {
     "name": "stdout",
     "output_type": "stream",
     "text": [
      "['https://www.amazon.in/Acer-Predator-Graphics-Keyboard-Ph517-52/dp/B09W99QWTD/ref=sr_1_1?crid=3RPL4AAZ44T9V&keywords=Laptop&qid=1660660805&refinements=p_n_feature_thirteen_browse-bin%3A16757432031&rnid=12598141031&s=computers&sprefix=laptop%2Caps%2C704&sr=1-1', 'https://www.amazon.in/Acer-Predator-I9-11900H-39-62Cms-Graphics/dp/B09TDLM9BT/ref=sr_1_2?crid=3RPL4AAZ44T9V&keywords=Laptop&qid=1660660805&refinements=p_n_feature_thirteen_browse-bin%3A16757432031&rnid=12598141031&s=computers&sprefix=laptop%2Caps%2C704&sr=1-2', 'https://www.amazon.in/ASUS-Flow-13-4-34-03-GZ301ZE-LC192WS/dp/B0B3DNP17D/ref=sr_1_3?crid=3RPL4AAZ44T9V&keywords=Laptop&qid=1660660805&refinements=p_n_feature_thirteen_browse-bin%3A16757432031&rnid=12598141031&s=computers&sprefix=laptop%2Caps%2C704&sr=1-3', 'https://www.amazon.in/Inches-I9-12900H-Graphics-Windows-G533Zw-Ln136Ws/dp/B09X5ND3MF/ref=sr_1_4?crid=3RPL4AAZ44T9V&keywords=Laptop&qid=1660660805&refinements=p_n_feature_thirteen_browse-bin%3A16757432031&rnid=12598141031&s=computers&sprefix=laptop%2Caps%2C704&sr=1-4', 'https://www.amazon.in/ASUS-Flow-13-4-34-03-GZ301ZE-LC193WS/dp/B0B3DTYPMN/ref=sr_1_5?crid=3RPL4AAZ44T9V&keywords=Laptop&qid=1660660805&refinements=p_n_feature_thirteen_browse-bin%3A16757432031&rnid=12598141031&s=computers&sprefix=laptop%2Caps%2C704&sr=1-5', 'https://www.amazon.in/Graphics-i9-9880H-Windows-Gunmetal-G531GW-AZ113T/dp/B07RRQ926L/ref=sr_1_6?crid=3RPL4AAZ44T9V&keywords=Laptop&qid=1660660805&refinements=p_n_feature_thirteen_browse-bin%3A16757432031&rnid=12598141031&s=computers&sprefix=laptop%2Caps%2C704&sr=1-6', 'https://www.amazon.in/Windows-Geforce-Graphics-15-Ep1087Tx-Natural/dp/B09VGTJJ2C/ref=sr_1_7?crid=3RPL4AAZ44T9V&keywords=Laptop&qid=1660660805&refinements=p_n_feature_thirteen_browse-bin%3A16757432031&rnid=12598141031&s=computers&sprefix=laptop%2Caps%2C704&sr=1-7', 'https://www.amazon.in/I9-12900H-Graphics-Windows-Office-2021-G533Zw-Ln106Ws/dp/B09TPHM8WK/ref=sr_1_8?crid=3RPL4AAZ44T9V&keywords=Laptop&qid=1660660805&refinements=p_n_feature_thirteen_browse-bin%3A16757432031&rnid=12598141031&s=computers&sprefix=laptop%2Caps%2C704&sr=1-8', 'https://www.amazon.in/ASUS-17-3-inch-i9-12900H-Office-2021-G733ZW-LL105WS/dp/B09TPHF98V/ref=sr_1_9?crid=3RPL4AAZ44T9V&keywords=Laptop&qid=1660660805&refinements=p_n_feature_thirteen_browse-bin%3A16757432031&rnid=12598141031&s=computers&sprefix=laptop%2Caps%2C704&sr=1-9', 'https://www.amazon.in/ASUS-Flow-13-4-34-03-GZ301ZE-LD064WS/dp/B0B3DQHFBJ/ref=sr_1_10?crid=3RPL4AAZ44T9V&keywords=Laptop&qid=1660660805&refinements=p_n_feature_thirteen_browse-bin%3A16757432031&rnid=12598141031&s=computers&sprefix=laptop%2Caps%2C704&sr=1-10']\n",
      "10\n"
     ]
    }
   ],
   "source": [
    "data=[]\n",
    "for j in url[0:10]:\n",
    "    data.append(j.get_attribute('href'))\n",
    "    \n",
    "print(data)\n",
    "print(len(data))"
   ]
  },
  {
   "cell_type": "code",
   "execution_count": 69,
   "id": "b53ca74b",
   "metadata": {},
   "outputs": [
    {
     "data": {
      "text/html": [
       "<div>\n",
       "<style scoped>\n",
       "    .dataframe tbody tr th:only-of-type {\n",
       "        vertical-align: middle;\n",
       "    }\n",
       "\n",
       "    .dataframe tbody tr th {\n",
       "        vertical-align: top;\n",
       "    }\n",
       "\n",
       "    .dataframe thead th {\n",
       "        text-align: right;\n",
       "    }\n",
       "</style>\n",
       "<table border=\"1\" class=\"dataframe\">\n",
       "  <thead>\n",
       "    <tr style=\"text-align: right;\">\n",
       "      <th></th>\n",
       "      <th>Title</th>\n",
       "      <th>Price</th>\n",
       "      <th>Ratings</th>\n",
       "    </tr>\n",
       "  </thead>\n",
       "  <tbody>\n",
       "    <tr>\n",
       "      <th>0</th>\n",
       "      <td>Acer Predator Helios 500 Gaming Laptop (11Th G...</td>\n",
       "      <td>3,79,990</td>\n",
       "      <td>13 results for \"Laptop\"</td>\n",
       "    </tr>\n",
       "    <tr>\n",
       "      <th>1</th>\n",
       "      <td>Acer Predator Helios 300 11Th Gen Intel Core I...</td>\n",
       "      <td>1,39,990</td>\n",
       "      <td>Acer Predator Helios 500 Gaming Laptop (11Th G...</td>\n",
       "    </tr>\n",
       "    <tr>\n",
       "      <th>2</th>\n",
       "      <td>ASUS ROG Flow Z13 (2022), 13.4\" (34.03 cms) UH...</td>\n",
       "      <td>1,91,990</td>\n",
       "      <td>Acer Predator Helios 300 11Th Gen Intel Core I...</td>\n",
       "    </tr>\n",
       "    <tr>\n",
       "      <th>3</th>\n",
       "      <td>Asus Rog Strix Scar 15 (2022) 15.6 Inches 2K W...</td>\n",
       "      <td>2,38,960</td>\n",
       "      <td>ASUS ROG Flow Z13 (2022), 13.4\" (34.03 cms) UH...</td>\n",
       "    </tr>\n",
       "    <tr>\n",
       "      <th>4</th>\n",
       "      <td>ASUS ROG Flow Z13 (2022), 13.4\" (34.03 cms) UH...</td>\n",
       "      <td>3,21,990</td>\n",
       "      <td>Asus Rog Strix Scar 15 (2022) 15.6 Inches 2K W...</td>\n",
       "    </tr>\n",
       "    <tr>\n",
       "      <th>5</th>\n",
       "      <td>ASUS ROG Strix Scar III G531GW 15.6\" FHD 240Hz...</td>\n",
       "      <td>1,99,990</td>\n",
       "      <td>ASUS ROG Flow Z13 (2022), 13.4\" (34.03 cms) UH...</td>\n",
       "    </tr>\n",
       "    <tr>\n",
       "      <th>6</th>\n",
       "      <td>Hp Envy 15- 11Th Gen Intel Core I9/32Gb/1Tb Ss...</td>\n",
       "      <td>1,99,990</td>\n",
       "      <td>ASUS ROG Strix Scar III G531GW 15.6\" FHD 240Hz...</td>\n",
       "    </tr>\n",
       "    <tr>\n",
       "      <th>7</th>\n",
       "      <td>Asus Rog Strix Scar 15 (2022) 15.6 Inches 2K W...</td>\n",
       "      <td>2,73,300</td>\n",
       "      <td>Hp Envy 15- 11Th Gen Intel Core I9/32Gb/1Tb Ss...</td>\n",
       "    </tr>\n",
       "    <tr>\n",
       "      <th>8</th>\n",
       "      <td>ASUS ROG Strix Scar 17 (2022), 17.3-inch (43.9...</td>\n",
       "      <td>2,61,990</td>\n",
       "      <td>Asus Rog Strix Scar 15 (2022) 15.6 Inches 2K W...</td>\n",
       "    </tr>\n",
       "    <tr>\n",
       "      <th>9</th>\n",
       "      <td>ASUS ROG Flow Z13 (2022), 13.4\" (34.03 cms) FH...</td>\n",
       "      <td>1,81,990</td>\n",
       "      <td>ASUS ROG Strix Scar 17 (2022), 17.3-inch (43.9...</td>\n",
       "    </tr>\n",
       "  </tbody>\n",
       "</table>\n",
       "</div>"
      ],
      "text/plain": [
       "                                               Title     Price  \\\n",
       "0  Acer Predator Helios 500 Gaming Laptop (11Th G...  3,79,990   \n",
       "1  Acer Predator Helios 300 11Th Gen Intel Core I...  1,39,990   \n",
       "2  ASUS ROG Flow Z13 (2022), 13.4\" (34.03 cms) UH...  1,91,990   \n",
       "3  Asus Rog Strix Scar 15 (2022) 15.6 Inches 2K W...  2,38,960   \n",
       "4  ASUS ROG Flow Z13 (2022), 13.4\" (34.03 cms) UH...  3,21,990   \n",
       "5  ASUS ROG Strix Scar III G531GW 15.6\" FHD 240Hz...  1,99,990   \n",
       "6  Hp Envy 15- 11Th Gen Intel Core I9/32Gb/1Tb Ss...  1,99,990   \n",
       "7  Asus Rog Strix Scar 15 (2022) 15.6 Inches 2K W...  2,73,300   \n",
       "8  ASUS ROG Strix Scar 17 (2022), 17.3-inch (43.9...  2,61,990   \n",
       "9  ASUS ROG Flow Z13 (2022), 13.4\" (34.03 cms) FH...  1,81,990   \n",
       "\n",
       "                                             Ratings  \n",
       "0                            13 results for \"Laptop\"  \n",
       "1  Acer Predator Helios 500 Gaming Laptop (11Th G...  \n",
       "2  Acer Predator Helios 300 11Th Gen Intel Core I...  \n",
       "3  ASUS ROG Flow Z13 (2022), 13.4\" (34.03 cms) UH...  \n",
       "4  Asus Rog Strix Scar 15 (2022) 15.6 Inches 2K W...  \n",
       "5  ASUS ROG Flow Z13 (2022), 13.4\" (34.03 cms) UH...  \n",
       "6  ASUS ROG Strix Scar III G531GW 15.6\" FHD 240Hz...  \n",
       "7  Hp Envy 15- 11Th Gen Intel Core I9/32Gb/1Tb Ss...  \n",
       "8  Asus Rog Strix Scar 15 (2022) 15.6 Inches 2K W...  \n",
       "9  ASUS ROG Strix Scar 17 (2022), 17.3-inch (43.9...  "
      ]
     },
     "execution_count": 69,
     "metadata": {},
     "output_type": "execute_result"
    }
   ],
   "source": [
    "df=pd.DataFrame({'Title':title,'Price':price, 'Ratings':rating})\n",
    "df"
   ]
  },
  {
   "cell_type": "markdown",
   "id": "ff050368",
   "metadata": {},
   "source": [
    "# 9:# Write a python program to scrape data for first 10 job results for Data Scientist Designation in Noida\n",
    "location."
   ]
  },
  {
   "cell_type": "code",
   "execution_count": 42,
   "id": "fa589a6a",
   "metadata": {},
   "outputs": [],
   "source": [
    "driver.get('https://www.ambitionbox.com/')"
   ]
  },
  {
   "cell_type": "code",
   "execution_count": 43,
   "id": "53bb8df4",
   "metadata": {},
   "outputs": [],
   "source": [
    "job_click=driver.find_element(By.XPATH,'/html/body/div[1]/nav[2]/div/ul/li[5]/a')\n",
    "job_click.click()"
   ]
  },
  {
   "cell_type": "code",
   "execution_count": 44,
   "id": "7c790f16",
   "metadata": {},
   "outputs": [],
   "source": [
    "designation=driver.find_element(By.XPATH,'//input[@title=\"Enter Designation, Company or a Skill\"]')\n",
    "designation.send_keys('Data Scientist')"
   ]
  },
  {
   "cell_type": "code",
   "execution_count": 45,
   "id": "d9322a09",
   "metadata": {},
   "outputs": [],
   "source": [
    "search=driver.find_element(By.XPATH,'/html/body/div/div/div/div[2]/div[1]/div[1]/div/div/div/button/span')\n",
    "search.click()"
   ]
  },
  {
   "cell_type": "code",
   "execution_count": 46,
   "id": "c3dd7df5",
   "metadata": {},
   "outputs": [],
   "source": [
    "location_click=driver.find_element(By.XPATH,'/html/body/div/div/div/div[2]/div[1]/div[2]/div[1]/div/div/div/div[2]/div[1]/p')\n",
    "location_click.click()"
   ]
  },
  {
   "cell_type": "code",
   "execution_count": 47,
   "id": "144a1fbc",
   "metadata": {},
   "outputs": [],
   "source": [
    "type_location=driver.find_element(By.XPATH,'/html/body/div/div/div/div[2]/div[1]/div[2]/div[1]/div/div/div/div[2]/div[2]/div/div[2]/input')\n",
    "type_location.send_keys('Noida')"
   ]
  },
  {
   "cell_type": "code",
   "execution_count": 48,
   "id": "ca31caaf",
   "metadata": {},
   "outputs": [],
   "source": [
    "select_location=driver.find_element(By.XPATH,'/html/body/div/div/div/div[2]/div[1]/div[2]/div[1]/div/div/div/div[2]/div[2]/div/div[3]/div[1]/div[1]/div/label')\n",
    "select_location.click()"
   ]
  },
  {
   "cell_type": "code",
   "execution_count": 49,
   "id": "c6f15d0c",
   "metadata": {},
   "outputs": [
    {
     "name": "stdout",
     "output_type": "stream",
     "text": [
      "['CBRE South Asia Pvt Ltd', 'Ericsson India Global Services Pvt. Ltd.', 'GENPACT India Private Limited', 'Optum Global Solutions (India) Private Limited', 'Optum Global Solutions (India) Private Limited', 'Ericsson India Global Services Pvt. Ltd.', 'SOPRA STERIA INDIA LIMITED', 'EXL Services.com ( I ) Pvt. Ltd.', 'EY', 'CARE HEALTH INSURANCE LIMITED']\n",
      "10\n"
     ]
    }
   ],
   "source": [
    "company=[]\n",
    "company_tags=driver.find_elements(By.XPATH,'//p[@class=\"company body-medium\"]')\n",
    "for i in company_tags[0:10]:\n",
    "    company.append(i.text)\n",
    "print(company)\n",
    "print(len(company))"
   ]
  },
  {
   "cell_type": "code",
   "execution_count": 53,
   "id": "e82bfe50",
   "metadata": {},
   "outputs": [
    {
     "name": "stdout",
     "output_type": "stream",
     "text": [
      "['4.3', '4.3', '4.0', '4.1', '4.1', '4.3', '4.2', '3.9', '3.8', '4.0']\n",
      "10\n"
     ]
    }
   ],
   "source": [
    "rating=[]\n",
    "rating_tags=driver.find_elements(By.XPATH,'//span[@class=\"body-small\"]')\n",
    "for i in rating_tags[0:10]:\n",
    "    rating.append(i.text)\n",
    "print(rating)\n",
    "print(len(rating))"
   ]
  },
  {
   "cell_type": "code",
   "execution_count": 67,
   "id": "be2623ab",
   "metadata": {},
   "outputs": [
    {
     "name": "stdout",
     "output_type": "stream",
     "text": [
      "[['5d ago'], ['·'], [''], ['15d ago'], ['·'], [''], ['8d ago'], ['·'], [''], ['12d ago']]\n",
      "10\n"
     ]
    }
   ],
   "source": [
    "days=[]\n",
    "days_tags=driver.find_elements(By.XPATH,'//div[@class=\"other-info\"]//span') \n",
    "for i in days_tags[0:10]:\n",
    "    days.append(i.text.replace('via naukri.com','').split(','))\n",
    "print(days)\n",
    "print(len(days))"
   ]
  },
  {
   "cell_type": "code",
   "execution_count": 68,
   "id": "b1f94dcd",
   "metadata": {},
   "outputs": [
    {
     "data": {
      "text/html": [
       "<div>\n",
       "<style scoped>\n",
       "    .dataframe tbody tr th:only-of-type {\n",
       "        vertical-align: middle;\n",
       "    }\n",
       "\n",
       "    .dataframe tbody tr th {\n",
       "        vertical-align: top;\n",
       "    }\n",
       "\n",
       "    .dataframe thead th {\n",
       "        text-align: right;\n",
       "    }\n",
       "</style>\n",
       "<table border=\"1\" class=\"dataframe\">\n",
       "  <thead>\n",
       "    <tr style=\"text-align: right;\">\n",
       "      <th></th>\n",
       "      <th>Company Name</th>\n",
       "      <th>Company's Rating</th>\n",
       "      <th>Days Job Posted</th>\n",
       "    </tr>\n",
       "  </thead>\n",
       "  <tbody>\n",
       "    <tr>\n",
       "      <th>0</th>\n",
       "      <td>CBRE South Asia Pvt Ltd</td>\n",
       "      <td>4.3</td>\n",
       "      <td>[5d ago]</td>\n",
       "    </tr>\n",
       "    <tr>\n",
       "      <th>1</th>\n",
       "      <td>Ericsson India Global Services Pvt. Ltd.</td>\n",
       "      <td>4.3</td>\n",
       "      <td>[·]</td>\n",
       "    </tr>\n",
       "    <tr>\n",
       "      <th>2</th>\n",
       "      <td>GENPACT India Private Limited</td>\n",
       "      <td>4.0</td>\n",
       "      <td>[]</td>\n",
       "    </tr>\n",
       "    <tr>\n",
       "      <th>3</th>\n",
       "      <td>Optum Global Solutions (India) Private Limited</td>\n",
       "      <td>4.1</td>\n",
       "      <td>[15d ago]</td>\n",
       "    </tr>\n",
       "    <tr>\n",
       "      <th>4</th>\n",
       "      <td>Optum Global Solutions (India) Private Limited</td>\n",
       "      <td>4.1</td>\n",
       "      <td>[·]</td>\n",
       "    </tr>\n",
       "    <tr>\n",
       "      <th>5</th>\n",
       "      <td>Ericsson India Global Services Pvt. Ltd.</td>\n",
       "      <td>4.3</td>\n",
       "      <td>[]</td>\n",
       "    </tr>\n",
       "    <tr>\n",
       "      <th>6</th>\n",
       "      <td>SOPRA STERIA INDIA LIMITED</td>\n",
       "      <td>4.2</td>\n",
       "      <td>[8d ago]</td>\n",
       "    </tr>\n",
       "    <tr>\n",
       "      <th>7</th>\n",
       "      <td>EXL Services.com ( I ) Pvt. Ltd.</td>\n",
       "      <td>3.9</td>\n",
       "      <td>[·]</td>\n",
       "    </tr>\n",
       "    <tr>\n",
       "      <th>8</th>\n",
       "      <td>EY</td>\n",
       "      <td>3.8</td>\n",
       "      <td>[]</td>\n",
       "    </tr>\n",
       "    <tr>\n",
       "      <th>9</th>\n",
       "      <td>CARE HEALTH INSURANCE LIMITED</td>\n",
       "      <td>4.0</td>\n",
       "      <td>[12d ago]</td>\n",
       "    </tr>\n",
       "  </tbody>\n",
       "</table>\n",
       "</div>"
      ],
      "text/plain": [
       "                                     Company Name Company's Rating  \\\n",
       "0                         CBRE South Asia Pvt Ltd              4.3   \n",
       "1        Ericsson India Global Services Pvt. Ltd.              4.3   \n",
       "2                   GENPACT India Private Limited              4.0   \n",
       "3  Optum Global Solutions (India) Private Limited              4.1   \n",
       "4  Optum Global Solutions (India) Private Limited              4.1   \n",
       "5        Ericsson India Global Services Pvt. Ltd.              4.3   \n",
       "6                      SOPRA STERIA INDIA LIMITED              4.2   \n",
       "7                EXL Services.com ( I ) Pvt. Ltd.              3.9   \n",
       "8                                              EY              3.8   \n",
       "9                   CARE HEALTH INSURANCE LIMITED              4.0   \n",
       "\n",
       "  Days Job Posted  \n",
       "0        [5d ago]  \n",
       "1             [·]  \n",
       "2              []  \n",
       "3       [15d ago]  \n",
       "4             [·]  \n",
       "5              []  \n",
       "6        [8d ago]  \n",
       "7             [·]  \n",
       "8              []  \n",
       "9       [12d ago]  "
      ]
     },
     "execution_count": 68,
     "metadata": {},
     "output_type": "execute_result"
    }
   ],
   "source": [
    "df=pd.DataFrame({'Company Name':company, \"Company's Rating\":rating, 'Days Job Posted':days})\n",
    "df\n",
    "   "
   ]
  },
  {
   "cell_type": "code",
   "execution_count": null,
   "id": "e4011ae5",
   "metadata": {},
   "outputs": [],
   "source": []
  },
  {
   "cell_type": "markdown",
   "id": "3a6c3a75",
   "metadata": {},
   "source": [
    "# Q10: Write a python program to scrape the salary data for Data Scientist designation"
   ]
  },
  {
   "cell_type": "code",
   "execution_count": 69,
   "id": "9f9ef8a3",
   "metadata": {},
   "outputs": [],
   "source": [
    "driver.get('https://www.ambitionbox.com/')"
   ]
  },
  {
   "cell_type": "code",
   "execution_count": 76,
   "id": "1aa94e87",
   "metadata": {},
   "outputs": [],
   "source": [
    "salary_option=driver.find_element(By.XPATH,'/html/body/div[1]/nav[2]/div/ul/li[3]/a')\n",
    "salary_option.click()"
   ]
  },
  {
   "cell_type": "code",
   "execution_count": 77,
   "id": "10f9e502",
   "metadata": {},
   "outputs": [],
   "source": [
    "first_option=driver.find_element(By.XPATH,'/html/body/div[1]/nav[2]/div/ul/li[3]/div/ul/li[1]/div/div[2]/a')\n",
    "first_option.click()"
   ]
  },
  {
   "cell_type": "code",
   "execution_count": 81,
   "id": "f3113ce3",
   "metadata": {},
   "outputs": [],
   "source": [
    "designation=driver.find_element(By.XPATH,'//input[@type=\"searchbox\"]')\n",
    "designation.send_keys('Data Scientist')"
   ]
  },
  {
   "cell_type": "code",
   "execution_count": 82,
   "id": "f88afa2f",
   "metadata": {},
   "outputs": [],
   "source": [
    "designation_click=driver.find_element(By.XPATH,'/html/body/div/div/div/main/section[1]/div[2]/div[1]/span/div/div/div[1]/div/div/p')\n",
    "designation_click.click()"
   ]
  },
  {
   "cell_type": "code",
   "execution_count": 88,
   "id": "34f8bc1f",
   "metadata": {},
   "outputs": [
    {
     "name": "stdout",
     "output_type": "stream",
     "text": [
      "['Walmart', 'Ab Inbev', 'Optum', 'ZS', 'Fractal Analytics', 'Tiger Analytics', 'Legato Health Technologies', 'Tredence', 'UnitedHealth', 'Ford Motor']\n",
      "10\n"
     ]
    }
   ],
   "source": [
    "company=[]\n",
    "company_name=driver.find_elements(By.XPATH,'//div[@class=\"company-info\"]')\n",
    "for i in company_name[0:10]:\n",
    "    company.append(i.text.split('\\n')[0])\n",
    "print(company)\n",
    "print(len(company))"
   ]
  },
  {
   "cell_type": "code",
   "execution_count": 91,
   "id": "4dbf4364",
   "metadata": {},
   "outputs": [
    {
     "name": "stdout",
     "output_type": "stream",
     "text": [
      "['(based on 22 salaries)', '(based on 53 salaries)', '(based on 48 salaries)', '(based on 33 salaries)', '(based on 109 salaries)', '(based on 65 salaries)', '(based on 11 salaries)', '(based on 12 salaries)', '(based on 91 salaries)', '(based on 21 salaries)']\n",
      "10\n"
     ]
    }
   ],
   "source": [
    "salary_record=[]\n",
    "salary_tags=driver.find_elements(By.XPATH,'//span[@class=\"datapoints\"]')\n",
    "for i in salary_tags[0:10]:\n",
    "    salary_record.append(i.text)\n",
    "print(salary_record)\n",
    "print(len(salary_record))"
   ]
  },
  {
   "cell_type": "code",
   "execution_count": 92,
   "id": "643fddb4",
   "metadata": {},
   "outputs": [
    {
     "name": "stdout",
     "output_type": "stream",
     "text": [
      "['₹ 31.7L', '₹ 19.7L', '₹ 16.5L', '₹ 15.7L', '₹ 15.2L', '₹ 14.7L', '₹ 14.5L', '₹ 14.1L', '₹ 13.6L', '₹ 13.5L']\n",
      "10\n"
     ]
    }
   ],
   "source": [
    "avg_salary=[]\n",
    "avg_tags=driver.find_elements(By.XPATH,'//p[@class=\"averageCtc\"]')\n",
    "for i in avg_tags[0:10]:\n",
    "    avg_salary.append(i.text)\n",
    "print(avg_salary)\n",
    "print(len(avg_salary))"
   ]
  },
  {
   "cell_type": "code",
   "execution_count": 96,
   "id": "de989404",
   "metadata": {},
   "outputs": [
    {
     "name": "stdout",
     "output_type": "stream",
     "text": [
      "['₹ 25.0L', '₹ 15.0L', '₹ 11.0L', '₹ 11.0L', '₹ 9.0L', '₹ 9.0L', '₹ 11.0L', '₹ 8.8L', '₹ 8.0L', '₹ 10.0L']\n",
      "10\n"
     ]
    }
   ],
   "source": [
    "min_salary=[]\n",
    "min_tags=driver.find_elements(By.XPATH,'//div[@class=\"salary-values\"]')\n",
    "for i in min_tags[0:20]:\n",
    "    min_salary.append(i.text.split('\\n')[0])\n",
    "print(min_salary)\n",
    "print(len(min_salary))"
   ]
  },
  {
   "cell_type": "code",
   "execution_count": 98,
   "id": "f6316536",
   "metadata": {},
   "outputs": [
    {
     "name": "stdout",
     "output_type": "stream",
     "text": [
      "['₹ 45.0L', '₹ 25.5L', '₹ 22.6L', '₹ 22.0L', '₹ 23.0L', '₹ 20.0L', '₹ 20.0L', '₹ 17.5L', '₹ 20.5L', '₹ 18.0L']\n",
      "10\n"
     ]
    }
   ],
   "source": [
    "max_salary=[]\n",
    "max_tags=driver.find_elements(By.XPATH,'//div[@class=\"salary-values\"]')\n",
    "for i in max_tags[0:10]:\n",
    "    max_salary.append(i.text.split('\\n')[1])\n",
    "print(max_salary)\n",
    "print(len(max_salary))"
   ]
  },
  {
   "cell_type": "code",
   "execution_count": 101,
   "id": "ed790552",
   "metadata": {},
   "outputs": [
    {
     "name": "stdout",
     "output_type": "stream",
     "text": [
      "['3-4 yrs experience ', '2-4 yrs experience ', '2-4 yrs experience ', '1-2 yrs experience ', '2-4 yrs experience ', '2-4 yrs experience ', '4 yrs experience ', '3 yrs experience ', '2-4 yrs experience ', '3-4 yrs experience ']\n",
      "10\n"
     ]
    }
   ],
   "source": [
    "exp=[]\n",
    "exp_tags=driver.find_elements(By.XPATH,'//div[@class=\"sbold-list-header\"]')\n",
    "for i in exp_tags[0:10]:\n",
    "    exp.append(i.text.split('(')[0])\n",
    "print(exp)\n",
    "print(len(exp))"
   ]
  },
  {
   "cell_type": "code",
   "execution_count": 102,
   "id": "3bf667ac",
   "metadata": {},
   "outputs": [
    {
     "data": {
      "text/html": [
       "<div>\n",
       "<style scoped>\n",
       "    .dataframe tbody tr th:only-of-type {\n",
       "        vertical-align: middle;\n",
       "    }\n",
       "\n",
       "    .dataframe tbody tr th {\n",
       "        vertical-align: top;\n",
       "    }\n",
       "\n",
       "    .dataframe thead th {\n",
       "        text-align: right;\n",
       "    }\n",
       "</style>\n",
       "<table border=\"1\" class=\"dataframe\">\n",
       "  <thead>\n",
       "    <tr style=\"text-align: right;\">\n",
       "      <th></th>\n",
       "      <th>Company Name</th>\n",
       "      <th>Total Salary Record</th>\n",
       "      <th>Average Salary</th>\n",
       "      <th>Minimum Salary</th>\n",
       "      <th>Maximum Salary</th>\n",
       "      <th>Experience Required</th>\n",
       "    </tr>\n",
       "  </thead>\n",
       "  <tbody>\n",
       "    <tr>\n",
       "      <th>0</th>\n",
       "      <td>Walmart</td>\n",
       "      <td>(based on 22 salaries)</td>\n",
       "      <td>₹ 31.7L</td>\n",
       "      <td>₹ 25.0L</td>\n",
       "      <td>₹ 45.0L</td>\n",
       "      <td>3-4 yrs experience</td>\n",
       "    </tr>\n",
       "    <tr>\n",
       "      <th>1</th>\n",
       "      <td>Ab Inbev</td>\n",
       "      <td>(based on 53 salaries)</td>\n",
       "      <td>₹ 19.7L</td>\n",
       "      <td>₹ 15.0L</td>\n",
       "      <td>₹ 25.5L</td>\n",
       "      <td>2-4 yrs experience</td>\n",
       "    </tr>\n",
       "    <tr>\n",
       "      <th>2</th>\n",
       "      <td>Optum</td>\n",
       "      <td>(based on 48 salaries)</td>\n",
       "      <td>₹ 16.5L</td>\n",
       "      <td>₹ 11.0L</td>\n",
       "      <td>₹ 22.6L</td>\n",
       "      <td>2-4 yrs experience</td>\n",
       "    </tr>\n",
       "    <tr>\n",
       "      <th>3</th>\n",
       "      <td>ZS</td>\n",
       "      <td>(based on 33 salaries)</td>\n",
       "      <td>₹ 15.7L</td>\n",
       "      <td>₹ 11.0L</td>\n",
       "      <td>₹ 22.0L</td>\n",
       "      <td>1-2 yrs experience</td>\n",
       "    </tr>\n",
       "    <tr>\n",
       "      <th>4</th>\n",
       "      <td>Fractal Analytics</td>\n",
       "      <td>(based on 109 salaries)</td>\n",
       "      <td>₹ 15.2L</td>\n",
       "      <td>₹ 9.0L</td>\n",
       "      <td>₹ 23.0L</td>\n",
       "      <td>2-4 yrs experience</td>\n",
       "    </tr>\n",
       "    <tr>\n",
       "      <th>5</th>\n",
       "      <td>Tiger Analytics</td>\n",
       "      <td>(based on 65 salaries)</td>\n",
       "      <td>₹ 14.7L</td>\n",
       "      <td>₹ 9.0L</td>\n",
       "      <td>₹ 20.0L</td>\n",
       "      <td>2-4 yrs experience</td>\n",
       "    </tr>\n",
       "    <tr>\n",
       "      <th>6</th>\n",
       "      <td>Legato Health Technologies</td>\n",
       "      <td>(based on 11 salaries)</td>\n",
       "      <td>₹ 14.5L</td>\n",
       "      <td>₹ 11.0L</td>\n",
       "      <td>₹ 20.0L</td>\n",
       "      <td>4 yrs experience</td>\n",
       "    </tr>\n",
       "    <tr>\n",
       "      <th>7</th>\n",
       "      <td>Tredence</td>\n",
       "      <td>(based on 12 salaries)</td>\n",
       "      <td>₹ 14.1L</td>\n",
       "      <td>₹ 8.8L</td>\n",
       "      <td>₹ 17.5L</td>\n",
       "      <td>3 yrs experience</td>\n",
       "    </tr>\n",
       "    <tr>\n",
       "      <th>8</th>\n",
       "      <td>UnitedHealth</td>\n",
       "      <td>(based on 91 salaries)</td>\n",
       "      <td>₹ 13.6L</td>\n",
       "      <td>₹ 8.0L</td>\n",
       "      <td>₹ 20.5L</td>\n",
       "      <td>2-4 yrs experience</td>\n",
       "    </tr>\n",
       "    <tr>\n",
       "      <th>9</th>\n",
       "      <td>Ford Motor</td>\n",
       "      <td>(based on 21 salaries)</td>\n",
       "      <td>₹ 13.5L</td>\n",
       "      <td>₹ 10.0L</td>\n",
       "      <td>₹ 18.0L</td>\n",
       "      <td>3-4 yrs experience</td>\n",
       "    </tr>\n",
       "  </tbody>\n",
       "</table>\n",
       "</div>"
      ],
      "text/plain": [
       "                 Company Name      Total Salary Record Average Salary  \\\n",
       "0                     Walmart   (based on 22 salaries)        ₹ 31.7L   \n",
       "1                    Ab Inbev   (based on 53 salaries)        ₹ 19.7L   \n",
       "2                       Optum   (based on 48 salaries)        ₹ 16.5L   \n",
       "3                          ZS   (based on 33 salaries)        ₹ 15.7L   \n",
       "4           Fractal Analytics  (based on 109 salaries)        ₹ 15.2L   \n",
       "5             Tiger Analytics   (based on 65 salaries)        ₹ 14.7L   \n",
       "6  Legato Health Technologies   (based on 11 salaries)        ₹ 14.5L   \n",
       "7                    Tredence   (based on 12 salaries)        ₹ 14.1L   \n",
       "8                UnitedHealth   (based on 91 salaries)        ₹ 13.6L   \n",
       "9                  Ford Motor   (based on 21 salaries)        ₹ 13.5L   \n",
       "\n",
       "  Minimum Salary Maximum Salary  Experience Required  \n",
       "0        ₹ 25.0L        ₹ 45.0L  3-4 yrs experience   \n",
       "1        ₹ 15.0L        ₹ 25.5L  2-4 yrs experience   \n",
       "2        ₹ 11.0L        ₹ 22.6L  2-4 yrs experience   \n",
       "3        ₹ 11.0L        ₹ 22.0L  1-2 yrs experience   \n",
       "4         ₹ 9.0L        ₹ 23.0L  2-4 yrs experience   \n",
       "5         ₹ 9.0L        ₹ 20.0L  2-4 yrs experience   \n",
       "6        ₹ 11.0L        ₹ 20.0L    4 yrs experience   \n",
       "7         ₹ 8.8L        ₹ 17.5L    3 yrs experience   \n",
       "8         ₹ 8.0L        ₹ 20.5L  2-4 yrs experience   \n",
       "9        ₹ 10.0L        ₹ 18.0L  3-4 yrs experience   "
      ]
     },
     "execution_count": 102,
     "metadata": {},
     "output_type": "execute_result"
    }
   ],
   "source": [
    "df=pd.DataFrame({'Company Name':company, 'Total Salary Record':salary_record, 'Average Salary':avg_salary, 'Minimum Salary':min_salary, 'Maximum Salary':max_salary, 'Experience Required':exp})\n",
    "df"
   ]
  },
  {
   "cell_type": "code",
   "execution_count": null,
   "id": "23c54a49",
   "metadata": {},
   "outputs": [],
   "source": []
  }
 ],
 "metadata": {
  "kernelspec": {
   "display_name": "Python 3 (ipykernel)",
   "language": "python",
   "name": "python3"
  },
  "language_info": {
   "codemirror_mode": {
    "name": "ipython",
    "version": 3
   },
   "file_extension": ".py",
   "mimetype": "text/x-python",
   "name": "python",
   "nbconvert_exporter": "python",
   "pygments_lexer": "ipython3",
   "version": "3.9.12"
  }
 },
 "nbformat": 4,
 "nbformat_minor": 5
}
