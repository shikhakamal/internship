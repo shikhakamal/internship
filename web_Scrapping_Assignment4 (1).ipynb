{
 "cells": [
  {
   "cell_type": "code",
   "execution_count": 1,
   "id": "6d144e36",
   "metadata": {},
   "outputs": [],
   "source": [
    "import selenium\n",
    "from selenium import webdriver\n",
    "from selenium.webdriver.common.by import By\n",
    "\n",
    "from selenium.common.exceptions import NoSuchElementException\n",
    "import time\n",
    "\n",
    "import pandas as pd\n",
    "\n",
    "import warnings\n",
    "warnings.filterwarnings('ignore')\n",
    "\n",
    "from selenium.webdriver.support.ui import WebDriverWait\n",
    "from selenium.webdriver.support import expected_conditions as EC\n"
   ]
  },
  {
   "cell_type": "code",
   "execution_count": 2,
   "id": "209fd6e9",
   "metadata": {},
   "outputs": [],
   "source": [
    "driver= webdriver.Chrome(r'C:\\Users\\Hp\\Desktop\\data trained\\chromedriver_win32\\chromedriver.exe')"
   ]
  },
  {
   "cell_type": "markdown",
   "id": "72e66505",
   "metadata": {},
   "source": [
    "# 1. Scrape the details of most viewed videos on YouTube from Wikipedia.\n",
    "Url = https://en.wikipedia.org/wiki/List_of_most-viewed_YouTube_videos\n",
    "You need to find following details:"
   ]
  },
  {
   "cell_type": "markdown",
   "id": "ed3134b2",
   "metadata": {},
   "source": [
    "A) Rank             B) Name               C) Artist                 D) Upload date                 E) Views"
   ]
  },
  {
   "cell_type": "code",
   "execution_count": 3,
   "id": "88e8457a",
   "metadata": {},
   "outputs": [],
   "source": [
    "driver.get('https://en.wikipedia.org/wiki/List_of_most-viewed_YouTube_videos')"
   ]
  },
  {
   "cell_type": "code",
   "execution_count": 4,
   "id": "66092c60",
   "metadata": {},
   "outputs": [
    {
     "name": "stdout",
     "output_type": "stream",
     "text": [
      "['1.', '2.', '3.', '4.', '5.', '6.', '7.', '8.', '9.', '10.', '11.', '12.', '13.', '14.', '15.', '16.', '17.', '18.', '18.', '20.', '21.', '22.', '23.', '24.', '25.', '26.', '27.', '28.', '29.', '30.']\n",
      "30\n"
     ]
    }
   ],
   "source": [
    "rank=[]\n",
    "rank_tags=driver.find_elements(By.XPATH,'//table[@class=\"wikitable sortable jquery-tablesorter\"]/tbody/tr/td[1]')\n",
    "for i in rank_tags[0:30]:\n",
    "    rank.append(i.text)\n",
    "print(rank)\n",
    "print(len(rank))"
   ]
  },
  {
   "cell_type": "code",
   "execution_count": 5,
   "id": "b774b099",
   "metadata": {},
   "outputs": [
    {
     "name": "stdout",
     "output_type": "stream",
     "text": [
      "[['Baby Shark Dance'], ['Despacito'], ['Johny Johny Yes Papa'], ['Ed Sheeran'], ['Wiz Khalifa'], ['ChuChu TV'], ['Mark Ronson'], ['Psy'], ['Dame Tu Cosita'], ['Sugar'], ['Roar'], ['Counting Stars'], ['Sorry'], ['Axel F'], ['Thinking Out Loud'], ['Cocomelon – Nursery Rhymes'], ['Katy Perry'], ['Alan Walker'], ['Maroon 5'], ['Passenger'], ['Enrique Iglesias'], ['Major Lazer'], ['Ed Sheeran'], ['Shakira'], ['Taylor Swift'], [\"Pinkfong Baby Shark - Kids' Songs & Stories\"], ['Luis Fonsi'], ['Wiz Khalifa'], ['Psy'], ['Justin Bieber'], ['Lady Gaga'], ['Evolution of Dance'], ['Girlfriend'], ['Evolution of Dance'], ['Music Is My Hot Hot Sex'], ['Judson Laipply'], ['Smosh'], ['Phony Photo Booth'], ['Ronaldinho: Touch of Gold'], ['I/O Brush'], ['jawed']]\n",
      "41\n"
     ]
    }
   ],
   "source": [
    "name=[]\n",
    "name_tags=driver.find_elements(By.XPATH,'//table[@class=\"wikitable sortable jquery-tablesorter\"]/tbody/tr/td/a')\n",
    "for i in name_tags:\n",
    "    name.append(i.text.split(','))\n",
    "c=[ i for j, i in enumerate(name) if j%2==0]    \n",
    "print(c)\n",
    "print(len(c))\n"
   ]
  },
  {
   "cell_type": "code",
   "execution_count": 6,
   "id": "c3f80294",
   "metadata": {},
   "outputs": [
    {
     "name": "stdout",
     "output_type": "stream",
     "text": [
      "[[\"Pinkfong Baby Shark - Kids' Songs & Stories\"], ['Luis Fonsi'], ['Shape of You'], ['See You Again'], ['Cocomelon – Nursery Rhymes'], ['Uptown Funk'], ['Gangnam Style'], ['Cocomelon – Nursery Rhymes'], ['El Chombo'], ['Maroon 5'], ['Katy Perry'], ['OneRepublic'], ['Justin Bieber'], ['Crazy Frog'], ['Ed Sheeran'], ['Dark Horse'], ['Faded'], ['Girls Like You'], ['Let Her Go'], ['Bailando'], ['Lean On'], ['Perfect'], ['Waka Waka (This Time for Africa)'], ['Shake It Off'], ['Baby Shark Dance'], ['Despacito'], ['See You Again'], ['Gangnam Style'], ['Baby'], ['Bad Romance'], ['Charlie Bit My Finger'], ['Judson Laipply'], ['RCA Records'], ['Judson Laipply'], ['Evolution of Dance'], ['Pokemon Theme Music Video'], ['Myspace – The Movie'], ['The Chronic of Narnia Rap'], ['Nikesoccer'], ['Me at the zoo']]\n",
      "40\n"
     ]
    }
   ],
   "source": [
    "artist=[]\n",
    "artist_tags=driver.find_elements(By.XPATH,'//table[@class=\"wikitable sortable jquery-tablesorter\"]/tbody/tr/td/a')\n",
    "for i in artist_tags[0:30]:\n",
    "    artist.append(i.text.split(','))\n",
    "c1=[ i for j, i in enumerate(name) if j%2!=0]    \n",
    "print(c1)\n",
    "print(len(c1))"
   ]
  },
  {
   "cell_type": "code",
   "execution_count": 7,
   "id": "63f5908a",
   "metadata": {},
   "outputs": [
    {
     "name": "stdout",
     "output_type": "stream",
     "text": [
      "['June 17, 2016', 'January 12, 2017', 'October 8, 2016', 'January 30, 2017', 'April 6, 2015', 'May 2, 2018', 'March 6, 2014', 'November 19, 2014', 'February 27, 2018', 'July 15, 2012', 'January 31, 2012', 'May 24, 2018', 'April 5, 2018', 'January 14, 2015', 'September 5, 2013', 'May 31, 2013', 'October 22, 2015', 'June 16, 2009', 'October 7, 2014', 'June 25, 2018', 'February 20, 2014', 'December 3, 2015', 'May 31, 2018', 'July 25, 2012', 'April 11, 2014', 'March 22, 2015', 'November 9, 2017', 'June 4, 2010', 'August 18, 2014', 'January 26, 2018']\n",
      "30\n"
     ]
    }
   ],
   "source": [
    "date=[]\n",
    "date_tags=driver.find_elements(By.XPATH,'//table[@class=\"wikitable sortable jquery-tablesorter\"]/tbody/tr/td[5]')\n",
    "for i in date_tags[0:30]:\n",
    "    date.append(i.text)\n",
    "    \n",
    "print(date)\n",
    "print(len(date))"
   ]
  },
  {
   "cell_type": "code",
   "execution_count": 8,
   "id": "307e7740",
   "metadata": {},
   "outputs": [
    {
     "name": "stdout",
     "output_type": "stream",
     "text": [
      "['11.30', '7.97', '6.45', '5.80', '5.63', '5.60', '4.87', '4.68', '4.61', '4.54', '4.51', '4.34', '4.06', '3.75', '3.65', '3.64', '3.58', '3.50', '3.49', '3.36', '3.34', '3.34', '3.33', '3.29', '3.26', '3.26', '3.25', '3.24', '3.20', '3.15']\n",
      "30\n"
     ]
    }
   ],
   "source": [
    "views=[]\n",
    "view_tags=driver.find_elements(By.XPATH,'//table[@class=\"wikitable sortable jquery-tablesorter\"]/tbody/tr/td[4]')\n",
    "for i in view_tags[0:30]:\n",
    "    views.append(i.text)\n",
    "    \n",
    "print(views)\n",
    "print(len(views))"
   ]
  },
  {
   "cell_type": "markdown",
   "id": "40e50682",
   "metadata": {},
   "source": [
    "# 2. Scrape the details team India’s international fixtures from bcci.tv. Url = https://www.bcci.tv/.\n",
    "You need to find following details:\n",
    "A) Match title (I.e. 1st ODI)\n",
    "B) Series\n",
    "C) Place\n",
    "D) Date\n",
    "E) Time"
   ]
  },
  {
   "cell_type": "code",
   "execution_count": 9,
   "id": "6bb961f6",
   "metadata": {},
   "outputs": [],
   "source": [
    "driver.get('https://www.bcci.tv/')"
   ]
  },
  {
   "cell_type": "code",
   "execution_count": 10,
   "id": "01c5b2ce",
   "metadata": {},
   "outputs": [],
   "source": [
    "international_click=driver.find_element(By.XPATH,'/html/body/nav/div[1]/div[2]/ul[1]/li[2]/a')\n",
    "international_click.click()"
   ]
  },
  {
   "cell_type": "code",
   "execution_count": 12,
   "id": "4bb659dd",
   "metadata": {},
   "outputs": [],
   "source": [
    "time.sleep(3)\n",
    "select_odi=driver.find_element(By.XPATH,'/html/body/div[2]/div[2]/div/div/div/div[2]/div[2]/div/div[3]/div/div[1]')\n",
    "select_odi.click()"
   ]
  },
  {
   "cell_type": "code",
   "execution_count": 13,
   "id": "afa4543e",
   "metadata": {},
   "outputs": [],
   "source": [
    "odi_select=driver.find_element(By.XPATH,'/html/body/div[2]/div[2]/div/div/div/div[2]/div[2]/div/div[3]/div/div[2]/div[3]')\n",
    "odi_select.click()"
   ]
  },
  {
   "cell_type": "code",
   "execution_count": 14,
   "id": "9d6598c4",
   "metadata": {},
   "outputs": [
    {
     "name": "stdout",
     "output_type": "stream",
     "text": [
      "INDIA WOMEN TOUR OF ENGLAND ODI SERIES 2022\n"
     ]
    }
   ],
   "source": [
    "title=driver.find_element(By.XPATH,'//span[@class=\"ng-binding\"]')\n",
    "print(title.text)"
   ]
  },
  {
   "cell_type": "code",
   "execution_count": 15,
   "id": "ca789369",
   "metadata": {},
   "outputs": [
    {
     "name": "stdout",
     "output_type": "stream",
     "text": [
      "1st ODI \n"
     ]
    }
   ],
   "source": [
    "series=driver.find_element(By.XPATH,'//span[@class=\"matchOrderText ng-binding ng-scope\"]')\n",
    "print(series.text.replace('-',''))"
   ]
  },
  {
   "cell_type": "code",
   "execution_count": 16,
   "id": "07dece26",
   "metadata": {},
   "outputs": [
    {
     "name": "stdout",
     "output_type": "stream",
     "text": [
      " County Ground, Hove\n"
     ]
    }
   ],
   "source": [
    "place=driver.find_element(By.XPATH,'//div[@class=\"fix-place ng-binding ng-scope\"]')\n",
    "print(place.text.split('-')[1])"
   ]
  },
  {
   "cell_type": "code",
   "execution_count": 17,
   "id": "b03799a8",
   "metadata": {},
   "outputs": [
    {
     "name": "stdout",
     "output_type": "stream",
     "text": [
      "18 SEP 2022\n"
     ]
    }
   ],
   "source": [
    "date=driver.find_element(By.XPATH,'//div[@class=\"match-card-left match-schedule\"]')\n",
    "print(date.text)"
   ]
  },
  {
   "cell_type": "code",
   "execution_count": 18,
   "id": "fc9f592e",
   "metadata": {},
   "outputs": [
    {
     "name": "stdout",
     "output_type": "stream",
     "text": [
      "3:30 PM IST\n"
     ]
    }
   ],
   "source": [
    "time=driver.find_element(By.XPATH,'//div[@class=\"match-card-right match-schedule \"]')\n",
    "print(time.text)"
   ]
  },
  {
   "cell_type": "markdown",
   "id": "3ab1a31e",
   "metadata": {},
   "source": [
    "# 3. Scrape the details of selenium exception from guru99.com. Url = https://www.guru99.com/\n",
    "You need to find following details:\n",
    "A) Name\n",
    "B) Description"
   ]
  },
  {
   "cell_type": "code",
   "execution_count": 33,
   "id": "21351bc1",
   "metadata": {},
   "outputs": [],
   "source": [
    "driver.get('https://www.guru99.com/')"
   ]
  },
  {
   "cell_type": "code",
   "execution_count": 36,
   "id": "e6e87324",
   "metadata": {},
   "outputs": [],
   "source": [
    "\n",
    "input=driver.find_element(By.XPATH,'//input[@class=\"gsc-input\"]')\n",
    "input.send_keys('selenium exception handling')"
   ]
  },
  {
   "cell_type": "code",
   "execution_count": 37,
   "id": "36ad89af",
   "metadata": {},
   "outputs": [],
   "source": [
    "search_click=driver.find_element(By.XPATH,'/html/body/div[1]/div/div/div/main/div/article/div/div[1]/div[1]/div[2]/div/div[1]/div/div/div/form/table/tbody/tr/td[2]/button')\n",
    "search_click.click()"
   ]
  },
  {
   "cell_type": "code",
   "execution_count": 39,
   "id": "d76f814e",
   "metadata": {},
   "outputs": [],
   "source": [
    "search2=driver.find_element(By.XPATH,'/html/body/div[1]/div/div/div/main/div/article/div/div[1]/div[1]/div[2]/div/div[1]/div/div/div/div[1]/div[6]/div[2]/div/div/div[1]/div[1]/div[1]/div[1]/div/a')\n",
    "search2.click()"
   ]
  },
  {
   "cell_type": "code",
   "execution_count": 40,
   "id": "9ee0e985",
   "metadata": {},
   "outputs": [],
   "source": [
    "c=driver.switch_to.window(driver.window_handles[1])"
   ]
  },
  {
   "cell_type": "code",
   "execution_count": 41,
   "id": "6a9a8aef",
   "metadata": {},
   "outputs": [
    {
     "name": "stdout",
     "output_type": "stream",
     "text": [
      "['What is an Exceptions?An exception is an error that happens at the time of execution of a program. However, while running a program, programming languages generates an exception that should be handled to avoid your program to crash.The exception indicates that, although the event can occur, this type of event happens infrequently. When the method is not able to handle the Exception, it is thrown to its caller function.In this Selenium tutorial, you will learn:Types of Exceptions in Selenium Webdriver1. ElementNotVisibleException: This type of Selenium exception occurs when an existing element in DOM has a feature set as hidden.2. ElementNotSelectableException: This Selenium exception occurs when an element is presented in the DOM, but you can be able to select. Therefore, it is not possible to interact.3. NoSuchElementException: This Exception occurs if an element could not be found.4. NoSuchFrameException: This Exception occurs if the frame target to be switched to does not exist.5. NoAlertPresentException: This Exception occurs when you switch to no presented alert.00:0335:04EXPLORE MORELearn Java Programming with Beginners Tutorial08:32Linux Tutorial for Beginners: Introduction to Linux Operating...01:35What is Integration Testing Software Testing Tutorial03:04What is JVM (Java Virtual Machine) with Architecture JAVA...02:24How to write a TEST CASE Software Testing Tutorial01:08Seven Testing Principles Software Testing05:01Linux File Permissions Commands with Examples13:29How to use Text tool in Photoshop CC Tutorial08:32What is NoSQL Database Tutorial02:00Important Linux Commands for Beginners Linux Tutorial15:036. NoSuchWindowException: This Exception occurs if the window target to be switch does not exist.7. StaleElementReferenceException: This Selenium exception occurs happens when the web element is detached from the current DOM.8. SessionNotFoundException: The WebDriver is acting after you quit the browser.9. TimeoutException: Thrown when there is not enough time for a command to be completed. For Example, the element searched wasn’t found in the specified time.10. WebDriverException: This Exception takes place when the WebDriver is acting right after you close the browser.11. ConnectionClosedException: This type of Exception takes place when there is a disconnection in the driver.12. ElementClickInterceptedException: The command may not be completed as the element receiving the events is concealing the element which was requested clicked.13. ElementNotInteractableException: This Selenium exception is thrown when any element is presented in the DOM. However, it is impossible to interact with such an element.14. ErrorInResponseException: This happens while interacting with the Firefox extension or the remote driver server.15. ErrorHandler.UnknownServerException: Exception is used as a placeholder in case if the server returns an error without a stack trace.16. ImeActivationFailedException: This expectation will occur when IME engine activation has failed.17. ImeNotAvailableException: It takes place when IME support is unavailable.18. InsecureCertificateException: Navigation made the user agent to hit a certificate warning. This can cause by an invalid or expired TLS certificate.19. InvalidArgumentException: It occurs when an argument does not belong to the expected type.20. InvalidCookieDomainException: This happens when you try to add a cookie under a different domain instead of current URL.21. InvalidCoordinatesException: This type of Exception matches an interacting operation that is not valid.22. InvalidElementStateException: It occurs when command can’t be finished when the element is invalid.23. InvalidSessionIdException: This Exception took place when the given session ID is not included in the list of active sessions. It means the session does not exist or is inactive either.24. InvalidSwitchToTargetException: This occurs when the frame or window target to be switched does not exist.25. JavascriptException: This issue occurs while executing JavaScript given by the user.26. JsonException: It occurs when you afford to get the session when the session is not created.27. NoSuchAttributeException: This kind of Exception occurs when the attribute of an element could not be found.28. MoveTargetOutOfBoundsException: It takes place if the target provided to the ActionChains move() methodology is not valid. For Example, out of the document.29. NoSuchContextException: ContextAware does mobile device testing.30. NoSuchCookieException: This Exception occurs when no cookie matching with the given pathname found for all the associated cookies of the currently browsing document.31. NotFoundException: This Exception is a subclass of WebDriverException. This will occur when an element on the DOM does not exist.32. RemoteDriverServerException: This Selenium exception is thrown when the server is not responding because of the problem that the capabilities described are not proper.33. ScreenshotException: It is not possible to capture a screen.34. SessionNotCreatedException: It happens when a new session could not be successfully created.35. UnableToSetCookieException: This occurs if a driver is unable to set a cookie.36. UnexpectedTagNameException: Happens if a support class did not get a web element as expected.37. UnhandledAlertException: This expectation occurs when there is an alert, but WebDriver is not able to perform Alert operation.38. UnexpectedAlertPresentException: It occurs when there is the appearance of an unexpected alert.39. UnknownMethodException: This Exception happens when the requested command matches with a known URL but and not matching with a methodology for a specific URL.40. UnreachableBrowserException: This Exception occurs only when the browser is not able to be opened or crashed because of some reason.41. UnsupportedCommandException: This occurs when remote WebDriver doesn’t send valid commands as expected.How to Handling Exceptions in SeleniumHere, are some important standard using which you can handle Exceptions in Selenium WebDriver:Step 1) Try-catchThis method can catch Exceptions, which uses a combination of the try and catch keywords. Try command indicates the start of the block, and Catch is placed at the end of the try block, which helps to resolve the Exception.try{// Code} catch (Exception e) {// Code for Handling exception}Step 2) Multiple catch blocksThere are various types of Exceptions, and you can expect more than one exception from a single block of code. Multiple catches help you to handle every type of Exception separately with a separate block of code. It can be used for more than two catch blocks, and there is no limitation on the number of catch blocks.try{//Code} catch (ExceptionType1 e1) {//Code for Handling Exception 1} catch (ExceptionType2 e2) {//Code for Handling Exception 2}Step 3) ThrowWhen you want to generate an Exception, the Throw keyword is used to throw Exception to handle it in the run time. When you are throwing an Exception without handling it, then they need to use Throw keyword.public static void anyFunction() throws Exception{try {// write your code here} Catch (Exception b) {// Do whatever you want to perform // Throw the Exception back to the systemthrow(b);}}Step 4) Multiple ExceptionsYou can mention various Exceptions in the throws clause.public static void anyFunction() throws ExceptionType1, ExceptionType2{try {// write your code here} catch (ExceptionType1 e1) {// Code to handle exception 1} catch (ExceptionType1 e2) {// Code to handle exception 2}Step 5) FinallyThe Final keyword is used to create a block of code under the try block. It is the final code that helps you to executes irrespective of the occurrence of an exceptiontry {//Code} catch (ExceptionType1 e1) {//Catch block} catch (ExceptionType2 e2) {//Catch block} catch (ExceptionType3 e3) {//Catch block} finally {//The finally block always executes.}Methods for displaying ExceptionYou can also use the following methods to display Exception Information:printStackTrace(): This function prints stack trace, name of the Exception, and other useful description.toString(): This function returns a text message describing the exception name and description.getMessage(): Helps to displays the description of the Exception.Summary:An exception is an error that happens at the time of execution of a program.Try-catch: This method can catch Exceptions, which uses a combination of the try and catch keywords.Multiple catches help you to handle every type of Exception separately with a separate block of code.Throw keyword is used to throw Exception to handle it in the run time.printStackTrace(): This function prints stack trace, name of the Exception, and other useful descriptiontoString(): This function returns a text message describing the exception name and description.getMessage(): Helps to displays the description of the Exception.You Might Like:How to Read/Write Data from Excel File: Selenium POIUsing SoapUI with Selenium for Web Service TestingTop 100 Selenium Interview Questions and Answers for 2022How to Verify Tooltip using Selenium WebDriver19 Selenium Alternatives & Competitors (2022 Update)']\n",
      "1\n"
     ]
    }
   ],
   "source": [
    "title=[]\n",
    "title_tags=driver.find_elements(By.XPATH,'//div[@class=\"entry-content single-content\"]')\n",
    "for i in title_tags:\n",
    "    title.append(i.text.replace('\\n',''))\n",
    "print(title)\n",
    "print(len(title))"
   ]
  },
  {
   "cell_type": "markdown",
   "id": "3d5bc394",
   "metadata": {},
   "source": [
    "# 4. Scrape the details of State-wise GDP of India from statisticstime.com. Url = http://statisticstimes.com/\n",
    "You have to find following details:\n",
    "A) Rank\n",
    "B) State\n",
    "C) GSDP(18-19)\n",
    "D) GSDP(17-18)\n",
    "E) Share(2017)\n",
    "F) GDP($ billion)"
   ]
  },
  {
   "cell_type": "code",
   "execution_count": 50,
   "id": "73d8176a",
   "metadata": {},
   "outputs": [],
   "source": [
    "driver.get('https://www.statisticstimes.com/')"
   ]
  },
  {
   "cell_type": "code",
   "execution_count": 51,
   "id": "f854361c",
   "metadata": {},
   "outputs": [],
   "source": [
    "drop_button=driver.find_element(By.XPATH,'/html/body/div[2]/div[1]/div[2]/div[2]')\n",
    "drop_button.click()"
   ]
  },
  {
   "cell_type": "code",
   "execution_count": 52,
   "id": "ee258f67",
   "metadata": {},
   "outputs": [
    {
     "name": "stdout",
     "output_type": "stream",
     "text": [
      "India\n"
     ]
    }
   ],
   "source": [
    "\n",
    "select=driver.find_element(By.XPATH,'/html/body/div[2]/div[1]/div[2]/div[2]/div/a[3]')\n",
    "print(select.text)"
   ]
  },
  {
   "cell_type": "code",
   "execution_count": 53,
   "id": "6f357613",
   "metadata": {},
   "outputs": [],
   "source": [
    "select.click()"
   ]
  },
  {
   "cell_type": "code",
   "execution_count": 54,
   "id": "ed13b091",
   "metadata": {},
   "outputs": [],
   "source": [
    "gdp_select=driver.find_element(By.XPATH,'/html/body/div[2]/div[2]/div[2]/ul/li[1]/a')\n",
    "gdp_select.click()"
   ]
  },
  {
   "cell_type": "code",
   "execution_count": 55,
   "id": "555d1cd8",
   "metadata": {},
   "outputs": [
    {
     "name": "stdout",
     "output_type": "stream",
     "text": [
      "['1', '2', '3', '4', '5', '6', '7', '8', '9', '10', '11', '12', '13', '14', '15', '16', '17', '18', '19', '20', '21', '22', '23', '24', '25', '26', '27', '28', '29', '30', '31', '32', '33', '', '1', '2', '3', '4', '5', '6', '7', '8', '9', '10', '11', '12', '13', '14', '15', '16', '17', '18', '19', '20', '21', '22', '23', '24', '25', '26', '27', '28', '29', '30', '31', '32', '33', '']\n",
      "68\n"
     ]
    }
   ],
   "source": [
    "rank=[]\n",
    "\n",
    "rank_tags=driver.find_elements(By.XPATH,'//td[@class=\"data1\"]')\n",
    "for i in rank_tags:\n",
    "    rank.append(i.text)\n",
    "\n",
    "print(rank)\n",
    "print(len(rank))"
   ]
  },
  {
   "cell_type": "code",
   "execution_count": 56,
   "id": "6b87a568",
   "metadata": {},
   "outputs": [
    {
     "name": "stdout",
     "output_type": "stream",
     "text": [
      "['Maharashtra', 'Tamil Nadu', 'Uttar Pradesh', 'Gujarat', 'Karnataka', 'West Bengal', 'Rajasthan', 'Andhra Pradesh', 'Telangana', 'Madhya Pradesh', 'Kerala', 'Delhi', 'Haryana', 'Bihar', 'Punjab', 'Odisha', 'Assam', 'Chhattisgarh', 'Jharkhand', 'Uttarakhand', 'Jammu & Kashmir', 'Himachal Pradesh', 'Goa', 'Tripura', 'Chandigarh', 'Puducherry', 'Meghalaya', 'Sikkim', 'Manipur', 'Nagaland', 'Arunachal Pradesh', 'Mizoram', 'Andaman & Nicobar Islands', 'India', 'Maharashtra', 'Tamil Nadu', 'Uttar Pradesh', 'Karnataka', 'Gujarat', 'West Bengal', 'Rajasthan', 'Telangana', 'Andhra Pradesh', 'Madhya Pradesh', 'Kerala', 'Delhi', 'Haryana', 'Bihar', 'Punjab', 'Odisha', 'Assam', 'Jharkhand', 'Chhattisgarh', 'Uttarakhand', 'Himachal Pradesh', 'Jammu & Kashmir', 'Goa', 'Tripura', 'Chandigarh', 'Puducherry', 'Meghalaya', 'Manipur', 'Sikkim', 'Nagaland', 'Arunachal Pradesh', 'Mizoram', 'Andaman & Nicobar Islands', 'India']\n",
      "68\n"
     ]
    }
   ],
   "source": [
    "state=[]\n",
    "state_tags=driver.find_elements(By.XPATH,'//td[@class=\"name\"]')\n",
    "for i in state_tags:\n",
    "    state.append(i.text)\n",
    "    \n",
    "print(state)\n",
    "print(len(state))"
   ]
  },
  {
   "cell_type": "code",
   "execution_count": 57,
   "id": "830ea559",
   "metadata": {},
   "outputs": [
    {
     "name": "stdout",
     "output_type": "stream",
     "text": [
      "['-', '1,845,853', '1,687,818', '-', '1,631,977', '1,253,832', '1,020,989', '972,782', '969,604', '906,672', '-', '856,112', '831,610', '611,804', '574,760', '521,275', '-', '329,180', '328,598', '-', '-', '165,472', '80,449', '55,984', '-', '38,253', '36,572', '32,496', '31,790', '-', '-', '26,503', '-', '-', '1,659,210', '1,495,758', '1,476,983', '-', '1,150,711', '916,014', '881,873', '875,429', '827,019', '-', '779,647', '755,790', '562,710', '517,521', '457,757', '-', '301,242', '288,041', '-', '143,063', '-', '72,181', '50,227', '-', '34,823', '32,833', '29,148', '28,391', '-', '-', '24,424', '-']\n",
      "66\n"
     ]
    }
   ],
   "source": [
    "gsdp1=[]\n",
    "gsdp1_tags=driver.find_elements(By.XPATH,'//table[@class=\"display dataTable\"]/tbody/tr/td[3]')\n",
    "for i in gsdp1_tags:\n",
    "        gsdp1.append(i.text)\n",
    "    \n",
    "print(gsdp1)\n",
    "print(len(gsdp1))\n"
   ]
  },
  {
   "cell_type": "code",
   "execution_count": 58,
   "id": "3728f2cd",
   "metadata": {},
   "outputs": [
    {
     "name": "stdout",
     "output_type": "stream",
     "text": [
      "['2,632,792', '1,630,208', '1,584,764', '1,502,899', '1,493,127', '1,089,898', '942,586', '862,957', '861,031', '809,592', '781,653', '774,870', '734,163', '530,363', '526,376', '487,805', '315,881', '304,063', '297,204', '245,895', '155,956', '153,845', '73,170', '49,845', '42,114', '34,433', '33,481', '28,723', '27,870', '27,283', '24,603', '22,287', '-', '2,332,992', '1,465,361', '1,404,761', '1,351,553', '1,322,936', '995,502', '845,247', '782,370', '776,140', '737,156', '707,542', '704,529', '666,075', '486,776', '472,506', '428,031', '282,782', '271,990', '266,537', '221,871', '133,303', '129,877', '66,060', '44,835', '37,571', '31,415', '29,544', '25,323', '25,141', '24,534', '22,488', '20,947', '-']\n",
      "66\n"
     ]
    }
   ],
   "source": [
    "gsdp2=[]\n",
    "gsdp2_tags=driver.find_elements(By.XPATH,'//td[@class=\"data sorting_1\"]')\n",
    "for i in gsdp2_tags:\n",
    "    gsdp2.append(i.text)\n",
    "print(gsdp2)\n",
    "print(len(gsdp2))"
   ]
  },
  {
   "cell_type": "code",
   "execution_count": 59,
   "id": "1fdaad2f",
   "metadata": {},
   "outputs": [
    {
     "name": "stdout",
     "output_type": "stream",
     "text": [
      "['13.94%', '8.63%', '8.39%', '7.96%', '7.91%', '5.77%', '4.99%', '4.57%', '4.56%', '4.29%', '4.14%', '4.10%', '3.89%', '2.81%', '2.79%', '2.58%', '1.67%', '1.61%', '1.57%', '1.30%', '0.83%', '0.81%', '0.39%', '0.26%', '0.22%', '0.18%', '0.18%', '0.15%', '0.15%', '0.14%', '0.13%', '0.12%', '-', '13.97%', '8.77%', '8.41%', '8.09%', '7.92%', '5.96%', '5.06%', '4.68%', '4.65%', '4.41%', '4.24%', '4.22%', '3.99%', '2.91%', '2.83%', '2.56%', '1.69%', '1.63%', '1.60%', '1.33%', '0.80%', '0.78%', '0.40%', '0.27%', '0.22%', '0.19%', '0.18%', '0.15%', '0.15%', '0.15%', '0.13%', '0.13%', '-']\n",
      "66\n"
     ]
    }
   ],
   "source": [
    "share=[]\n",
    "share_tags=driver.find_elements(By.XPATH,'//table[@class=\"display dataTable\"]/tbody/tr/td[5]')\n",
    "for i in share_tags:\n",
    "    share.append(i.text)\n",
    "print(share)\n",
    "print(len(share))"
   ]
  },
  {
   "cell_type": "code",
   "execution_count": 60,
   "id": "30270386",
   "metadata": {},
   "outputs": [
    {
     "name": "stdout",
     "output_type": "stream",
     "text": [
      "['399.921', '247.629', '240.726', '228.290', '226.806', '165.556', '143.179', '131.083', '130.791', '122.977', '118.733', '117.703', '111.519', '80.562', '79.957', '74.098', '47.982', '46.187', '45.145', '37.351', '23.690', '23.369', '11.115', '7.571', '6.397', '5.230', '5.086', '4.363', '4.233', '4.144', '3.737', '3.385', '-', '-', '1,167,776', '1,015,735', '1,035,131', '-', '713,376', '630,693', '594,806', '595,605', '496,798', '-', '568,265', '514,983', '377,276', '374,015', '344,437', '-', '218,232', '210,837', '-', '107,171', '-', '56,810', '35,980', '-', '22,291', '23,564', '18,549', '17,060', '-', '-', '17,797', '-']\n",
      "66\n"
     ]
    }
   ],
   "source": [
    "gdp=[]\n",
    "gdp_tags=driver.find_elements(By.XPATH,'//table[@class=\"display dataTable\"]/tbody/tr/td[6]')\n",
    "for i in gdp_tags:\n",
    "    gdp.append(i.text)\n",
    "print(gdp)\n",
    "print(len(gdp))"
   ]
  },
  {
   "cell_type": "markdown",
   "id": "6f306ae2",
   "metadata": {},
   "source": [
    "# 5. Scrape the details of trending repositories on Github.com. Url = https://github.com/\n",
    "You have to find the following details:\n",
    "A) Repository title\n",
    "B) Repository description\n",
    "C) Contributors count\n",
    "D) Language used"
   ]
  },
  {
   "cell_type": "code",
   "execution_count": 61,
   "id": "c7c929d6",
   "metadata": {},
   "outputs": [],
   "source": [
    "driver.get('https://github.com/')"
   ]
  },
  {
   "cell_type": "code",
   "execution_count": 64,
   "id": "44102930",
   "metadata": {},
   "outputs": [],
   "source": [
    "explore_select=driver.find_element(By.XPATH,'/html/body/div[1]/header/div[3]/nav/a[5]')\n",
    "explore_select.click()"
   ]
  },
  {
   "cell_type": "code",
   "execution_count": 65,
   "id": "9b7c1610",
   "metadata": {},
   "outputs": [],
   "source": [
    "trending_select=driver.find_element(By.XPATH,'/html/body/div[5]/main/div[1]/nav/div/a[3]')\n",
    "trending_select.click()"
   ]
  },
  {
   "cell_type": "code",
   "execution_count": 66,
   "id": "3e04b40c",
   "metadata": {},
   "outputs": [
    {
     "name": "stdout",
     "output_type": "stream",
     "text": [
      "['danielgindi ', 'surrealdb ', 'TheAlgorithms ', 'SerenityOS ', 'divamgupta ', 'karpathy ', 'EbookFoundation ', 'twitter ', 'n8n-io ', 'InterviewReady ', 'moby ', 'Alamofire ', 'AykutSarac ', 'pocketbase ', 'ascoders ', 'jellyfin ', 'apptension ', 'vasanthk ', 'rust-lang ', 'dotnet ', 'microsoft ', 'gothinkster ', 'SerenityOS ', 'jwasham ', 'joeyballentine ']\n",
      "25\n"
     ]
    }
   ],
   "source": [
    "title=[]\n",
    "title_tags=driver.find_elements(By.XPATH,'//span[@class=\"text-normal\"]')\n",
    "for i in title_tags:\n",
    "    title.append(i.text.replace('/',''))\n",
    "    \n",
    "print(title)\n",
    "print(len(title))"
   ]
  },
  {
   "cell_type": "code",
   "execution_count": 67,
   "id": "5b5f0ee0",
   "metadata": {},
   "outputs": [
    {
     "name": "stdout",
     "output_type": "stream",
     "text": [
      "['Beautiful charts for iOS/tvOS/OSX! The Apple side of the crossplatform MPAndroidChart.', 'A scalable, distributed, collaborative, document-graph database, for the realtime web', 'All Algorithms implemented in Python', 'Ladybird web browser', 'Diffusion Bee is the easiest way to run Stable Diffusion locally on your M1 Mac. Comes with a one-click installer. No dependencies or technical knowledge needed.', 'Neural Networks: Zero to Hero', '📚 Freely available programming books', 'Static checks to aid with a healthy adoption of Compose', 'Free and source-available fair-code licensed workflow automation tool. Easily automate tasks across different services.', 'These are the best resources for System Design on the Internet', 'Moby Project - a collaborative project for the container ecosystem to assemble container-based systems', 'Elegant HTTP Networking in Swift', '🔮 Seamlessly visualize your JSON data instantly into graphs; paste, import or fetch!', 'Open Source realtime backend in 1 file', '前端精读周刊。帮你理解最前沿、实用的技术。', 'The Free Software Media System', 'An opinionated guide on how to become a professional Web/Mobile App Developer.', 'What happens behind the scenes when we type www.google.com in a browser?', 'Empowering everyone to build reliable and efficient software.', 'Home repository for .NET Core', 'Playwright is a framework for Web Testing and Automation. It allows testing Chromium, Firefox and WebKit with a single API.', '\"The mother of all demo apps\" — Exemplary fullstack Medium.com clone powered by React, Angular, Node, Django, and many more 🏅', 'The Serenity Operating System 🐞', 'A complete computer science study plan to become a software engineer.', 'A flowchart/node-based image processing GUI aimed at making chaining image processing tasks (especially upscaling done by neural networks) easy, intuitive, and customizable.']\n",
      "25\n"
     ]
    }
   ],
   "source": [
    "desc=[]\n",
    "desc_tags=driver.find_elements(By.XPATH,'//p[@class=\"col-9 color-fg-muted my-1 pr-4\"]')\n",
    "for i in desc_tags:\n",
    "    desc.append(i.text)\n",
    "    \n",
    "print(desc)\n",
    "print(len(desc))"
   ]
  },
  {
   "cell_type": "code",
   "execution_count": 68,
   "id": "8b1d1eab",
   "metadata": {},
   "outputs": [
    {
     "name": "stdout",
     "output_type": "stream",
     "text": [
      "['5,477', '132', '36,737', '58', '59', '52', '50,677', '17', '2,943', '892', '18,278', '7,245', '535', '377', '2,544', '1,633', '411', '1,044', '9,752', '4,606', '2,001', '6,411', '2,302', '62,328', '40']\n",
      "25\n"
     ]
    }
   ],
   "source": [
    "count=[]\n",
    "count_tags=driver.find_elements(By.XPATH,'//a[@class=\"Link--muted d-inline-block mr-3\"]')\n",
    "for i in count_tags:\n",
    "    count.append(i.text.split()[0])\n",
    "\n",
    "counts=[i for j, i in enumerate(count) if(j%2)!=0]    \n",
    "print(counts)\n",
    "print(len(counts))"
   ]
  },
  {
   "cell_type": "code",
   "execution_count": 69,
   "id": "4dda6016",
   "metadata": {},
   "outputs": [
    {
     "name": "stdout",
     "output_type": "stream",
     "text": [
      "['Swift', 'Rust', 'Python', 'C++', 'Jupyter Notebook', 'Jupyter Notebook', 'Kotlin', 'TypeScript', 'Go', 'Swift', 'TypeScript', 'Go', 'JavaScript', 'C#', 'Rust', 'PowerShell', 'TypeScript', 'Shell', 'C++', 'TypeScript']\n",
      "20\n"
     ]
    }
   ],
   "source": [
    "lang=[]\n",
    "lang_tags=driver.find_elements(By.XPATH,'//span[@itemprop=\"programmingLanguage\"]')\n",
    "for i in lang_tags:\n",
    "    try:\n",
    "        lang.append(i.text)\n",
    "    except NoSuchElementException:\n",
    "        lang.append('-')\n",
    "    \n",
    "print(lang)\n",
    "print(len(lang))"
   ]
  },
  {
   "cell_type": "code",
   "execution_count": 70,
   "id": "2c896273",
   "metadata": {},
   "outputs": [
    {
     "data": {
      "text/html": [
       "<div>\n",
       "<style scoped>\n",
       "    .dataframe tbody tr th:only-of-type {\n",
       "        vertical-align: middle;\n",
       "    }\n",
       "\n",
       "    .dataframe tbody tr th {\n",
       "        vertical-align: top;\n",
       "    }\n",
       "\n",
       "    .dataframe thead th {\n",
       "        text-align: right;\n",
       "    }\n",
       "</style>\n",
       "<table border=\"1\" class=\"dataframe\">\n",
       "  <thead>\n",
       "    <tr style=\"text-align: right;\">\n",
       "      <th></th>\n",
       "      <th>Repository title</th>\n",
       "      <th>Repository description</th>\n",
       "      <th>Countributors count</th>\n",
       "    </tr>\n",
       "  </thead>\n",
       "  <tbody>\n",
       "    <tr>\n",
       "      <th>0</th>\n",
       "      <td>danielgindi</td>\n",
       "      <td>Beautiful charts for iOS/tvOS/OSX! The Apple s...</td>\n",
       "      <td>5,477</td>\n",
       "    </tr>\n",
       "    <tr>\n",
       "      <th>1</th>\n",
       "      <td>surrealdb</td>\n",
       "      <td>A scalable, distributed, collaborative, docume...</td>\n",
       "      <td>132</td>\n",
       "    </tr>\n",
       "    <tr>\n",
       "      <th>2</th>\n",
       "      <td>TheAlgorithms</td>\n",
       "      <td>All Algorithms implemented in Python</td>\n",
       "      <td>36,737</td>\n",
       "    </tr>\n",
       "    <tr>\n",
       "      <th>3</th>\n",
       "      <td>SerenityOS</td>\n",
       "      <td>Ladybird web browser</td>\n",
       "      <td>58</td>\n",
       "    </tr>\n",
       "    <tr>\n",
       "      <th>4</th>\n",
       "      <td>divamgupta</td>\n",
       "      <td>Diffusion Bee is the easiest way to run Stable...</td>\n",
       "      <td>59</td>\n",
       "    </tr>\n",
       "    <tr>\n",
       "      <th>5</th>\n",
       "      <td>karpathy</td>\n",
       "      <td>Neural Networks: Zero to Hero</td>\n",
       "      <td>52</td>\n",
       "    </tr>\n",
       "    <tr>\n",
       "      <th>6</th>\n",
       "      <td>EbookFoundation</td>\n",
       "      <td>📚 Freely available programming books</td>\n",
       "      <td>50,677</td>\n",
       "    </tr>\n",
       "    <tr>\n",
       "      <th>7</th>\n",
       "      <td>twitter</td>\n",
       "      <td>Static checks to aid with a healthy adoption o...</td>\n",
       "      <td>17</td>\n",
       "    </tr>\n",
       "    <tr>\n",
       "      <th>8</th>\n",
       "      <td>n8n-io</td>\n",
       "      <td>Free and source-available fair-code licensed w...</td>\n",
       "      <td>2,943</td>\n",
       "    </tr>\n",
       "    <tr>\n",
       "      <th>9</th>\n",
       "      <td>InterviewReady</td>\n",
       "      <td>These are the best resources for System Design...</td>\n",
       "      <td>892</td>\n",
       "    </tr>\n",
       "    <tr>\n",
       "      <th>10</th>\n",
       "      <td>moby</td>\n",
       "      <td>Moby Project - a collaborative project for the...</td>\n",
       "      <td>18,278</td>\n",
       "    </tr>\n",
       "    <tr>\n",
       "      <th>11</th>\n",
       "      <td>Alamofire</td>\n",
       "      <td>Elegant HTTP Networking in Swift</td>\n",
       "      <td>7,245</td>\n",
       "    </tr>\n",
       "    <tr>\n",
       "      <th>12</th>\n",
       "      <td>AykutSarac</td>\n",
       "      <td>🔮 Seamlessly visualize your JSON data instantl...</td>\n",
       "      <td>535</td>\n",
       "    </tr>\n",
       "    <tr>\n",
       "      <th>13</th>\n",
       "      <td>pocketbase</td>\n",
       "      <td>Open Source realtime backend in 1 file</td>\n",
       "      <td>377</td>\n",
       "    </tr>\n",
       "    <tr>\n",
       "      <th>14</th>\n",
       "      <td>ascoders</td>\n",
       "      <td>前端精读周刊。帮你理解最前沿、实用的技术。</td>\n",
       "      <td>2,544</td>\n",
       "    </tr>\n",
       "    <tr>\n",
       "      <th>15</th>\n",
       "      <td>jellyfin</td>\n",
       "      <td>The Free Software Media System</td>\n",
       "      <td>1,633</td>\n",
       "    </tr>\n",
       "    <tr>\n",
       "      <th>16</th>\n",
       "      <td>apptension</td>\n",
       "      <td>An opinionated guide on how to become a profes...</td>\n",
       "      <td>411</td>\n",
       "    </tr>\n",
       "    <tr>\n",
       "      <th>17</th>\n",
       "      <td>vasanthk</td>\n",
       "      <td>What happens behind the scenes when we type ww...</td>\n",
       "      <td>1,044</td>\n",
       "    </tr>\n",
       "    <tr>\n",
       "      <th>18</th>\n",
       "      <td>rust-lang</td>\n",
       "      <td>Empowering everyone to build reliable and effi...</td>\n",
       "      <td>9,752</td>\n",
       "    </tr>\n",
       "    <tr>\n",
       "      <th>19</th>\n",
       "      <td>dotnet</td>\n",
       "      <td>Home repository for .NET Core</td>\n",
       "      <td>4,606</td>\n",
       "    </tr>\n",
       "    <tr>\n",
       "      <th>20</th>\n",
       "      <td>microsoft</td>\n",
       "      <td>Playwright is a framework for Web Testing and ...</td>\n",
       "      <td>2,001</td>\n",
       "    </tr>\n",
       "    <tr>\n",
       "      <th>21</th>\n",
       "      <td>gothinkster</td>\n",
       "      <td>\"The mother of all demo apps\" — Exemplary full...</td>\n",
       "      <td>6,411</td>\n",
       "    </tr>\n",
       "    <tr>\n",
       "      <th>22</th>\n",
       "      <td>SerenityOS</td>\n",
       "      <td>The Serenity Operating System 🐞</td>\n",
       "      <td>2,302</td>\n",
       "    </tr>\n",
       "    <tr>\n",
       "      <th>23</th>\n",
       "      <td>jwasham</td>\n",
       "      <td>A complete computer science study plan to beco...</td>\n",
       "      <td>62,328</td>\n",
       "    </tr>\n",
       "    <tr>\n",
       "      <th>24</th>\n",
       "      <td>joeyballentine</td>\n",
       "      <td>A flowchart/node-based image processing GUI ai...</td>\n",
       "      <td>40</td>\n",
       "    </tr>\n",
       "  </tbody>\n",
       "</table>\n",
       "</div>"
      ],
      "text/plain": [
       "    Repository title                             Repository description  \\\n",
       "0       danielgindi   Beautiful charts for iOS/tvOS/OSX! The Apple s...   \n",
       "1         surrealdb   A scalable, distributed, collaborative, docume...   \n",
       "2     TheAlgorithms                All Algorithms implemented in Python   \n",
       "3        SerenityOS                                Ladybird web browser   \n",
       "4        divamgupta   Diffusion Bee is the easiest way to run Stable...   \n",
       "5          karpathy                       Neural Networks: Zero to Hero   \n",
       "6   EbookFoundation                📚 Freely available programming books   \n",
       "7           twitter   Static checks to aid with a healthy adoption o...   \n",
       "8            n8n-io   Free and source-available fair-code licensed w...   \n",
       "9    InterviewReady   These are the best resources for System Design...   \n",
       "10             moby   Moby Project - a collaborative project for the...   \n",
       "11        Alamofire                    Elegant HTTP Networking in Swift   \n",
       "12       AykutSarac   🔮 Seamlessly visualize your JSON data instantl...   \n",
       "13       pocketbase              Open Source realtime backend in 1 file   \n",
       "14         ascoders                               前端精读周刊。帮你理解最前沿、实用的技术。   \n",
       "15         jellyfin                      The Free Software Media System   \n",
       "16       apptension   An opinionated guide on how to become a profes...   \n",
       "17         vasanthk   What happens behind the scenes when we type ww...   \n",
       "18        rust-lang   Empowering everyone to build reliable and effi...   \n",
       "19           dotnet                       Home repository for .NET Core   \n",
       "20        microsoft   Playwright is a framework for Web Testing and ...   \n",
       "21      gothinkster   \"The mother of all demo apps\" — Exemplary full...   \n",
       "22       SerenityOS                     The Serenity Operating System 🐞   \n",
       "23          jwasham   A complete computer science study plan to beco...   \n",
       "24   joeyballentine   A flowchart/node-based image processing GUI ai...   \n",
       "\n",
       "   Countributors count  \n",
       "0                5,477  \n",
       "1                  132  \n",
       "2               36,737  \n",
       "3                   58  \n",
       "4                   59  \n",
       "5                   52  \n",
       "6               50,677  \n",
       "7                   17  \n",
       "8                2,943  \n",
       "9                  892  \n",
       "10              18,278  \n",
       "11               7,245  \n",
       "12                 535  \n",
       "13                 377  \n",
       "14               2,544  \n",
       "15               1,633  \n",
       "16                 411  \n",
       "17               1,044  \n",
       "18               9,752  \n",
       "19               4,606  \n",
       "20               2,001  \n",
       "21               6,411  \n",
       "22               2,302  \n",
       "23              62,328  \n",
       "24                  40  "
      ]
     },
     "execution_count": 70,
     "metadata": {},
     "output_type": "execute_result"
    }
   ],
   "source": [
    "df=pd.DataFrame({'Repository title':title, 'Repository description':desc, 'Countributors count':counts})\n",
    "df"
   ]
  },
  {
   "cell_type": "markdown",
   "id": "f48ff84a",
   "metadata": {},
   "source": [
    "# 6. Scrape the details of top 100 songs on billiboard.com. Url = https:/www.billboard.com/\n",
    "You have to find the following details:\n",
    "A) Song name\n",
    "B) Artist name\n",
    "C) Last week rank\n",
    "D) Peak rank\n",
    "E) Weeks on board"
   ]
  },
  {
   "cell_type": "code",
   "execution_count": 71,
   "id": "f0188df9",
   "metadata": {},
   "outputs": [],
   "source": [
    "driver.get('https://www.billboard.com/')"
   ]
  },
  {
   "cell_type": "code",
   "execution_count": 72,
   "id": "d6503a13",
   "metadata": {},
   "outputs": [],
   "source": [
    "chart_select=driver.find_element(By.XPATH,'/html/body/div[3]/header/div[1]/div/div/div[2]/div/nav/ul/li[1]/a')\n",
    "chart_select.click()"
   ]
  },
  {
   "cell_type": "code",
   "execution_count": 73,
   "id": "396d7183",
   "metadata": {},
   "outputs": [],
   "source": [
    "hot_select=driver.find_element(By.XPATH,'/html/body/div[3]/header/div[2]/div/nav/ul/li[1]/a')\n",
    "hot_select.click()"
   ]
  },
  {
   "cell_type": "code",
   "execution_count": 74,
   "id": "5ec6e08b",
   "metadata": {},
   "outputs": [
    {
     "name": "stdout",
     "output_type": "stream",
     "text": [
      "['Bad Habit', 'Late Night Talking', 'Sunroof', 'About Damn Time', 'I Like You (A Happier Song)', 'Super Freaky Girl', \"I Ain't Worried\", 'Running Up That Hill (A Deal With God)', 'You Proof', 'Wait For U', 'Me Porto Bonito', 'Titi Me Pregunto', 'The Kind Of Love We Make', 'Break My Soul', 'First Class', 'Wasted On You', 'Heat Waves', 'She Had Me At Heads Carolina', 'Vegas', 'Jimmy Cooks', 'Stay', 'Hold Me Closer', '5 Foot 9', 'Detox', 'Glimpse Of Us', 'Last Night Lonely', 'Moscow Mule', 'Big Energy', 'Staying Alive', 'Betty (Get Money)', 'Something In The Orange', 'Ghost', 'Shivers', 'In A Minute', 'Rock And A Hard Place', 'Left And Right', 'Efecto', 'Son Of A Sinner', 'Numb', 'Fall In Love', 'Talk', 'God Did', 'Provenza', 'Unstoppable', \"I'm Good (Blue)\", 'Numb Little Bug', 'Bones', 'Dah Dah DahDah', 'Victoria’s Secret', 'Gatubela', 'Die For You', 'Last Last', 'Truth About You', 'Hot Shit', 'Free Mind', 'Sleazy Flow', 'So Good', 'With A Woman You Love', 'Like I Love Country Music', 'Wishful Drinking', 'Party', 'Despecha', \"F.N.F. (Let's Go)\", 'Golden Hour', 'Ojitos Lindos', 'Pink Venom', 'Beat The Odds', 'Sticky', 'Pick Me Up', 'Whiskey On You', 'Despues de La Playa', 'Beautiful', 'She Likes It', 'Until I Found You', 'Ghost Story', 'Romantic Homicide', '2 Be Loved (Am I Ready)', 'Where It Ends', 'Alone', 'Neverita', 'All Mine', 'Tarot', 'What My World Spins Around', 'Half Of Me', 'La Bachata', 'Music For A Sushi Restaurant', \"Don't Come Lookin'\", 'Soul', 'Bad Decisions', 'Calm Down', 'Puffin On Zootiez', 'Snap', 'Hotel Lobby (Unc And Phew)', 'Bzrp Music Sessions, Vol. 52', 'Thought You Should Know', 'Country On', 'Static', 'Billie Eilish.', 'Sin Fin']\n",
      "99\n"
     ]
    }
   ],
   "source": [
    "song=[]\n",
    "song_tags=driver.find_elements(By.XPATH,'//h3[@class=\"c-title  a-no-trucate a-font-primary-bold-s u-letter-spacing-0021 lrv-u-font-size-18@tablet lrv-u-font-size-16 u-line-height-125 u-line-height-normal@mobile-max a-truncate-ellipsis u-max-width-330 u-max-width-230@tablet-only\"]')\n",
    "for i in song_tags:\n",
    "    song.append(i.text.replace(\"'',\",'-'))\n",
    "    \n",
    "print(song)\n",
    "print(len(song))"
   ]
  },
  {
   "cell_type": "code",
   "execution_count": 75,
   "id": "d9d424c6",
   "metadata": {},
   "outputs": [
    {
     "name": "stdout",
     "output_type": "stream",
     "text": [
      "['Steve Lacy', 'Harry Styles', 'Nicky Youre & dazy', 'Lizzo', 'Post Malone Featuring Doja Cat', 'Nicki Minaj', 'OneRepublic', 'Kate Bush', 'Morgan Wallen', 'Future Featuring Drake & Tems', 'Bad Bunny & Chencho Corleone', 'Bad Bunny', 'Luke Combs', 'Beyonce', 'Jack Harlow', 'Morgan Wallen', 'Glass Animals', 'Cole Swindell', 'Doja Cat', 'Drake Featuring 21 Savage', 'The Kid LAROI & Justin Bieber', 'Elton John & Britney Spears', 'Tyler Hubbard', 'Lil Baby', 'Joji', 'Jon Pardi', 'Bad Bunny', 'Latto', 'DJ Khaled Featuring Drake & Lil Baby', 'Yung Gravy', 'Zach Bryan', 'Justin Bieber', 'Ed Sheeran', 'Lil Baby', 'Bailey Zimmerman', 'Charlie Puth Featuring Jung Kook', 'Bad Bunny', 'Jelly Roll', 'Marshmello & Khalid', 'Bailey Zimmerman', 'Yeat', 'DJ Khaled Featuring Rick Ross, Lil Wayne, JAY-Z, John Legend & Fridayy', 'Karol G', 'Sia', 'David Guetta & Bebe Rexha', 'Em Beihold', 'Imagine Dragons', 'Nardo Wick', 'Jax', 'Karol G x Maldy', 'The Weeknd', 'Burna Boy', 'Mitchell Tenpenny', 'Cardi B, Ye & Lil Durk', 'Tems', 'SleazyWorld Go Featuring Lil Baby', 'Halsey', 'Justin Moore', 'Kane Brown', 'Ingrid Andress With Sam Hunt', 'Bad Bunny & Rauw Alejandro', 'Rosalia', 'Hitkidd & GloRilla', 'JVKE', 'Bad Bunny & Bomba Estereo', 'BLACKPINK', 'Lil Tjay', 'Drake', 'Gabby Barrett', 'Nate Smith', 'Bad Bunny', 'DJ Khaled Featuring Future & SZA', 'Russell Dickerson & Jake Scott', 'Stephen Sanchez', 'Carrie Underwood', 'd4vd', 'Lizzo', 'Bailey Zimmerman', 'Rod Wave', 'Bad Bunny', 'Brent Faiyaz', 'Bad Bunny & Jhay Cortez', 'Jordan Davis', 'Thomas Rhett Featuring Riley Green', 'Manuel Turizo', 'Harry Styles', 'Jackson Dean', 'Lee Brice', 'benny blanco, BTS & Snoop Dogg', 'Rema & Selena Gomez', 'Future', 'Rosa Linn', 'Quavo & Takeoff', 'Bizarrap & Quevedo', 'Morgan Wallen', 'Luke Bryan', 'Steve Lacy', 'Armani White', 'Romeo Santos & Justin Timberlake']\n",
      "99\n"
     ]
    }
   ],
   "source": [
    "artist=[]\n",
    "artist_tags=driver.find_elements(By.XPATH,'//span[@class=\"c-label  a-no-trucate a-font-primary-s lrv-u-font-size-14@mobile-max u-line-height-normal@mobile-max u-letter-spacing-0021 lrv-u-display-block a-truncate-ellipsis-2line u-max-width-330 u-max-width-230@tablet-only\"]')\n",
    "for i in artist_tags:\n",
    "    artist.append(i.text)\n",
    "print(artist)\n",
    "print(len(artist))"
   ]
  },
  {
   "cell_type": "code",
   "execution_count": 76,
   "id": "a239ca13",
   "metadata": {},
   "outputs": [
    {
     "name": "stdout",
     "output_type": "stream",
     "text": [
      "['2', '2', '10', '', '', '', '12', '3', '16', '', '', '', '5', '4', '15', '', '', '', '3', '1', '21', '', '', '', '8', '6', '14', '', '', '', '7', '1', '4', '', '', '', '14', '8', '13', '', '', '', '4', '3', '35', '', '', '', '13', '6', '17', '', '', '', '10', '1', '19', '', '', '', '11', '6', '18', '', '', '', '16', '5', '18', '', '', '', '15', '13', '12', '', '', '', '9', '1', '12', '', '', '', '18', '1', '22', '', '', '', '20', '9', '43', '', '', '', '19', '1', '86', '', '', '', '22', '18', '15', '', '', '', '25', '20', '14', '', '', '', '23', '1', '12', '', '', '', '24', '1', '61', '', '', '', '6', '6', '2', '', '', '', '28', '24', '13', '', '', '', '-', '25', '1', '', '', '', '26', '8', '13', '', '', '', '27', '27', '15', '', '', '', '30', '4', '18', '', '', '', '32', '3', '46', '', '', '', '21', '5', '5', '', '', '', '33', '31', '9', '', '', '', '42', '30', '20', '', '', '', '34', '5', '50', '', '', '', '35', '4', '52', '', '', '', '40', '14', '22', '', '', '', '38', '24', '13', '', '', '', '47', '22', '11', '', '', '', '39', '34', '18', '', '', '', '43', '39', '10', '', '', '', '44', '40', '10', '', '', '', '45', '31', '19', '', '', '', '-', '42', '1', '', '', '', '17', '17', '2', '', '', '', '46', '25', '20', '', '', '', '50', '45', '10', '', '', '', '81', '46', '2', '', '', '', '48', '18', '32', '', '', '', '58', '48', '16', '', '', '', '54', '48', '6', '', '', '', '59', '50', '6', '', '', '', '37', '37', '2', '', '', '', '69', '43', '6', '', '', '', '67', '53', '9', '', '', '', '70', '54', '8', '', '', '', '60', '13', '10', '', '', '', '61', '56', '8', '', '', '', '62', '47', '15', '', '', '', '63', '54', '13', '', '', '', '64', '59', '7', '', '', '', '52', '26', '16', '', '', '', '51', '51', '10', '', '', '', '65', '14', '18', '', '', '', '75', '63', '5', '', '', '', '73', '49', '15', '', '', '', '71', '65', '2', '', '', '', '68', '26', '18', '', '', '', '53', '22', '3', '', '', '', '36', '36', '2', '', '', '', '56', '6', '12', '', '', '', '80', '69', '7', '', '', '', '82', '65', '12', '', '', '', '74', '6', '18', '', '', '', '29', '29', '2', '', '', '', '84', '63', '23', '', '', '', '87', '75', '10', '', '', '', '85', '61', '16', '', '', '', '-', '77', '1', '', '', '', '97', '78', '4', '', '', '', '72', '32', '3', '', '', '', '76', '21', '4', '', '', '', '79', '31', '9', '', '', '', '88', '42', '5', '', '', '', '83', '18', '18', '', '', '', '93', '84', '4', '', '', '', '92', '85', '3', '', '', '', '95', '86', '3', '', '', '', '-', '8', '8', '', '', '', '-', '88', '2', '', '', '', '-', '89', '2', '', '', '', '89', '10', '5', '', '', '', '-', '91', '1', '', '', '', '91', '4', '19', '', '', '', '-', '93', '2', '', '', '', '94', '59', '15', '', '', '', '100', '82', '5', '', '', '', '96', '12', '18', '', '', '', '-', '76', '3', '', '', '', '-', '98', '1', '', '', '', '-', '99', '1', '', '', '', '-', '100', '1', '', '', '']\n",
      "594\n"
     ]
    }
   ],
   "source": [
    "rank=[]\n",
    "rank_tags=driver.find_elements(By.XPATH,'//span[@class=\"c-label  a-font-primary-m lrv-u-padding-tb-050@mobile-max\"]')\n",
    "for i in rank_tags:\n",
    "    rank.append(i.text)\n",
    "print(rank)\n",
    "print(len(rank))"
   ]
  },
  {
   "cell_type": "code",
   "execution_count": 77,
   "id": "6c86037f",
   "metadata": {},
   "outputs": [
    {
     "name": "stdout",
     "output_type": "stream",
     "text": [
      "['23', '10', '16', '15', '21', '14', '4', '13', '35', '17', '19', '18', '18', '12', '12', '22', '43', '86', '15', '14', '12', '61', '2', '13', '1', '13', '15', '18', '46', '5', '9', '20', '50', '52', '22', '13', '11', '18', '10', '10', '19', '1', '2', '20', '10', '2', '32', '16', '6', '6', '2', '6', '9', '8', '10', '8', '15', '13', '7', '16', '10', '18', '5', '15', '2', '18', '3', '2', '12', '7', '12', '18', '2', '23', '10', '16', '1', '4', '3', '4', '9', '5', '18', '4', '3', '3', '8', '2', '2', '5', '1', '19', '2', '15', '5', '18', '3', '1', '1', '1']\n",
      "100\n"
     ]
    }
   ],
   "source": [
    "boards=[]\n",
    "boards_tags=driver.find_elements(By.XPATH,'//li[@class=\"o-chart-results-list__item // a-chart-color u-width-72 u-width-55@mobile-max u-width-55@tablet-only lrv-u-flex lrv-u-flex-shrink-0 lrv-u-align-items-center lrv-u-justify-content-center lrv-u-border-b-1 u-border-b-0@mobile-max lrv-u-border-color-grey-light u-background-color-white-064@mobile-max u-hidden@mobile-max\"]')\n",
    "for i in boards_tags:\n",
    "    boards.append(i.text)\n",
    "weeks_on_board= [i for j, i in enumerate(boards) if(j%2)!=0]    \n",
    "print(weeks_on_board)\n",
    "print(len(weeks_on_board))"
   ]
  },
  {
   "cell_type": "code",
   "execution_count": 78,
   "id": "70e3b22b",
   "metadata": {},
   "outputs": [
    {
     "name": "stdout",
     "output_type": "stream",
     "text": [
      "['1', '2', '12', '5', '3', '8', '7', '14', '4', '13', '10', '11', '16', '15', '9', '18', '20', '19', '22', '25', '23', '24', '6', '28', '-', '26', '27', '30', '32', '21', '33', '42', '34', '35', '40', '38', '47', '39', '43', '44', '45', '-', '17', '46', '50', '81', '48', '58', '54', '59', '37', '69', '67', '70', '60', '61', '62', '63', '64', '52', '51', '65', '75', '73', '71', '68', '53', '36', '56', '80', '82', '74', '29', '84', '87', '85', '-', '97', '72', '76', '79', '88', '83', '93', '92', '95', '-', '-', '-', '89', '-', '91', '-', '94', '100', '96', '-', '-', '-', '-']\n",
      "100\n"
     ]
    }
   ],
   "source": [
    "last_week=[]\n",
    "last_tags=driver.find_elements(By.XPATH,'//li[@class=\"o-chart-results-list__item // a-chart-color u-width-72 u-width-55@mobile-max u-width-55@tablet-only lrv-u-flex lrv-u-flex-shrink-0 lrv-u-align-items-center lrv-u-justify-content-center lrv-u-border-b-1 u-border-b-0@mobile-max lrv-u-border-color-grey-light u-background-color-white-064@mobile-max u-hidden@mobile-max\"]')\n",
    "for i in last_tags:\n",
    "    last_week.append(i.text)\n",
    "last_week_rank= [i for j, i in enumerate(last_week) if(j%2)==0]    \n",
    "print(last_week_rank)\n",
    "print(len(last_week_rank))"
   ]
  },
  {
   "cell_type": "markdown",
   "id": "4efa33b5",
   "metadata": {},
   "source": [
    "# 7. Scrape the details of Data science recruiters from naukri.com. Url = https://www.naukri.com/\n",
    "You have to find the following details:\n",
    "A) Name\n",
    "B) Designation\n",
    "C) Company\n",
    "D) Skills they hire for\n",
    "E) Location"
   ]
  },
  {
   "cell_type": "code",
   "execution_count": 79,
   "id": "0ce6e354",
   "metadata": {},
   "outputs": [],
   "source": [
    "driver.get('https://www.naukri.com/')"
   ]
  },
  {
   "cell_type": "code",
   "execution_count": 80,
   "id": "1846a0b6",
   "metadata": {},
   "outputs": [
    {
     "data": {
      "text/plain": [
       "<selenium.webdriver.remote.webelement.WebElement (session=\"1e205c6180484094d93a880e8df44543\", element=\"224fca73-9d23-4bef-ba21-08bab7ef1ee0\")>"
      ]
     },
     "execution_count": 80,
     "metadata": {},
     "output_type": "execute_result"
    }
   ],
   "source": [
    "driver.find_element(By.XPATH,'/html/body/div[1]/div[4]/div[2]/nav/ul/li[1]/a')\n",
    "#print(job_option.text)"
   ]
  },
  {
   "cell_type": "code",
   "execution_count": 81,
   "id": "944b003d",
   "metadata": {},
   "outputs": [
    {
     "data": {
      "text/plain": [
       "<selenium.webdriver.remote.webelement.WebElement (session=\"1e205c6180484094d93a880e8df44543\", element=\"81422a46-1be8-4ceb-90ea-59fffcd641a0\")>"
      ]
     },
     "execution_count": 81,
     "metadata": {},
     "output_type": "execute_result"
    }
   ],
   "source": [
    "driver.find_element(By.XPATH,'/html/body/div[1]/div[4]/div[2]/nav/ul/li[1]/div/ul[4]/li[2]/a')"
   ]
  },
  {
   "cell_type": "code",
   "execution_count": 82,
   "id": "de419513",
   "metadata": {},
   "outputs": [],
   "source": [
    "driver.get('https://www.naukri.com/jobs-by-category')"
   ]
  },
  {
   "cell_type": "code",
   "execution_count": 83,
   "id": "4e032615",
   "metadata": {},
   "outputs": [],
   "source": [
    "recruiter=driver.find_element(By.XPATH,'/html/body/div[1]/div/ul/li[2]/a/div')\n",
    "recruiter.click()"
   ]
  },
  {
   "cell_type": "code",
   "execution_count": 84,
   "id": "2657ec1b",
   "metadata": {},
   "outputs": [],
   "source": [
    "driver.switch_to.window(driver.window_handles[1])"
   ]
  },
  {
   "cell_type": "code",
   "execution_count": 85,
   "id": "7af9d22f",
   "metadata": {},
   "outputs": [],
   "source": [
    "input=driver.find_element(By.XPATH,'/html/body/div[2]/div[2]/div[1]/div[1]/form/div[1]/div/div[1]/div[1]/div[2]/input')\n",
    "input.send_keys('Data science')"
   ]
  },
  {
   "cell_type": "code",
   "execution_count": 86,
   "id": "4d1dcbfa",
   "metadata": {},
   "outputs": [],
   "source": [
    "search=driver.find_element(By.XPATH,'/html/body/div[2]/div[2]/div[1]/div[1]/form/div[1]/button')\n",
    "search.click()"
   ]
  },
  {
   "cell_type": "code",
   "execution_count": 87,
   "id": "b7292ade",
   "metadata": {},
   "outputs": [
    {
     "name": "stdout",
     "output_type": "stream",
     "text": [
      "['Aakash Harit', 'shravan Kumar Gaddam', 'MARSIAN Technologies LLP', 'Anik Agrawal', 'subhas patel', 'Abhishek - Only Analytics Hiring - India and', 'Institute for Financial Management and Resear', 'Balu Ramesh', 'Asif Lucknowi', 'InstaFinancials', 'Priyanka Akiri', 'Kalpana Dumpala', 'Mubarak', 'Kushal Rastogi', 'Vaishnavi Kudalkar', 'Mahesh Babu Channa', 'Kapil Devang', 'Sakshi Chhikara', 'Ruchi Dhote', 'Manisha Yadav', 'Riya Rajesh', 'Rashmi Bhattacharjee', 'Faizan Kareem', 'Rithika dadwal', 'Sandhya Khandagale', 'Shaun Rao', 'Azahar Shaikh', 'Manas', 'kumar', 'Sunil Vedula', 'Rajat Kumar', 'Dhruv Dev Dubey', 'Jayanth N', 'Avodha', 'Daniel Vaz', 'Priya Khare', 'Amit Sharma', 'Kanan', 'Shashikant Chaudhary', 'Brad', 'Rutuja Pawar', 'Madhusudhan Sridhar', 'Ankit Sinha', 'Gaurav Chouhan', 'Rashi Kacker', 'Ashwini', 'Balaji Kolli', 'Rajani Nagaraj', 'ROHIT Kumar', 'Amir Chowdhury']\n",
      "50\n"
     ]
    }
   ],
   "source": [
    "name=[]\n",
    "name_tags=driver.find_elements(By.XPATH,'//span[@class=\"fl ellipsis\"]')\n",
    "for i in name_tags:\n",
    "    name.append(i.text)\n",
    "print(name)\n",
    "print(len(name))"
   ]
  },
  {
   "cell_type": "code",
   "execution_count": 88,
   "id": "3c86a1ee",
   "metadata": {},
   "outputs": [
    {
     "name": "stdout",
     "output_type": "stream",
     "text": [
      "['HR Manager', 'Company Recruiter', 'Company HR', 'Company Recruiter', 'Founder CEO', 'Recruitment Lead Consultant', 'Programme Manager', 'HR Administrator', 'Director', 'Human Resource', 'HR Manager', 'Executive Hiring', 'Company HR', 'Company HR', 'HR Executive', 'HR Team Lead', 'HR Manager', 'Assistant Manager HR', 'Senior Executive Talent Acquisition', 'HR Executive', 'Manager Talent Acquisition', 'HR Head', 'HR MANAGER', 'HR Recruiter', 'HR Recruiter', 'Manager Human Resources', 'Company Recruiter', 'Lead Talent acquisition', 'Proprietor', 'CEO', 'Founder CEO', 'Company Recruitment Head', 'Project Manager', 'Business Development Associate', 'Partner', 'Senior Manager', 'Consultant', 'senior technology instructor', 'HR Recruiter/HR Excutive', 'Manager, Technical Recruiting', 'Technical Recruiter', 'Erp Implementer', 'Head Analytics', 'Chief Technical Officer', 'Sr Product Manager', 'Director Global Delivery', 'Co Founder', 'HR Manager', 'Architect', 'Managing Partner']\n",
      "50\n"
     ]
    }
   ],
   "source": [
    "designation=[]\n",
    "desig_tags=driver.find_elements(By.XPATH,'//span[@class=\"ellipsis clr\"]')\n",
    "for i in desig_tags:\n",
    "    designation.append(i.text)\n",
    "print(designation)\n",
    "print(len(designation))"
   ]
  },
  {
   "cell_type": "code",
   "execution_count": 91,
   "id": "a06c557c",
   "metadata": {},
   "outputs": [
    {
     "name": "stdout",
     "output_type": "stream",
     "text": [
      "['Data Science Network', 'Shore Infotech India Pvt. Ltd', 'MARSIAN Technologies LLP', 'Enerlytics Software Solutions Pvt Ltd', 'LibraryXProject', 'Apidel Technologies Division of Transpower', 'IFMR', 'Techvantage Systems Pvt Ltd', 'Weupskill- Live Wire India', 'CBL Data Science Private Limited', 'Infinitive Software Solutions', 'Innominds Software', 'MoneyTap', 'QuantMagnum Technologies Pvt. Ltd.', 'Codeachive learning', 'SocialPrachar.com', 'BISP Solutions', 'BIZ INFOTECNO PRIVATE LIMITED', 'Bristlecone India Ltd', 'Easi Tax', 'Novelworx Digital Solutions', 'AXESTRACK SOFTWARE SOLUTIONS PRIVATE...', 'FirstTech Consaltants Pvt.Ltd', 'Affine Analytics', 'Compumatrice Multimedia Pvt Ltd', 'Exela Technologies', 'NEAL ANALYTICS SERVICES PVT LTD', 'Autumn Leaf Consulting Services Private...', 'trainin', 'Nanoprecise Sci Corp', 'R.S Consultancy &amp; Services', 'Confidential', 'Dollarbird Information Services Pvt, Ltd', 'Nikitha Palaparthi', 'Aquis Search', 'Independent Consultant', 'ASCO consulting', 'NY INST', '3D India Staffing Research &amp; Consulting...', 'O.C. Tanner', 'Demand Matrix', 'MADHUSUDHAN SRIDHAR', 'Suntech Global', 'Strategic Consulting Lab', 'Impel Labs Pvt. Ltd.', 'MRP Advisers', 'Saras Solutions India Pvt Ltd', 'WildJasmine', 'LNT Private Limited', 'Granular.ai']\n",
      "50\n"
     ]
    }
   ],
   "source": [
    "company=[]\n",
    "company_tags=driver.find_elements(By.XPATH,'//p[@class=\"highlightable\"]/a[2]')\n",
    "for i in company_tags:\n",
    "    company.append(i.text)\n",
    "print(company)\n",
    "print(len(company))"
   ]
  },
  {
   "cell_type": "code",
   "execution_count": 92,
   "id": "e8e3f66f",
   "metadata": {},
   "outputs": [
    {
     "name": "stdout",
     "output_type": "stream",
     "text": [
      "['Classic ASP Developer, Internet Marketing Professional, Data Science SME, Content Writers, SEO Professional, Revenue Professional', '.Net, Java, Data Science, Linux Administration, Sql Server Development, Winforms, Wcf Services, Wpf, Telecom Engineering, Technical Management, Software', 'Data Science, Artificial Intelligence, Machine Learning, Business Analytics, Deep Learning, statistics, Data Analytics, Data Analysis, support vector machine', 'Mean Stack, javascript, angularjs, mongodb, Web Services, rest, express, Node.js, Big Data, iot, Data Science, Cloud Computing, saas, Aws', 'Hadoop, Spark, Digital Strategy, Data Architecture, Command Center, Cdp, Dmp, Kafka, Data Science, Data Analysis, Big Data Analytics, Real Time Analysis, SQL', 'Analytics, Business Intelligence, Business Analytics, Predictive Modeling, Predictive Analytics, Data Science, Data Analysis, Data Analytics, Big Data, Big', 'Data Science', 'Machine Learning, algorithms, Go Getter, Computer Science, spark, Big Data, hdfs, sql, cassandra, hadoop, python, scala, java, Data Science, Front End', 'Technical Training, Software Development, Presentation Skills, B.tech, M.tech, B.e., mca, msc, Computer Science, freshers, jobs in indore, Data Science, itil', 'Software Development, It Sales, Account Management, Data Analysis, Customer Service, Sr, Software Engineering, Mvc, Ajax, Asp.net, Html, C#, Javascript', 'Oracle Dba, Data Science, Data Warehousing, ETL, Jupyter, Numpy, Data Transformation, Snowflake, Teradata, Python, Data Manipulation, Relational Databases', 'Qa, Ui/ux, Java Developer, Java Architect, C++/qt, Php, Lamp, Api, J2ee, Java, Soa, Esb, Middleware, Bigdata Achitect, Hadoop Architect, Deep', 'Business Intelligence, Data Warehousing, Data Science, Business Analytics, Customer Support, Business Reporting, Bi', 'Office Administration, Hr Administration, telecalling, client relationship management, Client Acquisition, Sales, Reception, HR, Recruitment, Onboarding, Human', 'Data Science, Python, Data Analytics', 'Social Media, digital media maketing, seo, smm, smo, sem, Content Wirting, social media marketing, social media manager, digital media marketing manager', 'Big Data, Hadoop, Data Analytics, Data Science', 'React.js, Data Science, Java, Front End, Business Analytics, Backend, Tableau, Python, Qa Testing, Automation Testing', 'Qlikview, Qlik Sense, Microsoft Azure, Power Bi, Data Science, Machine Learning', 'Telecalling, Client Interaction, Marketing, Research, Web Development, Social Media Marketing, Data Entry Operation, Excel, Ms Office, Invoicing', 'Data Science', 'Corporate Sales, Software Development, Software Sales, Marketing, Creative Designing, Corporate Planning, Senior Management, Crm, Client Relationship', 'Data Analytics, Data Science, Machine Learning, Deep Learning, Nlp, Data Mining, Python, R, Database Administration, Text Mining', 'Data Science, Machine Learning, Python, R, Deep Learning, Big Data, Hadoop', 'Big Data, Data Science, Artificial Intelligence, Hadoop, Ui Development, Php, Freelancing, .Net, Software Testing, Sap, Leadership Hiring', 'Java, Net, Angularjs, Hr, Infrastructure, Management, Project Management, Business Analysis, Data Science, Information Technology, Technology', 'Data Science, Artificial Intelligence, Machine Learning, Data Analytics', 'Software Architecture, Vp Engineering, Product Management, analytics, Data Science, Node.js, Principal Engineer, Big Data, python, angularjs, React.js', 'Data Science, Hadoop, Rpas, Devops, Python, Aws, Teaching, Big Data', 'Signal Processing, Machine Learning, Neural Networks, Data Science, Predictive Analytics, Time Series Analysis, Data Visualization, Technical Leadership, Data', 'Web Technologies, Project Management, Software Architecture, Data Science, Object Oriented Programming, Computer Science, Electrical Engineering, Architecture', 'Server Administartion, Verilog, Vhdl, Digital Marketing, Market Research, Property Research, Legal, It And Non It Recruitment, Logistics, Supply Chain, Bfsi', 'Data Analytics, Managed Services, Team Leading, python, Machine Learning, Google Analytics, Dmp, Aws, Campaign Analytics, Digital Campaigns, Audience', 'Ethical Hacking, Security Operations Center, SOC, Managed Services, Data Science, Machine Learning, Artificial Intelligence, Operations Research, Education', 'c++, Core Java, kdb, high frequency trading, hft, direct market access, Algorithmic Trading, Quant Development, Market Data, Fpga, Exchange Connectivity', 'Data Science, Artificial Intelligence, analytics, Business Intelligence, python, tableau, Power Bi, qlikview, sql, Data Warehousing, Data Visualization', 'Machine Learning, Artificial Intelligence, Data Science, Software Engineering, Software Development, Graduate Engineer Trainee, Fresher, Data Analytics, Java', 'C, C++, Artificial Intelligence, Python, Php, Web Development, Matlab, Data Science, Augmented Reality, C C++', 'Relationship Management, Retail Sales, Private Banking, Mutual Funds, NISM, Equity, Finance, Financial Products, Financial Services, Verbal, Written', 'Data Science, Software Engineering', 'Data Science, Big Data Analytics, Digital Marketing, Content Writing, Ui Development, Database Development, Qa Automation, Python, Project Management', 'Data Science, Recruitment, Salary', 'B.Tech, Tableau, Statistics, R, Analytics, Time Series, Data Science, Business Solutions, SQL, Technical Skills, SSAS, SQL Server, Analysis Services, Qlikview', 'Software Development, Business Intelligence, Big Data Analytics, Database Administration, Data Science, Microsoft Azure, Spark, Cassandra, Object Oriented', 'Data Science, Node.js, Angularjs', 'Data Science, Media Marketing, Resource Planning, Managed Services, Display Advertising, Machine Learning, Python, Etl, Sql', 'Data Analysis, Learning, Data Science, Computer Science, Communication Skills', 'Java, Hadoop, R, Machine Learning, Spark, Flume, Hdfs, Data Mining, Sas, Big, Data Science, Cloudera, Impala, Bigdata', 'Software Development, Core Java, Unit Testing, Customer Experience, Problem Solving, Communication Skills, Mysql, Data Science, Sales Management, Analytics', 'Machine Learning, Data Science, Product Management, New Product, Data Analysis, Computer Vision, Deep Learning, Python, Remote Sensing']\n",
      "50\n"
     ]
    }
   ],
   "source": [
    "skills=[]\n",
    "skills_tags=driver.find_elements(By.XPATH,'//div[@class=\"hireSec highlightable\"]')\n",
    "for i in skills_tags:\n",
    "    skills.append(i.text)\n",
    "print(skills)\n",
    "print(len(skills))"
   ]
  },
  {
   "cell_type": "code",
   "execution_count": 93,
   "id": "9aa00f2a",
   "metadata": {},
   "outputs": [
    {
     "name": "stdout",
     "output_type": "stream",
     "text": [
      "['Delhi', 'Hyderabad / Secunderabad', 'Pune', 'Ahmedabad', 'UK - (london)', 'Vadodara / Baroda', 'Chennai', 'Trivandrum', 'Indore', 'Bengaluru / Bangalore', 'Hyderabad', 'Hyderabad / Secunderabad', 'Bengaluru / Bangalore', 'Mumbai', 'Mumbai', 'Hyderabad / Secunderabad', 'Bhopal', 'Chandigarh', 'Pune', 'Navi Mumbai', 'Cochin', 'Delhi', 'Hyderabad / Secunderabad', 'Pune', 'Pune', 'Pune', 'Pune', 'Bengaluru / Bangalore', 'Bengaluru / Bangalore', 'Delhi', 'Bengaluru / Bangalore', 'Mysoru / Mysore', 'Hyderabad / Secunderabad', 'Mumbai', 'Bengaluru / Bangalore', 'New Delhi', 'Chennai', 'Aligarh', 'Salt Lake City', 'Pune', 'Bengaluru / Bangalore', 'Mumbai', 'Indore', 'Bengaluru / Bangalore', 'MYSORE', 'Hyderabad / Secunderabad', 'Bengaluru / Bangalore', 'Mumbai']\n",
      "48\n"
     ]
    }
   ],
   "source": [
    "location=[]\n",
    "location_tags=driver.find_elements(By.XPATH,'//small[@class=\"ellipsis\"]')\n",
    "for i in location_tags:\n",
    "    location.append(i.text)\n",
    "print(location)\n",
    "print(len(location))"
   ]
  },
  {
   "cell_type": "code",
   "execution_count": 95,
   "id": "3161233f",
   "metadata": {},
   "outputs": [
    {
     "data": {
      "text/html": [
       "<div>\n",
       "<style scoped>\n",
       "    .dataframe tbody tr th:only-of-type {\n",
       "        vertical-align: middle;\n",
       "    }\n",
       "\n",
       "    .dataframe tbody tr th {\n",
       "        vertical-align: top;\n",
       "    }\n",
       "\n",
       "    .dataframe thead th {\n",
       "        text-align: right;\n",
       "    }\n",
       "</style>\n",
       "<table border=\"1\" class=\"dataframe\">\n",
       "  <thead>\n",
       "    <tr style=\"text-align: right;\">\n",
       "      <th></th>\n",
       "      <th>Name</th>\n",
       "      <th>Designation</th>\n",
       "      <th>Company</th>\n",
       "      <th>Skill they hire for</th>\n",
       "    </tr>\n",
       "  </thead>\n",
       "  <tbody>\n",
       "    <tr>\n",
       "      <th>0</th>\n",
       "      <td>Aakash Harit</td>\n",
       "      <td>HR Manager</td>\n",
       "      <td>Data Science Network</td>\n",
       "      <td>Classic ASP Developer, Internet Marketing Prof...</td>\n",
       "    </tr>\n",
       "    <tr>\n",
       "      <th>1</th>\n",
       "      <td>shravan Kumar Gaddam</td>\n",
       "      <td>Company Recruiter</td>\n",
       "      <td>Shore Infotech India Pvt. Ltd</td>\n",
       "      <td>.Net, Java, Data Science, Linux Administration...</td>\n",
       "    </tr>\n",
       "    <tr>\n",
       "      <th>2</th>\n",
       "      <td>MARSIAN Technologies LLP</td>\n",
       "      <td>Company HR</td>\n",
       "      <td>MARSIAN Technologies LLP</td>\n",
       "      <td>Data Science, Artificial Intelligence, Machine...</td>\n",
       "    </tr>\n",
       "    <tr>\n",
       "      <th>3</th>\n",
       "      <td>Anik Agrawal</td>\n",
       "      <td>Company Recruiter</td>\n",
       "      <td>Enerlytics Software Solutions Pvt Ltd</td>\n",
       "      <td>Mean Stack, javascript, angularjs, mongodb, We...</td>\n",
       "    </tr>\n",
       "    <tr>\n",
       "      <th>4</th>\n",
       "      <td>subhas patel</td>\n",
       "      <td>Founder CEO</td>\n",
       "      <td>LibraryXProject</td>\n",
       "      <td>Hadoop, Spark, Digital Strategy, Data Architec...</td>\n",
       "    </tr>\n",
       "    <tr>\n",
       "      <th>5</th>\n",
       "      <td>Abhishek - Only Analytics Hiring - India and</td>\n",
       "      <td>Recruitment Lead Consultant</td>\n",
       "      <td>Apidel Technologies Division of Transpower</td>\n",
       "      <td>Analytics, Business Intelligence, Business Ana...</td>\n",
       "    </tr>\n",
       "    <tr>\n",
       "      <th>6</th>\n",
       "      <td>Institute for Financial Management and Resear</td>\n",
       "      <td>Programme Manager</td>\n",
       "      <td>IFMR</td>\n",
       "      <td>Data Science</td>\n",
       "    </tr>\n",
       "    <tr>\n",
       "      <th>7</th>\n",
       "      <td>Balu Ramesh</td>\n",
       "      <td>HR Administrator</td>\n",
       "      <td>Techvantage Systems Pvt Ltd</td>\n",
       "      <td>Machine Learning, algorithms, Go Getter, Compu...</td>\n",
       "    </tr>\n",
       "    <tr>\n",
       "      <th>8</th>\n",
       "      <td>Asif Lucknowi</td>\n",
       "      <td>Director</td>\n",
       "      <td>Weupskill- Live Wire India</td>\n",
       "      <td>Technical Training, Software Development, Pres...</td>\n",
       "    </tr>\n",
       "    <tr>\n",
       "      <th>9</th>\n",
       "      <td>InstaFinancials</td>\n",
       "      <td>Human Resource</td>\n",
       "      <td>CBL Data Science Private Limited</td>\n",
       "      <td>Software Development, It Sales, Account Manage...</td>\n",
       "    </tr>\n",
       "    <tr>\n",
       "      <th>10</th>\n",
       "      <td>Priyanka Akiri</td>\n",
       "      <td>HR Manager</td>\n",
       "      <td>Infinitive Software Solutions</td>\n",
       "      <td>Oracle Dba, Data Science, Data Warehousing, ET...</td>\n",
       "    </tr>\n",
       "    <tr>\n",
       "      <th>11</th>\n",
       "      <td>Kalpana Dumpala</td>\n",
       "      <td>Executive Hiring</td>\n",
       "      <td>Innominds Software</td>\n",
       "      <td>Qa, Ui/ux, Java Developer, Java Architect, C++...</td>\n",
       "    </tr>\n",
       "    <tr>\n",
       "      <th>12</th>\n",
       "      <td>Mubarak</td>\n",
       "      <td>Company HR</td>\n",
       "      <td>MoneyTap</td>\n",
       "      <td>Business Intelligence, Data Warehousing, Data ...</td>\n",
       "    </tr>\n",
       "    <tr>\n",
       "      <th>13</th>\n",
       "      <td>Kushal Rastogi</td>\n",
       "      <td>Company HR</td>\n",
       "      <td>QuantMagnum Technologies Pvt. Ltd.</td>\n",
       "      <td>Office Administration, Hr Administration, tele...</td>\n",
       "    </tr>\n",
       "    <tr>\n",
       "      <th>14</th>\n",
       "      <td>Vaishnavi Kudalkar</td>\n",
       "      <td>HR Executive</td>\n",
       "      <td>Codeachive learning</td>\n",
       "      <td>Data Science, Python, Data Analytics</td>\n",
       "    </tr>\n",
       "    <tr>\n",
       "      <th>15</th>\n",
       "      <td>Mahesh Babu Channa</td>\n",
       "      <td>HR Team Lead</td>\n",
       "      <td>SocialPrachar.com</td>\n",
       "      <td>Social Media, digital media maketing, seo, smm...</td>\n",
       "    </tr>\n",
       "    <tr>\n",
       "      <th>16</th>\n",
       "      <td>Kapil Devang</td>\n",
       "      <td>HR Manager</td>\n",
       "      <td>BISP Solutions</td>\n",
       "      <td>Big Data, Hadoop, Data Analytics, Data Science</td>\n",
       "    </tr>\n",
       "    <tr>\n",
       "      <th>17</th>\n",
       "      <td>Sakshi Chhikara</td>\n",
       "      <td>Assistant Manager HR</td>\n",
       "      <td>BIZ INFOTECNO PRIVATE LIMITED</td>\n",
       "      <td>React.js, Data Science, Java, Front End, Busin...</td>\n",
       "    </tr>\n",
       "    <tr>\n",
       "      <th>18</th>\n",
       "      <td>Ruchi Dhote</td>\n",
       "      <td>Senior Executive Talent Acquisition</td>\n",
       "      <td>Bristlecone India Ltd</td>\n",
       "      <td>Qlikview, Qlik Sense, Microsoft Azure, Power B...</td>\n",
       "    </tr>\n",
       "    <tr>\n",
       "      <th>19</th>\n",
       "      <td>Manisha Yadav</td>\n",
       "      <td>HR Executive</td>\n",
       "      <td>Easi Tax</td>\n",
       "      <td>Telecalling, Client Interaction, Marketing, Re...</td>\n",
       "    </tr>\n",
       "    <tr>\n",
       "      <th>20</th>\n",
       "      <td>Riya Rajesh</td>\n",
       "      <td>Manager Talent Acquisition</td>\n",
       "      <td>Novelworx Digital Solutions</td>\n",
       "      <td>Data Science</td>\n",
       "    </tr>\n",
       "    <tr>\n",
       "      <th>21</th>\n",
       "      <td>Rashmi Bhattacharjee</td>\n",
       "      <td>HR Head</td>\n",
       "      <td>AXESTRACK SOFTWARE SOLUTIONS PRIVATE...</td>\n",
       "      <td>Corporate Sales, Software Development, Softwar...</td>\n",
       "    </tr>\n",
       "    <tr>\n",
       "      <th>22</th>\n",
       "      <td>Faizan Kareem</td>\n",
       "      <td>HR MANAGER</td>\n",
       "      <td>FirstTech Consaltants Pvt.Ltd</td>\n",
       "      <td>Data Analytics, Data Science, Machine Learning...</td>\n",
       "    </tr>\n",
       "    <tr>\n",
       "      <th>23</th>\n",
       "      <td>Rithika dadwal</td>\n",
       "      <td>HR Recruiter</td>\n",
       "      <td>Affine Analytics</td>\n",
       "      <td>Data Science, Machine Learning, Python, R, Dee...</td>\n",
       "    </tr>\n",
       "    <tr>\n",
       "      <th>24</th>\n",
       "      <td>Sandhya Khandagale</td>\n",
       "      <td>HR Recruiter</td>\n",
       "      <td>Compumatrice Multimedia Pvt Ltd</td>\n",
       "      <td>Big Data, Data Science, Artificial Intelligenc...</td>\n",
       "    </tr>\n",
       "    <tr>\n",
       "      <th>25</th>\n",
       "      <td>Shaun Rao</td>\n",
       "      <td>Manager Human Resources</td>\n",
       "      <td>Exela Technologies</td>\n",
       "      <td>Java, Net, Angularjs, Hr, Infrastructure, Mana...</td>\n",
       "    </tr>\n",
       "    <tr>\n",
       "      <th>26</th>\n",
       "      <td>Azahar Shaikh</td>\n",
       "      <td>Company Recruiter</td>\n",
       "      <td>NEAL ANALYTICS SERVICES PVT LTD</td>\n",
       "      <td>Data Science, Artificial Intelligence, Machine...</td>\n",
       "    </tr>\n",
       "    <tr>\n",
       "      <th>27</th>\n",
       "      <td>Manas</td>\n",
       "      <td>Lead Talent acquisition</td>\n",
       "      <td>Autumn Leaf Consulting Services Private...</td>\n",
       "      <td>Software Architecture, Vp Engineering, Product...</td>\n",
       "    </tr>\n",
       "    <tr>\n",
       "      <th>28</th>\n",
       "      <td>kumar</td>\n",
       "      <td>Proprietor</td>\n",
       "      <td>trainin</td>\n",
       "      <td>Data Science, Hadoop, Rpas, Devops, Python, Aw...</td>\n",
       "    </tr>\n",
       "    <tr>\n",
       "      <th>29</th>\n",
       "      <td>Sunil Vedula</td>\n",
       "      <td>CEO</td>\n",
       "      <td>Nanoprecise Sci Corp</td>\n",
       "      <td>Signal Processing, Machine Learning, Neural Ne...</td>\n",
       "    </tr>\n",
       "    <tr>\n",
       "      <th>30</th>\n",
       "      <td>Rajat Kumar</td>\n",
       "      <td>Founder CEO</td>\n",
       "      <td>R.S Consultancy &amp;amp; Services</td>\n",
       "      <td>Web Technologies, Project Management, Software...</td>\n",
       "    </tr>\n",
       "    <tr>\n",
       "      <th>31</th>\n",
       "      <td>Dhruv Dev Dubey</td>\n",
       "      <td>Company Recruitment Head</td>\n",
       "      <td>Confidential</td>\n",
       "      <td>Server Administartion, Verilog, Vhdl, Digital ...</td>\n",
       "    </tr>\n",
       "    <tr>\n",
       "      <th>32</th>\n",
       "      <td>Jayanth N</td>\n",
       "      <td>Project Manager</td>\n",
       "      <td>Dollarbird Information Services Pvt, Ltd</td>\n",
       "      <td>Data Analytics, Managed Services, Team Leading...</td>\n",
       "    </tr>\n",
       "    <tr>\n",
       "      <th>33</th>\n",
       "      <td>Avodha</td>\n",
       "      <td>Business Development Associate</td>\n",
       "      <td>Nikitha Palaparthi</td>\n",
       "      <td>Ethical Hacking, Security Operations Center, S...</td>\n",
       "    </tr>\n",
       "    <tr>\n",
       "      <th>34</th>\n",
       "      <td>Daniel Vaz</td>\n",
       "      <td>Partner</td>\n",
       "      <td>Aquis Search</td>\n",
       "      <td>c++, Core Java, kdb, high frequency trading, h...</td>\n",
       "    </tr>\n",
       "    <tr>\n",
       "      <th>35</th>\n",
       "      <td>Priya Khare</td>\n",
       "      <td>Senior Manager</td>\n",
       "      <td>Independent Consultant</td>\n",
       "      <td>Data Science, Artificial Intelligence, analyti...</td>\n",
       "    </tr>\n",
       "    <tr>\n",
       "      <th>36</th>\n",
       "      <td>Amit Sharma</td>\n",
       "      <td>Consultant</td>\n",
       "      <td>ASCO consulting</td>\n",
       "      <td>Machine Learning, Artificial Intelligence, Dat...</td>\n",
       "    </tr>\n",
       "    <tr>\n",
       "      <th>37</th>\n",
       "      <td>Kanan</td>\n",
       "      <td>senior technology instructor</td>\n",
       "      <td>NY INST</td>\n",
       "      <td>C, C++, Artificial Intelligence, Python, Php, ...</td>\n",
       "    </tr>\n",
       "    <tr>\n",
       "      <th>38</th>\n",
       "      <td>Shashikant Chaudhary</td>\n",
       "      <td>HR Recruiter/HR Excutive</td>\n",
       "      <td>3D India Staffing Research &amp;amp; Consulting...</td>\n",
       "      <td>Relationship Management, Retail Sales, Private...</td>\n",
       "    </tr>\n",
       "    <tr>\n",
       "      <th>39</th>\n",
       "      <td>Brad</td>\n",
       "      <td>Manager, Technical Recruiting</td>\n",
       "      <td>O.C. Tanner</td>\n",
       "      <td>Data Science, Software Engineering</td>\n",
       "    </tr>\n",
       "    <tr>\n",
       "      <th>40</th>\n",
       "      <td>Rutuja Pawar</td>\n",
       "      <td>Technical Recruiter</td>\n",
       "      <td>Demand Matrix</td>\n",
       "      <td>Data Science, Big Data Analytics, Digital Mark...</td>\n",
       "    </tr>\n",
       "    <tr>\n",
       "      <th>41</th>\n",
       "      <td>Madhusudhan Sridhar</td>\n",
       "      <td>Erp Implementer</td>\n",
       "      <td>MADHUSUDHAN SRIDHAR</td>\n",
       "      <td>Data Science, Recruitment, Salary</td>\n",
       "    </tr>\n",
       "    <tr>\n",
       "      <th>42</th>\n",
       "      <td>Ankit Sinha</td>\n",
       "      <td>Head Analytics</td>\n",
       "      <td>Suntech Global</td>\n",
       "      <td>B.Tech, Tableau, Statistics, R, Analytics, Tim...</td>\n",
       "    </tr>\n",
       "    <tr>\n",
       "      <th>43</th>\n",
       "      <td>Gaurav Chouhan</td>\n",
       "      <td>Chief Technical Officer</td>\n",
       "      <td>Strategic Consulting Lab</td>\n",
       "      <td>Software Development, Business Intelligence, B...</td>\n",
       "    </tr>\n",
       "    <tr>\n",
       "      <th>44</th>\n",
       "      <td>Rashi Kacker</td>\n",
       "      <td>Sr Product Manager</td>\n",
       "      <td>Impel Labs Pvt. Ltd.</td>\n",
       "      <td>Data Science, Node.js, Angularjs</td>\n",
       "    </tr>\n",
       "    <tr>\n",
       "      <th>45</th>\n",
       "      <td>Ashwini</td>\n",
       "      <td>Director Global Delivery</td>\n",
       "      <td>MRP Advisers</td>\n",
       "      <td>Data Science, Media Marketing, Resource Planni...</td>\n",
       "    </tr>\n",
       "    <tr>\n",
       "      <th>46</th>\n",
       "      <td>Balaji Kolli</td>\n",
       "      <td>Co Founder</td>\n",
       "      <td>Saras Solutions India Pvt Ltd</td>\n",
       "      <td>Data Analysis, Learning, Data Science, Compute...</td>\n",
       "    </tr>\n",
       "    <tr>\n",
       "      <th>47</th>\n",
       "      <td>Rajani Nagaraj</td>\n",
       "      <td>HR Manager</td>\n",
       "      <td>WildJasmine</td>\n",
       "      <td>Java, Hadoop, R, Machine Learning, Spark, Flum...</td>\n",
       "    </tr>\n",
       "    <tr>\n",
       "      <th>48</th>\n",
       "      <td>ROHIT Kumar</td>\n",
       "      <td>Architect</td>\n",
       "      <td>LNT Private Limited</td>\n",
       "      <td>Software Development, Core Java, Unit Testing,...</td>\n",
       "    </tr>\n",
       "    <tr>\n",
       "      <th>49</th>\n",
       "      <td>Amir Chowdhury</td>\n",
       "      <td>Managing Partner</td>\n",
       "      <td>Granular.ai</td>\n",
       "      <td>Machine Learning, Data Science, Product Manage...</td>\n",
       "    </tr>\n",
       "  </tbody>\n",
       "</table>\n",
       "</div>"
      ],
      "text/plain": [
       "                                             Name  \\\n",
       "0                                    Aakash Harit   \n",
       "1                            shravan Kumar Gaddam   \n",
       "2                        MARSIAN Technologies LLP   \n",
       "3                                    Anik Agrawal   \n",
       "4                                    subhas patel   \n",
       "5    Abhishek - Only Analytics Hiring - India and   \n",
       "6   Institute for Financial Management and Resear   \n",
       "7                                     Balu Ramesh   \n",
       "8                                   Asif Lucknowi   \n",
       "9                                 InstaFinancials   \n",
       "10                                 Priyanka Akiri   \n",
       "11                                Kalpana Dumpala   \n",
       "12                                        Mubarak   \n",
       "13                                 Kushal Rastogi   \n",
       "14                             Vaishnavi Kudalkar   \n",
       "15                             Mahesh Babu Channa   \n",
       "16                                   Kapil Devang   \n",
       "17                                Sakshi Chhikara   \n",
       "18                                    Ruchi Dhote   \n",
       "19                                  Manisha Yadav   \n",
       "20                                    Riya Rajesh   \n",
       "21                           Rashmi Bhattacharjee   \n",
       "22                                  Faizan Kareem   \n",
       "23                                 Rithika dadwal   \n",
       "24                             Sandhya Khandagale   \n",
       "25                                      Shaun Rao   \n",
       "26                                  Azahar Shaikh   \n",
       "27                                          Manas   \n",
       "28                                          kumar   \n",
       "29                                   Sunil Vedula   \n",
       "30                                    Rajat Kumar   \n",
       "31                                Dhruv Dev Dubey   \n",
       "32                                      Jayanth N   \n",
       "33                                         Avodha   \n",
       "34                                     Daniel Vaz   \n",
       "35                                    Priya Khare   \n",
       "36                                    Amit Sharma   \n",
       "37                                          Kanan   \n",
       "38                           Shashikant Chaudhary   \n",
       "39                                           Brad   \n",
       "40                                   Rutuja Pawar   \n",
       "41                            Madhusudhan Sridhar   \n",
       "42                                    Ankit Sinha   \n",
       "43                                 Gaurav Chouhan   \n",
       "44                                   Rashi Kacker   \n",
       "45                                        Ashwini   \n",
       "46                                   Balaji Kolli   \n",
       "47                                 Rajani Nagaraj   \n",
       "48                                    ROHIT Kumar   \n",
       "49                                 Amir Chowdhury   \n",
       "\n",
       "                            Designation  \\\n",
       "0                            HR Manager   \n",
       "1                     Company Recruiter   \n",
       "2                            Company HR   \n",
       "3                     Company Recruiter   \n",
       "4                           Founder CEO   \n",
       "5           Recruitment Lead Consultant   \n",
       "6                     Programme Manager   \n",
       "7                      HR Administrator   \n",
       "8                              Director   \n",
       "9                        Human Resource   \n",
       "10                           HR Manager   \n",
       "11                     Executive Hiring   \n",
       "12                           Company HR   \n",
       "13                           Company HR   \n",
       "14                         HR Executive   \n",
       "15                         HR Team Lead   \n",
       "16                           HR Manager   \n",
       "17                 Assistant Manager HR   \n",
       "18  Senior Executive Talent Acquisition   \n",
       "19                         HR Executive   \n",
       "20           Manager Talent Acquisition   \n",
       "21                              HR Head   \n",
       "22                           HR MANAGER   \n",
       "23                         HR Recruiter   \n",
       "24                         HR Recruiter   \n",
       "25              Manager Human Resources   \n",
       "26                    Company Recruiter   \n",
       "27              Lead Talent acquisition   \n",
       "28                           Proprietor   \n",
       "29                                  CEO   \n",
       "30                          Founder CEO   \n",
       "31             Company Recruitment Head   \n",
       "32                      Project Manager   \n",
       "33       Business Development Associate   \n",
       "34                              Partner   \n",
       "35                       Senior Manager   \n",
       "36                           Consultant   \n",
       "37         senior technology instructor   \n",
       "38             HR Recruiter/HR Excutive   \n",
       "39        Manager, Technical Recruiting   \n",
       "40                  Technical Recruiter   \n",
       "41                      Erp Implementer   \n",
       "42                       Head Analytics   \n",
       "43              Chief Technical Officer   \n",
       "44                   Sr Product Manager   \n",
       "45             Director Global Delivery   \n",
       "46                           Co Founder   \n",
       "47                           HR Manager   \n",
       "48                            Architect   \n",
       "49                     Managing Partner   \n",
       "\n",
       "                                           Company  \\\n",
       "0                             Data Science Network   \n",
       "1                    Shore Infotech India Pvt. Ltd   \n",
       "2                         MARSIAN Technologies LLP   \n",
       "3            Enerlytics Software Solutions Pvt Ltd   \n",
       "4                                  LibraryXProject   \n",
       "5       Apidel Technologies Division of Transpower   \n",
       "6                                             IFMR   \n",
       "7                      Techvantage Systems Pvt Ltd   \n",
       "8                       Weupskill- Live Wire India   \n",
       "9                 CBL Data Science Private Limited   \n",
       "10                   Infinitive Software Solutions   \n",
       "11                              Innominds Software   \n",
       "12                                        MoneyTap   \n",
       "13              QuantMagnum Technologies Pvt. Ltd.   \n",
       "14                             Codeachive learning   \n",
       "15                               SocialPrachar.com   \n",
       "16                                  BISP Solutions   \n",
       "17                   BIZ INFOTECNO PRIVATE LIMITED   \n",
       "18                           Bristlecone India Ltd   \n",
       "19                                        Easi Tax   \n",
       "20                     Novelworx Digital Solutions   \n",
       "21         AXESTRACK SOFTWARE SOLUTIONS PRIVATE...   \n",
       "22                   FirstTech Consaltants Pvt.Ltd   \n",
       "23                                Affine Analytics   \n",
       "24                 Compumatrice Multimedia Pvt Ltd   \n",
       "25                              Exela Technologies   \n",
       "26                 NEAL ANALYTICS SERVICES PVT LTD   \n",
       "27      Autumn Leaf Consulting Services Private...   \n",
       "28                                         trainin   \n",
       "29                            Nanoprecise Sci Corp   \n",
       "30                  R.S Consultancy &amp; Services   \n",
       "31                                    Confidential   \n",
       "32        Dollarbird Information Services Pvt, Ltd   \n",
       "33                              Nikitha Palaparthi   \n",
       "34                                    Aquis Search   \n",
       "35                          Independent Consultant   \n",
       "36                                 ASCO consulting   \n",
       "37                                         NY INST   \n",
       "38  3D India Staffing Research &amp; Consulting...   \n",
       "39                                     O.C. Tanner   \n",
       "40                                   Demand Matrix   \n",
       "41                             MADHUSUDHAN SRIDHAR   \n",
       "42                                  Suntech Global   \n",
       "43                        Strategic Consulting Lab   \n",
       "44                            Impel Labs Pvt. Ltd.   \n",
       "45                                    MRP Advisers   \n",
       "46                   Saras Solutions India Pvt Ltd   \n",
       "47                                     WildJasmine   \n",
       "48                             LNT Private Limited   \n",
       "49                                     Granular.ai   \n",
       "\n",
       "                                  Skill they hire for  \n",
       "0   Classic ASP Developer, Internet Marketing Prof...  \n",
       "1   .Net, Java, Data Science, Linux Administration...  \n",
       "2   Data Science, Artificial Intelligence, Machine...  \n",
       "3   Mean Stack, javascript, angularjs, mongodb, We...  \n",
       "4   Hadoop, Spark, Digital Strategy, Data Architec...  \n",
       "5   Analytics, Business Intelligence, Business Ana...  \n",
       "6                                        Data Science  \n",
       "7   Machine Learning, algorithms, Go Getter, Compu...  \n",
       "8   Technical Training, Software Development, Pres...  \n",
       "9   Software Development, It Sales, Account Manage...  \n",
       "10  Oracle Dba, Data Science, Data Warehousing, ET...  \n",
       "11  Qa, Ui/ux, Java Developer, Java Architect, C++...  \n",
       "12  Business Intelligence, Data Warehousing, Data ...  \n",
       "13  Office Administration, Hr Administration, tele...  \n",
       "14               Data Science, Python, Data Analytics  \n",
       "15  Social Media, digital media maketing, seo, smm...  \n",
       "16     Big Data, Hadoop, Data Analytics, Data Science  \n",
       "17  React.js, Data Science, Java, Front End, Busin...  \n",
       "18  Qlikview, Qlik Sense, Microsoft Azure, Power B...  \n",
       "19  Telecalling, Client Interaction, Marketing, Re...  \n",
       "20                                       Data Science  \n",
       "21  Corporate Sales, Software Development, Softwar...  \n",
       "22  Data Analytics, Data Science, Machine Learning...  \n",
       "23  Data Science, Machine Learning, Python, R, Dee...  \n",
       "24  Big Data, Data Science, Artificial Intelligenc...  \n",
       "25  Java, Net, Angularjs, Hr, Infrastructure, Mana...  \n",
       "26  Data Science, Artificial Intelligence, Machine...  \n",
       "27  Software Architecture, Vp Engineering, Product...  \n",
       "28  Data Science, Hadoop, Rpas, Devops, Python, Aw...  \n",
       "29  Signal Processing, Machine Learning, Neural Ne...  \n",
       "30  Web Technologies, Project Management, Software...  \n",
       "31  Server Administartion, Verilog, Vhdl, Digital ...  \n",
       "32  Data Analytics, Managed Services, Team Leading...  \n",
       "33  Ethical Hacking, Security Operations Center, S...  \n",
       "34  c++, Core Java, kdb, high frequency trading, h...  \n",
       "35  Data Science, Artificial Intelligence, analyti...  \n",
       "36  Machine Learning, Artificial Intelligence, Dat...  \n",
       "37  C, C++, Artificial Intelligence, Python, Php, ...  \n",
       "38  Relationship Management, Retail Sales, Private...  \n",
       "39                 Data Science, Software Engineering  \n",
       "40  Data Science, Big Data Analytics, Digital Mark...  \n",
       "41                  Data Science, Recruitment, Salary  \n",
       "42  B.Tech, Tableau, Statistics, R, Analytics, Tim...  \n",
       "43  Software Development, Business Intelligence, B...  \n",
       "44                   Data Science, Node.js, Angularjs  \n",
       "45  Data Science, Media Marketing, Resource Planni...  \n",
       "46  Data Analysis, Learning, Data Science, Compute...  \n",
       "47  Java, Hadoop, R, Machine Learning, Spark, Flum...  \n",
       "48  Software Development, Core Java, Unit Testing,...  \n",
       "49  Machine Learning, Data Science, Product Manage...  "
      ]
     },
     "execution_count": 95,
     "metadata": {},
     "output_type": "execute_result"
    }
   ],
   "source": [
    "df=pd.DataFrame({'Name':name, 'Designation':designation, 'Company':company, 'Skill they hire for':skills})\n",
    "df"
   ]
  },
  {
   "cell_type": "markdown",
   "id": "d15a9230",
   "metadata": {},
   "source": [
    "# 8. Scrape the details of Highest selling novels.\n",
    "Url = https://www.theguardian.com/news/datablog/2012/aug/09/best-selling-books-all-time-fifty-shades-grey- compare/\n",
    "You have to find the following details:\n",
    "A) Book name\n",
    "B) Author name\n",
    "C) Volumes sold\n",
    "D) Publisher\n",
    "E) Genre\n",
    "\n",
    "\n",
    "\n",
    "url:  https://www.theguardian.com/news/datablog/2012/aug/09/best-selling-books-all-time-fifty-shades-grey-compare\n"
   ]
  },
  {
   "cell_type": "code",
   "execution_count": 96,
   "id": "7cbe4505",
   "metadata": {},
   "outputs": [],
   "source": [
    "driver.get('https://www.theguardian.com/news/datablog/2012/aug/09/best-selling-books-all-time-fifty-shades-grey-compare')"
   ]
  },
  {
   "cell_type": "code",
   "execution_count": 97,
   "id": "fa5b5705",
   "metadata": {},
   "outputs": [
    {
     "name": "stdout",
     "output_type": "stream",
     "text": [
      "['Da Vinci Code,The', 'Harry Potter and the Deathly Hallows', \"Harry Potter and the Philosopher's Stone\", 'Harry Potter and the Order of the Phoenix', 'Fifty Shades of Grey', 'Harry Potter and the Goblet of Fire', 'Harry Potter and the Chamber of Secrets', 'Harry Potter and the Prisoner of Azkaban', 'Angels and Demons', \"Harry Potter and the Half-blood Prince:Children's Edition\", 'Fifty Shades Darker', 'Twilight', 'Girl with the Dragon Tattoo,The:Millennium Trilogy', 'Fifty Shades Freed', 'Lost Symbol,The', 'New Moon', 'Deception Point', 'Eclipse', 'Lovely Bones,The', 'Curious Incident of the Dog in the Night-time,The', 'Digital Fortress', 'Short History of Nearly Everything,A', 'Girl Who Played with Fire,The:Millennium Trilogy', 'Breaking Dawn', 'Very Hungry Caterpillar,The:The Very Hungry Caterpillar', 'Gruffalo,The', \"Jamie's 30-Minute Meals\", 'Kite Runner,The', 'One Day', 'Thousand Splendid Suns,A', \"Girl Who Kicked the Hornets' Nest,The:Millennium Trilogy\", \"Time Traveler's Wife,The\", 'Atonement', \"Bridget Jones's Diary:A Novel\", 'World According to Clarkson,The', \"Captain Corelli's Mandolin\", 'Sound of Laughter,The', 'Life of Pi', 'Billy Connolly', 'Child Called It,A', \"Gruffalo's Child,The\", \"Angela's Ashes:A Memoir of a Childhood\", 'Birdsong', 'Northern Lights:His Dark Materials S.', 'Labyrinth', 'Harry Potter and the Half-blood Prince', 'Help,The', 'Man and Boy', 'Memoirs of a Geisha', \"No.1 Ladies' Detective Agency,The:No.1 Ladies' Detective Agency S.\", 'Island,The', 'PS, I Love You', 'You are What You Eat:The Plan That Will Change Your Life', 'Shadow of the Wind,The', 'Tales of Beedle the Bard,The', 'Broker,The', \"Dr. Atkins' New Diet Revolution:The No-hunger, Luxurious Weight Loss P\", 'Subtle Knife,The:His Dark Materials S.', 'Eats, Shoots and Leaves:The Zero Tolerance Approach to Punctuation', \"Delia's How to Cook:(Bk.1)\", 'Chocolat', 'Boy in the Striped Pyjamas,The', \"My Sister's Keeper\", 'Amber Spyglass,The:His Dark Materials S.', 'To Kill a Mockingbird', 'Men are from Mars, Women are from Venus:A Practical Guide for Improvin', 'Dear Fatty', 'Short History of Tractors in Ukrainian,A', 'Hannibal', 'Lord of the Rings,The', 'Stupid White Men:...and Other Sorry Excuses for the State of the Natio', 'Interpretation of Murder,The', 'Sharon Osbourne Extreme:My Autobiography', 'Alchemist,The:A Fable About Following Your Dream', \"At My Mother's Knee ...:and Other Low Joints\", 'Notes from a Small Island', 'Return of the Naked Chef,The', 'Bridget Jones: The Edge of Reason', \"Jamie's Italy\", 'I Can Make You Thin', 'Down Under', 'Summons,The', 'Small Island', 'Nigella Express', 'Brick Lane', \"Memory Keeper's Daughter,The\", 'Room on the Broom', 'About a Boy', 'My Booky Wook', 'God Delusion,The', '\"Beano\" Annual,The', 'White Teeth', 'House at Riverton,The', 'Book Thief,The', 'Nights of Rain and Stars', 'Ghost,The', 'Happy Days with the Naked Chef', 'Hunger Games,The:Hunger Games Trilogy', \"Lost Boy,The:A Foster Child's Search for the Love of a Family\", \"Jamie's Ministry of Food:Anyone Can Learn to Cook in 24 Hours\"]\n",
      "100\n"
     ]
    }
   ],
   "source": [
    "name=[]\n",
    "name_tags=driver.find_elements(By.XPATH,'//table[@cellpadding=\"0\"]/tbody/tr/td[2]')\n",
    "for i in name_tags:\n",
    "    name.append(i.text)\n",
    "    \n",
    "print(name)\n",
    "print(len(name))"
   ]
  },
  {
   "cell_type": "code",
   "execution_count": 98,
   "id": "789fe8e1",
   "metadata": {},
   "outputs": [
    {
     "name": "stdout",
     "output_type": "stream",
     "text": [
      "['Brown, Dan', 'Rowling, J.K.', 'Rowling, J.K.', 'Rowling, J.K.', 'James, E. L.', 'Rowling, J.K.', 'Rowling, J.K.', 'Rowling, J.K.', 'Brown, Dan', 'Rowling, J.K.', 'James, E. L.', 'Meyer, Stephenie', 'Larsson, Stieg', 'James, E. L.', 'Brown, Dan', 'Meyer, Stephenie', 'Brown, Dan', 'Meyer, Stephenie', 'Sebold, Alice', 'Haddon, Mark', 'Brown, Dan', 'Bryson, Bill', 'Larsson, Stieg', 'Meyer, Stephenie', 'Carle, Eric', 'Donaldson, Julia', 'Oliver, Jamie', 'Hosseini, Khaled', 'Nicholls, David', 'Hosseini, Khaled', 'Larsson, Stieg', 'Niffenegger, Audrey', 'McEwan, Ian', 'Fielding, Helen', 'Clarkson, Jeremy', 'Bernieres, Louis de', 'Kay, Peter', 'Martel, Yann', 'Stephenson, Pamela', 'Pelzer, Dave', 'Donaldson, Julia', 'McCourt, Frank', 'Faulks, Sebastian', 'Pullman, Philip', 'Mosse, Kate', 'Rowling, J.K.', 'Stockett, Kathryn', 'Parsons, Tony', 'Golden, Arthur', 'McCall Smith, Alexander', 'Hislop, Victoria', 'Ahern, Cecelia', 'McKeith, Gillian', 'Zafon, Carlos Ruiz', 'Rowling, J.K.', 'Grisham, John', 'Atkins, Robert C.', 'Pullman, Philip', 'Truss, Lynne', 'Smith, Delia', 'Harris, Joanne', 'Boyne, John', 'Picoult, Jodi', 'Pullman, Philip', 'Lee, Harper', 'Gray, John', 'French, Dawn', 'Lewycka, Marina', 'Harris, Thomas', 'Tolkien, J. R. R.', 'Moore, Michael', 'Rubenfeld, Jed', 'Osbourne, Sharon', 'Coelho, Paulo', \"O'Grady, Paul\", 'Bryson, Bill', 'Oliver, Jamie', 'Fielding, Helen', 'Oliver, Jamie', 'McKenna, Paul', 'Bryson, Bill', 'Grisham, John', 'Levy, Andrea', 'Lawson, Nigella', 'Ali, Monica', 'Edwards, Kim', 'Donaldson, Julia', 'Hornby, Nick', 'Brand, Russell', 'Dawkins, Richard', '0', 'Smith, Zadie', 'Morton, Kate', 'Zusak, Markus', 'Binchy, Maeve', 'Harris, Robert', 'Oliver, Jamie', 'Collins, Suzanne', 'Pelzer, Dave', 'Oliver, Jamie']\n",
      "100\n"
     ]
    }
   ],
   "source": [
    "author_name=[]\n",
    "author_tags=driver.find_elements(By.XPATH,'//table[@class=\"in-article sortable\"]/tbody/tr/td[3]')\n",
    "for i in author_tags:\n",
    "    author_name.append(i.text)\n",
    "print(author_name)\n",
    "print(len(author_name))"
   ]
  },
  {
   "cell_type": "code",
   "execution_count": 99,
   "id": "d43b7b02",
   "metadata": {},
   "outputs": [
    {
     "name": "stdout",
     "output_type": "stream",
     "text": [
      "['5,094,805', '4,475,152', '4,200,654', '4,179,479', '3,758,936', '3,583,215', '3,484,047', '3,377,906', '3,193,946', '2,950,264', '2,479,784', '2,315,405', '2,233,570', '2,193,928', '2,183,031', '2,152,737', '2,062,145', '2,052,876', '2,005,598', '1,979,552', '1,928,900', '1,852,919', '1,814,784', '1,787,118', '1,783,535', '1,781,269', '1,743,266', '1,629,119', '1,616,068', '1,583,992', '1,555,135', '1,546,886', '1,539,428', '1,508,205', '1,489,403', '1,352,318', '1,310,207', '1,310,176', '1,231,957', '1,217,712', '1,208,711', '1,204,058', '1,184,967', '1,181,503', '1,181,093', '1,153,181', '1,132,336', '1,130,802', '1,126,337', '1,115,549', '1,108,328', '1,107,379', '1,104,403', '1,092,349', '1,090,847', '1,087,262', '1,054,196', '1,037,160', '1,023,688', '1,015,956', '1,009,873', '1,004,414', '1,003,780', '1,002,314', '998,213', '992,846', '986,753', '986,115', '970,509', '967,466', '963,353', '962,515', '959,496', '956,114', '945,640', '931,312', '925,425', '924,695', '906,968', '905,086', '890,847', '869,671', '869,659', '862,602', '856,540', '845,858', '842,535', '828,215', '820,563', '816,907', '816,585', '815,586', '814,370', '809,641', '808,900', '807,311', '794,201', '792,187', '791,507', '791,095']\n",
      "100\n"
     ]
    }
   ],
   "source": [
    "volume_sold=[]\n",
    "volume_tags=driver.find_elements(By.XPATH,'//table[@class=\"in-article sortable\"]/tbody/tr/td[4]')\n",
    "for i in volume_tags:\n",
    "    volume_sold.append(i.text)\n",
    "print(volume_sold)\n",
    "print(len(volume_sold))"
   ]
  },
  {
   "cell_type": "code",
   "execution_count": 100,
   "id": "91a91f94",
   "metadata": {},
   "outputs": [
    {
     "name": "stdout",
     "output_type": "stream",
     "text": [
      "['Transworld', 'Bloomsbury', 'Bloomsbury', 'Bloomsbury', 'Random House', 'Bloomsbury', 'Bloomsbury', 'Bloomsbury', 'Transworld', 'Bloomsbury', 'Random House', 'Little, Brown Book', 'Quercus', 'Random House', 'Transworld', 'Little, Brown Book', 'Transworld', 'Little, Brown Book', 'Pan Macmillan', 'Random House', 'Transworld', 'Transworld', 'Quercus', 'Little, Brown Book', 'Penguin', 'Pan Macmillan', 'Penguin', 'Bloomsbury', 'Hodder & Stoughton', 'Bloomsbury', 'Quercus', 'Random House', 'Random House', 'Pan Macmillan', 'Penguin', 'Random House', 'Random House', 'Canongate', 'HarperCollins', 'Orion', 'Pan Macmillan', 'HarperCollins', 'Random House', 'Scholastic Ltd.', 'Orion', 'Bloomsbury', 'Penguin', 'HarperCollins', 'Random House', 'Little, Brown Book', 'Headline', 'HarperCollins', 'Penguin', 'Orion', 'Bloomsbury', 'Random House', 'Random House', 'Scholastic Ltd.', 'Profile Books Group', 'Random House', 'Transworld', 'Random House Childrens Books G', 'Hodder & Stoughton', 'Scholastic Ltd.', 'Random House', 'HarperCollins', 'Random House', 'Penguin', 'Random House', 'HarperCollins', 'Penguin', 'Headline', 'Little, Brown Book', 'HarperCollins', 'Transworld', 'Transworld', 'Penguin', 'Pan Macmillan', 'Penguin', 'Transworld', 'Transworld', 'Random House', 'Headline', 'Random House', 'Transworld', 'Penguin', 'Pan Macmillan', 'Penguin', 'Hodder & Stoughton', 'Transworld', 'D.C. Thomson', 'Penguin', 'Pan Macmillan', 'Transworld', 'Orion', 'Random House', 'Penguin', 'Scholastic Ltd.', 'Orion', 'Penguin']\n",
      "100\n"
     ]
    }
   ],
   "source": [
    "publisher=[]\n",
    "publisher_tags=driver.find_elements(By.XPATH,'//table[@class=\"in-article sortable\"]/tbody/tr/td[5]')\n",
    "for i in publisher_tags:\n",
    "    publisher.append(i.text)\n",
    "print(publisher)\n",
    "print(len(publisher))\n"
   ]
  },
  {
   "cell_type": "code",
   "execution_count": 101,
   "id": "13577a67",
   "metadata": {},
   "outputs": [
    {
     "name": "stdout",
     "output_type": "stream",
     "text": [
      "['Crime, Thriller & Adventure', \"Children's Fiction\", \"Children's Fiction\", \"Children's Fiction\", 'Romance & Sagas', \"Children's Fiction\", \"Children's Fiction\", \"Children's Fiction\", 'Crime, Thriller & Adventure', \"Children's Fiction\", 'Romance & Sagas', 'Young Adult Fiction', 'Crime, Thriller & Adventure', 'Romance & Sagas', 'Crime, Thriller & Adventure', 'Young Adult Fiction', 'Crime, Thriller & Adventure', 'Young Adult Fiction', 'General & Literary Fiction', 'General & Literary Fiction', 'Crime, Thriller & Adventure', 'Popular Science', 'Crime, Thriller & Adventure', 'Young Adult Fiction', 'Picture Books', 'Picture Books', 'Food & Drink: General', 'General & Literary Fiction', 'General & Literary Fiction', 'General & Literary Fiction', 'Crime, Thriller & Adventure', 'General & Literary Fiction', 'General & Literary Fiction', 'General & Literary Fiction', 'Humour: Collections & General', 'General & Literary Fiction', 'Autobiography: General', 'General & Literary Fiction', 'Biography: The Arts', 'Autobiography: General', 'Picture Books', 'Autobiography: General', 'General & Literary Fiction', 'Young Adult Fiction', 'General & Literary Fiction', 'Science Fiction & Fantasy', 'General & Literary Fiction', 'General & Literary Fiction', 'General & Literary Fiction', 'Crime, Thriller & Adventure', 'General & Literary Fiction', 'General & Literary Fiction', 'Fitness & Diet', 'General & Literary Fiction', \"Children's Fiction\", 'Crime, Thriller & Adventure', 'Fitness & Diet', 'Young Adult Fiction', 'Usage & Writing Guides', 'Food & Drink: General', 'General & Literary Fiction', 'Young Adult Fiction', 'General & Literary Fiction', 'Young Adult Fiction', 'General & Literary Fiction', 'Popular Culture & Media: General Interest', 'Autobiography: The Arts', 'General & Literary Fiction', 'Crime, Thriller & Adventure', 'Science Fiction & Fantasy', 'Current Affairs & Issues', 'Crime, Thriller & Adventure', 'Autobiography: The Arts', 'General & Literary Fiction', 'Autobiography: The Arts', 'Travel Writing', 'Food & Drink: General', 'General & Literary Fiction', 'National & Regional Cuisine', 'Fitness & Diet', 'Travel Writing', 'Crime, Thriller & Adventure', 'General & Literary Fiction', 'Food & Drink: General', 'General & Literary Fiction', 'General & Literary Fiction', 'Picture Books', 'General & Literary Fiction', 'Autobiography: The Arts', 'Popular Science', \"Children's Annuals\", 'General & Literary Fiction', 'General & Literary Fiction', 'General & Literary Fiction', 'General & Literary Fiction', 'General & Literary Fiction', 'Food & Drink: General', 'Young Adult Fiction', 'Biography: General', 'Food & Drink: General']\n",
      "100\n"
     ]
    }
   ],
   "source": [
    "genre=[]\n",
    "genre_tags=driver.find_elements(By.XPATH,'//table[@class=\"in-article sortable\"]/tbody/tr/td[6]')\n",
    "for i in genre_tags:\n",
    "    genre.append(i.text)\n",
    "print(genre)\n",
    "print(len(genre))"
   ]
  },
  {
   "cell_type": "code",
   "execution_count": 102,
   "id": "794282dd",
   "metadata": {},
   "outputs": [],
   "source": [
    "df=pd.DataFrame({'Book Name':name, 'Author Name':author_name, 'Volumes Sold':volume_sold, 'Publisher':publisher, 'Genre':genre})"
   ]
  },
  {
   "cell_type": "code",
   "execution_count": 103,
   "id": "1c4fe792",
   "metadata": {},
   "outputs": [
    {
     "data": {
      "text/html": [
       "<div>\n",
       "<style scoped>\n",
       "    .dataframe tbody tr th:only-of-type {\n",
       "        vertical-align: middle;\n",
       "    }\n",
       "\n",
       "    .dataframe tbody tr th {\n",
       "        vertical-align: top;\n",
       "    }\n",
       "\n",
       "    .dataframe thead th {\n",
       "        text-align: right;\n",
       "    }\n",
       "</style>\n",
       "<table border=\"1\" class=\"dataframe\">\n",
       "  <thead>\n",
       "    <tr style=\"text-align: right;\">\n",
       "      <th></th>\n",
       "      <th>Book Name</th>\n",
       "      <th>Author Name</th>\n",
       "      <th>Volumes Sold</th>\n",
       "      <th>Publisher</th>\n",
       "      <th>Genre</th>\n",
       "    </tr>\n",
       "  </thead>\n",
       "  <tbody>\n",
       "    <tr>\n",
       "      <th>0</th>\n",
       "      <td>Da Vinci Code,The</td>\n",
       "      <td>Brown, Dan</td>\n",
       "      <td>5,094,805</td>\n",
       "      <td>Transworld</td>\n",
       "      <td>Crime, Thriller &amp; Adventure</td>\n",
       "    </tr>\n",
       "    <tr>\n",
       "      <th>1</th>\n",
       "      <td>Harry Potter and the Deathly Hallows</td>\n",
       "      <td>Rowling, J.K.</td>\n",
       "      <td>4,475,152</td>\n",
       "      <td>Bloomsbury</td>\n",
       "      <td>Children's Fiction</td>\n",
       "    </tr>\n",
       "    <tr>\n",
       "      <th>2</th>\n",
       "      <td>Harry Potter and the Philosopher's Stone</td>\n",
       "      <td>Rowling, J.K.</td>\n",
       "      <td>4,200,654</td>\n",
       "      <td>Bloomsbury</td>\n",
       "      <td>Children's Fiction</td>\n",
       "    </tr>\n",
       "    <tr>\n",
       "      <th>3</th>\n",
       "      <td>Harry Potter and the Order of the Phoenix</td>\n",
       "      <td>Rowling, J.K.</td>\n",
       "      <td>4,179,479</td>\n",
       "      <td>Bloomsbury</td>\n",
       "      <td>Children's Fiction</td>\n",
       "    </tr>\n",
       "    <tr>\n",
       "      <th>4</th>\n",
       "      <td>Fifty Shades of Grey</td>\n",
       "      <td>James, E. L.</td>\n",
       "      <td>3,758,936</td>\n",
       "      <td>Random House</td>\n",
       "      <td>Romance &amp; Sagas</td>\n",
       "    </tr>\n",
       "    <tr>\n",
       "      <th>...</th>\n",
       "      <td>...</td>\n",
       "      <td>...</td>\n",
       "      <td>...</td>\n",
       "      <td>...</td>\n",
       "      <td>...</td>\n",
       "    </tr>\n",
       "    <tr>\n",
       "      <th>95</th>\n",
       "      <td>Ghost,The</td>\n",
       "      <td>Harris, Robert</td>\n",
       "      <td>807,311</td>\n",
       "      <td>Random House</td>\n",
       "      <td>General &amp; Literary Fiction</td>\n",
       "    </tr>\n",
       "    <tr>\n",
       "      <th>96</th>\n",
       "      <td>Happy Days with the Naked Chef</td>\n",
       "      <td>Oliver, Jamie</td>\n",
       "      <td>794,201</td>\n",
       "      <td>Penguin</td>\n",
       "      <td>Food &amp; Drink: General</td>\n",
       "    </tr>\n",
       "    <tr>\n",
       "      <th>97</th>\n",
       "      <td>Hunger Games,The:Hunger Games Trilogy</td>\n",
       "      <td>Collins, Suzanne</td>\n",
       "      <td>792,187</td>\n",
       "      <td>Scholastic Ltd.</td>\n",
       "      <td>Young Adult Fiction</td>\n",
       "    </tr>\n",
       "    <tr>\n",
       "      <th>98</th>\n",
       "      <td>Lost Boy,The:A Foster Child's Search for the L...</td>\n",
       "      <td>Pelzer, Dave</td>\n",
       "      <td>791,507</td>\n",
       "      <td>Orion</td>\n",
       "      <td>Biography: General</td>\n",
       "    </tr>\n",
       "    <tr>\n",
       "      <th>99</th>\n",
       "      <td>Jamie's Ministry of Food:Anyone Can Learn to C...</td>\n",
       "      <td>Oliver, Jamie</td>\n",
       "      <td>791,095</td>\n",
       "      <td>Penguin</td>\n",
       "      <td>Food &amp; Drink: General</td>\n",
       "    </tr>\n",
       "  </tbody>\n",
       "</table>\n",
       "<p>100 rows × 5 columns</p>\n",
       "</div>"
      ],
      "text/plain": [
       "                                            Book Name       Author Name  \\\n",
       "0                                   Da Vinci Code,The        Brown, Dan   \n",
       "1                Harry Potter and the Deathly Hallows     Rowling, J.K.   \n",
       "2            Harry Potter and the Philosopher's Stone     Rowling, J.K.   \n",
       "3           Harry Potter and the Order of the Phoenix     Rowling, J.K.   \n",
       "4                                Fifty Shades of Grey      James, E. L.   \n",
       "..                                                ...               ...   \n",
       "95                                          Ghost,The    Harris, Robert   \n",
       "96                     Happy Days with the Naked Chef     Oliver, Jamie   \n",
       "97              Hunger Games,The:Hunger Games Trilogy  Collins, Suzanne   \n",
       "98  Lost Boy,The:A Foster Child's Search for the L...      Pelzer, Dave   \n",
       "99  Jamie's Ministry of Food:Anyone Can Learn to C...     Oliver, Jamie   \n",
       "\n",
       "   Volumes Sold        Publisher                        Genre  \n",
       "0     5,094,805       Transworld  Crime, Thriller & Adventure  \n",
       "1     4,475,152       Bloomsbury           Children's Fiction  \n",
       "2     4,200,654       Bloomsbury           Children's Fiction  \n",
       "3     4,179,479       Bloomsbury           Children's Fiction  \n",
       "4     3,758,936     Random House              Romance & Sagas  \n",
       "..          ...              ...                          ...  \n",
       "95      807,311     Random House   General & Literary Fiction  \n",
       "96      794,201          Penguin        Food & Drink: General  \n",
       "97      792,187  Scholastic Ltd.          Young Adult Fiction  \n",
       "98      791,507            Orion           Biography: General  \n",
       "99      791,095          Penguin        Food & Drink: General  \n",
       "\n",
       "[100 rows x 5 columns]"
      ]
     },
     "execution_count": 103,
     "metadata": {},
     "output_type": "execute_result"
    }
   ],
   "source": [
    "df"
   ]
  },
  {
   "cell_type": "markdown",
   "id": "16650ff1",
   "metadata": {},
   "source": [
    "# 9. Scrape the details most watched tv series of all time from imdb.com. Url = https://www.imdb.com/list/ls095964455/\n",
    "You have to find the following details:\n",
    "A) Name\n",
    "B) Year span\n",
    "C) Genre\n",
    "D) Run time\n",
    "E) Ratings\n",
    "F) Votes"
   ]
  },
  {
   "cell_type": "code",
   "execution_count": 104,
   "id": "a107cfe0",
   "metadata": {},
   "outputs": [],
   "source": [
    "driver.get('https://www.imdb.com/list/ls095964455/')"
   ]
  },
  {
   "cell_type": "code",
   "execution_count": 105,
   "id": "5490c58b",
   "metadata": {},
   "outputs": [
    {
     "name": "stdout",
     "output_type": "stream",
     "text": [
      "['1. Game of Thrones ', '2. Stranger Things ', '3. The Walking Dead ', '4. 13 Reasons Why ', '5. The 100 ', '6. Orange Is the New Black ', '7. Riverdale ', \"8. Grey's Anatomy \", '9. The Flash ', '10. Arrow ', '11. Money Heist ', '12. The Big Bang Theory ', '13. Black Mirror ', '14. Sherlock ', '15. Vikings ', '16. Pretty Little Liars ', '17. The Vampire Diaries ', '18. American Horror Story ', '19. Breaking Bad ', '20. Lucifer ', '21. Supernatural ', '22. Prison Break ', '23. How to Get Away with Murder ', '24. Teen Wolf ', '25. The Simpsons ', '26. Once Upon a Time ', '27. Narcos ', '28. Daredevil ', '29. Friends ', '30. How I Met Your Mother ', '31. Suits ', '32. Mr. Robot ', '33. The Originals ', '34. Supergirl ', '35. Gossip Girl ', '36. Sense8 ', '37. Gotham ', '38. Westworld ', '39. Jessica Jones ', '40. Modern Family ', '41. Rick and Morty ', '42. Shadowhunters ', '43. The End of the F***ing World ', '44. House of Cards ', '45. Dark ', '46. Elite ', '47. Sex Education ', '48. Shameless ', '49. New Girl ', '50. Agents of S.H.I.E.L.D. ', '51. You ', '52. Dexter ', '53. Fear the Walking Dead ', '54. Family Guy ', '55. The Blacklist ', '56. Lost ', '57. Peaky Blinders ', '58. House ', '59. Quantico ', '60. Orphan Black ', '61. Homeland ', '62. Blindspot ', \"63. DC's Legends of Tomorrow \", \"64. The Handmaid's Tale \", '65. Chilling Adventures of Sabrina ', '66. The Good Doctor ', '67. Jane the Virgin ', '68. Glee ', '69. South Park ', '70. Brooklyn Nine-Nine ', '71. Under the Dome ', '72. The Umbrella Academy ', '73. True Detective ', '74. The OA ', '75. Desperate Housewives ', '76. Better Call Saul ', '77. Bates Motel ', '78. The Punisher ', '79. Atypical ', '80. Dynasty ', '81. This Is Us ', '82. The Good Place ', '83. Iron Fist ', '84. The Rain ', '85. Mindhunter ', '86. Revenge ', '87. Luke Cage ', '88. Scandal ', '89. The Defenders ', '90. Big Little Lies ', '91. Insatiable ', '92. The Mentalist ', '93. The Crown ', '94. Chernobyl ', '95. iZombie ', '96. Reign ', '97. A Series of Unfortunate Events ', '98. Criminal Minds ', '99. Scream: The TV Series ', '100. The Haunting of Hill House ']\n",
      "100\n"
     ]
    }
   ],
   "source": [
    "name=[]\n",
    "name_tags=driver.find_elements(By.XPATH,'//h3[@class=\"lister-item-header\"]')\n",
    "for i in name_tags:\n",
    "    name.append(i.text.split('(')[0])\n",
    "print(name)\n",
    "print(len(name))"
   ]
  },
  {
   "cell_type": "code",
   "execution_count": 106,
   "id": "8772a630",
   "metadata": {},
   "outputs": [
    {
     "name": "stdout",
     "output_type": "stream",
     "text": [
      "['(2011–2019)', '(2016– )', '(2010–2022)', '(2017–2020)', '(2014–2020)', '(2013–2019)', '(2017– )', '(2005– )', '(2014–2023)', '(2012–2020)', '(2017–2021)', '(2007–2019)', '(2011–2019)', '(2010–2017)', '(2013–2020)', '(2010–2017)', '(2009–2017)', '(2011– )', '(2008–2013)', '(2016–2021)', '(2005–2020)', '(2005–2017)', '(2014–2020)', '(2011–2017)', '(1989– )', '(2011–2018)', '(2015–2017)', '(2015–2018)', '(1994–2004)', '(2005–2014)', '(2011–2019)', '(2015–2019)', '(2013–2018)', '(2015–2021)', '(2007–2012)', '(2015–2018)', '(2014–2019)', '(2016– )', '(2015–2019)', '(2009–2020)', '(2013– )', '(2016–2019)', '(2017–2019)', '(2013–2018)', '(2017–2020)', '(2018– )', '(2019– )', '(2011–2021)', '(2011–2018)', '(2013–2020)', '(2018– )', '(2006–2013)', '(2015– )', '(1999– )', '(2013– )', '(2004–2010)', '(2013–2022)', '(2004–2012)', '(2015–2018)', '(2013–2017)', '(2011–2020)', '(2015–2020)', '(2016–2022)', '(2017– )', '(2018–2020)', '(2017– )', '(2014–2019)', '(2009–2015)', '(1997– )', '(2013–2021)', '(2013–2015)', '(2019–2023)', '(2014–2019)', '(2016–2019)', '(2004–2012)', '(2015–2022)', '(2013–2017)', '(2017–2019)', '(2017–2021)', '(2017–2022)', '(2016–2022)', '(2016–2020)', '(2017–2018)', '(2018–2020)', '(2017–2019)', '(2011–2015)', '(2016–2018)', '(2012–2018)', '(2017)', '(2017–2019)', '(2018–2019)', '(2008–2015)', '(2016– )', '(2019)', '(2015–2019)', '(2013–2017)', '(2017–2019)', '(2005–2020)', '(2015–2019)', '(2018)']\n",
      "100\n"
     ]
    }
   ],
   "source": [
    "year=[]\n",
    "year_tags=driver.find_elements(By.XPATH,'//span[@class=\"lister-item-year text-muted unbold\"]')\n",
    "for i in year_tags:\n",
    "    year.append(i.text)\n",
    "print(year)\n",
    "print(len(year))"
   ]
  },
  {
   "cell_type": "code",
   "execution_count": 107,
   "id": "944ae224",
   "metadata": {},
   "outputs": [
    {
     "name": "stdout",
     "output_type": "stream",
     "text": [
      "['Action, Adventure, Drama', 'Drama, Fantasy, Horror', 'Drama, Horror, Thriller', 'Drama, Mystery, Thriller', 'Drama, Mystery, Sci-Fi', 'Comedy, Crime, Drama', 'Crime, Drama, Mystery', 'Drama, Romance', 'Action, Adventure, Drama', 'Action, Adventure, Crime', 'Action, Crime, Drama', 'Comedy, Romance', 'Drama, Mystery, Sci-Fi', 'Crime, Drama, Mystery', 'Action, Adventure, Drama', 'Drama, Mystery, Romance', 'Drama, Fantasy, Horror', 'Drama, Horror, Sci-Fi', 'Crime, Drama, Thriller', 'Crime, Drama, Fantasy', 'Drama, Fantasy, Horror', 'Action, Crime, Drama', 'Crime, Drama, Mystery', 'Action, Drama, Fantasy', 'Animation, Comedy', 'Adventure, Fantasy, Romance', 'Biography, Crime, Drama', 'Action, Crime, Drama', 'Comedy, Romance', 'Comedy, Romance', 'Comedy, Drama', 'Crime, Drama, Thriller', 'Drama, Fantasy, Horror', 'Action, Adventure, Drama', 'Drama, Romance', 'Drama, Mystery, Sci-Fi', 'Action, Crime, Drama', 'Drama, Mystery, Sci-Fi', 'Action, Crime, Drama', 'Comedy, Drama, Romance', 'Animation, Adventure, Comedy', 'Action, Drama, Fantasy', 'Adventure, Comedy, Crime', 'Drama', 'Crime, Drama, Mystery', 'Crime, Drama, Thriller', 'Comedy, Drama', 'Comedy, Drama', 'Comedy, Romance', 'Action, Adventure, Drama', 'Crime, Drama, Romance', 'Crime, Drama, Mystery', 'Drama, Horror, Sci-Fi', 'Animation, Comedy', 'Crime, Drama, Mystery', 'Adventure, Drama, Fantasy', 'Crime, Drama', 'Drama, Mystery', 'Crime, Drama, Mystery', 'Drama, Sci-Fi, Thriller', 'Crime, Drama, Mystery', 'Action, Crime, Drama', 'Action, Adventure, Drama', 'Drama, Sci-Fi, Thriller', 'Drama, Fantasy, Horror', 'Drama', 'Comedy', 'Comedy, Drama, Music', 'Animation, Comedy', 'Comedy, Crime', 'Drama, Mystery, Sci-Fi', 'Action, Adventure, Comedy', 'Crime, Drama, Mystery', 'Drama, Fantasy, Mystery', 'Comedy, Drama, Mystery', 'Crime, Drama', 'Drama, Horror, Mystery', 'Action, Crime, Drama', 'Comedy, Drama', 'Drama', 'Comedy, Drama, Romance', 'Comedy, Drama, Fantasy', 'Action, Adventure, Crime', 'Drama, Sci-Fi, Thriller', 'Crime, Drama, Mystery', 'Drama, Mystery, Thriller', 'Action, Crime, Drama', 'Drama, Thriller', 'Action, Adventure, Crime', 'Crime, Drama, Mystery', 'Comedy, Drama, Thriller', 'Crime, Drama, Mystery', 'Biography, Drama, History', 'Drama, History, Thriller', 'Comedy, Crime, Drama', 'Drama', 'Adventure, Comedy, Drama', 'Crime, Drama, Mystery', 'Comedy, Crime, Drama', 'Drama, Horror, Mystery']\n",
      "100\n"
     ]
    }
   ],
   "source": [
    "genre=[]\n",
    "genre_tags=driver.find_elements(By.XPATH,'//span[@class=\"genre\"]')\n",
    "for i in genre_tags:\n",
    "    genre.append(i.text)\n",
    "print(genre)\n",
    "print(len(genre))"
   ]
  },
  {
   "cell_type": "code",
   "execution_count": 108,
   "id": "8505fca8",
   "metadata": {},
   "outputs": [
    {
     "name": "stdout",
     "output_type": "stream",
     "text": [
      "['57 min', '51 min', '44 min', '60 min', '43 min', '59 min', '45 min', '41 min', '43 min', '42 min', '70 min', '22 min', '60 min', '88 min', '44 min', '44 min', '43 min', '60 min', '49 min', '42 min', '44 min', '44 min', '43 min', '41 min', '22 min', '60 min', '49 min', '54 min', '22 min', '22 min', '44 min', '49 min', '45 min', '43 min', '42 min', '60 min', '42 min', '62 min', '56 min', '22 min', '23 min', '42 min', '25 min', '51 min', '60 min', '60 min', '45 min', '46 min', '22 min', '45 min', '45 min', '53 min', '44 min', '22 min', '43 min', '44 min', '60 min', '44 min', '42 min', '44 min', '55 min', '42 min', '42 min', '60 min', '60 min', '41 min', '60 min', '44 min', '22 min', '22 min', '43 min', '60 min', '55 min', '60 min', '45 min', '46 min', '45 min', '53 min', '30 min', '42 min', '45 min', '22 min', '55 min', '45 min', '60 min', '44 min', '55 min', '43 min', '50 min', '60 min', '45 min', '43 min', '58 min', '330 min', '42 min', '42 min', '50 min', '42 min', '45 min', '572 min']\n",
      "100\n"
     ]
    }
   ],
   "source": [
    "runtime=[]\n",
    "runtime_tags=driver.find_elements(By.XPATH,'//span[@class=\"runtime\"]')\n",
    "for i in runtime_tags:\n",
    "    runtime.append(i.text)\n",
    "print(runtime)\n",
    "print(len(runtime))"
   ]
  },
  {
   "cell_type": "code",
   "execution_count": 109,
   "id": "30c905f3",
   "metadata": {},
   "outputs": [
    {
     "name": "stdout",
     "output_type": "stream",
     "text": [
      "['9.2', '8.7', '8.1', '7.5', '7.6', '8.1', '6.6', '7.6', '7.6', '7.5', '8.2', '8.2', '8.8', '9.1', '8.5', '7.4', '7.7', '8', '9.5', '8.1', '8.4', '8.3', '8.1', '7.7', '8.7', '7.7', '8.8', '8.6', '8.9', '8.3', '8.5', '8.6', '8.3', '6.2', '7.4', '8.2', '7.8', '8.5', '7.9', '8.5', '9.2', '6.5', '8.1', '8.7', '8.7', '7.4', '8.4', '8.6', '7.7', '7.5', '7.7', '8.7', '6.8', '8.2', '8', '8.3', '8.8', '8.7', '6.6', '8.3', '8.3', '7.3', '6.7', '8.4', '7.4', '8.1', '7.9', '6.8', '8.7', '8.4', '6.5', '7.9', '8.9', '7.8', '7.6', '8.9', '8.1', '8.5', '8.3', '7.2', '8.7', '8.2', '6.4', '6.3', '8.6', '7.8', '7.3', '7.7', '7.2', '8.5', '6.5', '8.1', '8.7', '9.4', '7.8', '7.4', '7.8', '8.1', '7.1', '8.6']\n",
      "100\n"
     ]
    }
   ],
   "source": [
    "rating=[]\n",
    "rating_tags=driver.find_elements(By.XPATH,'//div[@class=\"ipl-rating-star small\"]')\n",
    "for i in rating_tags:\n",
    "    rating.append(i.text)\n",
    "print(rating)\n",
    "print(len(rating))"
   ]
  },
  {
   "cell_type": "code",
   "execution_count": 110,
   "id": "89fa6807",
   "metadata": {},
   "outputs": [
    {
     "name": "stdout",
     "output_type": "stream",
     "text": [
      "['2,049,219', '1,145,176', '968,241', '288,816', '248,385', '300,034', '143,573', '303,032', '343,882', '429,669', '468,770', '797,537', '534,512', '912,383', '523,401', '166,324', '317,777', '312,475', '1,824,664', '318,098', '438,892', '528,442', '150,067', '146,709', '402,474', '223,305', '415,504', '433,131', '977,591', '675,212', '405,157', '382,866', '134,728', '123,594', '173,038', '153,782', '229,078', '497,190', '212,940', '422,967', '499,079', '62,895', '185,662', '500,545', '370,607', '76,865', '272,761', '238,911', '221,371', '216,278', '233,623', '720,240', '129,145', '334,277', '245,182', '547,789', '528,648', '457,866', '60,927', '110,617', '339,190', '73,642', '104,342', '224,721', '93,477', '92,445', '49,847', '147,757', '365,943', '307,776', '106,405', '242,172', '561,573', '104,103', '128,137', '496,231', '107,182', '230,834', '86,927', '21,965', '141,774', '156,204', '129,979', '36,878', '280,555', '119,845', '130,199', '73,585', '106,560', '195,291', '28,519', '183,553', '197,867', '731,757', '67,735', '49,554', '60,557', '194,775', '41,021', '236,415']\n",
      "100\n"
     ]
    }
   ],
   "source": [
    "votes=[]\n",
    "votes_tags=driver.find_elements(By.XPATH,'//span[@name=\"nv\"]')\n",
    "for i in votes_tags:\n",
    "    votes.append(i.text)\n",
    "print(votes)\n",
    "print(len(votes))"
   ]
  },
  {
   "cell_type": "code",
   "execution_count": 111,
   "id": "876ff891",
   "metadata": {},
   "outputs": [
    {
     "data": {
      "text/html": [
       "<div>\n",
       "<style scoped>\n",
       "    .dataframe tbody tr th:only-of-type {\n",
       "        vertical-align: middle;\n",
       "    }\n",
       "\n",
       "    .dataframe tbody tr th {\n",
       "        vertical-align: top;\n",
       "    }\n",
       "\n",
       "    .dataframe thead th {\n",
       "        text-align: right;\n",
       "    }\n",
       "</style>\n",
       "<table border=\"1\" class=\"dataframe\">\n",
       "  <thead>\n",
       "    <tr style=\"text-align: right;\">\n",
       "      <th></th>\n",
       "      <th>Name of Series</th>\n",
       "      <th>Year Span</th>\n",
       "      <th>Genre</th>\n",
       "      <th>Runtime</th>\n",
       "      <th>Ratings</th>\n",
       "      <th>Votes</th>\n",
       "    </tr>\n",
       "  </thead>\n",
       "  <tbody>\n",
       "    <tr>\n",
       "      <th>0</th>\n",
       "      <td>1. Game of Thrones</td>\n",
       "      <td>(2011–2019)</td>\n",
       "      <td>Action, Adventure, Drama</td>\n",
       "      <td>57 min</td>\n",
       "      <td>9.2</td>\n",
       "      <td>2,049,219</td>\n",
       "    </tr>\n",
       "    <tr>\n",
       "      <th>1</th>\n",
       "      <td>2. Stranger Things</td>\n",
       "      <td>(2016– )</td>\n",
       "      <td>Drama, Fantasy, Horror</td>\n",
       "      <td>51 min</td>\n",
       "      <td>8.7</td>\n",
       "      <td>1,145,176</td>\n",
       "    </tr>\n",
       "    <tr>\n",
       "      <th>2</th>\n",
       "      <td>3. The Walking Dead</td>\n",
       "      <td>(2010–2022)</td>\n",
       "      <td>Drama, Horror, Thriller</td>\n",
       "      <td>44 min</td>\n",
       "      <td>8.1</td>\n",
       "      <td>968,241</td>\n",
       "    </tr>\n",
       "    <tr>\n",
       "      <th>3</th>\n",
       "      <td>4. 13 Reasons Why</td>\n",
       "      <td>(2017–2020)</td>\n",
       "      <td>Drama, Mystery, Thriller</td>\n",
       "      <td>60 min</td>\n",
       "      <td>7.5</td>\n",
       "      <td>288,816</td>\n",
       "    </tr>\n",
       "    <tr>\n",
       "      <th>4</th>\n",
       "      <td>5. The 100</td>\n",
       "      <td>(2014–2020)</td>\n",
       "      <td>Drama, Mystery, Sci-Fi</td>\n",
       "      <td>43 min</td>\n",
       "      <td>7.6</td>\n",
       "      <td>248,385</td>\n",
       "    </tr>\n",
       "    <tr>\n",
       "      <th>...</th>\n",
       "      <td>...</td>\n",
       "      <td>...</td>\n",
       "      <td>...</td>\n",
       "      <td>...</td>\n",
       "      <td>...</td>\n",
       "      <td>...</td>\n",
       "    </tr>\n",
       "    <tr>\n",
       "      <th>95</th>\n",
       "      <td>96. Reign</td>\n",
       "      <td>(2013–2017)</td>\n",
       "      <td>Drama</td>\n",
       "      <td>42 min</td>\n",
       "      <td>7.4</td>\n",
       "      <td>49,554</td>\n",
       "    </tr>\n",
       "    <tr>\n",
       "      <th>96</th>\n",
       "      <td>97. A Series of Unfortunate Events</td>\n",
       "      <td>(2017–2019)</td>\n",
       "      <td>Adventure, Comedy, Drama</td>\n",
       "      <td>50 min</td>\n",
       "      <td>7.8</td>\n",
       "      <td>60,557</td>\n",
       "    </tr>\n",
       "    <tr>\n",
       "      <th>97</th>\n",
       "      <td>98. Criminal Minds</td>\n",
       "      <td>(2005–2020)</td>\n",
       "      <td>Crime, Drama, Mystery</td>\n",
       "      <td>42 min</td>\n",
       "      <td>8.1</td>\n",
       "      <td>194,775</td>\n",
       "    </tr>\n",
       "    <tr>\n",
       "      <th>98</th>\n",
       "      <td>99. Scream: The TV Series</td>\n",
       "      <td>(2015–2019)</td>\n",
       "      <td>Comedy, Crime, Drama</td>\n",
       "      <td>45 min</td>\n",
       "      <td>7.1</td>\n",
       "      <td>41,021</td>\n",
       "    </tr>\n",
       "    <tr>\n",
       "      <th>99</th>\n",
       "      <td>100. The Haunting of Hill House</td>\n",
       "      <td>(2018)</td>\n",
       "      <td>Drama, Horror, Mystery</td>\n",
       "      <td>572 min</td>\n",
       "      <td>8.6</td>\n",
       "      <td>236,415</td>\n",
       "    </tr>\n",
       "  </tbody>\n",
       "</table>\n",
       "<p>100 rows × 6 columns</p>\n",
       "</div>"
      ],
      "text/plain": [
       "                         Name of Series    Year Span  \\\n",
       "0                   1. Game of Thrones   (2011–2019)   \n",
       "1                   2. Stranger Things      (2016– )   \n",
       "2                  3. The Walking Dead   (2010–2022)   \n",
       "3                    4. 13 Reasons Why   (2017–2020)   \n",
       "4                           5. The 100   (2014–2020)   \n",
       "..                                  ...          ...   \n",
       "95                           96. Reign   (2013–2017)   \n",
       "96  97. A Series of Unfortunate Events   (2017–2019)   \n",
       "97                  98. Criminal Minds   (2005–2020)   \n",
       "98           99. Scream: The TV Series   (2015–2019)   \n",
       "99     100. The Haunting of Hill House        (2018)   \n",
       "\n",
       "                       Genre  Runtime Ratings      Votes  \n",
       "0   Action, Adventure, Drama   57 min     9.2  2,049,219  \n",
       "1     Drama, Fantasy, Horror   51 min     8.7  1,145,176  \n",
       "2    Drama, Horror, Thriller   44 min     8.1    968,241  \n",
       "3   Drama, Mystery, Thriller   60 min     7.5    288,816  \n",
       "4     Drama, Mystery, Sci-Fi   43 min     7.6    248,385  \n",
       "..                       ...      ...     ...        ...  \n",
       "95                     Drama   42 min     7.4     49,554  \n",
       "96  Adventure, Comedy, Drama   50 min     7.8     60,557  \n",
       "97     Crime, Drama, Mystery   42 min     8.1    194,775  \n",
       "98      Comedy, Crime, Drama   45 min     7.1     41,021  \n",
       "99    Drama, Horror, Mystery  572 min     8.6    236,415  \n",
       "\n",
       "[100 rows x 6 columns]"
      ]
     },
     "execution_count": 111,
     "metadata": {},
     "output_type": "execute_result"
    }
   ],
   "source": [
    "df=pd.DataFrame({'Name of Series':name, 'Year Span':year, 'Genre':genre, 'Runtime':runtime, 'Ratings':rating, 'Votes': votes})\n",
    "df"
   ]
  },
  {
   "cell_type": "markdown",
   "id": "f07e73e3",
   "metadata": {},
   "source": [
    "# 10. Details of Datasets from UCI machine learning repositories. Url = https://archive.ics.uci.edu/\n",
    "You have to find the following details:\n",
    "A) Dataset name\n",
    "B) Data type\n",
    "C) Task\n",
    "D) Attribute type\n",
    "E) No of instances\n",
    "F) No of attribute\n",
    "G) Year"
   ]
  },
  {
   "cell_type": "code",
   "execution_count": 112,
   "id": "65ca6e2b",
   "metadata": {},
   "outputs": [],
   "source": [
    "driver.get('https://archive.ics.uci.edu/ml/index.php')"
   ]
  },
  {
   "cell_type": "code",
   "execution_count": 113,
   "id": "59c60643",
   "metadata": {},
   "outputs": [],
   "source": [
    "select_datasets=driver.find_element(By.XPATH,'/html/body/table[1]/tbody/tr/td[2]/span[2]')\n",
    "select_datasets.click()"
   ]
  },
  {
   "cell_type": "code",
   "execution_count": 114,
   "id": "cab2681c",
   "metadata": {},
   "outputs": [
    {
     "name": "stdout",
     "output_type": "stream",
     "text": [
      "['Abalone', 'Adult', 'Annealing', 'Anonymous Microsoft Web Data', 'Arrhythmia', 'Artificial Characters', 'Audiology (Original)', 'Audiology (Standardized)', 'Auto MPG', 'Automobile', 'Badges', 'Balance Scale', 'Balloons', 'Breast Cancer', 'Breast Cancer Wisconsin (Original)', 'Breast Cancer Wisconsin (Prognostic)', 'Breast Cancer Wisconsin (Diagnostic)', 'Pittsburgh Bridges', 'Car Evaluation', 'Census Income', 'Chess (King-Rook vs. King-Knight)', 'Chess (King-Rook vs. King-Pawn)', 'Chess (King-Rook vs. King)', 'Chess (Domain Theories)', 'Bach Chorales', 'Connect-4', 'Credit Approval', 'Japanese Credit Screening', 'Computer Hardware', 'Contraceptive Method Choice', 'Covertype', 'Cylinder Bands', 'Dermatology', 'Diabetes', 'DGP2 - The Second Data Generation Program', 'Document Understanding', 'EBL Domain Theories', 'Echocardiogram', 'Ecoli', 'Flags', 'Function Finding', 'Glass Identification', \"Haberman's Survival\", 'Hayes-Roth', 'Heart Disease', 'Hepatitis', 'Horse Colic', 'ICU', 'Image Segmentation', 'Internet Advertisements', 'Ionosphere', 'Iris', 'ISOLET', 'Kinship', 'Labor Relations', 'LED Display Domain', 'Lenses', 'Letter Recognition', 'Liver Disorders', 'Logic Theorist', 'Lung Cancer', 'Lymphography', 'Mechanical Analysis', 'Meta-data', 'Mobile Robots', 'Molecular Biology (Promoter Gene Sequences)', 'Molecular Biology (Protein Secondary Structure)', 'Molecular Biology (Splice-junction Gene Sequences)', \"MONK's Problems\", 'Moral Reasoner', 'Multiple Features', 'Mushroom', 'Musk (Version 1)', 'Musk (Version 2)', 'Nursery', 'Othello Domain Theory', 'Page Blocks Classification', 'Optical Recognition of Handwritten Digits', 'Pen-Based Recognition of Handwritten Digits', 'Post-Operative Patient', 'Primary Tumor', 'Prodigy', 'Qualitative Structure Activity Relationships', 'Quadruped Mammals', 'Servo', 'Shuttle Landing Control', 'Solar Flare', 'Soybean (Large)', 'Soybean (Small)', 'Challenger USA Space Shuttle O-Ring', 'Low Resolution Spectrometer', 'Spambase', 'SPECT Heart', 'SPECTF Heart', 'Sponge', 'Statlog Project', 'Student Loan Relational', 'Teaching Assistant Evaluation', 'Tic-Tac-Toe Endgame', 'Thyroid Disease', 'Trains', 'University', 'Congressional Voting Records', 'Water Treatment Plant', 'Waveform Database Generator (Version 1)', 'Waveform Database Generator (Version 2)', 'Wine', 'Yeast', 'Zoo', 'Undocumented', 'Twenty Newsgroups', 'Australian Sign Language signs', 'Australian Sign Language signs (High Quality)', 'US Census Data (1990)', 'Census-Income (KDD)', 'Coil 1999 Competition Data', 'Corel Image Features', 'E. Coli Genes', 'EEG Database', 'El Nino', 'Entree Chicago Recommendation Data', 'CMU Face Images', 'Insurance Company Benchmark (COIL 2000)', 'Internet Usage Data', 'IPUMS Census Database', 'Japanese Vowels', 'KDD Cup 1998 Data', 'KDD Cup 1999 Data', 'M. Tuberculosis Genes', 'Movie', 'MSNBC.com Anonymous Web Data', 'NSF Research Award Abstracts 1990-2003', 'Pioneer-1 Mobile Robot Data', 'Pseudo Periodic Synthetic Time Series', 'Reuters-21578 Text Categorization Collection', 'Robot Execution Failures', 'Synthetic Control Chart Time Series', 'Syskill and Webert Web Page Ratings', 'UNIX User Data', 'Volcanoes on Venus - JARtool experiment', 'Statlog (Australian Credit Approval)', 'Statlog (German Credit Data)', 'Statlog (Heart)', 'Statlog (Landsat Satellite)', 'Statlog (Image Segmentation)', 'Statlog (Shuttle)', 'Statlog (Vehicle Silhouettes)', 'Connectionist Bench (Nettalk Corpus)', 'Connectionist Bench (Sonar, Mines vs. Rocks)', 'Connectionist Bench (Vowel Recognition - Deterding Data)', 'Economic Sanctions', 'Protein Data', 'Cloud', 'CalIt2 Building People Counts', 'Dodgers Loop Sensor', 'Poker Hand', 'MAGIC Gamma Telescope', 'UJI Pen Characters', 'Mammographic Mass', 'Forest Fires', 'Reuters Transcribed Subset', 'Bag of Words', 'Concrete Compressive Strength', 'Hill-Valley', 'Arcene', 'Dexter', 'Dorothea', 'Gisette', 'Madelon', 'Ozone Level Detection', 'Abscisic Acid Signaling Network', 'Parkinsons', 'Character Trajectories', 'Blood Transfusion Service Center', 'UJI Pen Characters (Version 2)', 'Semeion Handwritten Digit', 'SECOM', 'Plants', 'Libras Movement', 'Concrete Slump Test', 'Communities and Crime', 'Acute Inflammations', 'Wine Quality', 'URL Reputation', 'p53 Mutants', 'Parkinsons Telemonitoring', 'Demospongiae', 'Opinosis Opinion ⁄ Review', 'Breast Tissue', 'Cardiotocography', 'Wall-Following Robot Navigation Data', 'Spoken Arabic Digit', 'Localization Data for Person Activity', 'AutoUniv', 'Steel Plates Faults', 'MiniBooNE particle identification', 'YearPredictionMSD', 'PEMS-SF', 'OpinRank Review Dataset', 'Relative location of CT slices on axial axis', 'Online Handwritten Assamese Characters Dataset', 'PubChem Bioassay Data', 'Record Linkage Comparison Patterns', 'Communities and Crime Unnormalized', 'Vertebral Column', 'EMG Physical Action Data Set', 'Vicon Physical Action Data Set', 'Amazon Commerce reviews set', 'Amazon Access Samples', 'Reuter_50_50', 'Farm Ads', 'DBWorld e-mails', 'KEGG Metabolic Relation Network (Directed)', 'KEGG Metabolic Reaction Network (Undirected)', 'Bank Marketing', 'YouTube Comedy Slam Preference Data', 'Gas Sensor Array Drift Dataset', 'ILPD (Indian Liver Patient Dataset)', 'OPPORTUNITY Activity Recognition', 'Nomao', 'SMS Spam Collection', 'Skin Segmentation', 'Planning Relax', 'PAMAP2 Physical Activity Monitoring', 'Restaurant & consumer data', 'CNAE-9', 'Individual household electric power consumption', 'seeds', 'Northix', 'QtyT40I10D100K', 'Legal Case Reports', 'Human Activity Recognition Using Smartphones', 'One-hundred plant species leaves data set', 'Energy efficiency', 'Yacht Hydrodynamics', 'Fertility', 'Daphnet Freezing of Gait', '3D Road Network (North Jutland, Denmark)', 'ISTANBUL STOCK EXCHANGE', 'Buzz in social media', 'First-order theorem proving', 'Wearable Computing: Classification of Body Postures and Movements (PUC-Rio)', 'Gas sensor arrays in open sampling settings', 'Climate Model Simulation Crashes', 'MicroMass', 'QSAR biodegradation', 'BLOGGER', 'Daily and Sports Activities', 'User Knowledge Modeling', 'Reuters RCV1 RCV2 Multilingual, Multiview Text Categorization Test collection', 'NYSK', 'Turkiye Student Evaluation', \"ser Knowledge Modeling Data (Students' Knowledge Levels on DC Electrical Machines)\", 'EEG Eye State', 'Physicochemical Properties of Protein Tertiary Structure', 'seismic-bumps', 'banknote authentication', 'USPTO Algorithm Challenge, run by NASA-Harvard Tournament Lab and TopCoder Problem: Pat', 'YouTube Multiview Video Games Dataset', 'Gas Sensor Array Drift Dataset at Different Concentrations', 'Activities of Daily Living (ADLs) Recognition Using Binary Sensors', 'SkillCraft1 Master Table Dataset', 'Weight Lifting Exercises monitored with Inertial Measurement Units', 'SML2010', 'Bike Sharing Dataset', 'Predict keywords activities in a online social media', 'Thoracic Surgery Data', 'EMG dataset in Lower Limb', 'SUSY', 'HIGGS', 'Qualitative_Bankruptcy', 'LSVT Voice Rehabilitation', 'Dataset for ADL Recognition with Wrist-worn Accelerometer', 'Wilt', 'User Identification From Walking Activity', 'Activity Recognition from Single Chest-Mounted Accelerometer', 'Leaf', 'Dresses_Attribute_Sales', 'Tamilnadu Electricity Board Hourly Readings', 'Airfoil Self-Noise', 'Wholesale customers', 'Twitter Data set for Arabic Sentiment Analysis', 'Combined Cycle Power Plant', 'Urban Land Cover', 'Diabetes 130-US hospitals for years 1999-2008', 'Bach Choral Harmony', 'StoneFlakes', 'Tennis Major Tournament Match Statistics', 'Parkinson Speech Dataset with Multiple Types of Sound Recordings', 'Gesture Phase Segmentation', 'Perfume Data', 'BlogFeedback', 'REALDISP Activity Recognition Dataset', 'Newspaper and magazine images segmentation dataset', 'AAAI 2014 Accepted Papers', 'Gas sensor array under flow modulation', 'Gas sensor array exposed to turbulent gas mixtures', 'UJIIndoorLoc', 'Sentence Classification', 'Dow Jones Index', 'sEMG for Basic Hand movements', 'AAAI 2013 Accepted Papers', 'Geographical Original of Music', 'Condition Based Maintenance of Naval Propulsion Plants', 'Grammatical Facial Expressions', 'NoisyOffice', 'MHEALTH Dataset', 'Student Performance', 'ElectricityLoadDiagrams20112014', 'Gas sensor array under dynamic gas mixtures', 'microblogPCU', 'Firm-Teacher_Clave-Direction_Classification', 'Dataset for Sensorless Drive Diagnosis', 'TV News Channel Commercial Detection Dataset', 'Phishing Websites', 'Greenhouse Gas Observing Network', 'Diabetic Retinopathy Debrecen Data Set', 'HIV-1 protease cleavage', 'Sentiment Labelled Sentences', 'Online News Popularity', 'Forest type mapping', 'wiki4HE', 'Online Video Characteristics and Transcoding Time Dataset', 'Chronic_Kidney_Disease', 'Machine Learning based ZZAlpha Ltd. Stock Recommendations 2012-2014', 'Folio', 'Taxi Service Trajectory - Prediction Challenge, ECML PKDD 2015', 'Cuff-Less Blood Pressure Estimation', 'Smartphone-Based Recognition of Human Activities and Postural Transitions', 'Mice Protein Expression', 'UJIIndoorLoc-Mag', 'Heterogeneity Activity Recognition', 'Educational Process Mining (EPM): A Learning Analytics Data Set', 'HEPMASS', 'Indoor User Movement Prediction from RSS data', 'Open University Learning Analytics dataset', 'default of credit card clients', 'Mesothelioma’s disease data set', 'Online Retail', 'SIFT10M', 'GPS Trajectories', 'Detect Malacious Executable(AntiVirus)', 'Occupancy Detection', 'Improved Spiral Test Using Digitized Graphics Tablet for Monitoring Parkinson’s Disease', 'News Aggregator', 'Air Quality', 'Twin gas sensor arrays', 'Gas sensors for home activity monitoring', 'Facebook Comment Volume Dataset', 'Smartphone Dataset for Human Activity Recognition (HAR) in Ambient Assisted Living (AAL)', 'Polish companies bankruptcy data', 'Activity Recognition system based on Multisensor data fusion (AReM)', 'Dota2 Games Results', 'Facebook metrics', 'UbiqLog (smartphone lifelogging)', 'NIPS Conference Papers 1987-2015', 'HTRU2', 'Drug consumption (quantified)', 'Appliances energy prediction', 'Miskolc IIS Hybrid IPS', 'KDC-4007 dataset Collection', 'Geo-Magnetic field and WLAN dataset for indoor localisation from wristband and smartphone', 'DrivFace', 'Website Phishing', 'YouTube Spam Collection', 'Beijing PM2.5 Data', 'Cargo 2000 Freight Tracking and Tracing', 'Cervical cancer (Risk Factors)', 'Quality Assessment of Digital Colposcopies', 'KASANDR', 'FMA: A Dataset For Music Analysis', 'Air quality', 'Epileptic Seizure Recognition', 'Devanagari Handwritten Character Dataset', 'Stock portfolio performance', 'MoCap Hand Postures', 'Early biomarkers of Parkinson�s disease based on natural connected speech', 'Data for Software Engineering Teamwork Assessment in Education Setting', 'PM2.5 Data of Five Chinese Cities', 'Parkinson Disease Spiral Drawings Using Digitized Graphics Tablet', 'Sales_Transactions_Dataset_Weekly', 'Las Vegas Strip', 'Eco-hotel', 'MEU-Mobile KSD', 'Crowdsourced Mapping', 'gene expression cancer RNA-Seq', 'Hybrid Indoor Positioning Dataset from WiFi RSSI, Bluetooth and magnetometer', 'chestnut – LARVIC', 'Burst Header Packet (BHP) flooding attack on Optical Burst Switching (OBS) Network', 'Motion Capture Hand Postures', 'Anuran Calls (MFCCs)', 'TTC-3600: Benchmark dataset for Turkish text categorization', 'Gastrointestinal Lesions in Regular Colonoscopy', 'Daily Demand Forecasting Orders', 'Paper Reviews', 'extention of Z-Alizadeh sani dataset', 'Z-Alizadeh Sani', 'Dynamic Features of VirusShare Executables', 'IDA2016Challenge', 'DSRC Vehicle Communications', 'Mturk User-Perceived Clusters over Images', 'Character Font Images', 'DeliciousMIL: A Data Set for Multi-Label Multi-Instance Learning with Instance Labels', 'Autistic Spectrum Disorder Screening Data for Children', 'Autistic Spectrum Disorder Screening Data for Adolescent', 'APS Failure at Scania Trucks', 'Wireless Indoor Localization', 'HCC Survival', 'CSM (Conventional and Social Media Movies) Dataset 2014 and 2015', 'University of Tehran Question Dataset 2016 (UTQD.2016)', 'Autism Screening Adult', 'Activity recognition with healthy older people using a batteryless wearable sensor', 'Immunotherapy Dataset', 'Cryotherapy Dataset', 'OCT data & Color Fundus Images of Left & Right Eyes', 'Discrete Tone Image Dataset', 'News Popularity in Multiple Social Media Platforms', 'Ultrasonic flowmeter diagnostics', 'ICMLA 2014 Accepted Papers Data Set', 'BLE RSSI Dataset for Indoor localization and Navigation', 'Container Crane Controller Data Set', 'Residential Building Data Set', 'Health News in Twitter', 'chipseq', 'SGEMM GPU kernel performance', 'Repeat Consumption Matrices', 'detection_of_IoT_botnet_attacks_N_BaIoT', 'Absenteeism at work', 'SCADI', 'Condition monitoring of hydraulic systems', 'Carbon Nanotubes', 'Optical Interconnection Network', 'Sports articles for objectivity analysis', 'Breast Cancer Coimbra', 'GNFUV Unmanned Surface Vehicles Sensor Data', 'Dishonest Internet users Dataset', 'Victorian Era Authorship Attribution', 'Simulated Falls and Daily Living Activities Data Set', 'Multimodal Damage Identification for Humanitarian Computing', 'EEG Steady-State Visual Evoked Potential Signals', 'Roman Urdu Data Set', 'Avila', 'PANDOR', 'Drug Review Dataset (Druglib.com)', 'Drug Review Dataset (Drugs.com)', 'Physical Unclonable Functions', 'Superconductivty Data', 'WESAD (Wearable Stress and Affect Detection)', 'GNFUV Unmanned Surface Vehicles Sensor Data Set 2', 'Student Academics Performance', 'Online Shoppers Purchasing Intention Dataset', 'PMU-UD', \"Parkinson's Disease Classification\", 'Electrical Grid Stability Simulated Data', 'Caesarian Section Classification Dataset', 'BAUM-1', 'BAUM-2', 'Audit Data', 'BuddyMove Data Set', 'Real estate valuation data set', 'Early biomarkers of Parkinson’s disease based on natural connected speech Data Set', 'Somerville Happiness Survey', '2.4 GHZ Indoor Channel Measurements', 'EMG data for gestures', 'Parking Birmingham', 'Behavior of the urban traffic of the city of Sao Paulo in Brazil', 'Travel Reviews', 'Tarvel Review Ratings', 'Rice Leaf Diseases', 'Gas sensor array temperature modulation', 'Facebook Live Sellers in Thailand', 'Parkinson Dataset with replicated acoustic features', 'Metro Interstate Traffic Volume', 'Query Analytics Workloads Dataset', 'Wave Energy Converters', 'PPG-DaLiA', 'Alcohol QCM Sensor Dataset', 'Divorce Predictors data set', 'Incident management process enriched event log', 'Opinion Corpus for Lebanese Arabic Reviews (OCLAR)', 'MEx', 'Beijing Multi-Site Air-Quality Data', 'Online Retail II', 'Hepatitis C Virus (HCV) for Egyptian patients', 'QSAR fish toxicity', 'QSAR aquatic toxicity', 'Human Activity Recognition from Continuous Ambient Sensor Data', 'WISDM Smartphone and Smartwatch Activity and Biometrics Dataset', 'QSAR oral toxicity', 'QSAR androgen receptor', 'QSAR Bioconcentration classes dataset', 'QSAR fish bioconcentration factor (BCF)', 'A study of Asian Religious and Biblical Texts', 'Real-time Election Results: Portugal 2019', 'Bias correction of numerical prediction model temperature forecast', 'Bar Crawl: Detecting Heavy Drinking', 'Kitsune Network Attack Dataset', 'Shoulder Implant X-Ray Manufacturer Classification', 'Speaker Accent Recognition', 'Heart failure clinical records', 'Deepfakes: Medical Image Tamper Detection', 'selfBACK', 'South German Credit', 'Exasens', 'Swarm Behaviour', 'Crop mapping using fused optical-radar data set', 'BitcoinHeistRansomwareAddressDataset', 'Facebook Large Page-Page Network', 'Amphibians', 'Early stage diabetes risk prediction dataset.', 'Turkish Spam V01', 'Stock keeping units', 'Demand Forecasting for a store', 'Detect Malware Types', 'Wave Energy Converters', 'Youtube cookery channels viewers comments in Hinglish', 'Pedestrian in Traffic Dataset', 'Cervical Cancer Behavior Risk', 'Sattriya_Dance_Single_Hand_Gestures Dataset', 'Divorce Predictors data set', '3W dataset', 'Malware static and dynamic features VxHeaven and Virus Total', 'Internet Firewall Data', 'User Profiling and Abusive Language Detection Dataset', 'Estimation of obesity levels based on eating habits and physical condition', 'Rice (Cammeo and Osmancik)', 'Vehicle routing and scheduling problems', 'Algerian Forest Fires Dataset', 'Breath Metabolomics', 'Horton General Hospital', 'UrbanGB, urban road accidents coordinates labelled by the urban center', 'Gas Turbine CO and NOx Emission Data Set', 'Activity recognition using wearable physiological measurements', 'clickstream data for online shopping', 'CNNpred: CNN-based stock market prediction using a diverse set of variables', 'Apartment for rent classified', ': Simulated Data set of Iraqi tourism places', 'Nasarian CAD Dataset', 'Monolithic Columns in Troad and Mysia Region', 'Bar Crawl: Detecting Heavy Drinking', 'Seoul Bike Sharing Demand', 'Person Classification Gait Data', 'Shill Bidding Dataset', 'Iranian Churn Dataset', 'Unmanned Aerial Vehicle (UAV) Intrusion Detection', 'Bone marrow transplant: children', 'Exasens', 'COVID-19 Surveillance', 'Refractive errors', 'Shoulder Implant X-Ray Manufacturer Classification', 'CLINC150', 'HCV data', 'Taiwanese Bankruptcy Prediction', 'South German Credit (UPDATE)', 'IIWA14-R820-Gazebo-Dataset-10Trajectories', 'Guitar Chords finger positions', 'Russian Corpus of Biographical Texts', 'Codon usage', 'Intelligent Media Accelerometer and Gyroscope (IM-AccGyro) Dataset', 'Myocardial infarction complications', 'Hungarian Chickenpox Cases', 'Simulated data for survival modelling', 'Student Performance on an entrance examination', 'Chemical Composition of Ceramic Samples', 'Labeled Text Forum Threads Dataset', 'Stock keeping units', 'BLE RSSI dataset for Indoor localization', 'Basketball dataset', 'GitHub MUSAE', 'Anticancer peptides', 'Monolithic Columns in Troad and Mysia Region', 'Gender by Name', 'Iranian Churn Dataset', 'Unmanned Aerial Vehicle (UAV) Intrusion Detection', 'Shoulder Implant Manufacture Classification', 'LastFM Asia Social Network', 'Wheat kernels', 'Productivity Prediction of Garment Employees', 'Multi-view Brain Networks', 'LastFM Asia Social Network', 'Wisesight Sentiment Corpus', 'AI4I 2020 Predictive Maintenance Dataset', 'Dry Bean Dataset', 'in-vehicle coupon recommendation', 'Gait Classification', 'Wikipedia Math Essentials', 'Wikipedia Math Essentials', 'Synchronous Machine Data Set', 'Average Localization Error (ALE) in sensor node localization process in WSNs', '9mers from cullpdb', 'TamilSentiMix', 'Accelerometer', 'Synchronous Machine Data Set', 'Pedal Me Bicycle Deliveries', 'Turkish Headlines Dataset', 'Secondary Mushroom Dataset', 'Power consumption of Tetouan city', 'Raisin Dataset', 'Steel Industry Energy Consumption Dataset', 'Gender Gap in Spanish WP', 'Non verbal tourists data', 'Roman Urdu Sentiment Analysis Dataset (RUSAD)', 'TUANDROMD ( Tezpur University Android Malware Dataset)', 'Higher Education Students Performance Evaluation Dataset', 'Risk Factor prediction of Chronic Kidney Disease', 'Lab Test', 'Shoulder Implant Manufacture Classification', 'Rocket League Skillshots Data Set', 'Sepsis survival minimal clinical records', 'Water Quality Prediction', 'Traffic Flow Forecasting', 'sentiment analysis in Saudi Arabia about distance education during Covid-19', 'Kain Tradisional Sambas', 'Image Recognition Task Execution Times in Mobile Edge Computing', 'REWEMA', 'REJAFADA', 'Steel Industry Energy Consumption Dataset', 'Influenza outbreak event prediction via Twitter data', 'Turkish Music Emotion Dataset', 'Maternal Health Risk Data Set', 'Room Occupancy Estimation', 'Image Recognition Task Execution Times in Mobile Edge Computing']\n",
      "622\n"
     ]
    }
   ],
   "source": [
    "name=[]\n",
    "name_tags=driver.find_elements(By.XPATH,'//table[@cellpadding=\"5\"]/tbody/tr/td/table/tbody/tr/td[2]')\n",
    "for i in name_tags:\n",
    "    name.append(i.text)\n",
    "   \n",
    "print(name)\n",
    "print(len(name))"
   ]
  },
  {
   "cell_type": "code",
   "execution_count": 115,
   "id": "2a6eff07",
   "metadata": {},
   "outputs": [
    {
     "name": "stdout",
     "output_type": "stream",
     "text": [
      "['Multivariate ', 'Multivariate ', 'Multivariate ', ' ', 'Multivariate ', 'Multivariate ', 'Multivariate ', 'Multivariate ', 'Multivariate ', 'Multivariate ', 'Univariate, Text ', 'Multivariate ', 'Multivariate ', 'Multivariate ', 'Multivariate ', 'Multivariate ', 'Multivariate ', 'Multivariate ', 'Multivariate ', 'Multivariate ', 'Multivariate, Data-Generator ', 'Multivariate ', 'Multivariate ', 'Domain-Theory ', 'Univariate, Time-Series ', 'Multivariate, Spatial ', 'Multivariate ', 'Multivariate, Domain-Theory ', 'Multivariate ', 'Multivariate ', 'Multivariate ', 'Multivariate ', 'Multivariate ', 'Multivariate, Time-Series ', 'Data-Generator ', ' ', ' ', 'Multivariate ', 'Multivariate ', 'Multivariate ', ' ', 'Multivariate ', 'Multivariate ', 'Multivariate ', 'Multivariate ', 'Multivariate ', 'Multivariate ', 'Multivariate, Time-Series ', 'Multivariate ', 'Multivariate ', 'Multivariate ', 'Multivariate ', 'Multivariate ', 'Relational ', 'Multivariate ', 'Multivariate, Data-Generator ', 'Multivariate ', 'Multivariate ', 'Multivariate ', 'Domain-Theory ', 'Multivariate ', 'Multivariate ', 'Multivariate ', 'Multivariate ', 'Domain-Theory ', 'Sequential, Domain-Theory ', 'Sequential ', 'Sequential, Domain-Theory ', 'Multivariate ', 'Domain-Theory ', 'Multivariate ', 'Multivariate ', 'Multivariate ', 'Multivariate ', 'Multivariate ', 'Domain-Theory ', 'Multivariate ', 'Multivariate ', 'Multivariate ', 'Multivariate ', 'Multivariate ', 'Domain-Theory ', 'Domain-Theory ', 'Multivariate, Data-Generator ', 'Multivariate ', 'Multivariate ', 'Multivariate ', 'Multivariate ', 'Multivariate ', 'Multivariate ', 'Multivariate ', 'Multivariate ', 'Multivariate ', 'Multivariate ', 'Multivariate ', ' ', 'Domain-Theory ', 'Multivariate ', 'Multivariate ', 'Multivariate, Domain-Theory ', 'Multivariate ', 'Multivariate ', 'Multivariate ', 'Multivariate ', 'Multivariate, Data-Generator ', 'Multivariate, Data-Generator ', 'Multivariate ', 'Multivariate ', 'Multivariate ', ' ', 'Text ', 'Multivariate, Time-Series ', 'Multivariate, Time-Series ', 'Multivariate ', 'Multivariate ', 'Multivariate ', 'Multivariate ', 'Relational ', 'Multivariate, Time-Series ', 'Spatio-temporal ', 'Transactional, Sequential ', 'Image ', 'Multivariate ', 'Multivariate ', 'Multivariate ', 'Multivariate, Time-Series ', 'Multivariate ', 'Multivariate ', 'Relational ', 'Multivariate, Relational ', 'Sequential ', 'Text ', 'Multivariate, Time-Series ', 'Univariate, Time-Series ', 'Text ', 'Multivariate, Time-Series ', 'Time-Series ', 'Multivariate, Text ', 'Text, Sequential ', 'Image ', 'Multivariate ', 'Multivariate ', 'Multivariate ', 'Multivariate ', 'Multivariate ', 'Multivariate ', 'Multivariate ', 'Multivariate ', 'Multivariate ', ' ', 'Domain-Theory ', ' ', 'Multivariate ', 'Multivariate, Time-Series ', 'Multivariate, Time-Series ', 'Multivariate ', 'Multivariate ', 'Multivariate, Sequential ', 'Multivariate ', 'Multivariate ', 'Text ', 'Text ', 'Multivariate ', 'Sequential ', 'Multivariate ', 'Multivariate ', 'Multivariate ', 'Multivariate ', 'Multivariate ', 'Multivariate, Sequential, Time-Series ', 'Multivariate ', 'Multivariate ', 'Time-Series ', 'Multivariate ', 'Multivariate, Sequential ', 'Multivariate ', 'Multivariate ', 'Multivariate ', 'Multivariate, Sequential ', 'Multivariate ', 'Multivariate ', 'Multivariate ', 'Multivariate ', 'Multivariate, Time-Series ', 'Multivariate ', 'Multivariate ', 'Multivariate ', 'Text ', 'Multivariate ', 'Multivariate ', 'Multivariate, Sequential ', 'Multivariate, Time-Series ', 'Univariate, Sequential, Time-Series ', 'Multivariate ', 'Multivariate ', 'Multivariate ', 'Multivariate ', 'Multivariate, Time-Series ', 'Text ', 'Domain-Theory ', 'Multivariate, Sequential ', 'Multivariate ', 'Multivariate ', 'Multivariate ', 'Multivariate ', 'Time-Series ', 'Time-Series ', 'Multivariate, Text, Domain-Theory ', 'Time-Series, Domain-Theory ', 'Multivariate, Text, Domain-Theory ', 'Text ', 'Text ', 'Multivariate, Univariate, Text ', 'Multivariate, Univariate, Text ', 'Multivariate ', 'Text ', 'Multivariate ', 'Multivariate ', 'Multivariate, Time-Series ', 'Univariate ', 'Multivariate, Text, Domain-Theory ', 'Univariate ', 'Univariate ', 'Multivariate, Time-Series ', 'Multivariate ', 'Multivariate, Text ', 'Multivariate, Time-Series ', 'Multivariate ', 'Multivariate, Univariate, Text ', 'Sequential ', 'Text ', 'Multivariate, Time-Series ', ' ', 'Multivariate ', 'Multivariate ', 'Multivariate ', 'Multivariate, Time-Series ', 'Sequential, Text ', 'Multivariate, Univariate, Time-Series ', 'Time-Series, Multivariate ', 'Multivariate ', 'Sequential ', 'Multivariate, Time-Series ', 'Multivariate ', 'Multivariate ', 'Multivariate ', 'Multivariate ', 'Multivariate, Time-Series ', 'Multivariate ', 'Multivariate ', 'Multivariate, Sequential, Text ', 'Multivariate ', 'Multivariate ', 'Multivariate, Sequential, Time-Series ', 'Multivariate ', 'Multivariate ', 'Multivariate ', 'Domain-Theory ', 'Multivariate, Text ', 'Multivariate, Time-Series ', 'Multivariate, Sequential, Time-Series ', 'Multivariate ', 'Multivariate ', 'Multivariate, Sequential, Time-Series, Text ', 'Univariate ', 'Multivariate, Sequential, Time-Series ', 'Multivariate ', 'Multivariate, Time-Series ', ' ', ' ', 'Multivariate ', 'Multivariate ', 'Multivariate, Time-Series ', 'Multivariate ', 'Univariate, Sequential, Time-Series ', 'Univariate, Sequential, Time-Series ', 'Multivariate ', 'Text ', 'Multivariate ', 'Multivariate ', 'Multivariate ', 'Text ', 'Multivariate ', 'Multivariate ', 'Multivariate ', 'Sequential ', 'Multivariate ', 'Multivariate ', 'Multivariate ', 'Multivariate, Sequential, Time-Series ', 'Univariate, Domain-Theory ', 'Multivariate ', 'Multivariate, Time-Series ', ' ', 'Multivariate ', 'Multivariate, Time-Series ', 'Multivariate, Time-Series ', 'Multivariate ', 'Text ', 'Time-Series ', 'Time-Series ', 'Multivariate ', 'Multivariate ', 'Multivariate ', 'Multivariate, Sequential ', 'Multivariate ', 'Multivariate, Time-Series ', 'Multivariate ', 'Time-Series ', 'Multivariate, Time-Series ', 'Multivariate, Univariate, Sequential, Text ', 'Multivariate ', 'Multivariate ', 'Multivariate ', ' ', 'Multivariate, Time-Series ', 'Multivariate ', 'Multivariate ', 'Text ', 'Multivariate ', 'Multivariate ', 'Multivariate ', 'Multivariate ', 'Multivariate ', 'Sequential, Time-Series ', 'Multivariate ', 'Multivariate, Sequential, Time-Series, Domain-Theory ', 'Multivariate ', 'Multivariate, Time-Series ', 'Multivariate ', 'Multivariate, Sequential, Time-Series ', 'Multivariate, Time-Series ', 'Multivariate, Sequential, Time-Series ', 'Multivariate ', 'Multivariate, Sequential, Time-Series ', 'Multivariate, Sequential, Time-Series ', 'Multivariate ', 'Multivariate ', 'Multivariate, Sequential, Time-Series ', 'Multivariate ', 'Multivariate ', 'Multivariate ', 'Multivariate, Time-Series ', 'Multivariate ', 'Multivariate ', 'Multivariate, Time-Series ', 'Multivariate, Time-Series, Domain-Theory ', 'Multivariate, Time-Series ', 'Multivariate ', 'Time-Series ', 'Multivariate ', 'Multivariate, Sequential, Time-Series ', 'Multivariate ', 'Multivariate ', 'Multivariate ', 'Text ', 'Multivariate ', 'Multivariate ', 'Multivariate, Time-Series ', 'Text ', 'Multivariate, Text ', 'Multivariate, Sequential, Time-Series ', 'Multivariate ', 'Multivariate ', 'Text ', 'Multivariate, Time-Series ', 'Multivariate, Sequential ', 'Multivariate ', 'Multivariate ', 'Multivariate ', 'Multivariate, Time-Series ', 'Multivariate, Time-Series ', 'Multivariate, Time-Series ', ' ', 'Multivariate ', 'Multivariate ', 'Multivariate ', 'Sequential, Time-Series ', 'Multivariate, Time-Series ', 'Multivariate ', 'Multivariate, Time-Series ', ' ', 'Text ', 'Multivariate ', 'Multivariate ', 'Multivariate ', 'Multivariate, Sequential, Time-Series ', ' ', 'Text ', 'Multivariate ', 'Multivariate ', 'Text ', 'Multivariate ', 'Time-Series ', 'Text ', ' ', ' ', 'Multivariate, Time-Series ', 'Multivariate ', 'Sequential, Text ', 'Multivariate, Text ', 'Multivariate ', 'Text ', 'Multivariate ', 'Multivariate ', 'Multivariate ', 'Multivariate ', 'Multivariate ', 'Multivariate ', 'Text ', ' ', 'Sequential ', 'Univariate ', 'Univariate ', 'Multivariate ', 'Multivariate ', 'Multivariate, Time-Series, Text ', 'Multivariate ', 'Multivariate ', 'Multivariate, Sequential, Time-Series ', 'Univariate, Domain-Theory ', 'Multivariate ', 'Text ', 'Sequential ', 'Multivariate ', 'Multivariate ', 'Multivariate, Sequential ', 'Multivariate, Time-Series ', 'Multivariate ', 'Multivariate, Time-Series ', 'Univariate ', 'Multivariate ', 'Multivariate, Text ', 'Multivariate ', 'Multivariate, Time-Series ', 'Multivariate ', 'Text ', 'Time-Series ', 'Multivariate, Text ', 'Multivariate, Time-Series ', 'Text ', 'Multivariate ', 'Multivariate ', 'Multivariate, Text ', 'Multivariate, Text ', 'Multivariate ', 'Multivariate ', 'Multivariate, Time-Series ', 'Multivariate, Sequential, Time-Series ', 'Multivariate ', 'Multivariate ', 'Univariate ', 'Multivariate ', 'Multivariate ', 'Univariate ', 'Time-Series ', 'Time-Series ', 'Multivariate ', 'Multivariate, Text ', 'Multivariate ', 'Multivariate ', ' ', 'Multivariate ', 'Time-Series ', 'Multivariate, Univariate, Sequential, Time-Series ', 'Multivariate, Time-Series ', 'Multivariate, Text ', 'Multivariate, Text ', 'Multivariate ', 'Multivariate, Time-Series ', 'Multivariate ', 'Multivariate ', 'Multivariate, Sequential, Time-Series ', 'Multivariate ', 'Multivariate ', 'Multivariate, Time-Series ', 'Multivariate ', 'Multivariate, Univariate ', 'Multivariate, Sequential ', 'Text ', 'Time-Series ', 'Multivariate, Time-Series ', 'Multivariate, Sequential, Time-Series, Text ', 'Multivariate ', 'Multivariate ', 'Multivariate ', 'Multivariate, Sequential, Time-Series ', 'Multivariate, Time-Series ', 'Multivariate ', 'Multivariate ', 'Multivariate ', 'Multivariate ', 'Multivariate, Text ', 'Multivariate, Time-Series, Text ', 'Multivariate ', 'Multivariate, Time-Series ', 'Multivariate, Sequential, Time-Series ', 'Multivariate ', 'Multivariate ', 'Multivariate ', 'Multivariate ', 'Time-Series ', 'Multivariate ', 'Multivariate ', 'Multivariate ', 'Multivariate, Time-Series ', 'Multivariate, Time-Series ', 'Multivariate ', 'Multivariate ', 'Multivariate ', 'Text ', 'Multivariate ', 'Multivariate ', 'Multivariate, Time-Series, Text ', 'Multivariate ', 'Multivariate, Text ', 'Multivariate, Sequential, Time-Series ', 'Multivariate, Univariate ', 'Multivariate ', 'Multivariate, Univariate ', 'Multivariate, Time-Series ', 'Multivariate ', 'Multivariate ', ' ', 'Multivariate ', 'Multivariate ', 'Multivariate ', 'Multivariate ', 'Multivariate, Time-Series ', 'Multivariate, Time-Series ', 'Univariate ', 'Multivariate ', 'Multivariate ', 'Multivariate, Sequential ', 'Sequential, Time-Series ', 'Multivariate ', 'Multivariate ', 'Multivariate ', 'Multivariate ', 'Multivariate, Time-Series ', 'Multivariate ', 'Multivariate ', 'Multivariate ', 'Multivariate ', 'Multivariate ', 'Multivariate ', 'Multivariate ', 'Multivariate ', 'Multivariate ', 'Multivariate ', 'Text ', 'Multivariate ', 'Multivariate ', 'Multivariate ', ' ', 'Text ', 'Text ', 'Multivariate ', 'Time-Series ', 'Multivariate ', 'Time-Series ', 'Multivariate, Time-Series ', 'Multivariate ', 'Multivariate ', 'Text ', 'Multivariate ', 'Sequential, Time-Series ', 'Time-Series ', 'Multivariate ', 'Sequential ', 'Multivariate ', 'Text ', 'Multivariate ', 'Multivariate ', 'Multivariate ', 'Multivariate ', 'Multivariate ', 'Multivariate, Time-Series ', 'Multivariate ', 'Multivariate ', 'Multivariate, Text ', 'Multivariate, Time-Series ', 'Multivariate ', 'Multivariate ', 'Multivariate ', 'Time-Series ', 'Time-Series ', 'Multivariate ', 'Multivariate ', 'Sequential ', ' ', 'Multivariate ', 'Multivariate ', 'Time-Series ', 'Text ', 'Univariate ', 'Multivariate, Time-Series ', 'Multivariate ', 'Multivariate ', 'Multivariate ', 'Multivariate ', 'Text ', 'Multivariate ', 'Multivariate ', 'Multivariate ', 'Multivariate ', 'Multivariate ', 'Multivariate, Time-Series ', 'Multivariate ', 'Multivariate ', 'Multivariate ', 'Text ', 'Multivariate ', 'Univariate, Sequential, Time-Series ', 'Multivariate ', 'Multivariate ', 'Multivariate ', 'Multivariate ', 'Multivariate ', ' ', 'Multivariate, Time-Series ', 'Univariate ']\n",
      "622\n"
     ]
    }
   ],
   "source": [
    "types=[]\n",
    "type_tags=driver.find_elements(By.XPATH,'//table[@cellpadding=\"5\"]/tbody/tr/td[2]')\n",
    "for i in type_tags[1:623]:\n",
    "    types.append(i.text)\n",
    "print(types)\n",
    "print(len(types))\n"
   ]
  },
  {
   "cell_type": "code",
   "execution_count": 116,
   "id": "e7f19057",
   "metadata": {},
   "outputs": [
    {
     "name": "stdout",
     "output_type": "stream",
     "text": [
      "['Classification ', 'Classification ', 'Classification ', 'Recommender-Systems ', 'Classification ', 'Classification ', 'Classification ', 'Classification ', 'Regression ', 'Regression ', 'Classification ', 'Classification ', 'Classification ', 'Classification ', 'Classification ', 'Classification, Regression ', 'Classification ', 'Classification ', 'Classification ', 'Classification ', 'Classification ', 'Classification ', 'Classification ', ' ', ' ', 'Classification ', 'Classification ', 'Classification ', 'Regression ', 'Classification ', 'Classification ', 'Classification ', 'Classification ', ' ', ' ', ' ', ' ', 'Classification ', 'Classification ', 'Classification ', 'Function-Learning ', 'Classification ', 'Classification ', 'Classification ', 'Classification ', 'Classification ', 'Classification ', ' ', 'Classification ', 'Classification ', 'Classification ', 'Classification ', 'Classification ', 'Relational-Learning ', ' ', 'Classification ', 'Classification ', 'Classification ', ' ', ' ', 'Classification ', 'Classification ', 'Classification ', 'Classification ', ' ', 'Classification ', 'Classification ', 'Classification ', 'Classification ', ' ', 'Classification ', 'Classification ', 'Classification ', 'Classification ', 'Classification ', ' ', 'Classification ', 'Classification ', 'Classification ', 'Classification ', 'Classification ', ' ', ' ', 'Classification ', 'Regression ', 'Classification ', 'Regression ', 'Classification ', 'Classification ', 'Regression ', 'Classification ', 'Classification ', 'Classification ', 'Classification ', 'Clustering ', ' ', ' ', 'Classification ', 'Classification ', 'Classification ', 'Classification ', 'Classification ', 'Classification ', 'Clustering ', 'Classification ', 'Classification ', 'Classification ', 'Classification ', 'Classification ', ' ', ' ', 'Classification ', 'Classification ', 'Clustering ', 'Classification ', ' ', ' ', ' ', ' ', ' ', 'Recommender-Systems ', 'Classification ', 'Regression, Description ', ' ', ' ', 'Classification ', 'Regression ', 'Classification ', ' ', ' ', ' ', ' ', ' ', ' ', 'Classification ', 'Classification ', 'Classification, Clustering ', 'Classification ', ' ', 'Classification ', 'Classification ', 'Classification ', 'Classification ', 'Classification ', 'Classification ', 'Classification ', 'Classification ', ' ', 'Classification ', 'Classification ', ' ', ' ', ' ', ' ', ' ', 'Classification ', 'Classification ', 'Classification ', 'Classification ', 'Regression ', 'Classification ', 'Clustering ', 'Regression ', 'Classification ', 'Classification ', 'Classification ', 'Classification ', 'Classification ', 'Classification ', 'Classification ', 'Causal-Discovery ', 'Classification ', 'Classification, Clustering ', 'Classification ', 'Classification ', 'Classification ', 'Classification, Causal-Discovery ', 'Clustering ', 'Classification, Clustering ', 'Regression ', 'Regression ', 'Classification ', 'Classification, Regression ', 'Classification ', 'Classification ', 'Regression ', 'Classification ', ' ', 'Classification ', 'Classification ', 'Classification ', 'Classification ', 'Classification ', 'Classification ', 'Classification ', 'Classification ', 'Regression ', 'Classification ', ' ', 'Regression ', 'Classification ', 'Classification ', 'Classification ', 'Regression ', 'Classification ', 'Classification ', 'Classification ', 'Classification ', 'Regression, Clustering, Causal-Discovery ', 'Classification, Clustering ', 'Classification ', 'Classification ', 'Classification, Regression, Clustering ', 'Classification, Regression, Clustering ', 'Classification ', 'Classification ', 'Classification ', 'Classification ', 'Classification ', 'Classification ', 'Classification, Clustering ', 'Classification ', 'Classification ', 'Classification ', ' ', 'Classification ', 'Regression, Clustering ', 'Classification, Clustering ', 'Classification ', ' ', 'Classification ', 'Classification, Clustering ', 'Classification ', 'Classification, Regression ', 'Regression ', 'Classification, Regression ', 'Classification ', 'Regression, Clustering ', 'Classification, Regression ', 'Regression, Classification ', 'Classification ', 'Classification ', 'Classification ', 'Classification ', 'Classification ', 'Classification ', 'Classification ', 'Classification, Clustering ', 'Classification, Clustering ', 'Classification ', 'Clustering ', 'Classification, Clustering ', 'Classification ', 'Classification ', 'Regression ', 'Classification ', 'Classification ', 'Classification ', 'Classification, Clustering ', 'Classification, Regression, Clustering, Causa ', 'Classification, Clustering ', 'Regression ', 'Classification ', 'Regression ', 'Regression ', ' ', 'Classification ', ' ', 'Classification ', 'Classification ', 'Classification ', 'Classification ', 'Classification, Clustering ', 'Classification ', 'Classification, Clustering ', 'Classification, Clustering ', 'Classification ', 'Classification, Clustering ', 'Classification, Regression, Clustering ', 'Regression ', 'Classification, Clustering ', 'Classification ', 'Regression ', 'Classification ', 'Classification, Clustering ', 'Classification ', 'Classification, Clustering, Causal-Discovery ', 'Classification, Regression, Clustering ', 'Classification, Regression ', 'Classification, Clustering ', 'Classification, Clustering ', 'Regression ', 'Classification ', 'Classification ', 'Clustering ', 'Classification, Regression ', 'Classification, Regression ', 'Classification, Regression ', 'Classification ', 'Classification, Clustering ', 'Classification ', 'Clustering ', 'Classification, Regression ', 'Regression ', 'Classification, Clustering ', 'Classification, Regression ', 'Classification ', 'Classification, Regression ', 'Regression, Clustering ', 'Classification, Regression ', 'Classification, Causal-Discovery ', 'Classification ', 'Classification ', 'Classification, Clustering ', 'Classification ', 'Regression ', 'Classification ', 'Classification ', 'Classification ', 'Classification, Regression ', 'Classification ', 'Regression, Clustering, Causal-Discovery ', 'Regression ', 'Classification ', 'Classification ', 'Classification, Clustering ', 'Clustering, Causal-Discovery ', 'Classification, Regression ', 'Classification ', 'Classification, Clustering ', 'Classification, Regression, Clustering ', 'Classification, Clustering ', 'Classification, Regression, Clustering ', 'Classification ', 'Classification ', 'Classification, Regression, Clustering ', 'Classification ', 'Classification ', 'Classification, Clustering ', 'Causal-Discovery ', 'Classification, Regression ', 'Classification ', 'Classification ', 'Classification, Regression, Clustering ', 'Classification, Clustering ', 'Regression ', 'Classification, Regression ', 'Classification ', 'Regression ', 'Classification ', 'Classification ', 'Classification ', 'Classification ', 'Regression ', 'Causal-Discovery ', 'Clustering ', 'Classification, Clustering ', 'Classification ', 'Regression ', 'Classification, Clustering, Causal-Discovery ', 'Classification, Regression ', 'Classification, Regression, Clustering ', 'Classification, Regression, Clustering ', 'Classification ', 'Classification ', 'Regression ', 'Classification, Regression ', 'Classification ', 'Classification ', 'Causal-Discovery ', 'Classification, Clustering ', 'Regression ', 'Classification, Clustering ', 'Classification ', 'Regression ', 'Classification, Clustering ', 'Classification, Regression ', 'Classification ', 'Regression ', 'Classification, Regression, Clustering ', 'Clustering ', 'Classification, Regression ', ' ', 'Classification ', 'Classification ', 'Classification, Clustering ', 'Classification ', 'Classification, Clustering ', 'Classification ', 'Classification, Clustering ', 'Classification, Clustering ', 'Classification, Clustering ', 'Classification ', 'Regression ', 'Classification, Regression ', 'Classification ', 'Classification ', 'Classification, Regression ', 'Classification ', 'Clustering ', 'Clustering ', 'Classification ', 'Classification ', 'Classification ', 'Classification ', 'Classification ', 'Classification ', 'Classification ', 'Classification, Regression ', 'Classification ', 'Classification ', 'Classification ', 'Classification ', 'Classification ', 'Classification ', 'Classification ', 'Regression ', 'Classification ', 'Classification, Clustering ', 'Classification, Clustering ', 'Classification, Regression ', 'Regression ', 'Clustering ', 'Classification ', 'Regression ', 'Clustering ', 'Classification, Clustering ', 'Classification, Clustering ', 'Classification, Clustering ', 'Classification, Regression ', 'Regression ', 'Classification, Regression ', 'Classification ', 'Classification ', 'Regression ', 'Classification, Clustering ', 'Classification ', 'Classification ', 'Classification ', 'Classification, Regression ', 'Classification ', 'Classification ', 'Recommendation ', 'Classification, Regression, Clustering ', 'Classification, Regression, Clustering ', 'Classification ', 'Regression ', 'Classification, Regression ', 'Regression ', 'Classification ', 'Classification, Clustering ', 'Classification ', 'Classification ', 'Classification, Regression ', 'Classification ', 'Classification ', 'Classification ', 'Classification ', 'Classification, Clustering ', 'Regression ', 'Classification ', 'Classification ', 'Classification ', 'Classification ', 'Classification, Regression, Clustering ', 'Classification, Regression ', 'Classification, Clustering ', 'Classification, Clustering ', 'Classification ', 'Classification, Regression ', 'Clustering ', 'Classification ', 'Regression ', 'Regression, Clustering ', 'Regression ', 'Regression ', 'Classification, Regression, Clustering ', 'Classification ', 'Regression, Clustering ', 'Classification ', 'Classification, Clustering ', 'Regression ', 'Classification, Regression, Clustering ', 'Classification ', 'Regression ', 'Regression ', 'Classification ', 'Classification ', 'Classification ', 'Classification ', 'Classification, Regression ', 'Regression ', 'Classification, Clustering ', 'Regression ', 'Regression ', 'Classification, Regression ', 'Classification, Clustering, Causal-Discovery ', 'Classification ', 'Classification ', 'Classification, Regression, Clustering ', 'Classification ', 'Classification, Clustering ', 'Classification, Regression, Clustering ', 'Classification, Clustering ', 'Classification ', 'Classification ', 'Classification, Clustering ', 'Classification ', 'Classification ', 'Classification ', 'Classification ', 'Clustering ', 'Regression ', 'Classification ', 'Regression ', 'Classification ', 'Classification, Regression, Causal-Discovery ', 'Classification, Clustering ', 'Classification ', 'Classification ', 'Classification, Clustering ', 'Classification ', 'Classification ', 'Classification ', 'Classification, Regression, Clustering ', 'Classification ', 'Clustering ', 'Classification, Regression ', 'Classification, Clustering ', 'Causal-Discovery ', 'Clustering ', 'Regression, Clustering ', 'Classification ', 'Classification, Regression, Clustering ', 'Classification, Regression ', 'Classification, Regression, Clustering ', 'Classification, Clustering ', 'Classification ', 'Classification ', 'Classification, Regression ', 'Regression ', 'Classification ', 'Classification, Clustering ', 'Classification, Regression ', 'Classification ', 'Classification, Regression ', 'Classification, Clustering ', 'Classification ', 'Classification ', 'Classification ', 'Classification ', 'Classification, Clustering ', 'Classification ', 'Classification, Regression, Clustering ', 'Regression ', 'Classification ', 'Classification ', 'Classification, Clustering ', 'Classification ', 'Classification ', 'Regression ', 'Regression ', 'Classification ', 'Classification, Clustering ', 'Classification ', 'Clustering ', 'Classification ', 'Classification ', 'Classification ', 'Classification ', 'Classification ', 'Classification, Clustering ', 'Classification, Regression ', 'Classification ', 'Classification ', 'Classification ', 'Classification ', 'Classification, Regression ', 'Classification, Clustering ', 'Classification ', 'Classification ', 'Classification, Regression, Causal-Discovery ', 'Classification ', 'Classification ', 'Classification ', 'Regression ', 'Regression ', 'Regression ', 'Regression ', 'Classification, Regression ', 'Classification ', 'Classification, Regression ', 'Regression ', 'Regression ', 'Classification, Clustering ', 'Classification ', 'Regression ', 'Classification ', 'Regression ', 'Classification ', 'Classification, Clustering ', 'Classification ', 'Classification ', 'Classification ', 'Classification, Regression ', 'Classification, Regression, Clustering ', 'Classification ', 'Classification ', 'Classification ', 'Regression ', 'Regression ', 'Classification ', 'Classification, Clustering ', 'Regression ', 'Classification ', 'Classification ', 'Regression ', 'Classification ', 'Classification ', 'Classification ', 'Classification ', 'Regression ']\n",
      "622\n"
     ]
    }
   ],
   "source": [
    "task=[]\n",
    "task_tags=driver.find_elements(By.XPATH,'//table[@cellpadding=\"5\"]/tbody/tr/td[3]')\n",
    "for i in task_tags[1:623]:\n",
    "    task.append(i.text)\n",
    "print(task)\n",
    "print(len(task))"
   ]
  },
  {
   "cell_type": "code",
   "execution_count": 117,
   "id": "9c711ddc",
   "metadata": {},
   "outputs": [
    {
     "name": "stdout",
     "output_type": "stream",
     "text": [
      "['Categorical, Integer, Real ', 'Categorical, Integer ', 'Categorical, Integer, Real ', 'Categorical ', 'Categorical, Integer, Real ', 'Categorical, Integer, Real ', 'Categorical ', 'Categorical ', 'Categorical, Real ', 'Categorical, Integer, Real ', ' ', 'Categorical ', 'Categorical ', 'Categorical ', 'Integer ', 'Real ', 'Real ', 'Categorical, Integer ', 'Categorical ', 'Categorical, Integer ', 'Categorical, Integer ', 'Categorical ', 'Categorical, Integer ', ' ', 'Categorical, Integer ', 'Categorical ', 'Categorical, Integer, Real ', 'Categorical, Real, Integer ', 'Integer ', 'Categorical, Integer ', 'Categorical, Integer ', 'Categorical, Integer, Real ', 'Categorical, Integer ', 'Categorical, Integer ', 'Real ', ' ', ' ', 'Categorical, Integer, Real ', 'Real ', 'Categorical, Integer ', 'Real ', 'Real ', 'Integer ', 'Categorical ', 'Categorical, Integer, Real ', 'Categorical, Integer, Real ', 'Categorical, Integer, Real ', 'Real ', 'Real ', 'Categorical, Integer, Real ', 'Integer, Real ', 'Real ', 'Real ', 'Categorical ', 'Categorical, Integer, Real ', 'Categorical ', 'Categorical ', 'Integer ', 'Categorical, Integer, Real ', ' ', 'Integer ', 'Categorical ', 'Categorical, Integer, Real ', 'Categorical, Integer, Real ', 'Categorical, Integer, Real ', 'Categorical ', 'Categorical ', 'Categorical ', 'Categorical ', ' ', 'Integer, Real ', 'Categorical ', 'Integer ', 'Integer ', 'Categorical ', ' ', 'Integer, Real ', 'Integer ', 'Integer ', 'Categorical, Integer ', 'Categorical ', ' ', ' ', 'Real ', 'Categorical, Integer ', 'Categorical ', 'Categorical ', 'Categorical ', 'Categorical ', 'Integer ', 'Integer, Real ', 'Integer, Real ', 'Categorical ', 'Integer ', 'Categorical, Integer ', ' ', ' ', 'Categorical, Integer ', 'Categorical ', 'Categorical, Real ', 'Categorical ', 'Categorical, Integer ', 'Categorical ', 'Integer, Real ', 'Real ', 'Real ', 'Integer, Real ', 'Real ', 'Categorical, Integer ', ' ', ' ', 'Categorical, Real ', 'Real ', 'Categorical ', 'Categorical, Integer ', 'Categorical, Real ', 'Real ', ' ', 'Categorical, Integer, Real ', 'Integer, Real ', 'Categorical ', 'Integer ', 'Categorical, Integer ', 'Categorical, Integer ', 'Categorical, Integer ', 'Real ', 'Categorical, Integer ', 'Categorical, Integer ', ' ', ' ', 'Categorical ', ' ', 'Categorical, Real ', ' ', 'Categorical ', 'Integer ', 'Real ', 'Categorical ', ' ', ' ', 'Categorical, Integer, Real ', 'Categorical, Integer ', 'Categorical, Real ', 'Integer ', 'Real ', 'Integer ', 'Integer ', 'Categorical ', 'Real ', 'Real ', ' ', ' ', 'Real ', 'Categorical, Integer ', 'Categorical, Integer ', 'Categorical, Integer ', 'Real ', 'Integer ', 'Integer ', 'Real ', ' ', 'Integer ', 'Real ', 'Real ', 'Real ', 'Integer ', 'Integer ', 'Integer ', 'Real ', 'Real ', 'Integer ', 'Real ', 'Real ', 'Real ', 'Integer ', 'Integer ', 'Real ', 'Categorical ', 'Real ', 'Real ', 'Real ', 'Categorical, Integer ', 'Real ', 'Integer, Real ', 'Real ', 'Integer, Real ', 'Integer ', ' ', 'Real ', 'Real ', 'Real ', 'Real ', 'Real ', 'Categorical, Integer, Real ', 'Integer, Real ', 'Real ', 'Real ', 'Real ', ' ', 'Real ', 'Integer ', 'Integer, Real ', 'Real ', 'Real ', 'Real ', 'Real ', 'Real ', 'Real ', ' ', 'Real ', ' ', ' ', 'Integer, Real ', 'Integer, Real ', 'Real ', ' ', 'Real ', 'Integer, Real ', 'Real ', 'Real ', 'Real ', 'Real ', 'Real ', 'Real ', ' ', 'Integer ', 'Real ', 'Real ', 'Integer, Real ', 'Integer ', ' ', ' ', 'Real ', 'Integer, Real ', 'Real ', 'Real ', 'Real ', 'Real ', 'Real ', 'Integer, Real ', 'Real ', 'Integer, Real ', 'Real ', 'Real ', 'Real ', 'Integer, Real ', ' ', 'Real ', 'Integer ', 'Real ', ' ', ' ', 'Real ', 'Integer, Real ', 'Real ', 'Real ', 'Real ', 'Integer ', 'Integer, Real ', 'Real ', ' ', 'Integer, Real ', 'Real ', 'Real ', 'Integer, Real ', 'Integer, Real ', 'Integer, Real ', 'Real ', 'Real ', 'Real ', ' ', 'Real ', ' ', ' ', 'Real ', 'Real ', 'Real ', ' ', 'Real ', 'Real ', 'Integer ', ' ', 'Real ', ' ', 'Integer ', ' ', 'Real ', 'Integer, Real ', 'Integer, Real ', 'Real ', 'Integer ', 'Integer, Real ', 'Real ', ' ', ' ', 'Real ', 'Real ', 'Integer, Real ', 'Integer ', 'Integer, Real ', 'Real ', ' ', 'Real ', 'Real ', 'Real ', 'Real ', 'Real ', 'Integer ', 'Real ', 'Real ', 'Integer, Real ', ' ', 'Real ', 'Real ', 'Integer ', 'Real ', 'Integer, Real ', 'Categorical ', ' ', 'Integer, Real ', ' ', ' ', 'Integer, Real ', 'Real ', 'Real ', ' ', 'Real ', 'Real ', 'Real ', 'Real ', 'Integer, Real ', 'Real ', 'Integer ', 'Real ', 'Real ', 'Integer ', 'Integer, Real ', 'Real ', 'Integer, Real ', 'Integer ', 'Real ', 'Real ', 'Real ', 'Real ', ' ', 'Real ', 'Real ', 'Real ', 'Integer, Real ', 'Real ', 'Real ', 'Real ', ' ', 'Integer ', ' ', 'Integer ', 'Real ', 'Real ', 'Real ', 'Integer ', 'Integer ', 'Integer, Real ', 'Real ', 'Integer ', ' ', 'Integer, Real ', 'Integer ', 'Integer, Real ', 'Real ', 'Integer ', 'Real ', 'Real ', 'Integer, Real ', 'Integer ', 'Real ', 'Integer, Real ', 'Integer, Real ', 'Integer, Real ', 'Integer, Real ', 'Integer ', 'Integer, Real ', 'Integer ', ' ', 'Integer, Real ', ' ', 'Real ', 'Real ', ' ', 'Integer ', 'Real ', 'Real ', 'Integer ', 'Real ', 'Integer ', 'Integer ', 'Integer, Real ', 'Integer, Real ', 'Integer ', 'Integer ', 'Real ', 'Integer ', 'Integer, Real ', 'Integer ', 'Integer ', 'Integer ', 'Integer, Real ', 'Real ', 'Integer, Real ', 'Integer ', ' ', 'Integer ', 'Real ', 'Integer, Real ', 'Integer, Real ', 'Real ', ' ', 'Integer, Real ', 'Real ', ' ', 'Integer ', 'Real ', 'Real ', 'Real ', 'Integer ', 'Integer ', 'Real ', 'Real ', 'Integer, Real ', ' ', 'Real ', 'Real ', 'Integer, Real ', 'Integer ', 'Integer ', 'Real ', ' ', ' ', 'Integer ', 'Integer ', 'Integer ', ' ', 'Real ', 'Categorical ', 'Integer ', 'Integer ', 'Integer ', 'Real ', 'Real ', 'Real ', ' ', 'Integer, Real ', ' ', 'Integer, Real ', 'Real ', 'Integer ', ' ', ' ', 'Real ', 'Real ', 'Integer, Real ', 'Real ', 'Integer ', 'Real ', 'Real ', 'Real ', 'Integer, Real ', 'Real ', 'Real ', 'Integer ', 'Real ', 'Integer ', ' ', 'Integer, Real ', 'Real ', 'Real ', 'Real ', 'Real ', 'Integer ', 'Integer ', 'Integer ', 'Real ', 'Integer, Real ', 'Integer, Real ', 'Integer, Real ', 'Real ', 'Real ', 'Integer, Real ', 'Real ', ' ', ' ', ' ', 'Integer, Real ', 'Integer ', 'Integer, Real ', 'Real ', 'Real ', 'Real ', 'Real ', 'Real ', 'Integer, Real ', 'Real ', 'Real ', 'Integer, Real ', 'Integer ', 'Real ', 'Real ', 'Integer, Real ', ' ', 'Integer, Real ', ' ', ' ', 'Integer, Real ', 'Integer ', ' ', 'Real ', ' ', 'Real ', 'Integer ', ' ', 'Integer ', 'Integer, Real ', 'Integer, Real ', ' ', ' ', 'Integer ', 'Real ', 'Integer, Real ', 'Real ', 'Real ', 'Integer ', 'Real ', 'Real ', 'Real ', 'Integer, Real ', 'Real ', ' ', ' ', ' ', 'Real ', 'Real ', 'Integer, Real ', 'Real ', ' ', 'Integer ', 'Real ', 'Integer, Real ', 'Integer ', ' ', 'Integer ', 'Real ', ' ', 'Integer, Real ', 'Integer ', 'Integer, Real ', 'Integer ', ' ', ' ', ' ', 'Real ', 'Real ', 'Real ', 'Integer, Real ', ' ', 'Real ', 'Integer ', 'Integer, Real ', 'Integer ', 'Integer ', ' ', ' ', 'Real ', ' ', 'Integer ', 'Real ', ' ', ' ', 'Real ', 'Integer, Real ', 'Integer ', ' ', ' ', 'Real ', 'Integer, Real ', ' ', 'Real ', 'Real ', 'Real ', 'Real ', 'Real ', 'Real ', ' ', 'Integer, Real ', 'Real ', 'Real ', ' ', 'Real ', 'Integer, Real ', 'Integer, Real ', ' ', 'Integer, Real ', 'Integer, Real ', ' ', 'Integer ', 'Integer ', 'Real ', ' ', ' ', 'Real ', 'Integer ', 'Real ', 'Real ', 'Integer ', ' ', 'Real ', 'Integer ', 'Integer ', 'Integer ', 'Integer, Real ', 'Integer, Real ', ' ', 'Real ', 'Real ']\n",
      "622\n"
     ]
    }
   ],
   "source": [
    "attribute_types=[]\n",
    "attribute_type_tags=driver.find_elements(By.XPATH,'//table[@cellpadding=\"5\"]/tbody/tr/td[4]')\n",
    "for i in attribute_type_tags[1:623]:\n",
    "    attribute_types.append(i.text)\n",
    "print(attribute_types)\n",
    "print(len(attribute_types))"
   ]
  },
  {
   "cell_type": "code",
   "execution_count": 118,
   "id": "d2775809",
   "metadata": {},
   "outputs": [
    {
     "name": "stdout",
     "output_type": "stream",
     "text": [
      "['4177 ', '48842 ', '798 ', '37711 ', '452 ', '6000 ', '226 ', '226 ', '398 ', '205 ', '294 ', '625 ', '16 ', '286 ', '699 ', '198 ', '569 ', '108 ', '1728 ', '48842 ', ' ', '3196 ', '28056 ', ' ', '100 ', '67557 ', '690 ', '125 ', '209 ', '1473 ', '581012 ', '512 ', '366 ', ' ', ' ', ' ', ' ', '132 ', '336 ', '194 ', '352 ', '214 ', '306 ', '160 ', '303 ', '155 ', '368 ', ' ', '2310 ', '3279 ', '351 ', '150 ', '7797 ', '104 ', '57 ', ' ', '24 ', '20000 ', '345 ', ' ', '32 ', '148 ', '209 ', '528 ', ' ', '106 ', '128 ', '3190 ', '432 ', '202 ', '2000 ', '8124 ', '476 ', '6598 ', '12960 ', ' ', '5473 ', '5620 ', '10992 ', '90 ', '339 ', ' ', ' ', ' ', '167 ', '15 ', '1389 ', '307 ', '47 ', '23 ', '531 ', '4601 ', '267 ', '267 ', '76 ', ' ', '1000 ', '151 ', '958 ', '7200 ', '10 ', '285 ', '435 ', '527 ', '5000 ', '5000 ', '178 ', '1484 ', '101 ', ' ', '20000 ', '6650 ', '2565 ', '2458285 ', '299285 ', '340 ', '68040 ', ' ', '122 ', '178080 ', '50672 ', '640 ', '9000 ', '10104 ', '256932 ', '640 ', '191779 ', '4000000 ', ' ', '10000 ', '989818 ', '129000 ', ' ', '100000 ', '21578 ', '463 ', '600 ', '332 ', ' ', ' ', '690 ', '1000 ', '270 ', '6435 ', '2310 ', '58000 ', '946 ', '20008 ', '208 ', '528 ', ' ', ' ', '1024 ', '10080 ', '50400 ', '1025010 ', '19020 ', '1364 ', '961 ', '517 ', '200 ', '8000000 ', '1030 ', '606 ', '900 ', '2600 ', '1950 ', '13500 ', '4400 ', '2536 ', '300 ', '197 ', '2858 ', '748 ', '11640 ', '1593 ', '1567 ', '22632 ', '360 ', '103 ', '1994 ', '120 ', '4898 ', '2396130 ', '16772 ', '5875 ', '503 ', '51 ', '106 ', '2126 ', '5456 ', '8800 ', '164860 ', ' ', '1941 ', '130065 ', '515345 ', '440 ', ' ', '53500 ', '8235 ', ' ', '5749132 ', '2215 ', '310 ', '10000 ', '3000 ', '1500 ', '30000 ', '2500 ', '4143 ', '64 ', '53414 ', '65554 ', '45211 ', '1138562 ', '13910 ', '583 ', '2551 ', '34465 ', '5574 ', '245057 ', '182 ', '3850505 ', '138 ', '1080 ', '2075259 ', '210 ', '115 ', '3960456 ', ' ', '10299 ', '1600 ', '768 ', '308 ', '100 ', '237 ', '434874 ', '536 ', '140000 ', '6118 ', '165632 ', '18000 ', '540 ', '931 ', '1055 ', '100 ', '9120 ', '403 ', '111740 ', '10421 ', '5820 ', '403 ', '14980 ', '45730 ', '2584 ', '1372 ', '306 ', '120000 ', '13910 ', '2747 ', '3395 ', '39242 ', '4137 ', '17389 ', '51 ', '470 ', '132 ', '5000000 ', '11000000 ', '250 ', '126 ', ' ', '4889 ', ' ', ' ', '340 ', '501 ', '45781 ', '1503 ', '440 ', '2000 ', '9568 ', '168 ', '100000 ', '5665 ', '79 ', '127 ', '1040 ', '9900 ', '560 ', '60021 ', '1419 ', '101 ', '399 ', '58 ', '180 ', '21048 ', ' ', '750 ', '3000 ', '150 ', '1059 ', '11934 ', '27965 ', '216 ', '120 ', '649 ', '370 ', '4178504 ', '221579 ', '10800 ', '58509 ', '129685 ', '2456 ', '2921 ', '1151 ', '6590 ', '3000 ', '39797 ', '326 ', '913 ', '168286 ', '400 ', '314080 ', '637 ', '1710671 ', '12000 ', '10929 ', '1080 ', '40000 ', '43930257 ', '230318 ', '10500000 ', '13197 ', ' ', '30000 ', '324 ', '541909 ', '11164866 ', '163 ', '373 ', '20560 ', '40 ', '422937 ', '9358 ', '640 ', '919438 ', '40949 ', '5744 ', '10503 ', '42240 ', '102944 ', '500 ', '9782222 ', '11463 ', '17898 ', '1885 ', '19735 ', '1540 ', '4007 ', '153540 ', '606 ', '1353 ', '1956 ', '43824 ', '3942 ', '858 ', '287 ', '17764280 ', '106574 ', '9358 ', '11500 ', '92000 ', '315 ', '78095 ', '130 ', '74 ', '52854 ', '77 ', '811 ', '504 ', '401 ', '2856 ', '10546 ', '801 ', '1540 ', '1451 ', '1075 ', '78095 ', '7195 ', '3600 ', '76 ', '60 ', '405 ', '303 ', '303 ', '107888 ', '76000 ', '10000 ', '180 ', '745000 ', '12234 ', '292 ', '104 ', '60000 ', '2000 ', '165 ', '217 ', '1175 ', '704 ', '75128 ', '90 ', '90 ', '50 ', '71 ', '93239 ', '540 ', '105 ', '6611 ', '15 ', '372 ', '58000 ', '4960 ', '241600 ', '130000 ', '7062606 ', '740 ', '70 ', '2205 ', '10721 ', '640 ', '1000 ', '116 ', '1672 ', '322 ', '93600 ', '3060 ', '5879 ', '9200 ', '20000 ', '20867 ', ' ', '4143 ', '215063 ', '6000000 ', '21263 ', '63000000 ', '10190 ', '300 ', '12330 ', '5180 ', '756 ', '10000 ', '80 ', '1184 ', '1047 ', '777 ', '249 ', '414 ', ' ', '143 ', '7840 ', '30000 ', '35717 ', '135 ', '980 ', '5456 ', '120 ', '4095000 ', '7051 ', '240 ', '48204 ', '260000 ', '288000 ', '8300000 ', '125 ', '170 ', '141712 ', '3916 ', '6262 ', '420768 ', '1067371 ', '1385 ', '908 ', '546 ', '13956534 ', '15630426 ', '8992 ', '1687 ', '779 ', '1056 ', '590 ', '21643 ', '7750 ', '14057567 ', '27170754 ', '597 ', '329 ', '299 ', '20000 ', '26136 ', '1000 ', '399 ', '24017 ', '325834 ', '2916697 ', '22470 ', '189 ', '520 ', '826 ', '2279 ', '28764 ', '7107 ', '288000 ', '9800 ', '4760 ', '72 ', '1450 ', '170 ', '1984 ', '2955 ', '65532 ', '65919 ', '2111 ', '3810 ', '18 ', '244 ', '104 ', '139 ', '360177 ', '36733 ', '4480 ', '165474 ', '1985 ', '10000 ', '232 ', '150 ', '11 ', '14057567 ', '8760 ', '48 ', '6321 ', '3150 ', '17256 ', '187 ', '399 ', '14 ', '467 ', '597 ', '23700 ', '615 ', '6819 ', '1000 ', ' ', '2633 ', '200 ', '13028 ', '800 ', '1700 ', '521 ', '120000 ', '666 ', '88 ', '200 ', '2279 ', '23570 ', '10000 ', '37700 ', '1850 ', '11 ', '147270 ', '3150 ', '17256 ', '597 ', '7624 ', '314 ', '1197 ', '70 ', '7624 ', '26737 ', '10000 ', '13611 ', '12684 ', '48 ', '731 ', '731 ', '557 ', '107 ', '158716 ', '15744 ', '153000 ', '557 ', '36 ', '4200 ', '61069 ', '52417 ', '900 ', '35040 ', '4746 ', '73 ', '11000 ', '4465 ', '145 ', '202 ', '221 ', '597 ', '298 ', '110341 ', '705 ', '2101 ', '1765 ', '150 ', '4000 ', '6272 ', '1996 ', '35040 ', '75840 ', '400 ', '1014 ', '10129 ', '4000 ']\n",
      "622\n"
     ]
    }
   ],
   "source": [
    "instances=[]\n",
    "instances_tags=driver.find_elements(By.XPATH,'//table[@cellpadding=\"5\"]/tbody/tr/td[5]')\n",
    "for i in instances_tags[1:624]:\n",
    "    instances.append(i.text)\n",
    "print(instances)\n",
    "print(len(instances))"
   ]
  },
  {
   "cell_type": "code",
   "execution_count": 119,
   "id": "c1012343",
   "metadata": {},
   "outputs": [
    {
     "name": "stdout",
     "output_type": "stream",
     "text": [
      "['8 ', '14 ', '38 ', '294 ', '279 ', '7 ', ' ', '69 ', '8 ', '26 ', '1 ', '4 ', '4 ', '9 ', '10 ', '34 ', '32 ', '13 ', '6 ', '14 ', '22 ', '36 ', '6 ', ' ', '6 ', '42 ', '15 ', ' ', '9 ', '9 ', '54 ', '39 ', '33 ', '20 ', ' ', ' ', ' ', '12 ', '8 ', '30 ', ' ', '10 ', '3 ', '5 ', '75 ', '19 ', '27 ', ' ', '19 ', '1558 ', '34 ', '4 ', '617 ', '12 ', '16 ', '7 ', '4 ', '16 ', '7 ', ' ', '56 ', '18 ', '8 ', '22 ', ' ', '58 ', ' ', '61 ', '7 ', ' ', '649 ', '22 ', '168 ', '168 ', '8 ', ' ', '10 ', '64 ', '16 ', '8 ', '17 ', ' ', ' ', '72 ', '4 ', '6 ', '10 ', '35 ', '35 ', '4 ', '102 ', '57 ', '22 ', '44 ', '45 ', ' ', ' ', '5 ', '9 ', '21 ', '32 ', '17 ', '16 ', '38 ', '21 ', '40 ', '13 ', '8 ', '17 ', ' ', ' ', '15 ', '22 ', '68 ', '40 ', '17 ', '89 ', ' ', '4 ', '12 ', ' ', ' ', '86 ', '72 ', '61 ', '12 ', '481 ', '42 ', ' ', ' ', ' ', ' ', ' ', ' ', '5 ', '90 ', ' ', '5 ', ' ', ' ', '14 ', '20 ', '13 ', '36 ', '19 ', '9 ', '18 ', '4 ', '60 ', '10 ', ' ', ' ', '10 ', '4 ', '3 ', '11 ', '11 ', ' ', '6 ', '13 ', ' ', '100000 ', '9 ', '101 ', '10000 ', '20000 ', '100000 ', '5000 ', '500 ', '73 ', '43 ', '23 ', '3 ', '5 ', ' ', '256 ', '591 ', '70 ', '91 ', '10 ', '128 ', '6 ', '12 ', '3231961 ', '5409 ', '26 ', ' ', ' ', '10 ', '23 ', '24 ', '13 ', '8 ', ' ', '27 ', '50 ', '90 ', '138672 ', ' ', '386 ', ' ', ' ', '12 ', '147 ', '6 ', '8 ', '27 ', '10000 ', '20000 ', '10000 ', '54877 ', '4702 ', '24 ', '29 ', '17 ', '3 ', '128 ', '10 ', '242 ', '120 ', ' ', '4 ', '13 ', '52 ', '47 ', '857 ', '9 ', '7 ', '200 ', '4 ', ' ', '561 ', '64 ', '8 ', '7 ', '10 ', '9 ', '4 ', '8 ', '77 ', '51 ', '18 ', '1950000 ', '18 ', '1300 ', '41 ', '6 ', '5625 ', '5 ', ' ', '7 ', '33 ', '5 ', '15 ', '9 ', '19 ', '5 ', '5 ', '1000000 ', '129 ', ' ', '20 ', '152 ', '24 ', '16 ', '35 ', '17 ', '5 ', '18 ', '28 ', '7 ', '309 ', '3 ', '6 ', ' ', ' ', '16 ', '13 ', '5 ', '6 ', '8 ', '2 ', '4 ', '148 ', '55 ', '17 ', '8 ', '42 ', '26 ', '50 ', '2 ', '281 ', '120 ', ' ', '6 ', '120432 ', '150000 ', '529 ', ' ', '16 ', '2500 ', '5 ', '68 ', '16 ', '100 ', '216 ', '23 ', '33 ', '140256 ', '19 ', '20 ', '20 ', '49 ', '12 ', '30 ', '5232 ', '20 ', '1 ', ' ', '61 ', '27 ', '53 ', '11 ', '25 ', '0 ', '20 ', '9 ', '3 ', '561 ', '82 ', '13 ', '16 ', '13 ', '28 ', '4 ', ' ', '24 ', '34 ', '8 ', '128 ', '15 ', '513 ', '7 ', '7 ', '5 ', '15 ', '480000 ', '11 ', '54 ', '561 ', '64 ', '6 ', '116 ', '19 ', ' ', '5812 ', '9 ', '32 ', '29 ', '67 ', ' ', '25 ', '6400 ', '10 ', '5 ', '13 ', '98 ', '36 ', '69 ', '2158859 ', '518 ', '15 ', '179 ', ' ', '12 ', '38 ', '65 ', '102 ', '86 ', '7 ', '53 ', '20 ', '1 ', '71 ', '29 ', '20531 ', '65 ', '3 ', '22 ', '38 ', '22 ', '4814 ', '698 ', '13 ', '10 ', '59 ', '56 ', '482 ', '171 ', '5 ', '500 ', '411 ', '8519 ', '21 ', '21 ', '171 ', '7 ', '49 ', '12 ', '3 ', '21 ', '9 ', '8 ', '7 ', '2 ', '11 ', '11 ', '173 ', '5 ', '15 ', '3 ', '105 ', '25000 ', ' ', '18 ', '21000 ', '115 ', '21 ', '206 ', '43680 ', '8 ', '10 ', '59 ', '10 ', '5 ', '5 ', '1000 ', '138 ', ' ', '16 ', '2 ', '10 ', ' ', '8 ', '6 ', '129 ', '81 ', '12 ', '6 ', '22 ', '18 ', '9 ', '754 ', '14 ', '5 ', ' ', ' ', '18 ', '7 ', '7 ', ' ', '7 ', '5 ', '6 ', '4 ', '18 ', '11 ', '25 ', ' ', '20 ', '12 ', '46 ', '9 ', '8 ', '49 ', '11 ', '8 ', '54 ', '36 ', '3916 ', '710 ', '18 ', '8 ', '29 ', '7 ', '9 ', '37 ', '6 ', '1024 ', '1024 ', '14 ', '7 ', '8265 ', '29 ', '25 ', '3 ', '115 ', '1 ', '12 ', '13 ', '200000 ', '6 ', '21 ', '4 ', '2400 ', '175 ', '10 ', '4714 ', '23 ', '17 ', '2 ', '9 ', '8 ', '280 ', '49 ', '3 ', '14 ', '19 ', ' ', '54 ', '8 ', '1087 ', '12 ', '3 ', '17 ', '8 ', '9 ', '12 ', '1656 ', '6 ', '2 ', '11 ', '533 ', '14 ', '84 ', '22 ', '16 ', '52 ', '19 ', '3 ', '14 ', '321 ', '13 ', '13 ', '55 ', '39 ', '4 ', '7 ', '79 ', '1 ', ' ', '14 ', '96 ', '21 ', ' ', '5 ', '2 ', '69 ', '9 ', '124 ', '20 ', '25 ', '11 ', '19 ', '9 ', '9 ', '5 ', '7 ', '4006 ', '2 ', '19 ', '4 ', '13 ', '55 ', '1 ', '7842 ', '15 ', '15 ', '70 ', '7842 ', '4 ', '14 ', '17 ', '23 ', '321 ', '1068 ', '1068 ', '5 ', '6 ', '4 ', ' ', '5 ', '5 ', '15 ', '7 ', '21 ', '9 ', '8 ', '11 ', '21 ', '22 ', '2 ', '241 ', '33 ', '29 ', '7 ', '1 ', ' ', '4 ', '11 ', '47 ', '10 ', '3 ', '2 ', '632 ', '6826 ', '11 ', '525 ', '50 ', '7 ', '16 ', '2 ']\n",
      "622\n"
     ]
    }
   ],
   "source": [
    "attributes=[]\n",
    "attributes_tags=driver.find_elements(By.XPATH,'//table[@cellpadding=\"5\"]/tbody/tr/td[6]')\n",
    "for i in attributes_tags[1:624]:\n",
    "    attributes.append(i.text)\n",
    "print(attributes)\n",
    "print(len(attributes))"
   ]
  },
  {
   "cell_type": "code",
   "execution_count": 120,
   "id": "478ac854",
   "metadata": {},
   "outputs": [
    {
     "name": "stdout",
     "output_type": "stream",
     "text": [
      "['1995 ', '1996 ', ' ', '1998 ', '1998 ', '1992 ', '1987 ', '1992 ', '1993 ', '1987 ', '1994 ', '1994 ', ' ', '1988 ', '1992 ', '1995 ', '1995 ', '1990 ', '1997 ', '1996 ', '1988 ', '1989 ', '1994 ', ' ', ' ', '1995 ', ' ', '1992 ', '1987 ', '1997 ', '1998 ', '1995 ', '1998 ', ' ', ' ', '1994 ', ' ', '1989 ', '1996 ', '1990 ', '1990 ', '1987 ', '1999 ', '1989 ', '1988 ', '1988 ', '1989 ', ' ', '1990 ', '1998 ', '1989 ', '1988 ', '1994 ', '1990 ', '1988 ', '1988 ', '1990 ', '1991 ', '1990 ', ' ', '1992 ', '1988 ', '1990 ', '1996 ', '1995 ', '1990 ', ' ', '1992 ', '1992 ', '1994 ', ' ', '1987 ', '1994 ', '1994 ', '1997 ', '1991 ', '1995 ', '1998 ', '1998 ', '1993 ', '1988 ', ' ', ' ', '1992 ', '1993 ', '1988 ', '1989 ', '1988 ', '1987 ', '1993 ', '1988 ', '1999 ', '2001 ', '2001 ', ' ', '1992 ', '1993 ', '1997 ', '1991 ', '1987 ', '1994 ', '1988 ', '1987 ', '1993 ', '1988 ', '1988 ', '1991 ', '1996 ', '1990 ', ' ', '1999 ', '1999 ', '2002 ', ' ', '2000 ', '1999 ', '1999 ', '2001 ', '1999 ', '1999 ', '2000 ', '1999 ', '2000 ', '1999 ', '1999 ', ' ', '1998 ', '1999 ', '2001 ', '1999 ', ' ', '2003 ', '1999 ', '1999 ', '1997 ', '1999 ', '1999 ', '1998 ', ' ', ' ', ' ', '1994 ', ' ', '1993 ', '1990 ', ' ', ' ', ' ', ' ', ' ', ' ', ' ', '1989 ', '2006 ', '2006 ', '2007 ', '2007 ', '2007 ', '2007 ', '2008 ', '2008 ', '2008 ', '2007 ', '2008 ', '2008 ', '2008 ', '2008 ', '2008 ', '2008 ', '2008 ', '2008 ', '2008 ', '2008 ', '2008 ', '2009 ', '2008 ', '2008 ', '2008 ', '2009 ', '2009 ', '2009 ', '2009 ', '2009 ', '2009 ', '2010 ', '2009 ', '2010 ', '2010 ', '2010 ', '2010 ', '2010 ', '2010 ', '2010 ', '2010 ', '2010 ', '2010 ', '2011 ', '2011 ', '2011 ', '2011 ', '2011 ', '2011 ', '2011 ', '2011 ', '2011 ', '2011 ', '2011 ', '2011 ', '2011 ', '2011 ', '2011 ', '2011 ', '2011 ', '2011 ', '2012 ', '2012 ', '2012 ', '2012 ', '2012 ', '2012 ', '2012 ', '2012 ', '2012 ', '2012 ', '2012 ', '2012 ', '2012 ', '2012 ', '2012 ', '2012 ', '2012 ', '2012 ', '2012 ', '2012 ', '2013 ', '2013 ', '2013 ', '2013 ', '2013 ', '2013 ', '2013 ', '2013 ', '2013 ', '2013 ', '2013 ', '2013 ', '2013 ', '2013 ', '2013 ', '2013 ', '2013 ', '2013 ', '2013 ', '2013 ', '2013 ', '2013 ', '2013 ', '2013 ', '2013 ', '2013 ', '2013 ', '2013 ', '2013 ', '2014 ', '2013 ', '2013 ', '2013 ', '2014 ', '2014 ', '2014 ', '2014 ', '2014 ', '2014 ', '2014 ', '2014 ', '2014 ', '2014 ', '2014 ', '2013 ', '2014 ', '2014 ', '2014 ', '2014 ', '2014 ', '2014 ', '2014 ', '2014 ', '2014 ', '2014 ', '2014 ', '2014 ', '2014 ', '2014 ', '2014 ', '2014 ', '2014 ', '2014 ', '2014 ', '2014 ', '2014 ', '2014 ', '2014 ', '2014 ', '2014 ', '2014 ', '2015 ', '2014 ', '2014 ', '2015 ', '2015 ', '2015 ', '2015 ', '2015 ', '2015 ', '2015 ', '2015 ', '2014 ', '2015 ', '2015 ', '2015 ', '2015 ', '2015 ', '2015 ', '2015 ', '2015 ', '2015 ', '2015 ', '2015 ', '2015 ', '2015 ', '2015 ', '2015 ', '2015 ', '2016 ', '2016 ', '2015 ', '2016 ', '2016 ', '2015 ', '2016 ', '2016 ', '2016 ', '2016 ', '2016 ', '2016 ', '2016 ', '2016 ', '2016 ', '2016 ', '2016 ', '2016 ', '2016 ', '2016 ', '2016 ', '2016 ', '2016 ', '2017 ', '2016 ', '2017 ', '2016 ', '2017 ', '2017 ', '2016 ', '2016 ', '2017 ', '2017 ', '2016 ', '2017 ', '2017 ', '2017 ', '2017 ', '2016 ', '2017 ', '2016 ', '2016 ', '2016 ', '2017 ', '2017 ', '2017 ', '2017 ', '2017 ', '2017 ', '2017 ', '2016 ', '2016 ', '2016 ', '2016 ', '2017 ', '2017 ', '2017 ', '2017 ', '2017 ', '2016 ', '2017 ', '2017 ', '2017 ', '2017 ', '2017 ', '2017 ', '2017 ', '2016 ', '2016 ', '2016 ', '2017 ', '2017 ', '2017 ', '2017 ', '2017 ', '2017 ', '2017 ', '2017 ', '2016 ', '2018 ', '2018 ', '2016 ', '2018 ', '2018 ', '2018 ', '2018 ', '2018 ', '2018 ', '2018 ', '2018 ', '2018 ', '2018 ', '2018 ', '2018 ', '2018 ', '2018 ', '2018 ', '2018 ', '2018 ', '2018 ', '2018 ', '2018 ', '2018 ', '2018 ', '2018 ', '2018 ', '2018 ', '2018 ', '2018 ', '2018 ', '2018 ', '2018 ', '2018 ', '2018 ', '2018 ', '2018 ', '2018 ', '2018 ', '2018 ', '2018 ', '2018 ', '2018 ', '2018 ', '2018 ', '2018 ', '2018 ', '2018 ', '2018 ', '2018 ', '2018 ', '2019 ', '2019 ', '2018 ', '2018 ', '2018 ', '2019 ', '2019 ', '2019 ', '2019 ', '2019 ', '2019 ', '2019 ', '2019 ', '2019 ', '2019 ', '2019 ', '2019 ', '2019 ', '2019 ', '2019 ', '2019 ', '2019 ', '2019 ', '2019 ', '2019 ', '2019 ', '2019 ', '2019 ', '2019 ', '2019 ', '2019 ', '2020 ', '2020 ', '2019 ', '2020 ', '2020 ', '2020 ', '2020 ', '2020 ', '2019 ', '2020 ', '2020 ', '2020 ', '2020 ', '2020 ', '2020 ', '2020 ', '2019 ', '2019 ', '2019 ', '2019 ', '2019 ', '2019 ', '2019 ', '2019 ', '2019 ', '2019 ', '2019 ', '2019 ', '2019 ', '2019 ', '2019 ', '2019 ', '2019 ', '2019 ', '2019 ', '2019 ', '2019 ', '2019 ', '2019 ', '2019 ', '2019 ', '2019 ', '2020 ', '2020 ', '2020 ', '2020 ', '2020 ', '2020 ', '2020 ', '2020 ', '2020 ', '2020 ', '2020 ', '2020 ', '2020 ', '2020 ', '2020 ', '2020 ', '2020 ', '2020 ', '2020 ', '2020 ', '2020 ', '2020 ', '2020 ', '2020 ', '2021 ', '2018 ', '2018 ', '2019 ', '2019 ', '2019 ', '2019 ', '2019 ', '2019 ', '2019 ', '2020 ', '2020 ', '2020 ', '2020 ', '2020 ', '2020 ', '2020 ', '2020 ', '2020 ', '2020 ', '2020 ', '2020 ', '2020 ', '2020 ', '2020 ', '2021 ', '2021 ', '2021 ', '2021 ', '2021 ', '2021 ', '2021 ', '2021 ', '2021 ', '2021 ', '2021 ', '2021 ', '2021 ', '2021 ', '2021 ', '2021 ', '2021 ', '2021 ', '2021 ', '2021 ', '2021 ', '2020 ', '2020 ', '2020 ', '2020 ', '2020 ', '2020 ', '2020 ', '2020 ', '2020 ', '2020 ', '2020 ', '2020 ', '2020 ', '2020 ', '2021 ', '2021 ']\n",
      "622\n"
     ]
    }
   ],
   "source": [
    "year=[]\n",
    "year_tags=driver.find_elements(By.XPATH,'//table[@cellpadding=\"5\"]/tbody/tr/td[7]')\n",
    "for i in year_tags[1:624]:\n",
    "    year.append(i.text)\n",
    "print(year)\n",
    "print(len(year))"
   ]
  },
  {
   "cell_type": "code",
   "execution_count": 121,
   "id": "39a65f1a",
   "metadata": {},
   "outputs": [
    {
     "data": {
      "text/html": [
       "<div>\n",
       "<style scoped>\n",
       "    .dataframe tbody tr th:only-of-type {\n",
       "        vertical-align: middle;\n",
       "    }\n",
       "\n",
       "    .dataframe tbody tr th {\n",
       "        vertical-align: top;\n",
       "    }\n",
       "\n",
       "    .dataframe thead th {\n",
       "        text-align: right;\n",
       "    }\n",
       "</style>\n",
       "<table border=\"1\" class=\"dataframe\">\n",
       "  <thead>\n",
       "    <tr style=\"text-align: right;\">\n",
       "      <th></th>\n",
       "      <th>Datasets NAme</th>\n",
       "      <th>Data Types</th>\n",
       "      <th>Attributes Types</th>\n",
       "      <th>Instances</th>\n",
       "      <th>No of Attributes</th>\n",
       "      <th>Year</th>\n",
       "    </tr>\n",
       "  </thead>\n",
       "  <tbody>\n",
       "    <tr>\n",
       "      <th>0</th>\n",
       "      <td>Abalone</td>\n",
       "      <td>Multivariate</td>\n",
       "      <td>Categorical, Integer, Real</td>\n",
       "      <td>4177</td>\n",
       "      <td>8</td>\n",
       "      <td>1995</td>\n",
       "    </tr>\n",
       "    <tr>\n",
       "      <th>1</th>\n",
       "      <td>Adult</td>\n",
       "      <td>Multivariate</td>\n",
       "      <td>Categorical, Integer</td>\n",
       "      <td>48842</td>\n",
       "      <td>14</td>\n",
       "      <td>1996</td>\n",
       "    </tr>\n",
       "    <tr>\n",
       "      <th>2</th>\n",
       "      <td>Annealing</td>\n",
       "      <td>Multivariate</td>\n",
       "      <td>Categorical, Integer, Real</td>\n",
       "      <td>798</td>\n",
       "      <td>38</td>\n",
       "      <td></td>\n",
       "    </tr>\n",
       "    <tr>\n",
       "      <th>3</th>\n",
       "      <td>Anonymous Microsoft Web Data</td>\n",
       "      <td></td>\n",
       "      <td>Categorical</td>\n",
       "      <td>37711</td>\n",
       "      <td>294</td>\n",
       "      <td>1998</td>\n",
       "    </tr>\n",
       "    <tr>\n",
       "      <th>4</th>\n",
       "      <td>Arrhythmia</td>\n",
       "      <td>Multivariate</td>\n",
       "      <td>Categorical, Integer, Real</td>\n",
       "      <td>452</td>\n",
       "      <td>279</td>\n",
       "      <td>1998</td>\n",
       "    </tr>\n",
       "    <tr>\n",
       "      <th>...</th>\n",
       "      <td>...</td>\n",
       "      <td>...</td>\n",
       "      <td>...</td>\n",
       "      <td>...</td>\n",
       "      <td>...</td>\n",
       "      <td>...</td>\n",
       "    </tr>\n",
       "    <tr>\n",
       "      <th>617</th>\n",
       "      <td>Influenza outbreak event prediction via Twitte...</td>\n",
       "      <td>Multivariate</td>\n",
       "      <td>Integer, Real</td>\n",
       "      <td>75840</td>\n",
       "      <td>525</td>\n",
       "      <td>2020</td>\n",
       "    </tr>\n",
       "    <tr>\n",
       "      <th>618</th>\n",
       "      <td>Turkish Music Emotion Dataset</td>\n",
       "      <td>Multivariate</td>\n",
       "      <td>Integer, Real</td>\n",
       "      <td>400</td>\n",
       "      <td>50</td>\n",
       "      <td>2020</td>\n",
       "    </tr>\n",
       "    <tr>\n",
       "      <th>619</th>\n",
       "      <td>Maternal Health Risk Data Set</td>\n",
       "      <td></td>\n",
       "      <td></td>\n",
       "      <td>1014</td>\n",
       "      <td>7</td>\n",
       "      <td>2020</td>\n",
       "    </tr>\n",
       "    <tr>\n",
       "      <th>620</th>\n",
       "      <td>Room Occupancy Estimation</td>\n",
       "      <td>Multivariate, Time-Series</td>\n",
       "      <td>Real</td>\n",
       "      <td>10129</td>\n",
       "      <td>16</td>\n",
       "      <td>2021</td>\n",
       "    </tr>\n",
       "    <tr>\n",
       "      <th>621</th>\n",
       "      <td>Image Recognition Task Execution Times in Mobi...</td>\n",
       "      <td>Univariate</td>\n",
       "      <td>Real</td>\n",
       "      <td>4000</td>\n",
       "      <td>2</td>\n",
       "      <td>2021</td>\n",
       "    </tr>\n",
       "  </tbody>\n",
       "</table>\n",
       "<p>622 rows × 6 columns</p>\n",
       "</div>"
      ],
      "text/plain": [
       "                                         Datasets NAme  \\\n",
       "0                                              Abalone   \n",
       "1                                                Adult   \n",
       "2                                            Annealing   \n",
       "3                         Anonymous Microsoft Web Data   \n",
       "4                                           Arrhythmia   \n",
       "..                                                 ...   \n",
       "617  Influenza outbreak event prediction via Twitte...   \n",
       "618                      Turkish Music Emotion Dataset   \n",
       "619                      Maternal Health Risk Data Set   \n",
       "620                          Room Occupancy Estimation   \n",
       "621  Image Recognition Task Execution Times in Mobi...   \n",
       "\n",
       "                     Data Types             Attributes Types Instances  \\\n",
       "0                 Multivariate   Categorical, Integer, Real      4177    \n",
       "1                 Multivariate         Categorical, Integer     48842    \n",
       "2                 Multivariate   Categorical, Integer, Real       798    \n",
       "3                                               Categorical     37711    \n",
       "4                 Multivariate   Categorical, Integer, Real       452    \n",
       "..                          ...                          ...       ...   \n",
       "617               Multivariate                Integer, Real     75840    \n",
       "618               Multivariate                Integer, Real       400    \n",
       "619                                                              1014    \n",
       "620  Multivariate, Time-Series                         Real     10129    \n",
       "621                 Univariate                         Real      4000    \n",
       "\n",
       "    No of Attributes   Year  \n",
       "0                 8   1995   \n",
       "1                14   1996   \n",
       "2                38          \n",
       "3               294   1998   \n",
       "4               279   1998   \n",
       "..               ...    ...  \n",
       "617             525   2020   \n",
       "618              50   2020   \n",
       "619               7   2020   \n",
       "620              16   2021   \n",
       "621               2   2021   \n",
       "\n",
       "[622 rows x 6 columns]"
      ]
     },
     "execution_count": 121,
     "metadata": {},
     "output_type": "execute_result"
    }
   ],
   "source": [
    "df=pd.DataFrame({'Datasets NAme':name, 'Data Types':types, 'Attributes Types':attribute_types, 'Instances':instances, 'No of Attributes':attributes, 'Year':year})\n",
    "df"
   ]
  },
  {
   "cell_type": "code",
   "execution_count": null,
   "id": "4742c296",
   "metadata": {},
   "outputs": [],
   "source": []
  }
 ],
 "metadata": {
  "kernelspec": {
   "display_name": "Python 3 (ipykernel)",
   "language": "python",
   "name": "python3"
  },
  "language_info": {
   "codemirror_mode": {
    "name": "ipython",
    "version": 3
   },
   "file_extension": ".py",
   "mimetype": "text/x-python",
   "name": "python",
   "nbconvert_exporter": "python",
   "pygments_lexer": "ipython3",
   "version": "3.9.12"
  }
 },
 "nbformat": 4,
 "nbformat_minor": 5
}
